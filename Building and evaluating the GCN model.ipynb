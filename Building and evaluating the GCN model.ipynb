{
 "cells": [
  {
   "cell_type": "code",
   "execution_count": null,
   "metadata": {
    "id": "yAlPgKiz_fra"
   },
   "outputs": [],
   "source": [
    "pip install stellargraph"
   ]
  },
  {
   "cell_type": "code",
   "execution_count": null,
   "metadata": {
    "id": "uspJ0Ho7iYgw"
   },
   "outputs": [],
   "source": [
    "pip install umap-learn"
   ]
  },
  {
   "cell_type": "code",
   "execution_count": null,
   "metadata": {
    "id": "YA4MRAJeiMbY"
   },
   "outputs": [],
   "source": [
    "pip install plot_keras_history"
   ]
  },
  {
   "cell_type": "markdown",
   "metadata": {
    "id": "gRqdFDh0tMpj"
   },
   "source": [
    "# Loading in the data\n",
    "\n",
    "We start with loading all the necessary datasets."
   ]
  },
  {
   "cell_type": "code",
   "execution_count": 35,
   "metadata": {
    "id": "xAl3dU8WyqXD"
   },
   "outputs": [],
   "source": [
    "import pandas as pd\n",
    "import numpy as np\n",
    "import networkx as nx\n",
    "import io\n",
    "from sklearn.preprocessing import StandardScaler\n",
    "import matplotlib.pyplot as plt"
   ]
  },
  {
   "cell_type": "code",
   "execution_count": 5,
   "metadata": {
    "id": "GntlV34jy0lZ"
   },
   "outputs": [],
   "source": [
    "# Get connectivity adjacency matrix\n",
    "Conn_Adj = pd.read_csv('/content/drive/MyDrive/Colab Notebooks/files/Conn_Adj.csv')\n",
    "Conn_Adj = Conn_Adj.set_index('Unnamed: 0')"
   ]
  },
  {
   "cell_type": "code",
   "execution_count": 6,
   "metadata": {
    "id": "AWnmS-RR8xGX"
   },
   "outputs": [],
   "source": [
    "# Get intensity adjacency matrix\n",
    "Intensity_Adj = pd.read_csv('/content/drive/MyDrive/Colab Notebooks/files/Intensity_Adj_2.csv')\n",
    "Intensity_Adj = Intensity_Adj.set_index('Unnamed: 0')"
   ]
  },
  {
   "cell_type": "code",
   "execution_count": 7,
   "metadata": {
    "id": "0kLoxXS680NF"
   },
   "outputs": [],
   "source": [
    "# Create graph from adjacency matrix\n",
    "G_Conn = nx.from_pandas_adjacency(Conn_Adj)"
   ]
  },
  {
   "cell_type": "code",
   "execution_count": 8,
   "metadata": {
    "id": "I93iFkEe808g"
   },
   "outputs": [],
   "source": [
    "# Create graph from adjacency matrix\n",
    "G_int = nx.from_pandas_adjacency(Intensity_Adj)"
   ]
  },
  {
   "cell_type": "code",
   "execution_count": 9,
   "metadata": {
    "id": "T0ygjJLr8_Va"
   },
   "outputs": [],
   "source": [
    "# Load in feature matrix\n",
    "df_features = pd.read_csv('/content/drive/MyDrive/Colab Notebooks/files/Feature_matrix_v2.csv')\n",
    "# set index\n",
    "df_features = df_features.set_index('Unnamed: 0')"
   ]
  },
  {
   "cell_type": "code",
   "execution_count": 10,
   "metadata": {
    "colab": {
     "base_uri": "https://localhost:8080/",
     "height": 238
    },
    "id": "bXmvcGKwMO29",
    "outputId": "9bc4d2c9-b587-417e-e5e5-54565aa8496c"
   },
   "outputs": [
    {
     "data": {
      "text/html": [
       "\n",
       "  <div id=\"df-d0d84c6a-00ba-471a-82a2-1034902be3cb\">\n",
       "    <div class=\"colab-df-container\">\n",
       "      <div>\n",
       "<style scoped>\n",
       "    .dataframe tbody tr th:only-of-type {\n",
       "        vertical-align: middle;\n",
       "    }\n",
       "\n",
       "    .dataframe tbody tr th {\n",
       "        vertical-align: top;\n",
       "    }\n",
       "\n",
       "    .dataframe thead th {\n",
       "        text-align: right;\n",
       "    }\n",
       "</style>\n",
       "<table border=\"1\" class=\"dataframe\">\n",
       "  <thead>\n",
       "    <tr style=\"text-align: right;\">\n",
       "      <th></th>\n",
       "      <th>Degree_centrality</th>\n",
       "      <th>Betweenness_centrality</th>\n",
       "      <th>Closeness_centrality</th>\n",
       "      <th>ego_Density</th>\n",
       "      <th>Heavy_vicinity</th>\n",
       "      <th>Dominant_edge</th>\n",
       "      <th>Unwanted_edges</th>\n",
       "      <th>Missing_edges</th>\n",
       "      <th>Mahalanobis</th>\n",
       "    </tr>\n",
       "    <tr>\n",
       "      <th>Unnamed: 0</th>\n",
       "      <th></th>\n",
       "      <th></th>\n",
       "      <th></th>\n",
       "      <th></th>\n",
       "      <th></th>\n",
       "      <th></th>\n",
       "      <th></th>\n",
       "      <th></th>\n",
       "      <th></th>\n",
       "    </tr>\n",
       "  </thead>\n",
       "  <tbody>\n",
       "    <tr>\n",
       "      <th>pete.davis@enron.com</th>\n",
       "      <td>0.001378</td>\n",
       "      <td>0.000003</td>\n",
       "      <td>0.313541</td>\n",
       "      <td>1.584963</td>\n",
       "      <td>2.428122</td>\n",
       "      <td>0.973310</td>\n",
       "      <td>8</td>\n",
       "      <td>0</td>\n",
       "      <td>1.667630</td>\n",
       "    </tr>\n",
       "    <tr>\n",
       "      <th>vince.kaminski@enron.com</th>\n",
       "      <td>0.050367</td>\n",
       "      <td>0.025625</td>\n",
       "      <td>0.421937</td>\n",
       "      <td>1.288537</td>\n",
       "      <td>1.317021</td>\n",
       "      <td>0.791028</td>\n",
       "      <td>328</td>\n",
       "      <td>2940</td>\n",
       "      <td>1.288933</td>\n",
       "    </tr>\n",
       "    <tr>\n",
       "      <th>To_aol.com</th>\n",
       "      <td>0.005052</td>\n",
       "      <td>0.000674</td>\n",
       "      <td>0.387472</td>\n",
       "      <td>1.413244</td>\n",
       "      <td>1.694394</td>\n",
       "      <td>0.914069</td>\n",
       "      <td>33</td>\n",
       "      <td>0</td>\n",
       "      <td>1.281622</td>\n",
       "    </tr>\n",
       "    <tr>\n",
       "      <th>kay.mann@enron.com</th>\n",
       "      <td>0.039651</td>\n",
       "      <td>0.013190</td>\n",
       "      <td>0.388370</td>\n",
       "      <td>1.345474</td>\n",
       "      <td>1.361999</td>\n",
       "      <td>0.716317</td>\n",
       "      <td>258</td>\n",
       "      <td>1522</td>\n",
       "      <td>1.301207</td>\n",
       "    </tr>\n",
       "    <tr>\n",
       "      <th>suzanne.adams@enron.com</th>\n",
       "      <td>0.003674</td>\n",
       "      <td>0.000026</td>\n",
       "      <td>0.343193</td>\n",
       "      <td>1.658199</td>\n",
       "      <td>1.470808</td>\n",
       "      <td>0.741919</td>\n",
       "      <td>24</td>\n",
       "      <td>1007</td>\n",
       "      <td>1.391671</td>\n",
       "    </tr>\n",
       "  </tbody>\n",
       "</table>\n",
       "</div>\n",
       "      <button class=\"colab-df-convert\" onclick=\"convertToInteractive('df-d0d84c6a-00ba-471a-82a2-1034902be3cb')\"\n",
       "              title=\"Convert this dataframe to an interactive table.\"\n",
       "              style=\"display:none;\">\n",
       "        \n",
       "  <svg xmlns=\"http://www.w3.org/2000/svg\" height=\"24px\"viewBox=\"0 0 24 24\"\n",
       "       width=\"24px\">\n",
       "    <path d=\"M0 0h24v24H0V0z\" fill=\"none\"/>\n",
       "    <path d=\"M18.56 5.44l.94 2.06.94-2.06 2.06-.94-2.06-.94-.94-2.06-.94 2.06-2.06.94zm-11 1L8.5 8.5l.94-2.06 2.06-.94-2.06-.94L8.5 2.5l-.94 2.06-2.06.94zm10 10l.94 2.06.94-2.06 2.06-.94-2.06-.94-.94-2.06-.94 2.06-2.06.94z\"/><path d=\"M17.41 7.96l-1.37-1.37c-.4-.4-.92-.59-1.43-.59-.52 0-1.04.2-1.43.59L10.3 9.45l-7.72 7.72c-.78.78-.78 2.05 0 2.83L4 21.41c.39.39.9.59 1.41.59.51 0 1.02-.2 1.41-.59l7.78-7.78 2.81-2.81c.8-.78.8-2.07 0-2.86zM5.41 20L4 18.59l7.72-7.72 1.47 1.35L5.41 20z\"/>\n",
       "  </svg>\n",
       "      </button>\n",
       "      \n",
       "  <style>\n",
       "    .colab-df-container {\n",
       "      display:flex;\n",
       "      flex-wrap:wrap;\n",
       "      gap: 12px;\n",
       "    }\n",
       "\n",
       "    .colab-df-convert {\n",
       "      background-color: #E8F0FE;\n",
       "      border: none;\n",
       "      border-radius: 50%;\n",
       "      cursor: pointer;\n",
       "      display: none;\n",
       "      fill: #1967D2;\n",
       "      height: 32px;\n",
       "      padding: 0 0 0 0;\n",
       "      width: 32px;\n",
       "    }\n",
       "\n",
       "    .colab-df-convert:hover {\n",
       "      background-color: #E2EBFA;\n",
       "      box-shadow: 0px 1px 2px rgba(60, 64, 67, 0.3), 0px 1px 3px 1px rgba(60, 64, 67, 0.15);\n",
       "      fill: #174EA6;\n",
       "    }\n",
       "\n",
       "    [theme=dark] .colab-df-convert {\n",
       "      background-color: #3B4455;\n",
       "      fill: #D2E3FC;\n",
       "    }\n",
       "\n",
       "    [theme=dark] .colab-df-convert:hover {\n",
       "      background-color: #434B5C;\n",
       "      box-shadow: 0px 1px 3px 1px rgba(0, 0, 0, 0.15);\n",
       "      filter: drop-shadow(0px 1px 2px rgba(0, 0, 0, 0.3));\n",
       "      fill: #FFFFFF;\n",
       "    }\n",
       "  </style>\n",
       "\n",
       "      <script>\n",
       "        const buttonEl =\n",
       "          document.querySelector('#df-d0d84c6a-00ba-471a-82a2-1034902be3cb button.colab-df-convert');\n",
       "        buttonEl.style.display =\n",
       "          google.colab.kernel.accessAllowed ? 'block' : 'none';\n",
       "\n",
       "        async function convertToInteractive(key) {\n",
       "          const element = document.querySelector('#df-d0d84c6a-00ba-471a-82a2-1034902be3cb');\n",
       "          const dataTable =\n",
       "            await google.colab.kernel.invokeFunction('convertToInteractive',\n",
       "                                                     [key], {});\n",
       "          if (!dataTable) return;\n",
       "\n",
       "          const docLinkHtml = 'Like what you see? Visit the ' +\n",
       "            '<a target=\"_blank\" href=https://colab.research.google.com/notebooks/data_table.ipynb>data table notebook</a>'\n",
       "            + ' to learn more about interactive tables.';\n",
       "          element.innerHTML = '';\n",
       "          dataTable['output_type'] = 'display_data';\n",
       "          await google.colab.output.renderOutput(dataTable, element);\n",
       "          const docLink = document.createElement('div');\n",
       "          docLink.innerHTML = docLinkHtml;\n",
       "          element.appendChild(docLink);\n",
       "        }\n",
       "      </script>\n",
       "    </div>\n",
       "  </div>\n",
       "  "
      ],
      "text/plain": [
       "                          Degree_centrality  Betweenness_centrality  \\\n",
       "Unnamed: 0                                                            \n",
       "pete.davis@enron.com               0.001378                0.000003   \n",
       "vince.kaminski@enron.com           0.050367                0.025625   \n",
       "To_aol.com                         0.005052                0.000674   \n",
       "kay.mann@enron.com                 0.039651                0.013190   \n",
       "suzanne.adams@enron.com            0.003674                0.000026   \n",
       "\n",
       "                          Closeness_centrality  ego_Density  Heavy_vicinity  \\\n",
       "Unnamed: 0                                                                    \n",
       "pete.davis@enron.com                  0.313541     1.584963        2.428122   \n",
       "vince.kaminski@enron.com              0.421937     1.288537        1.317021   \n",
       "To_aol.com                            0.387472     1.413244        1.694394   \n",
       "kay.mann@enron.com                    0.388370     1.345474        1.361999   \n",
       "suzanne.adams@enron.com               0.343193     1.658199        1.470808   \n",
       "\n",
       "                          Dominant_edge  Unwanted_edges  Missing_edges  \\\n",
       "Unnamed: 0                                                               \n",
       "pete.davis@enron.com           0.973310               8              0   \n",
       "vince.kaminski@enron.com       0.791028             328           2940   \n",
       "To_aol.com                     0.914069              33              0   \n",
       "kay.mann@enron.com             0.716317             258           1522   \n",
       "suzanne.adams@enron.com        0.741919              24           1007   \n",
       "\n",
       "                          Mahalanobis  \n",
       "Unnamed: 0                             \n",
       "pete.davis@enron.com         1.667630  \n",
       "vince.kaminski@enron.com     1.288933  \n",
       "To_aol.com                   1.281622  \n",
       "kay.mann@enron.com           1.301207  \n",
       "suzanne.adams@enron.com      1.391671  "
      ]
     },
     "execution_count": 10,
     "metadata": {},
     "output_type": "execute_result"
    }
   ],
   "source": [
    "df_features.head()"
   ]
  },
  {
   "cell_type": "code",
   "execution_count": 13,
   "metadata": {
    "id": "KC34m34DNCeI"
   },
   "outputs": [],
   "source": [
    "# Normalize the features in the dataframe\n",
    "scaler = StandardScaler()\n",
    "norm_array = scaler.fit_transform(df_features)"
   ]
  },
  {
   "cell_type": "code",
   "execution_count": 14,
   "metadata": {
    "id": "scKS0JazNrZ0"
   },
   "outputs": [],
   "source": [
    "# Create normalized dataframe\n",
    "normalized_features = pd.DataFrame(norm_array, index=df_features.index, columns=df_features.columns)"
   ]
  },
  {
   "cell_type": "code",
   "execution_count": 15,
   "metadata": {
    "colab": {
     "base_uri": "https://localhost:8080/",
     "height": 238
    },
    "id": "XYo-bejQlVTU",
    "outputId": "925ac848-a2ee-491e-b7d5-0172f72c8d5e"
   },
   "outputs": [
    {
     "data": {
      "text/html": [
       "\n",
       "  <div id=\"df-0ab39d5c-b36f-4a3a-baa8-fe55cb50cefd\">\n",
       "    <div class=\"colab-df-container\">\n",
       "      <div>\n",
       "<style scoped>\n",
       "    .dataframe tbody tr th:only-of-type {\n",
       "        vertical-align: middle;\n",
       "    }\n",
       "\n",
       "    .dataframe tbody tr th {\n",
       "        vertical-align: top;\n",
       "    }\n",
       "\n",
       "    .dataframe thead th {\n",
       "        text-align: right;\n",
       "    }\n",
       "</style>\n",
       "<table border=\"1\" class=\"dataframe\">\n",
       "  <thead>\n",
       "    <tr style=\"text-align: right;\">\n",
       "      <th></th>\n",
       "      <th>Degree_centrality</th>\n",
       "      <th>Betweenness_centrality</th>\n",
       "      <th>Closeness_centrality</th>\n",
       "      <th>ego_Density</th>\n",
       "      <th>Heavy_vicinity</th>\n",
       "      <th>Dominant_edge</th>\n",
       "      <th>Unwanted_edges</th>\n",
       "      <th>Missing_edges</th>\n",
       "      <th>Mahalanobis</th>\n",
       "    </tr>\n",
       "    <tr>\n",
       "      <th>Unnamed: 0</th>\n",
       "      <th></th>\n",
       "      <th></th>\n",
       "      <th></th>\n",
       "      <th></th>\n",
       "      <th></th>\n",
       "      <th></th>\n",
       "      <th></th>\n",
       "      <th></th>\n",
       "      <th></th>\n",
       "    </tr>\n",
       "  </thead>\n",
       "  <tbody>\n",
       "    <tr>\n",
       "      <th>pete.davis@enron.com</th>\n",
       "      <td>-0.175083</td>\n",
       "      <td>-0.122754</td>\n",
       "      <td>-0.023234</td>\n",
       "      <td>0.944222</td>\n",
       "      <td>-0.066462</td>\n",
       "      <td>1.655192</td>\n",
       "      <td>-0.197911</td>\n",
       "      <td>-0.297454</td>\n",
       "      <td>-0.336273</td>\n",
       "    </tr>\n",
       "    <tr>\n",
       "      <th>vince.kaminski@enron.com</th>\n",
       "      <td>7.322428</td>\n",
       "      <td>9.183034</td>\n",
       "      <td>2.999796</td>\n",
       "      <td>0.070441</td>\n",
       "      <td>-0.241542</td>\n",
       "      <td>-0.316068</td>\n",
       "      <td>7.316800</td>\n",
       "      <td>5.057410</td>\n",
       "      <td>-0.504942</td>\n",
       "    </tr>\n",
       "    <tr>\n",
       "      <th>To_aol.com</th>\n",
       "      <td>0.387231</td>\n",
       "      <td>0.121080</td>\n",
       "      <td>2.038613</td>\n",
       "      <td>0.438043</td>\n",
       "      <td>-0.182078</td>\n",
       "      <td>1.014541</td>\n",
       "      <td>0.389176</td>\n",
       "      <td>-0.297454</td>\n",
       "      <td>-0.508198</td>\n",
       "    </tr>\n",
       "    <tr>\n",
       "      <th>kay.mann@enron.com</th>\n",
       "      <td>5.682347</td>\n",
       "      <td>4.666783</td>\n",
       "      <td>2.063670</td>\n",
       "      <td>0.238277</td>\n",
       "      <td>-0.234455</td>\n",
       "      <td>-1.124013</td>\n",
       "      <td>5.672957</td>\n",
       "      <td>2.474690</td>\n",
       "      <td>-0.499475</td>\n",
       "    </tr>\n",
       "    <tr>\n",
       "      <th>suzanne.adams@enron.com</th>\n",
       "      <td>0.176363</td>\n",
       "      <td>-0.114236</td>\n",
       "      <td>0.803737</td>\n",
       "      <td>1.160104</td>\n",
       "      <td>-0.217309</td>\n",
       "      <td>-0.847140</td>\n",
       "      <td>0.177824</td>\n",
       "      <td>1.536678</td>\n",
       "      <td>-0.459183</td>\n",
       "    </tr>\n",
       "  </tbody>\n",
       "</table>\n",
       "</div>\n",
       "      <button class=\"colab-df-convert\" onclick=\"convertToInteractive('df-0ab39d5c-b36f-4a3a-baa8-fe55cb50cefd')\"\n",
       "              title=\"Convert this dataframe to an interactive table.\"\n",
       "              style=\"display:none;\">\n",
       "        \n",
       "  <svg xmlns=\"http://www.w3.org/2000/svg\" height=\"24px\"viewBox=\"0 0 24 24\"\n",
       "       width=\"24px\">\n",
       "    <path d=\"M0 0h24v24H0V0z\" fill=\"none\"/>\n",
       "    <path d=\"M18.56 5.44l.94 2.06.94-2.06 2.06-.94-2.06-.94-.94-2.06-.94 2.06-2.06.94zm-11 1L8.5 8.5l.94-2.06 2.06-.94-2.06-.94L8.5 2.5l-.94 2.06-2.06.94zm10 10l.94 2.06.94-2.06 2.06-.94-2.06-.94-.94-2.06-.94 2.06-2.06.94z\"/><path d=\"M17.41 7.96l-1.37-1.37c-.4-.4-.92-.59-1.43-.59-.52 0-1.04.2-1.43.59L10.3 9.45l-7.72 7.72c-.78.78-.78 2.05 0 2.83L4 21.41c.39.39.9.59 1.41.59.51 0 1.02-.2 1.41-.59l7.78-7.78 2.81-2.81c.8-.78.8-2.07 0-2.86zM5.41 20L4 18.59l7.72-7.72 1.47 1.35L5.41 20z\"/>\n",
       "  </svg>\n",
       "      </button>\n",
       "      \n",
       "  <style>\n",
       "    .colab-df-container {\n",
       "      display:flex;\n",
       "      flex-wrap:wrap;\n",
       "      gap: 12px;\n",
       "    }\n",
       "\n",
       "    .colab-df-convert {\n",
       "      background-color: #E8F0FE;\n",
       "      border: none;\n",
       "      border-radius: 50%;\n",
       "      cursor: pointer;\n",
       "      display: none;\n",
       "      fill: #1967D2;\n",
       "      height: 32px;\n",
       "      padding: 0 0 0 0;\n",
       "      width: 32px;\n",
       "    }\n",
       "\n",
       "    .colab-df-convert:hover {\n",
       "      background-color: #E2EBFA;\n",
       "      box-shadow: 0px 1px 2px rgba(60, 64, 67, 0.3), 0px 1px 3px 1px rgba(60, 64, 67, 0.15);\n",
       "      fill: #174EA6;\n",
       "    }\n",
       "\n",
       "    [theme=dark] .colab-df-convert {\n",
       "      background-color: #3B4455;\n",
       "      fill: #D2E3FC;\n",
       "    }\n",
       "\n",
       "    [theme=dark] .colab-df-convert:hover {\n",
       "      background-color: #434B5C;\n",
       "      box-shadow: 0px 1px 3px 1px rgba(0, 0, 0, 0.15);\n",
       "      filter: drop-shadow(0px 1px 2px rgba(0, 0, 0, 0.3));\n",
       "      fill: #FFFFFF;\n",
       "    }\n",
       "  </style>\n",
       "\n",
       "      <script>\n",
       "        const buttonEl =\n",
       "          document.querySelector('#df-0ab39d5c-b36f-4a3a-baa8-fe55cb50cefd button.colab-df-convert');\n",
       "        buttonEl.style.display =\n",
       "          google.colab.kernel.accessAllowed ? 'block' : 'none';\n",
       "\n",
       "        async function convertToInteractive(key) {\n",
       "          const element = document.querySelector('#df-0ab39d5c-b36f-4a3a-baa8-fe55cb50cefd');\n",
       "          const dataTable =\n",
       "            await google.colab.kernel.invokeFunction('convertToInteractive',\n",
       "                                                     [key], {});\n",
       "          if (!dataTable) return;\n",
       "\n",
       "          const docLinkHtml = 'Like what you see? Visit the ' +\n",
       "            '<a target=\"_blank\" href=https://colab.research.google.com/notebooks/data_table.ipynb>data table notebook</a>'\n",
       "            + ' to learn more about interactive tables.';\n",
       "          element.innerHTML = '';\n",
       "          dataTable['output_type'] = 'display_data';\n",
       "          await google.colab.output.renderOutput(dataTable, element);\n",
       "          const docLink = document.createElement('div');\n",
       "          docLink.innerHTML = docLinkHtml;\n",
       "          element.appendChild(docLink);\n",
       "        }\n",
       "      </script>\n",
       "    </div>\n",
       "  </div>\n",
       "  "
      ],
      "text/plain": [
       "                          Degree_centrality  Betweenness_centrality  \\\n",
       "Unnamed: 0                                                            \n",
       "pete.davis@enron.com              -0.175083               -0.122754   \n",
       "vince.kaminski@enron.com           7.322428                9.183034   \n",
       "To_aol.com                         0.387231                0.121080   \n",
       "kay.mann@enron.com                 5.682347                4.666783   \n",
       "suzanne.adams@enron.com            0.176363               -0.114236   \n",
       "\n",
       "                          Closeness_centrality  ego_Density  Heavy_vicinity  \\\n",
       "Unnamed: 0                                                                    \n",
       "pete.davis@enron.com                 -0.023234     0.944222       -0.066462   \n",
       "vince.kaminski@enron.com              2.999796     0.070441       -0.241542   \n",
       "To_aol.com                            2.038613     0.438043       -0.182078   \n",
       "kay.mann@enron.com                    2.063670     0.238277       -0.234455   \n",
       "suzanne.adams@enron.com               0.803737     1.160104       -0.217309   \n",
       "\n",
       "                          Dominant_edge  Unwanted_edges  Missing_edges  \\\n",
       "Unnamed: 0                                                               \n",
       "pete.davis@enron.com           1.655192       -0.197911      -0.297454   \n",
       "vince.kaminski@enron.com      -0.316068        7.316800       5.057410   \n",
       "To_aol.com                     1.014541        0.389176      -0.297454   \n",
       "kay.mann@enron.com            -1.124013        5.672957       2.474690   \n",
       "suzanne.adams@enron.com       -0.847140        0.177824       1.536678   \n",
       "\n",
       "                          Mahalanobis  \n",
       "Unnamed: 0                             \n",
       "pete.davis@enron.com        -0.336273  \n",
       "vince.kaminski@enron.com    -0.504942  \n",
       "To_aol.com                  -0.508198  \n",
       "kay.mann@enron.com          -0.499475  \n",
       "suzanne.adams@enron.com     -0.459183  "
      ]
     },
     "execution_count": 15,
     "metadata": {},
     "output_type": "execute_result"
    }
   ],
   "source": [
    "normalized_features.head()"
   ]
  },
  {
   "cell_type": "code",
   "execution_count": 16,
   "metadata": {
    "id": "dAVvZiDj83g8"
   },
   "outputs": [],
   "source": [
    "# Read in all addresses from Enron criminals\n",
    "criminal_addresses = pd.read_csv('/content/drive/MyDrive/Colab Notebooks/files/criminal_addresses.csv')"
   ]
  },
  {
   "cell_type": "markdown",
   "metadata": {
    "id": "5Mgrw07K9HOG"
   },
   "source": [
    "**Create criminal list**\n",
    "\n",
    "extract the email addresses belonging to the fraudulent employees."
   ]
  },
  {
   "cell_type": "code",
   "execution_count": 17,
   "metadata": {
    "id": "gVvwVV5M9GVZ"
   },
   "outputs": [],
   "source": [
    "# Create list containing all criminal addresses\n",
    "crim_list=[]\n",
    "for col in criminal_addresses.columns[1:]:\n",
    "    addresses = criminal_addresses[col][~criminal_addresses[col].isnull()].tolist()\n",
    "    [crim_list.append(name) for name in addresses if name not in crim_list]"
   ]
  },
  {
   "cell_type": "code",
   "execution_count": 18,
   "metadata": {
    "id": "NVF9anvH9K6p"
   },
   "outputs": [],
   "source": [
    "# Create target dataframe\n",
    "Target_df = pd.DataFrame({'Target': 0}, index=df_features.index)"
   ]
  },
  {
   "cell_type": "code",
   "execution_count": 19,
   "metadata": {
    "id": "73mAey_t9Nmm"
   },
   "outputs": [],
   "source": [
    "# 1 to indicate criminal address\n",
    "Target_df[Target_df.index.isin(crim_list)] = 1"
   ]
  },
  {
   "cell_type": "code",
   "execution_count": 20,
   "metadata": {
    "colab": {
     "base_uri": "https://localhost:8080/",
     "height": 144
    },
    "id": "138dMrA69Qtq",
    "outputId": "83e240c8-bdf2-4890-aac6-221ae2d2e5f0"
   },
   "outputs": [
    {
     "data": {
      "text/html": [
       "\n",
       "  <div id=\"df-85a691a2-2e40-443d-833e-404f86b5595e\">\n",
       "    <div class=\"colab-df-container\">\n",
       "      <div>\n",
       "<style scoped>\n",
       "    .dataframe tbody tr th:only-of-type {\n",
       "        vertical-align: middle;\n",
       "    }\n",
       "\n",
       "    .dataframe tbody tr th {\n",
       "        vertical-align: top;\n",
       "    }\n",
       "\n",
       "    .dataframe thead th {\n",
       "        text-align: right;\n",
       "    }\n",
       "</style>\n",
       "<table border=\"1\" class=\"dataframe\">\n",
       "  <thead>\n",
       "    <tr style=\"text-align: right;\">\n",
       "      <th></th>\n",
       "      <th>Count within each class</th>\n",
       "    </tr>\n",
       "    <tr>\n",
       "      <th>Target</th>\n",
       "      <th></th>\n",
       "    </tr>\n",
       "  </thead>\n",
       "  <tbody>\n",
       "    <tr>\n",
       "      <th>0</th>\n",
       "      <td>6502</td>\n",
       "    </tr>\n",
       "    <tr>\n",
       "      <th>1</th>\n",
       "      <td>31</td>\n",
       "    </tr>\n",
       "  </tbody>\n",
       "</table>\n",
       "</div>\n",
       "      <button class=\"colab-df-convert\" onclick=\"convertToInteractive('df-85a691a2-2e40-443d-833e-404f86b5595e')\"\n",
       "              title=\"Convert this dataframe to an interactive table.\"\n",
       "              style=\"display:none;\">\n",
       "        \n",
       "  <svg xmlns=\"http://www.w3.org/2000/svg\" height=\"24px\"viewBox=\"0 0 24 24\"\n",
       "       width=\"24px\">\n",
       "    <path d=\"M0 0h24v24H0V0z\" fill=\"none\"/>\n",
       "    <path d=\"M18.56 5.44l.94 2.06.94-2.06 2.06-.94-2.06-.94-.94-2.06-.94 2.06-2.06.94zm-11 1L8.5 8.5l.94-2.06 2.06-.94-2.06-.94L8.5 2.5l-.94 2.06-2.06.94zm10 10l.94 2.06.94-2.06 2.06-.94-2.06-.94-.94-2.06-.94 2.06-2.06.94z\"/><path d=\"M17.41 7.96l-1.37-1.37c-.4-.4-.92-.59-1.43-.59-.52 0-1.04.2-1.43.59L10.3 9.45l-7.72 7.72c-.78.78-.78 2.05 0 2.83L4 21.41c.39.39.9.59 1.41.59.51 0 1.02-.2 1.41-.59l7.78-7.78 2.81-2.81c.8-.78.8-2.07 0-2.86zM5.41 20L4 18.59l7.72-7.72 1.47 1.35L5.41 20z\"/>\n",
       "  </svg>\n",
       "      </button>\n",
       "      \n",
       "  <style>\n",
       "    .colab-df-container {\n",
       "      display:flex;\n",
       "      flex-wrap:wrap;\n",
       "      gap: 12px;\n",
       "    }\n",
       "\n",
       "    .colab-df-convert {\n",
       "      background-color: #E8F0FE;\n",
       "      border: none;\n",
       "      border-radius: 50%;\n",
       "      cursor: pointer;\n",
       "      display: none;\n",
       "      fill: #1967D2;\n",
       "      height: 32px;\n",
       "      padding: 0 0 0 0;\n",
       "      width: 32px;\n",
       "    }\n",
       "\n",
       "    .colab-df-convert:hover {\n",
       "      background-color: #E2EBFA;\n",
       "      box-shadow: 0px 1px 2px rgba(60, 64, 67, 0.3), 0px 1px 3px 1px rgba(60, 64, 67, 0.15);\n",
       "      fill: #174EA6;\n",
       "    }\n",
       "\n",
       "    [theme=dark] .colab-df-convert {\n",
       "      background-color: #3B4455;\n",
       "      fill: #D2E3FC;\n",
       "    }\n",
       "\n",
       "    [theme=dark] .colab-df-convert:hover {\n",
       "      background-color: #434B5C;\n",
       "      box-shadow: 0px 1px 3px 1px rgba(0, 0, 0, 0.15);\n",
       "      filter: drop-shadow(0px 1px 2px rgba(0, 0, 0, 0.3));\n",
       "      fill: #FFFFFF;\n",
       "    }\n",
       "  </style>\n",
       "\n",
       "      <script>\n",
       "        const buttonEl =\n",
       "          document.querySelector('#df-85a691a2-2e40-443d-833e-404f86b5595e button.colab-df-convert');\n",
       "        buttonEl.style.display =\n",
       "          google.colab.kernel.accessAllowed ? 'block' : 'none';\n",
       "\n",
       "        async function convertToInteractive(key) {\n",
       "          const element = document.querySelector('#df-85a691a2-2e40-443d-833e-404f86b5595e');\n",
       "          const dataTable =\n",
       "            await google.colab.kernel.invokeFunction('convertToInteractive',\n",
       "                                                     [key], {});\n",
       "          if (!dataTable) return;\n",
       "\n",
       "          const docLinkHtml = 'Like what you see? Visit the ' +\n",
       "            '<a target=\"_blank\" href=https://colab.research.google.com/notebooks/data_table.ipynb>data table notebook</a>'\n",
       "            + ' to learn more about interactive tables.';\n",
       "          element.innerHTML = '';\n",
       "          dataTable['output_type'] = 'display_data';\n",
       "          await google.colab.output.renderOutput(dataTable, element);\n",
       "          const docLink = document.createElement('div');\n",
       "          docLink.innerHTML = docLinkHtml;\n",
       "          element.appendChild(docLink);\n",
       "        }\n",
       "      </script>\n",
       "    </div>\n",
       "  </div>\n",
       "  "
      ],
      "text/plain": [
       "        Count within each class\n",
       "Target                         \n",
       "0                          6502\n",
       "1                            31"
      ]
     },
     "execution_count": 20,
     "metadata": {},
     "output_type": "execute_result"
    }
   ],
   "source": [
    "Target_df.value_counts().to_frame().rename(columns={0:'Count within each class'})"
   ]
  },
  {
   "cell_type": "code",
   "execution_count": null,
   "metadata": {
    "id": "UOak8NSWWmv5"
   },
   "outputs": [],
   "source": [
    "crim_list"
   ]
  },
  {
   "cell_type": "code",
   "execution_count": 21,
   "metadata": {
    "id": "hX6rGoHQoVAB"
   },
   "outputs": [],
   "source": [
    "# create dataframe containing normalized features and target variable\n",
    "df_all = pd.concat([normalized_features, Target_df], axis=1)"
   ]
  },
  {
   "cell_type": "code",
   "execution_count": 22,
   "metadata": {
    "id": "oyjH-JnmooWy"
   },
   "outputs": [],
   "source": [
    "# Split dataset into two seperate dataframes\n",
    "df_crim = df_all[df_all.Target==1].drop('Target', axis=1)\n",
    "df_non_crim = df_all[df_all.Target==0].drop('Target', axis=1)"
   ]
  },
  {
   "cell_type": "code",
   "execution_count": 23,
   "metadata": {
    "colab": {
     "base_uri": "https://localhost:8080/",
     "height": 300
    },
    "id": "eL5PZg2lo8zF",
    "outputId": "a076452d-339a-4702-9753-3b426a81f16d"
   },
   "outputs": [
    {
     "data": {
      "text/html": [
       "\n",
       "  <div id=\"df-df0cc310-d18d-4136-8574-072c4d63f628\">\n",
       "    <div class=\"colab-df-container\">\n",
       "      <div>\n",
       "<style scoped>\n",
       "    .dataframe tbody tr th:only-of-type {\n",
       "        vertical-align: middle;\n",
       "    }\n",
       "\n",
       "    .dataframe tbody tr th {\n",
       "        vertical-align: top;\n",
       "    }\n",
       "\n",
       "    .dataframe thead th {\n",
       "        text-align: right;\n",
       "    }\n",
       "</style>\n",
       "<table border=\"1\" class=\"dataframe\">\n",
       "  <thead>\n",
       "    <tr style=\"text-align: right;\">\n",
       "      <th></th>\n",
       "      <th>Degree_centrality</th>\n",
       "      <th>Betweenness_centrality</th>\n",
       "      <th>Closeness_centrality</th>\n",
       "      <th>ego_Density</th>\n",
       "      <th>Heavy_vicinity</th>\n",
       "      <th>Dominant_edge</th>\n",
       "      <th>Unwanted_edges</th>\n",
       "      <th>Missing_edges</th>\n",
       "      <th>Mahalanobis</th>\n",
       "    </tr>\n",
       "  </thead>\n",
       "  <tbody>\n",
       "    <tr>\n",
       "      <th>count</th>\n",
       "      <td>31.000000</td>\n",
       "      <td>31.000000</td>\n",
       "      <td>31.000000</td>\n",
       "      <td>31.000000</td>\n",
       "      <td>31.000000</td>\n",
       "      <td>31.000000</td>\n",
       "      <td>31.000000</td>\n",
       "      <td>31.000000</td>\n",
       "      <td>31.000000</td>\n",
       "    </tr>\n",
       "    <tr>\n",
       "      <th>mean</th>\n",
       "      <td>1.377325</td>\n",
       "      <td>1.230404</td>\n",
       "      <td>1.299551</td>\n",
       "      <td>0.255674</td>\n",
       "      <td>-0.201403</td>\n",
       "      <td>-0.830734</td>\n",
       "      <td>0.980808</td>\n",
       "      <td>0.729218</td>\n",
       "      <td>-0.258354</td>\n",
       "    </tr>\n",
       "    <tr>\n",
       "      <th>std</th>\n",
       "      <td>3.600059</td>\n",
       "      <td>5.582269</td>\n",
       "      <td>1.189474</td>\n",
       "      <td>1.185609</td>\n",
       "      <td>0.067322</td>\n",
       "      <td>1.050048</td>\n",
       "      <td>3.542064</td>\n",
       "      <td>2.084242</td>\n",
       "      <td>0.487656</td>\n",
       "    </tr>\n",
       "    <tr>\n",
       "      <th>min</th>\n",
       "      <td>-0.362521</td>\n",
       "      <td>-0.123694</td>\n",
       "      <td>-1.344145</td>\n",
       "      <td>-3.727807</td>\n",
       "      <td>-0.252918</td>\n",
       "      <td>-1.953315</td>\n",
       "      <td>-0.362295</td>\n",
       "      <td>-0.297454</td>\n",
       "      <td>-0.580365</td>\n",
       "    </tr>\n",
       "    <tr>\n",
       "      <th>25%</th>\n",
       "      <td>-0.139938</td>\n",
       "      <td>-0.113087</td>\n",
       "      <td>0.546819</td>\n",
       "      <td>0.331423</td>\n",
       "      <td>-0.237271</td>\n",
       "      <td>-1.487110</td>\n",
       "      <td>-0.315328</td>\n",
       "      <td>-0.297454</td>\n",
       "      <td>-0.505616</td>\n",
       "    </tr>\n",
       "    <tr>\n",
       "      <th>50%</th>\n",
       "      <td>0.363801</td>\n",
       "      <td>-0.084155</td>\n",
       "      <td>1.530375</td>\n",
       "      <td>0.645406</td>\n",
       "      <td>-0.228938</td>\n",
       "      <td>-1.259627</td>\n",
       "      <td>-0.150944</td>\n",
       "      <td>-0.297454</td>\n",
       "      <td>-0.452371</td>\n",
       "    </tr>\n",
       "    <tr>\n",
       "      <th>75%</th>\n",
       "      <td>1.242415</td>\n",
       "      <td>0.244452</td>\n",
       "      <td>1.968880</td>\n",
       "      <td>0.773320</td>\n",
       "      <td>-0.188255</td>\n",
       "      <td>-0.415022</td>\n",
       "      <td>0.952779</td>\n",
       "      <td>-0.020604</td>\n",
       "      <td>-0.293187</td>\n",
       "    </tr>\n",
       "    <tr>\n",
       "      <th>max</th>\n",
       "      <td>19.341875</td>\n",
       "      <td>31.001670</td>\n",
       "      <td>4.050510</td>\n",
       "      <td>1.143150</td>\n",
       "      <td>0.096045</td>\n",
       "      <td>1.943822</td>\n",
       "      <td>19.363821</td>\n",
       "      <td>7.723914</td>\n",
       "      <td>1.821064</td>\n",
       "    </tr>\n",
       "  </tbody>\n",
       "</table>\n",
       "</div>\n",
       "      <button class=\"colab-df-convert\" onclick=\"convertToInteractive('df-df0cc310-d18d-4136-8574-072c4d63f628')\"\n",
       "              title=\"Convert this dataframe to an interactive table.\"\n",
       "              style=\"display:none;\">\n",
       "        \n",
       "  <svg xmlns=\"http://www.w3.org/2000/svg\" height=\"24px\"viewBox=\"0 0 24 24\"\n",
       "       width=\"24px\">\n",
       "    <path d=\"M0 0h24v24H0V0z\" fill=\"none\"/>\n",
       "    <path d=\"M18.56 5.44l.94 2.06.94-2.06 2.06-.94-2.06-.94-.94-2.06-.94 2.06-2.06.94zm-11 1L8.5 8.5l.94-2.06 2.06-.94-2.06-.94L8.5 2.5l-.94 2.06-2.06.94zm10 10l.94 2.06.94-2.06 2.06-.94-2.06-.94-.94-2.06-.94 2.06-2.06.94z\"/><path d=\"M17.41 7.96l-1.37-1.37c-.4-.4-.92-.59-1.43-.59-.52 0-1.04.2-1.43.59L10.3 9.45l-7.72 7.72c-.78.78-.78 2.05 0 2.83L4 21.41c.39.39.9.59 1.41.59.51 0 1.02-.2 1.41-.59l7.78-7.78 2.81-2.81c.8-.78.8-2.07 0-2.86zM5.41 20L4 18.59l7.72-7.72 1.47 1.35L5.41 20z\"/>\n",
       "  </svg>\n",
       "      </button>\n",
       "      \n",
       "  <style>\n",
       "    .colab-df-container {\n",
       "      display:flex;\n",
       "      flex-wrap:wrap;\n",
       "      gap: 12px;\n",
       "    }\n",
       "\n",
       "    .colab-df-convert {\n",
       "      background-color: #E8F0FE;\n",
       "      border: none;\n",
       "      border-radius: 50%;\n",
       "      cursor: pointer;\n",
       "      display: none;\n",
       "      fill: #1967D2;\n",
       "      height: 32px;\n",
       "      padding: 0 0 0 0;\n",
       "      width: 32px;\n",
       "    }\n",
       "\n",
       "    .colab-df-convert:hover {\n",
       "      background-color: #E2EBFA;\n",
       "      box-shadow: 0px 1px 2px rgba(60, 64, 67, 0.3), 0px 1px 3px 1px rgba(60, 64, 67, 0.15);\n",
       "      fill: #174EA6;\n",
       "    }\n",
       "\n",
       "    [theme=dark] .colab-df-convert {\n",
       "      background-color: #3B4455;\n",
       "      fill: #D2E3FC;\n",
       "    }\n",
       "\n",
       "    [theme=dark] .colab-df-convert:hover {\n",
       "      background-color: #434B5C;\n",
       "      box-shadow: 0px 1px 3px 1px rgba(0, 0, 0, 0.15);\n",
       "      filter: drop-shadow(0px 1px 2px rgba(0, 0, 0, 0.3));\n",
       "      fill: #FFFFFF;\n",
       "    }\n",
       "  </style>\n",
       "\n",
       "      <script>\n",
       "        const buttonEl =\n",
       "          document.querySelector('#df-df0cc310-d18d-4136-8574-072c4d63f628 button.colab-df-convert');\n",
       "        buttonEl.style.display =\n",
       "          google.colab.kernel.accessAllowed ? 'block' : 'none';\n",
       "\n",
       "        async function convertToInteractive(key) {\n",
       "          const element = document.querySelector('#df-df0cc310-d18d-4136-8574-072c4d63f628');\n",
       "          const dataTable =\n",
       "            await google.colab.kernel.invokeFunction('convertToInteractive',\n",
       "                                                     [key], {});\n",
       "          if (!dataTable) return;\n",
       "\n",
       "          const docLinkHtml = 'Like what you see? Visit the ' +\n",
       "            '<a target=\"_blank\" href=https://colab.research.google.com/notebooks/data_table.ipynb>data table notebook</a>'\n",
       "            + ' to learn more about interactive tables.';\n",
       "          element.innerHTML = '';\n",
       "          dataTable['output_type'] = 'display_data';\n",
       "          await google.colab.output.renderOutput(dataTable, element);\n",
       "          const docLink = document.createElement('div');\n",
       "          docLink.innerHTML = docLinkHtml;\n",
       "          element.appendChild(docLink);\n",
       "        }\n",
       "      </script>\n",
       "    </div>\n",
       "  </div>\n",
       "  "
      ],
      "text/plain": [
       "       Degree_centrality  Betweenness_centrality  Closeness_centrality  \\\n",
       "count          31.000000               31.000000             31.000000   \n",
       "mean            1.377325                1.230404              1.299551   \n",
       "std             3.600059                5.582269              1.189474   \n",
       "min            -0.362521               -0.123694             -1.344145   \n",
       "25%            -0.139938               -0.113087              0.546819   \n",
       "50%             0.363801               -0.084155              1.530375   \n",
       "75%             1.242415                0.244452              1.968880   \n",
       "max            19.341875               31.001670              4.050510   \n",
       "\n",
       "       ego_Density  Heavy_vicinity  Dominant_edge  Unwanted_edges  \\\n",
       "count    31.000000       31.000000      31.000000       31.000000   \n",
       "mean      0.255674       -0.201403      -0.830734        0.980808   \n",
       "std       1.185609        0.067322       1.050048        3.542064   \n",
       "min      -3.727807       -0.252918      -1.953315       -0.362295   \n",
       "25%       0.331423       -0.237271      -1.487110       -0.315328   \n",
       "50%       0.645406       -0.228938      -1.259627       -0.150944   \n",
       "75%       0.773320       -0.188255      -0.415022        0.952779   \n",
       "max       1.143150        0.096045       1.943822       19.363821   \n",
       "\n",
       "       Missing_edges  Mahalanobis  \n",
       "count      31.000000    31.000000  \n",
       "mean        0.729218    -0.258354  \n",
       "std         2.084242     0.487656  \n",
       "min        -0.297454    -0.580365  \n",
       "25%        -0.297454    -0.505616  \n",
       "50%        -0.297454    -0.452371  \n",
       "75%        -0.020604    -0.293187  \n",
       "max         7.723914     1.821064  "
      ]
     },
     "execution_count": 23,
     "metadata": {},
     "output_type": "execute_result"
    }
   ],
   "source": [
    "df_crim.describe()"
   ]
  },
  {
   "cell_type": "code",
   "execution_count": 24,
   "metadata": {
    "colab": {
     "base_uri": "https://localhost:8080/",
     "height": 781
    },
    "id": "GCI73jX1myJJ",
    "outputId": "34ae14b2-c1c0-4a54-df07-88dc0dadfbcd"
   },
   "outputs": [
    {
     "data": {
      "text/plain": [
       "array([[<matplotlib.axes._subplots.AxesSubplot object at 0x7f1385b68f10>,\n",
       "        <matplotlib.axes._subplots.AxesSubplot object at 0x7f1388492f90>,\n",
       "        <matplotlib.axes._subplots.AxesSubplot object at 0x7f13884535d0>],\n",
       "       [<matplotlib.axes._subplots.AxesSubplot object at 0x7f1388346bd0>,\n",
       "        <matplotlib.axes._subplots.AxesSubplot object at 0x7f13882c5210>,\n",
       "        <matplotlib.axes._subplots.AxesSubplot object at 0x7f1388279810>],\n",
       "       [<matplotlib.axes._subplots.AxesSubplot object at 0x7f13882abe90>,\n",
       "        <matplotlib.axes._subplots.AxesSubplot object at 0x7f13881ea410>,\n",
       "        <matplotlib.axes._subplots.AxesSubplot object at 0x7f13881ea450>]],\n",
       "      dtype=object)"
      ]
     },
     "execution_count": 24,
     "metadata": {},
     "output_type": "execute_result"
    },
    {
     "data": {
      "image/png": "[encoded data removed]",
      "text/plain": [
       "<Figure size 720x720 with 9 Axes>"
      ]
     },
     "metadata": {
      "needs_background": "light"
     },
     "output_type": "display_data"
    }
   ],
   "source": [
    "df_crim.hist(figsize=(10,10))"
   ]
  },
  {
   "cell_type": "code",
   "execution_count": 25,
   "metadata": {
    "colab": {
     "base_uri": "https://localhost:8080/",
     "height": 300
    },
    "id": "YVOH5FTQpOIf",
    "outputId": "89c38f76-c728-4b93-ade8-4008fd2dc040"
   },
   "outputs": [
    {
     "data": {
      "text/html": [
       "\n",
       "  <div id=\"df-de1334c0-303e-434d-8421-bbcac7dfe784\">\n",
       "    <div class=\"colab-df-container\">\n",
       "      <div>\n",
       "<style scoped>\n",
       "    .dataframe tbody tr th:only-of-type {\n",
       "        vertical-align: middle;\n",
       "    }\n",
       "\n",
       "    .dataframe tbody tr th {\n",
       "        vertical-align: top;\n",
       "    }\n",
       "\n",
       "    .dataframe thead th {\n",
       "        text-align: right;\n",
       "    }\n",
       "</style>\n",
       "<table border=\"1\" class=\"dataframe\">\n",
       "  <thead>\n",
       "    <tr style=\"text-align: right;\">\n",
       "      <th></th>\n",
       "      <th>Degree_centrality</th>\n",
       "      <th>Betweenness_centrality</th>\n",
       "      <th>Closeness_centrality</th>\n",
       "      <th>ego_Density</th>\n",
       "      <th>Heavy_vicinity</th>\n",
       "      <th>Dominant_edge</th>\n",
       "      <th>Unwanted_edges</th>\n",
       "      <th>Missing_edges</th>\n",
       "      <th>Mahalanobis</th>\n",
       "    </tr>\n",
       "  </thead>\n",
       "  <tbody>\n",
       "    <tr>\n",
       "      <th>count</th>\n",
       "      <td>6502.000000</td>\n",
       "      <td>6502.000000</td>\n",
       "      <td>6502.000000</td>\n",
       "      <td>6502.000000</td>\n",
       "      <td>6502.000000</td>\n",
       "      <td>6502.000000</td>\n",
       "      <td>6502.000000</td>\n",
       "      <td>6502.000000</td>\n",
       "      <td>6502.000000</td>\n",
       "    </tr>\n",
       "    <tr>\n",
       "      <th>mean</th>\n",
       "      <td>-0.006567</td>\n",
       "      <td>-0.005866</td>\n",
       "      <td>-0.006196</td>\n",
       "      <td>-0.001219</td>\n",
       "      <td>0.000960</td>\n",
       "      <td>0.003961</td>\n",
       "      <td>-0.004676</td>\n",
       "      <td>-0.003477</td>\n",
       "      <td>0.001232</td>\n",
       "    </tr>\n",
       "    <tr>\n",
       "      <th>std</th>\n",
       "      <td>0.967484</td>\n",
       "      <td>0.924050</td>\n",
       "      <td>0.995139</td>\n",
       "      <td>0.999061</td>\n",
       "      <td>1.002351</td>\n",
       "      <td>0.998262</td>\n",
       "      <td>0.970781</td>\n",
       "      <td>0.991125</td>\n",
       "      <td>1.001751</td>\n",
       "    </tr>\n",
       "    <tr>\n",
       "      <th>min</th>\n",
       "      <td>-0.362521</td>\n",
       "      <td>-0.123694</td>\n",
       "      <td>-4.387925</td>\n",
       "      <td>-3.727807</td>\n",
       "      <td>-0.263829</td>\n",
       "      <td>-2.908597</td>\n",
       "      <td>-0.362295</td>\n",
       "      <td>-0.297454</td>\n",
       "      <td>-0.606592</td>\n",
       "    </tr>\n",
       "    <tr>\n",
       "      <th>25%</th>\n",
       "      <td>-0.315661</td>\n",
       "      <td>-0.123618</td>\n",
       "      <td>-0.607899</td>\n",
       "      <td>-0.318808</td>\n",
       "      <td>-0.201963</td>\n",
       "      <td>-0.784193</td>\n",
       "      <td>-0.315328</td>\n",
       "      <td>-0.297454</td>\n",
       "      <td>-0.461497</td>\n",
       "    </tr>\n",
       "    <tr>\n",
       "      <th>50%</th>\n",
       "      <td>-0.268802</td>\n",
       "      <td>-0.120911</td>\n",
       "      <td>0.019789</td>\n",
       "      <td>0.222353</td>\n",
       "      <td>-0.156382</td>\n",
       "      <td>-0.095242</td>\n",
       "      <td>-0.268361</td>\n",
       "      <td>-0.297454</td>\n",
       "      <td>-0.345085</td>\n",
       "    </tr>\n",
       "    <tr>\n",
       "      <th>75%</th>\n",
       "      <td>-0.081364</td>\n",
       "      <td>-0.102218</td>\n",
       "      <td>0.629332</td>\n",
       "      <td>0.653342</td>\n",
       "      <td>-0.062220</td>\n",
       "      <td>0.778386</td>\n",
       "      <td>-0.080494</td>\n",
       "      <td>-0.297454</td>\n",
       "      <td>-0.006718</td>\n",
       "    </tr>\n",
       "    <tr>\n",
       "      <th>max</th>\n",
       "      <td>22.083152</td>\n",
       "      <td>39.217404</td>\n",
       "      <td>4.256706</td>\n",
       "      <td>1.476565</td>\n",
       "      <td>37.841331</td>\n",
       "      <td>1.943822</td>\n",
       "      <td>22.111387</td>\n",
       "      <td>10.650875</td>\n",
       "      <td>4.768877</td>\n",
       "    </tr>\n",
       "  </tbody>\n",
       "</table>\n",
       "</div>\n",
       "      <button class=\"colab-df-convert\" onclick=\"convertToInteractive('df-de1334c0-303e-434d-8421-bbcac7dfe784')\"\n",
       "              title=\"Convert this dataframe to an interactive table.\"\n",
       "              style=\"display:none;\">\n",
       "        \n",
       "  <svg xmlns=\"http://www.w3.org/2000/svg\" height=\"24px\"viewBox=\"0 0 24 24\"\n",
       "       width=\"24px\">\n",
       "    <path d=\"M0 0h24v24H0V0z\" fill=\"none\"/>\n",
       "    <path d=\"M18.56 5.44l.94 2.06.94-2.06 2.06-.94-2.06-.94-.94-2.06-.94 2.06-2.06.94zm-11 1L8.5 8.5l.94-2.06 2.06-.94-2.06-.94L8.5 2.5l-.94 2.06-2.06.94zm10 10l.94 2.06.94-2.06 2.06-.94-2.06-.94-.94-2.06-.94 2.06-2.06.94z\"/><path d=\"M17.41 7.96l-1.37-1.37c-.4-.4-.92-.59-1.43-.59-.52 0-1.04.2-1.43.59L10.3 9.45l-7.72 7.72c-.78.78-.78 2.05 0 2.83L4 21.41c.39.39.9.59 1.41.59.51 0 1.02-.2 1.41-.59l7.78-7.78 2.81-2.81c.8-.78.8-2.07 0-2.86zM5.41 20L4 18.59l7.72-7.72 1.47 1.35L5.41 20z\"/>\n",
       "  </svg>\n",
       "      </button>\n",
       "      \n",
       "  <style>\n",
       "    .colab-df-container {\n",
       "      display:flex;\n",
       "      flex-wrap:wrap;\n",
       "      gap: 12px;\n",
       "    }\n",
       "\n",
       "    .colab-df-convert {\n",
       "      background-color: #E8F0FE;\n",
       "      border: none;\n",
       "      border-radius: 50%;\n",
       "      cursor: pointer;\n",
       "      display: none;\n",
       "      fill: #1967D2;\n",
       "      height: 32px;\n",
       "      padding: 0 0 0 0;\n",
       "      width: 32px;\n",
       "    }\n",
       "\n",
       "    .colab-df-convert:hover {\n",
       "      background-color: #E2EBFA;\n",
       "      box-shadow: 0px 1px 2px rgba(60, 64, 67, 0.3), 0px 1px 3px 1px rgba(60, 64, 67, 0.15);\n",
       "      fill: #174EA6;\n",
       "    }\n",
       "\n",
       "    [theme=dark] .colab-df-convert {\n",
       "      background-color: #3B4455;\n",
       "      fill: #D2E3FC;\n",
       "    }\n",
       "\n",
       "    [theme=dark] .colab-df-convert:hover {\n",
       "      background-color: #434B5C;\n",
       "      box-shadow: 0px 1px 3px 1px rgba(0, 0, 0, 0.15);\n",
       "      filter: drop-shadow(0px 1px 2px rgba(0, 0, 0, 0.3));\n",
       "      fill: #FFFFFF;\n",
       "    }\n",
       "  </style>\n",
       "\n",
       "      <script>\n",
       "        const buttonEl =\n",
       "          document.querySelector('#df-de1334c0-303e-434d-8421-bbcac7dfe784 button.colab-df-convert');\n",
       "        buttonEl.style.display =\n",
       "          google.colab.kernel.accessAllowed ? 'block' : 'none';\n",
       "\n",
       "        async function convertToInteractive(key) {\n",
       "          const element = document.querySelector('#df-de1334c0-303e-434d-8421-bbcac7dfe784');\n",
       "          const dataTable =\n",
       "            await google.colab.kernel.invokeFunction('convertToInteractive',\n",
       "                                                     [key], {});\n",
       "          if (!dataTable) return;\n",
       "\n",
       "          const docLinkHtml = 'Like what you see? Visit the ' +\n",
       "            '<a target=\"_blank\" href=https://colab.research.google.com/notebooks/data_table.ipynb>data table notebook</a>'\n",
       "            + ' to learn more about interactive tables.';\n",
       "          element.innerHTML = '';\n",
       "          dataTable['output_type'] = 'display_data';\n",
       "          await google.colab.output.renderOutput(dataTable, element);\n",
       "          const docLink = document.createElement('div');\n",
       "          docLink.innerHTML = docLinkHtml;\n",
       "          element.appendChild(docLink);\n",
       "        }\n",
       "      </script>\n",
       "    </div>\n",
       "  </div>\n",
       "  "
      ],
      "text/plain": [
       "       Degree_centrality  Betweenness_centrality  Closeness_centrality  \\\n",
       "count        6502.000000             6502.000000           6502.000000   \n",
       "mean           -0.006567               -0.005866             -0.006196   \n",
       "std             0.967484                0.924050              0.995139   \n",
       "min            -0.362521               -0.123694             -4.387925   \n",
       "25%            -0.315661               -0.123618             -0.607899   \n",
       "50%            -0.268802               -0.120911              0.019789   \n",
       "75%            -0.081364               -0.102218              0.629332   \n",
       "max            22.083152               39.217404              4.256706   \n",
       "\n",
       "       ego_Density  Heavy_vicinity  Dominant_edge  Unwanted_edges  \\\n",
       "count  6502.000000     6502.000000    6502.000000     6502.000000   \n",
       "mean     -0.001219        0.000960       0.003961       -0.004676   \n",
       "std       0.999061        1.002351       0.998262        0.970781   \n",
       "min      -3.727807       -0.263829      -2.908597       -0.362295   \n",
       "25%      -0.318808       -0.201963      -0.784193       -0.315328   \n",
       "50%       0.222353       -0.156382      -0.095242       -0.268361   \n",
       "75%       0.653342       -0.062220       0.778386       -0.080494   \n",
       "max       1.476565       37.841331       1.943822       22.111387   \n",
       "\n",
       "       Missing_edges  Mahalanobis  \n",
       "count    6502.000000  6502.000000  \n",
       "mean       -0.003477     0.001232  \n",
       "std         0.991125     1.001751  \n",
       "min        -0.297454    -0.606592  \n",
       "25%        -0.297454    -0.461497  \n",
       "50%        -0.297454    -0.345085  \n",
       "75%        -0.297454    -0.006718  \n",
       "max        10.650875     4.768877  "
      ]
     },
     "execution_count": 25,
     "metadata": {},
     "output_type": "execute_result"
    }
   ],
   "source": [
    "df_non_crim.describe()"
   ]
  },
  {
   "cell_type": "code",
   "execution_count": 26,
   "metadata": {
    "colab": {
     "base_uri": "https://localhost:8080/",
     "height": 781
    },
    "id": "yWHB-Tfmpam5",
    "outputId": "bf47156c-c407-45c5-a9cd-10b68ccfe800"
   },
   "outputs": [
    {
     "data": {
      "text/plain": [
       "array([[<matplotlib.axes._subplots.AxesSubplot object at 0x7f177930da50>,\n",
       "        <matplotlib.axes._subplots.AxesSubplot object at 0x7f1779319dd0>,\n",
       "        <matplotlib.axes._subplots.AxesSubplot object at 0x7f177925d2d0>],\n",
       "       [<matplotlib.axes._subplots.AxesSubplot object at 0x7f17791cf7d0>,\n",
       "        <matplotlib.axes._subplots.AxesSubplot object at 0x7f1779101cd0>,\n",
       "        <matplotlib.axes._subplots.AxesSubplot object at 0x7f1779042210>],\n",
       "       [<matplotlib.axes._subplots.AxesSubplot object at 0x7f1779075790>,\n",
       "        <matplotlib.axes._subplots.AxesSubplot object at 0x7f1778fe8bd0>,\n",
       "        <matplotlib.axes._subplots.AxesSubplot object at 0x7f1778fe8c10>]],\n",
       "      dtype=object)"
      ]
     },
     "execution_count": 26,
     "metadata": {},
     "output_type": "execute_result"
    },
    {
     "data": {
      "image/png": "[encoded data removed]",
      "text/plain": [
       "<Figure size 720x720 with 9 Axes>"
      ]
     },
     "metadata": {
      "needs_background": "light"
     },
     "output_type": "display_data"
    }
   ],
   "source": [
    "df_non_crim.hist(figsize=(10,10))"
   ]
  },
  {
   "cell_type": "markdown",
   "metadata": {
    "id": "bt3570QJPolY"
   },
   "source": [
    "# 6. Multivariate normative comparison\n",
    "\n",
    "Before we use a GCN to detect fraudulent email addresses we use a simpler approach. It calculates the mahalanobis distance between the features of the fraudulent email addresses and the norm (non-fraudulent addresses)."
   ]
  },
  {
   "cell_type": "code",
   "execution_count": 27,
   "metadata": {
    "id": "oxuKwlQZQtDU"
   },
   "outputs": [],
   "source": [
    "# Calculate the covariance matrix of the the norm\n",
    "cov_norm = np.cov(df_non_crim, rowvar=False)\n",
    "# Calculate the averages of the norm features\n",
    "mean_norm = np.array(df_non_crim.mean(axis=0))\n",
    "# Number of features\n",
    "p = df_non_crim.shape[1]\n",
    "# Number of samples\n",
    "n = df_non_crim.shape[0]"
   ]
  },
  {
   "cell_type": "code",
   "execution_count": 28,
   "metadata": {
    "id": "g7KlSj_PaIiz"
   },
   "outputs": [],
   "source": [
    "import scipy\n",
    "from scipy import stats"
   ]
  },
  {
   "cell_type": "code",
   "execution_count": 29,
   "metadata": {
    "id": "FW_Nj8b6ZZ2L"
   },
   "outputs": [],
   "source": [
    "# Define F-test function\n",
    "def f_test_norm_comparison(x, mean_norm, cov_norm, p, n):\n",
    "    # Calculate f-test\n",
    "    arr1 = np.dot(np.transpose(mean_norm - x), np.linalg.inv(cov_norm))\n",
    "    M_dist = np.dot(arr1, (mean_norm - x))\n",
    "    # Perform scaling\n",
    "    scaler = (n/(n+1))*((n-p)/((n-1)*p))\n",
    "    M_dist_scaled = scaler*M_dist\n",
    "    # calculate p-value of F test statistic\n",
    "    p_val = 1-scipy.stats.f.cdf(M_dist_scaled, p, (n-p))  \n",
    "    return M_dist_scaled, p_val"
   ]
  },
  {
   "cell_type": "code",
   "execution_count": 30,
   "metadata": {
    "id": "C7fUdpmTab52"
   },
   "outputs": [],
   "source": [
    "# loop over all criminal addresses\n",
    "f_scores = list()\n",
    "p_values = list()\n",
    "for i in range(df_crim.shape[0]):\n",
    "  score = f_test_norm_comparison(x=np.array(df_crim)[i], mean_norm=mean_norm, cov_norm=cov_norm, n=n, p=p)\n",
    "  f_scores.append(score[0])\n",
    "  p_values.append(score[1])\n",
    "\n",
    "# Create dataframe\n",
    "df_multi_comparison = pd.DataFrame({'F_scores' : f_scores, 'P_values': p_values}, index=df_crim.index)"
   ]
  },
  {
   "cell_type": "code",
   "execution_count": 31,
   "metadata": {
    "colab": {
     "base_uri": "https://localhost:8080/",
     "height": 394
    },
    "id": "vHpSFs1quwzW",
    "outputId": "34fadcb6-b712-47d8-e3eb-31a2cb0e5edc"
   },
   "outputs": [
    {
     "data": {
      "text/html": [
       "\n",
       "  <div id=\"df-1c3946e2-844c-4bcf-a879-002ad6bab1f1\">\n",
       "    <div class=\"colab-df-container\">\n",
       "      <div>\n",
       "<style scoped>\n",
       "    .dataframe tbody tr th:only-of-type {\n",
       "        vertical-align: middle;\n",
       "    }\n",
       "\n",
       "    .dataframe tbody tr th {\n",
       "        vertical-align: top;\n",
       "    }\n",
       "\n",
       "    .dataframe thead th {\n",
       "        text-align: right;\n",
       "    }\n",
       "</style>\n",
       "<table border=\"1\" class=\"dataframe\">\n",
       "  <thead>\n",
       "    <tr style=\"text-align: right;\">\n",
       "      <th></th>\n",
       "      <th>F_scores</th>\n",
       "      <th>P_values</th>\n",
       "    </tr>\n",
       "    <tr>\n",
       "      <th>Unnamed: 0</th>\n",
       "      <th></th>\n",
       "      <th></th>\n",
       "    </tr>\n",
       "  </thead>\n",
       "  <tbody>\n",
       "    <tr>\n",
       "      <th>tim.belden@enron.com</th>\n",
       "      <td>2.519531</td>\n",
       "      <td>7.035980e-03</td>\n",
       "    </tr>\n",
       "    <tr>\n",
       "      <th>kenneth.lay@enron.com</th>\n",
       "      <td>160.480055</td>\n",
       "      <td>1.110223e-16</td>\n",
       "    </tr>\n",
       "    <tr>\n",
       "      <th>david.delainey@enron.com</th>\n",
       "      <td>5.298478</td>\n",
       "      <td>3.115803e-07</td>\n",
       "    </tr>\n",
       "    <tr>\n",
       "      <th>jeff.skilling@enron.com</th>\n",
       "      <td>3.879177</td>\n",
       "      <td>6.363786e-05</td>\n",
       "    </tr>\n",
       "    <tr>\n",
       "      <th>richard.causey@enron.com</th>\n",
       "      <td>3.847158</td>\n",
       "      <td>7.148362e-05</td>\n",
       "    </tr>\n",
       "    <tr>\n",
       "      <th>f..calger@enron.com</th>\n",
       "      <td>2.524536</td>\n",
       "      <td>6.922910e-03</td>\n",
       "    </tr>\n",
       "    <tr>\n",
       "      <th>wes.colwell@enron.com</th>\n",
       "      <td>2.857724</td>\n",
       "      <td>2.302033e-03</td>\n",
       "    </tr>\n",
       "    <tr>\n",
       "      <th>paula.rieker@enron.com</th>\n",
       "      <td>2.746169</td>\n",
       "      <td>3.343968e-03</td>\n",
       "    </tr>\n",
       "    <tr>\n",
       "      <th>rice@enron.com</th>\n",
       "      <td>2.171638</td>\n",
       "      <td>2.107459e-02</td>\n",
       "    </tr>\n",
       "    <tr>\n",
       "      <th>chairman.ken@enron.com</th>\n",
       "      <td>6.054169</td>\n",
       "      <td>1.663144e-08</td>\n",
       "    </tr>\n",
       "  </tbody>\n",
       "</table>\n",
       "</div>\n",
       "      <button class=\"colab-df-convert\" onclick=\"convertToInteractive('df-1c3946e2-844c-4bcf-a879-002ad6bab1f1')\"\n",
       "              title=\"Convert this dataframe to an interactive table.\"\n",
       "              style=\"display:none;\">\n",
       "        \n",
       "  <svg xmlns=\"http://www.w3.org/2000/svg\" height=\"24px\"viewBox=\"0 0 24 24\"\n",
       "       width=\"24px\">\n",
       "    <path d=\"M0 0h24v24H0V0z\" fill=\"none\"/>\n",
       "    <path d=\"M18.56 5.44l.94 2.06.94-2.06 2.06-.94-2.06-.94-.94-2.06-.94 2.06-2.06.94zm-11 1L8.5 8.5l.94-2.06 2.06-.94-2.06-.94L8.5 2.5l-.94 2.06-2.06.94zm10 10l.94 2.06.94-2.06 2.06-.94-2.06-.94-.94-2.06-.94 2.06-2.06.94z\"/><path d=\"M17.41 7.96l-1.37-1.37c-.4-.4-.92-.59-1.43-.59-.52 0-1.04.2-1.43.59L10.3 9.45l-7.72 7.72c-.78.78-.78 2.05 0 2.83L4 21.41c.39.39.9.59 1.41.59.51 0 1.02-.2 1.41-.59l7.78-7.78 2.81-2.81c.8-.78.8-2.07 0-2.86zM5.41 20L4 18.59l7.72-7.72 1.47 1.35L5.41 20z\"/>\n",
       "  </svg>\n",
       "      </button>\n",
       "      \n",
       "  <style>\n",
       "    .colab-df-container {\n",
       "      display:flex;\n",
       "      flex-wrap:wrap;\n",
       "      gap: 12px;\n",
       "    }\n",
       "\n",
       "    .colab-df-convert {\n",
       "      background-color: #E8F0FE;\n",
       "      border: none;\n",
       "      border-radius: 50%;\n",
       "      cursor: pointer;\n",
       "      display: none;\n",
       "      fill: #1967D2;\n",
       "      height: 32px;\n",
       "      padding: 0 0 0 0;\n",
       "      width: 32px;\n",
       "    }\n",
       "\n",
       "    .colab-df-convert:hover {\n",
       "      background-color: #E2EBFA;\n",
       "      box-shadow: 0px 1px 2px rgba(60, 64, 67, 0.3), 0px 1px 3px 1px rgba(60, 64, 67, 0.15);\n",
       "      fill: #174EA6;\n",
       "    }\n",
       "\n",
       "    [theme=dark] .colab-df-convert {\n",
       "      background-color: #3B4455;\n",
       "      fill: #D2E3FC;\n",
       "    }\n",
       "\n",
       "    [theme=dark] .colab-df-convert:hover {\n",
       "      background-color: #434B5C;\n",
       "      box-shadow: 0px 1px 3px 1px rgba(0, 0, 0, 0.15);\n",
       "      filter: drop-shadow(0px 1px 2px rgba(0, 0, 0, 0.3));\n",
       "      fill: #FFFFFF;\n",
       "    }\n",
       "  </style>\n",
       "\n",
       "      <script>\n",
       "        const buttonEl =\n",
       "          document.querySelector('#df-1c3946e2-844c-4bcf-a879-002ad6bab1f1 button.colab-df-convert');\n",
       "        buttonEl.style.display =\n",
       "          google.colab.kernel.accessAllowed ? 'block' : 'none';\n",
       "\n",
       "        async function convertToInteractive(key) {\n",
       "          const element = document.querySelector('#df-1c3946e2-844c-4bcf-a879-002ad6bab1f1');\n",
       "          const dataTable =\n",
       "            await google.colab.kernel.invokeFunction('convertToInteractive',\n",
       "                                                     [key], {});\n",
       "          if (!dataTable) return;\n",
       "\n",
       "          const docLinkHtml = 'Like what you see? Visit the ' +\n",
       "            '<a target=\"_blank\" href=https://colab.research.google.com/notebooks/data_table.ipynb>data table notebook</a>'\n",
       "            + ' to learn more about interactive tables.';\n",
       "          element.innerHTML = '';\n",
       "          dataTable['output_type'] = 'display_data';\n",
       "          await google.colab.output.renderOutput(dataTable, element);\n",
       "          const docLink = document.createElement('div');\n",
       "          docLink.innerHTML = docLinkHtml;\n",
       "          element.appendChild(docLink);\n",
       "        }\n",
       "      </script>\n",
       "    </div>\n",
       "  </div>\n",
       "  "
      ],
      "text/plain": [
       "                            F_scores      P_values\n",
       "Unnamed: 0                                        \n",
       "tim.belden@enron.com        2.519531  7.035980e-03\n",
       "kenneth.lay@enron.com     160.480055  1.110223e-16\n",
       "david.delainey@enron.com    5.298478  3.115803e-07\n",
       "jeff.skilling@enron.com     3.879177  6.363786e-05\n",
       "richard.causey@enron.com    3.847158  7.148362e-05\n",
       "f..calger@enron.com         2.524536  6.922910e-03\n",
       "wes.colwell@enron.com       2.857724  2.302033e-03\n",
       "paula.rieker@enron.com      2.746169  3.343968e-03\n",
       "rice@enron.com              2.171638  2.107459e-02\n",
       "chairman.ken@enron.com      6.054169  1.663144e-08"
      ]
     },
     "execution_count": 31,
     "metadata": {},
     "output_type": "execute_result"
    }
   ],
   "source": [
    "df_multi_comparison[df_multi_comparison.P_values<0.05]"
   ]
  },
  {
   "cell_type": "markdown",
   "metadata": {
    "id": "B8NcahCav4TJ"
   },
   "source": [
    "If we perform multivariate normative comparison we are able to detect 10 addresses from the 31 criminal addresses. These clearly differ from the norm. To get a better idea of the overall performance of multivariate normative comparison we should perform the technique over all samples."
   ]
  },
  {
   "cell_type": "code",
   "execution_count": 32,
   "metadata": {
    "id": "eCRIkOxexGBa"
   },
   "outputs": [],
   "source": [
    "addresses = normalized_features.index.tolist()"
   ]
  },
  {
   "cell_type": "code",
   "execution_count": 33,
   "metadata": {
    "id": "AkZxJUmkwxre"
   },
   "outputs": [],
   "source": [
    "array = np.array(normalized_features.drop(addresses[0]))"
   ]
  },
  {
   "cell_type": "code",
   "execution_count": null,
   "metadata": {
    "id": "5UA2usxA2hkQ"
   },
   "outputs": [],
   "source": [
    "# Create variable\n",
    "f_scores = list()\n",
    "p_values = list()\n",
    "\n",
    "for k in range(len(normalized_features)):\n",
    "  # Get all addresses from the dataframe\n",
    "  addresses = normalized_features.index.tolist()\n",
    "  # Sample to compare with\n",
    "  comparing_sample = addresses[k]\n",
    "  # Remove 1 observation from the dataframe\n",
    "  array = np.array(normalized_features.drop(comparing_sample))\n",
    "  # Calculate the covariance matrix of the the norm\n",
    "  cov_norm = np.cov(array, rowvar=False)\n",
    "  # Calculate the averages of the norm features\n",
    "  mean_norm = np.array(array.mean(axis=0))\n",
    "  # Number of features\n",
    "  p = normalized_features.shape[1]\n",
    "  # Number of samples\n",
    "  n = normalized_features.shape[0]\n",
    "\n",
    "  # loop over all addresses\n",
    "  score = f_test_norm_comparison(x=np.array(normalized_features.loc[comparing_sample]), mean_norm=mean_norm, cov_norm=cov_norm, n=n, p=p)\n",
    "  f_scores.append(score[0])\n",
    "  p_values.append(score[1])\n",
    "\n",
    "  # follow loop\n",
    "  print(k)\n",
    "\n",
    "# Create dataframe\n",
    "df_multi_comparison_all = pd.DataFrame({'F_scores' : f_scores, 'P_values': p_values}, index=normalized_features.index)"
   ]
  },
  {
   "cell_type": "code",
   "execution_count": 36,
   "metadata": {
    "id": "DXrEG-2CySff"
   },
   "outputs": [],
   "source": [
    "# Create dataframe storing the predictions and the actual values\n",
    "df_predictions_mc = pd.concat([df_multi_comparison_all.P_values<0.05, Target_df], axis=1).rename(columns={'P_values':'Predictions'})"
   ]
  },
  {
   "cell_type": "code",
   "execution_count": 37,
   "metadata": {
    "colab": {
     "base_uri": "https://localhost:8080/",
     "height": 455
    },
    "id": "6P80UCIWwOSb",
    "outputId": "13b62e0e-117f-4ab9-e137-f40e6ade6003"
   },
   "outputs": [
    {
     "data": {
      "text/html": [
       "\n",
       "  <div id=\"df-4216cef5-822c-4575-adee-84492a2f5adc\">\n",
       "    <div class=\"colab-df-container\">\n",
       "      <div>\n",
       "<style scoped>\n",
       "    .dataframe tbody tr th:only-of-type {\n",
       "        vertical-align: middle;\n",
       "    }\n",
       "\n",
       "    .dataframe tbody tr th {\n",
       "        vertical-align: top;\n",
       "    }\n",
       "\n",
       "    .dataframe thead th {\n",
       "        text-align: right;\n",
       "    }\n",
       "</style>\n",
       "<table border=\"1\" class=\"dataframe\">\n",
       "  <thead>\n",
       "    <tr style=\"text-align: right;\">\n",
       "      <th></th>\n",
       "      <th>Predictions</th>\n",
       "      <th>Target</th>\n",
       "    </tr>\n",
       "    <tr>\n",
       "      <th>Unnamed: 0</th>\n",
       "      <th></th>\n",
       "      <th></th>\n",
       "    </tr>\n",
       "  </thead>\n",
       "  <tbody>\n",
       "    <tr>\n",
       "      <th>pete.davis@enron.com</th>\n",
       "      <td>False</td>\n",
       "      <td>0</td>\n",
       "    </tr>\n",
       "    <tr>\n",
       "      <th>vince.kaminski@enron.com</th>\n",
       "      <td>True</td>\n",
       "      <td>0</td>\n",
       "    </tr>\n",
       "    <tr>\n",
       "      <th>To_aol.com</th>\n",
       "      <td>False</td>\n",
       "      <td>0</td>\n",
       "    </tr>\n",
       "    <tr>\n",
       "      <th>kay.mann@enron.com</th>\n",
       "      <td>True</td>\n",
       "      <td>0</td>\n",
       "    </tr>\n",
       "    <tr>\n",
       "      <th>suzanne.adams@enron.com</th>\n",
       "      <td>False</td>\n",
       "      <td>0</td>\n",
       "    </tr>\n",
       "    <tr>\n",
       "      <th>...</th>\n",
       "      <td>...</td>\n",
       "      <td>...</td>\n",
       "    </tr>\n",
       "    <tr>\n",
       "      <th>port@enron.com</th>\n",
       "      <td>True</td>\n",
       "      <td>0</td>\n",
       "    </tr>\n",
       "    <tr>\n",
       "      <th>e-mail &lt;.pinnamaneni@enron.com&gt;</th>\n",
       "      <td>True</td>\n",
       "      <td>0</td>\n",
       "    </tr>\n",
       "    <tr>\n",
       "      <th>e-mail &lt;.maureen@enron.com&gt;</th>\n",
       "      <td>True</td>\n",
       "      <td>0</td>\n",
       "    </tr>\n",
       "    <tr>\n",
       "      <th>sara.ray@enron.com</th>\n",
       "      <td>True</td>\n",
       "      <td>0</td>\n",
       "    </tr>\n",
       "    <tr>\n",
       "      <th>hannon@enron.com</th>\n",
       "      <td>False</td>\n",
       "      <td>1</td>\n",
       "    </tr>\n",
       "  </tbody>\n",
       "</table>\n",
       "<p>6533 rows × 2 columns</p>\n",
       "</div>\n",
       "      <button class=\"colab-df-convert\" onclick=\"convertToInteractive('df-4216cef5-822c-4575-adee-84492a2f5adc')\"\n",
       "              title=\"Convert this dataframe to an interactive table.\"\n",
       "              style=\"display:none;\">\n",
       "        \n",
       "  <svg xmlns=\"http://www.w3.org/2000/svg\" height=\"24px\"viewBox=\"0 0 24 24\"\n",
       "       width=\"24px\">\n",
       "    <path d=\"M0 0h24v24H0V0z\" fill=\"none\"/>\n",
       "    <path d=\"M18.56 5.44l.94 2.06.94-2.06 2.06-.94-2.06-.94-.94-2.06-.94 2.06-2.06.94zm-11 1L8.5 8.5l.94-2.06 2.06-.94-2.06-.94L8.5 2.5l-.94 2.06-2.06.94zm10 10l.94 2.06.94-2.06 2.06-.94-2.06-.94-.94-2.06-.94 2.06-2.06.94z\"/><path d=\"M17.41 7.96l-1.37-1.37c-.4-.4-.92-.59-1.43-.59-.52 0-1.04.2-1.43.59L10.3 9.45l-7.72 7.72c-.78.78-.78 2.05 0 2.83L4 21.41c.39.39.9.59 1.41.59.51 0 1.02-.2 1.41-.59l7.78-7.78 2.81-2.81c.8-.78.8-2.07 0-2.86zM5.41 20L4 18.59l7.72-7.72 1.47 1.35L5.41 20z\"/>\n",
       "  </svg>\n",
       "      </button>\n",
       "      \n",
       "  <style>\n",
       "    .colab-df-container {\n",
       "      display:flex;\n",
       "      flex-wrap:wrap;\n",
       "      gap: 12px;\n",
       "    }\n",
       "\n",
       "    .colab-df-convert {\n",
       "      background-color: #E8F0FE;\n",
       "      border: none;\n",
       "      border-radius: 50%;\n",
       "      cursor: pointer;\n",
       "      display: none;\n",
       "      fill: #1967D2;\n",
       "      height: 32px;\n",
       "      padding: 0 0 0 0;\n",
       "      width: 32px;\n",
       "    }\n",
       "\n",
       "    .colab-df-convert:hover {\n",
       "      background-color: #E2EBFA;\n",
       "      box-shadow: 0px 1px 2px rgba(60, 64, 67, 0.3), 0px 1px 3px 1px rgba(60, 64, 67, 0.15);\n",
       "      fill: #174EA6;\n",
       "    }\n",
       "\n",
       "    [theme=dark] .colab-df-convert {\n",
       "      background-color: #3B4455;\n",
       "      fill: #D2E3FC;\n",
       "    }\n",
       "\n",
       "    [theme=dark] .colab-df-convert:hover {\n",
       "      background-color: #434B5C;\n",
       "      box-shadow: 0px 1px 3px 1px rgba(0, 0, 0, 0.15);\n",
       "      filter: drop-shadow(0px 1px 2px rgba(0, 0, 0, 0.3));\n",
       "      fill: #FFFFFF;\n",
       "    }\n",
       "  </style>\n",
       "\n",
       "      <script>\n",
       "        const buttonEl =\n",
       "          document.querySelector('#df-4216cef5-822c-4575-adee-84492a2f5adc button.colab-df-convert');\n",
       "        buttonEl.style.display =\n",
       "          google.colab.kernel.accessAllowed ? 'block' : 'none';\n",
       "\n",
       "        async function convertToInteractive(key) {\n",
       "          const element = document.querySelector('#df-4216cef5-822c-4575-adee-84492a2f5adc');\n",
       "          const dataTable =\n",
       "            await google.colab.kernel.invokeFunction('convertToInteractive',\n",
       "                                                     [key], {});\n",
       "          if (!dataTable) return;\n",
       "\n",
       "          const docLinkHtml = 'Like what you see? Visit the ' +\n",
       "            '<a target=\"_blank\" href=https://colab.research.google.com/notebooks/data_table.ipynb>data table notebook</a>'\n",
       "            + ' to learn more about interactive tables.';\n",
       "          element.innerHTML = '';\n",
       "          dataTable['output_type'] = 'display_data';\n",
       "          await google.colab.output.renderOutput(dataTable, element);\n",
       "          const docLink = document.createElement('div');\n",
       "          docLink.innerHTML = docLinkHtml;\n",
       "          element.appendChild(docLink);\n",
       "        }\n",
       "      </script>\n",
       "    </div>\n",
       "  </div>\n",
       "  "
      ],
      "text/plain": [
       "                                 Predictions  Target\n",
       "Unnamed: 0                                          \n",
       "pete.davis@enron.com                   False       0\n",
       "vince.kaminski@enron.com                True       0\n",
       "To_aol.com                             False       0\n",
       "kay.mann@enron.com                      True       0\n",
       "suzanne.adams@enron.com                False       0\n",
       "...                                      ...     ...\n",
       "port@enron.com                          True       0\n",
       "e-mail <.pinnamaneni@enron.com>         True       0\n",
       "e-mail <.maureen@enron.com>             True       0\n",
       "sara.ray@enron.com                      True       0\n",
       "hannon@enron.com                       False       1\n",
       "\n",
       "[6533 rows x 2 columns]"
      ]
     },
     "execution_count": 37,
     "metadata": {},
     "output_type": "execute_result"
    }
   ],
   "source": [
    "df_predictions_mc"
   ]
  },
  {
   "cell_type": "code",
   "execution_count": 39,
   "metadata": {
    "id": "tMr5XU4WhRfQ"
   },
   "outputs": [],
   "source": [
    "from sklearn.metrics import confusion_matrix\n",
    "import seaborn as sns\n",
    "import matplotlib.pyplot as plt"
   ]
  },
  {
   "cell_type": "code",
   "execution_count": 40,
   "metadata": {
    "colab": {
     "base_uri": "https://localhost:8080/",
     "height": 350
    },
    "id": "6Jl7vDr5hUxm",
    "outputId": "1bc2cba4-f245-4f76-b0b8-5ca7b72ca44b"
   },
   "outputs": [
    {
     "data": {
      "image/png": "[encoded data removed]",
      "text/plain": [
       "<Figure size 360x360 with 2 Axes>"
      ]
     },
     "metadata": {
      "needs_background": "light"
     },
     "output_type": "display_data"
    }
   ],
   "source": [
    "cm = confusion_matrix(df_predictions_mc.Target, df_predictions_mc.Predictions.astype(int))\n",
    "plt.figure(figsize=(5,5))\n",
    "sns.heatmap(cm, annot=True, fmt=\"d\", cmap=\"Blues\")\n",
    "plt.title('Multivariate normative comparison')\n",
    "plt.ylabel('Actual label')\n",
    "plt.xlabel('Predicted label')\n",
    "plt.savefig('/content/drive/MyDrive/Colab Notebooks/files/Confusion_mat_multivariate.png')"
   ]
  },
  {
   "cell_type": "markdown",
   "metadata": {
    "id": "HzXpqemg6k7X"
   },
   "source": [
    "Check the distribution of the features of significantly different cases."
   ]
  },
  {
   "cell_type": "code",
   "execution_count": null,
   "metadata": {
    "colab": {
     "base_uri": "https://localhost:8080/",
     "height": 300
    },
    "id": "EQue4kqP6sPd",
    "outputId": "df0d0910-5bd6-4951-db5d-f0e366853d41"
   },
   "outputs": [
    {
     "data": {
      "text/html": [
       "\n",
       "  <div id=\"df-70fe0546-7bdd-4bec-9394-de14b501b87d\">\n",
       "    <div class=\"colab-df-container\">\n",
       "      <div>\n",
       "<style scoped>\n",
       "    .dataframe tbody tr th:only-of-type {\n",
       "        vertical-align: middle;\n",
       "    }\n",
       "\n",
       "    .dataframe tbody tr th {\n",
       "        vertical-align: top;\n",
       "    }\n",
       "\n",
       "    .dataframe thead th {\n",
       "        text-align: right;\n",
       "    }\n",
       "</style>\n",
       "<table border=\"1\" class=\"dataframe\">\n",
       "  <thead>\n",
       "    <tr style=\"text-align: right;\">\n",
       "      <th></th>\n",
       "      <th>Degree_centrality</th>\n",
       "      <th>Betweenness_centrality</th>\n",
       "      <th>Closeness_centrality</th>\n",
       "      <th>ego_Density</th>\n",
       "      <th>Heavy_vicinity</th>\n",
       "      <th>Dominant_edge</th>\n",
       "      <th>Unwanted_edges</th>\n",
       "      <th>Missing_edges</th>\n",
       "      <th>Mahalanobis</th>\n",
       "    </tr>\n",
       "  </thead>\n",
       "  <tbody>\n",
       "    <tr>\n",
       "      <th>count</th>\n",
       "      <td>631.000000</td>\n",
       "      <td>631.000000</td>\n",
       "      <td>631.000000</td>\n",
       "      <td>631.000000</td>\n",
       "      <td>631.000000</td>\n",
       "      <td>631.000000</td>\n",
       "      <td>631.000000</td>\n",
       "      <td>631.000000</td>\n",
       "      <td>631.000000</td>\n",
       "    </tr>\n",
       "    <tr>\n",
       "      <th>mean</th>\n",
       "      <td>0.941264</td>\n",
       "      <td>0.739586</td>\n",
       "      <td>0.145347</td>\n",
       "      <td>-0.871730</td>\n",
       "      <td>0.703104</td>\n",
       "      <td>0.343559</td>\n",
       "      <td>1.073285</td>\n",
       "      <td>1.329571</td>\n",
       "      <td>1.337493</td>\n",
       "    </tr>\n",
       "    <tr>\n",
       "      <th>std</th>\n",
       "      <td>2.777421</td>\n",
       "      <td>3.085246</td>\n",
       "      <td>1.504434</td>\n",
       "      <td>1.709390</td>\n",
       "      <td>3.024504</td>\n",
       "      <td>1.354012</td>\n",
       "      <td>2.768082</td>\n",
       "      <td>2.524227</td>\n",
       "      <td>2.420400</td>\n",
       "    </tr>\n",
       "    <tr>\n",
       "      <th>min</th>\n",
       "      <td>-0.362521</td>\n",
       "      <td>-0.123694</td>\n",
       "      <td>-4.387925</td>\n",
       "      <td>-3.727807</td>\n",
       "      <td>-0.258626</td>\n",
       "      <td>-2.640871</td>\n",
       "      <td>-0.362295</td>\n",
       "      <td>-0.297454</td>\n",
       "      <td>-0.597460</td>\n",
       "    </tr>\n",
       "    <tr>\n",
       "      <th>25%</th>\n",
       "      <td>-0.362521</td>\n",
       "      <td>-0.123694</td>\n",
       "      <td>-0.640750</td>\n",
       "      <td>-1.629897</td>\n",
       "      <td>-0.219816</td>\n",
       "      <td>-1.004959</td>\n",
       "      <td>-0.362295</td>\n",
       "      <td>-0.297454</td>\n",
       "      <td>-0.505716</td>\n",
       "    </tr>\n",
       "    <tr>\n",
       "      <th>50%</th>\n",
       "      <td>-0.315661</td>\n",
       "      <td>-0.119499</td>\n",
       "      <td>-0.080777</td>\n",
       "      <td>-0.128843</td>\n",
       "      <td>-0.104820</td>\n",
       "      <td>0.559994</td>\n",
       "      <td>-0.291845</td>\n",
       "      <td>-0.297454</td>\n",
       "      <td>-0.367175</td>\n",
       "    </tr>\n",
       "    <tr>\n",
       "      <th>75%</th>\n",
       "      <td>0.855825</td>\n",
       "      <td>0.135284</td>\n",
       "      <td>1.246484</td>\n",
       "      <td>0.489430</td>\n",
       "      <td>0.421298</td>\n",
       "      <td>1.638102</td>\n",
       "      <td>1.645541</td>\n",
       "      <td>3.208707</td>\n",
       "      <td>4.768877</td>\n",
       "    </tr>\n",
       "    <tr>\n",
       "      <th>max</th>\n",
       "      <td>22.083152</td>\n",
       "      <td>39.217404</td>\n",
       "      <td>4.256706</td>\n",
       "      <td>1.200637</td>\n",
       "      <td>37.841331</td>\n",
       "      <td>1.943822</td>\n",
       "      <td>22.111387</td>\n",
       "      <td>10.650875</td>\n",
       "      <td>4.768877</td>\n",
       "    </tr>\n",
       "  </tbody>\n",
       "</table>\n",
       "</div>\n",
       "      <button class=\"colab-df-convert\" onclick=\"convertToInteractive('df-70fe0546-7bdd-4bec-9394-de14b501b87d')\"\n",
       "              title=\"Convert this dataframe to an interactive table.\"\n",
       "              style=\"display:none;\">\n",
       "        \n",
       "  <svg xmlns=\"http://www.w3.org/2000/svg\" height=\"24px\"viewBox=\"0 0 24 24\"\n",
       "       width=\"24px\">\n",
       "    <path d=\"M0 0h24v24H0V0z\" fill=\"none\"/>\n",
       "    <path d=\"M18.56 5.44l.94 2.06.94-2.06 2.06-.94-2.06-.94-.94-2.06-.94 2.06-2.06.94zm-11 1L8.5 8.5l.94-2.06 2.06-.94-2.06-.94L8.5 2.5l-.94 2.06-2.06.94zm10 10l.94 2.06.94-2.06 2.06-.94-2.06-.94-.94-2.06-.94 2.06-2.06.94z\"/><path d=\"M17.41 7.96l-1.37-1.37c-.4-.4-.92-.59-1.43-.59-.52 0-1.04.2-1.43.59L10.3 9.45l-7.72 7.72c-.78.78-.78 2.05 0 2.83L4 21.41c.39.39.9.59 1.41.59.51 0 1.02-.2 1.41-.59l7.78-7.78 2.81-2.81c.8-.78.8-2.07 0-2.86zM5.41 20L4 18.59l7.72-7.72 1.47 1.35L5.41 20z\"/>\n",
       "  </svg>\n",
       "      </button>\n",
       "      \n",
       "  <style>\n",
       "    .colab-df-container {\n",
       "      display:flex;\n",
       "      flex-wrap:wrap;\n",
       "      gap: 12px;\n",
       "    }\n",
       "\n",
       "    .colab-df-convert {\n",
       "      background-color: #E8F0FE;\n",
       "      border: none;\n",
       "      border-radius: 50%;\n",
       "      cursor: pointer;\n",
       "      display: none;\n",
       "      fill: #1967D2;\n",
       "      height: 32px;\n",
       "      padding: 0 0 0 0;\n",
       "      width: 32px;\n",
       "    }\n",
       "\n",
       "    .colab-df-convert:hover {\n",
       "      background-color: #E2EBFA;\n",
       "      box-shadow: 0px 1px 2px rgba(60, 64, 67, 0.3), 0px 1px 3px 1px rgba(60, 64, 67, 0.15);\n",
       "      fill: #174EA6;\n",
       "    }\n",
       "\n",
       "    [theme=dark] .colab-df-convert {\n",
       "      background-color: #3B4455;\n",
       "      fill: #D2E3FC;\n",
       "    }\n",
       "\n",
       "    [theme=dark] .colab-df-convert:hover {\n",
       "      background-color: #434B5C;\n",
       "      box-shadow: 0px 1px 3px 1px rgba(0, 0, 0, 0.15);\n",
       "      filter: drop-shadow(0px 1px 2px rgba(0, 0, 0, 0.3));\n",
       "      fill: #FFFFFF;\n",
       "    }\n",
       "  </style>\n",
       "\n",
       "      <script>\n",
       "        const buttonEl =\n",
       "          document.querySelector('#df-70fe0546-7bdd-4bec-9394-de14b501b87d button.colab-df-convert');\n",
       "        buttonEl.style.display =\n",
       "          google.colab.kernel.accessAllowed ? 'block' : 'none';\n",
       "\n",
       "        async function convertToInteractive(key) {\n",
       "          const element = document.querySelector('#df-70fe0546-7bdd-4bec-9394-de14b501b87d');\n",
       "          const dataTable =\n",
       "            await google.colab.kernel.invokeFunction('convertToInteractive',\n",
       "                                                     [key], {});\n",
       "          if (!dataTable) return;\n",
       "\n",
       "          const docLinkHtml = 'Like what you see? Visit the ' +\n",
       "            '<a target=\"_blank\" href=https://colab.research.google.com/notebooks/data_table.ipynb>data table notebook</a>'\n",
       "            + ' to learn more about interactive tables.';\n",
       "          element.innerHTML = '';\n",
       "          dataTable['output_type'] = 'display_data';\n",
       "          await google.colab.output.renderOutput(dataTable, element);\n",
       "          const docLink = document.createElement('div');\n",
       "          docLink.innerHTML = docLinkHtml;\n",
       "          element.appendChild(docLink);\n",
       "        }\n",
       "      </script>\n",
       "    </div>\n",
       "  </div>\n",
       "  "
      ],
      "text/plain": [
       "       Degree_centrality  Betweenness_centrality  Closeness_centrality  \\\n",
       "count         631.000000              631.000000            631.000000   \n",
       "mean            0.941264                0.739586              0.145347   \n",
       "std             2.777421                3.085246              1.504434   \n",
       "min            -0.362521               -0.123694             -4.387925   \n",
       "25%            -0.362521               -0.123694             -0.640750   \n",
       "50%            -0.315661               -0.119499             -0.080777   \n",
       "75%             0.855825                0.135284              1.246484   \n",
       "max            22.083152               39.217404              4.256706   \n",
       "\n",
       "       ego_Density  Heavy_vicinity  Dominant_edge  Unwanted_edges  \\\n",
       "count   631.000000      631.000000     631.000000      631.000000   \n",
       "mean     -0.871730        0.703104       0.343559        1.073285   \n",
       "std       1.709390        3.024504       1.354012        2.768082   \n",
       "min      -3.727807       -0.258626      -2.640871       -0.362295   \n",
       "25%      -1.629897       -0.219816      -1.004959       -0.362295   \n",
       "50%      -0.128843       -0.104820       0.559994       -0.291845   \n",
       "75%       0.489430        0.421298       1.638102        1.645541   \n",
       "max       1.200637       37.841331       1.943822       22.111387   \n",
       "\n",
       "       Missing_edges  Mahalanobis  \n",
       "count     631.000000   631.000000  \n",
       "mean        1.329571     1.337493  \n",
       "std         2.524227     2.420400  \n",
       "min        -0.297454    -0.597460  \n",
       "25%        -0.297454    -0.505716  \n",
       "50%        -0.297454    -0.367175  \n",
       "75%         3.208707     4.768877  \n",
       "max        10.650875     4.768877  "
      ]
     },
     "execution_count": 124,
     "metadata": {},
     "output_type": "execute_result"
    }
   ],
   "source": [
    "normalized_features.loc[df_predictions_mc.Predictions==True].describe()"
   ]
  },
  {
   "cell_type": "code",
   "execution_count": 220,
   "metadata": {
    "colab": {
     "base_uri": "https://localhost:8080/",
     "height": 781
    },
    "id": "e9RwD3Tvs9K6",
    "outputId": "e9145d35-7147-4c0d-eaf0-d9202dceefa9"
   },
   "outputs": [
    {
     "data": {
      "text/plain": [
       "array([[<matplotlib.axes._subplots.AxesSubplot object at 0x7f785b395d10>,\n",
       "        <matplotlib.axes._subplots.AxesSubplot object at 0x7f785b399fd0>,\n",
       "        <matplotlib.axes._subplots.AxesSubplot object at 0x7f785b3bd110>],\n",
       "       [<matplotlib.axes._subplots.AxesSubplot object at 0x7f785b2ef710>,\n",
       "        <matplotlib.axes._subplots.AxesSubplot object at 0x7f785b26bd10>,\n",
       "        <matplotlib.axes._subplots.AxesSubplot object at 0x7f785b229350>],\n",
       "       [<matplotlib.axes._subplots.AxesSubplot object at 0x7f785b1dbc90>,\n",
       "        <matplotlib.axes._subplots.AxesSubplot object at 0x7f785b11d1d0>,\n",
       "        <matplotlib.axes._subplots.AxesSubplot object at 0x7f785b124690>]],\n",
       "      dtype=object)"
      ]
     },
     "execution_count": 220,
     "metadata": {},
     "output_type": "execute_result"
    },
    {
     "data": {
      "image/png": "[encoded data removed]",
      "text/plain": [
       "<Figure size 720x720 with 9 Axes>"
      ]
     },
     "metadata": {
      "needs_background": "light"
     },
     "output_type": "display_data"
    }
   ],
   "source": [
    "normalized_features.loc[df_predictions_mc.Predictions==True].hist(figsize=(10,10))"
   ]
  },
  {
   "cell_type": "code",
   "execution_count": 221,
   "metadata": {
    "colab": {
     "base_uri": "https://localhost:8080/",
     "height": 300
    },
    "id": "GcQ5OPAktJ8w",
    "outputId": "e27bb04c-955b-409f-fa56-ac7df3852ffc"
   },
   "outputs": [
    {
     "data": {
      "text/html": [
       "\n",
       "  <div id=\"df-158bb88b-8cd7-4fad-98a2-61aa39d7a612\">\n",
       "    <div class=\"colab-df-container\">\n",
       "      <div>\n",
       "<style scoped>\n",
       "    .dataframe tbody tr th:only-of-type {\n",
       "        vertical-align: middle;\n",
       "    }\n",
       "\n",
       "    .dataframe tbody tr th {\n",
       "        vertical-align: top;\n",
       "    }\n",
       "\n",
       "    .dataframe thead th {\n",
       "        text-align: right;\n",
       "    }\n",
       "</style>\n",
       "<table border=\"1\" class=\"dataframe\">\n",
       "  <thead>\n",
       "    <tr style=\"text-align: right;\">\n",
       "      <th></th>\n",
       "      <th>Degree_centrality</th>\n",
       "      <th>Betweenness_centrality</th>\n",
       "      <th>Closeness_centrality</th>\n",
       "      <th>ego_Density</th>\n",
       "      <th>Heavy_vicinity</th>\n",
       "      <th>Dominant_edge</th>\n",
       "      <th>Unwanted_edges</th>\n",
       "      <th>Missing_edges</th>\n",
       "      <th>Mahalanobis</th>\n",
       "    </tr>\n",
       "  </thead>\n",
       "  <tbody>\n",
       "    <tr>\n",
       "      <th>count</th>\n",
       "      <td>5902.000000</td>\n",
       "      <td>5902.000000</td>\n",
       "      <td>5902.000000</td>\n",
       "      <td>5902.000000</td>\n",
       "      <td>5902.000000</td>\n",
       "      <td>5902.000000</td>\n",
       "      <td>5902.000000</td>\n",
       "      <td>5902.000000</td>\n",
       "      <td>5902.000000</td>\n",
       "    </tr>\n",
       "    <tr>\n",
       "      <th>mean</th>\n",
       "      <td>-0.100633</td>\n",
       "      <td>-0.079071</td>\n",
       "      <td>-0.015539</td>\n",
       "      <td>0.093199</td>\n",
       "      <td>-0.075171</td>\n",
       "      <td>-0.036731</td>\n",
       "      <td>-0.114748</td>\n",
       "      <td>-0.142148</td>\n",
       "      <td>-0.142995</td>\n",
       "    </tr>\n",
       "    <tr>\n",
       "      <th>std</th>\n",
       "      <td>0.422691</td>\n",
       "      <td>0.161621</td>\n",
       "      <td>0.928959</td>\n",
       "      <td>0.839760</td>\n",
       "      <td>0.268277</td>\n",
       "      <td>0.947311</td>\n",
       "      <td>0.390789</td>\n",
       "      <td>0.466484</td>\n",
       "      <td>0.519535</td>\n",
       "    </tr>\n",
       "    <tr>\n",
       "      <th>min</th>\n",
       "      <td>-0.362521</td>\n",
       "      <td>-0.123694</td>\n",
       "      <td>-2.822429</td>\n",
       "      <td>-3.727807</td>\n",
       "      <td>-0.263829</td>\n",
       "      <td>-2.908597</td>\n",
       "      <td>-0.362295</td>\n",
       "      <td>-0.297454</td>\n",
       "      <td>-0.606592</td>\n",
       "    </tr>\n",
       "    <tr>\n",
       "      <th>25%</th>\n",
       "      <td>-0.315661</td>\n",
       "      <td>-0.123565</td>\n",
       "      <td>-0.603785</td>\n",
       "      <td>-0.305607</td>\n",
       "      <td>-0.201136</td>\n",
       "      <td>-0.775358</td>\n",
       "      <td>-0.315328</td>\n",
       "      <td>-0.297454</td>\n",
       "      <td>-0.455325</td>\n",
       "    </tr>\n",
       "    <tr>\n",
       "      <th>50%</th>\n",
       "      <td>-0.268802</td>\n",
       "      <td>-0.120902</td>\n",
       "      <td>0.021273</td>\n",
       "      <td>0.274315</td>\n",
       "      <td>-0.159095</td>\n",
       "      <td>-0.121421</td>\n",
       "      <td>-0.268361</td>\n",
       "      <td>-0.297454</td>\n",
       "      <td>-0.345071</td>\n",
       "    </tr>\n",
       "    <tr>\n",
       "      <th>75%</th>\n",
       "      <td>-0.081364</td>\n",
       "      <td>-0.104219</td>\n",
       "      <td>0.596848</td>\n",
       "      <td>0.663993</td>\n",
       "      <td>-0.076765</td>\n",
       "      <td>0.685312</td>\n",
       "      <td>-0.103977</td>\n",
       "      <td>-0.297454</td>\n",
       "      <td>-0.057557</td>\n",
       "    </tr>\n",
       "    <tr>\n",
       "      <th>max</th>\n",
       "      <td>3.292516</td>\n",
       "      <td>3.356391</td>\n",
       "      <td>2.880166</td>\n",
       "      <td>1.476565</td>\n",
       "      <td>3.017551</td>\n",
       "      <td>1.943822</td>\n",
       "      <td>3.277643</td>\n",
       "      <td>3.374453</td>\n",
       "      <td>2.151495</td>\n",
       "    </tr>\n",
       "  </tbody>\n",
       "</table>\n",
       "</div>\n",
       "      <button class=\"colab-df-convert\" onclick=\"convertToInteractive('df-158bb88b-8cd7-4fad-98a2-61aa39d7a612')\"\n",
       "              title=\"Convert this dataframe to an interactive table.\"\n",
       "              style=\"display:none;\">\n",
       "        \n",
       "  <svg xmlns=\"http://www.w3.org/2000/svg\" height=\"24px\"viewBox=\"0 0 24 24\"\n",
       "       width=\"24px\">\n",
       "    <path d=\"M0 0h24v24H0V0z\" fill=\"none\"/>\n",
       "    <path d=\"M18.56 5.44l.94 2.06.94-2.06 2.06-.94-2.06-.94-.94-2.06-.94 2.06-2.06.94zm-11 1L8.5 8.5l.94-2.06 2.06-.94-2.06-.94L8.5 2.5l-.94 2.06-2.06.94zm10 10l.94 2.06.94-2.06 2.06-.94-2.06-.94-.94-2.06-.94 2.06-2.06.94z\"/><path d=\"M17.41 7.96l-1.37-1.37c-.4-.4-.92-.59-1.43-.59-.52 0-1.04.2-1.43.59L10.3 9.45l-7.72 7.72c-.78.78-.78 2.05 0 2.83L4 21.41c.39.39.9.59 1.41.59.51 0 1.02-.2 1.41-.59l7.78-7.78 2.81-2.81c.8-.78.8-2.07 0-2.86zM5.41 20L4 18.59l7.72-7.72 1.47 1.35L5.41 20z\"/>\n",
       "  </svg>\n",
       "      </button>\n",
       "      \n",
       "  <style>\n",
       "    .colab-df-container {\n",
       "      display:flex;\n",
       "      flex-wrap:wrap;\n",
       "      gap: 12px;\n",
       "    }\n",
       "\n",
       "    .colab-df-convert {\n",
       "      background-color: #E8F0FE;\n",
       "      border: none;\n",
       "      border-radius: 50%;\n",
       "      cursor: pointer;\n",
       "      display: none;\n",
       "      fill: #1967D2;\n",
       "      height: 32px;\n",
       "      padding: 0 0 0 0;\n",
       "      width: 32px;\n",
       "    }\n",
       "\n",
       "    .colab-df-convert:hover {\n",
       "      background-color: #E2EBFA;\n",
       "      box-shadow: 0px 1px 2px rgba(60, 64, 67, 0.3), 0px 1px 3px 1px rgba(60, 64, 67, 0.15);\n",
       "      fill: #174EA6;\n",
       "    }\n",
       "\n",
       "    [theme=dark] .colab-df-convert {\n",
       "      background-color: #3B4455;\n",
       "      fill: #D2E3FC;\n",
       "    }\n",
       "\n",
       "    [theme=dark] .colab-df-convert:hover {\n",
       "      background-color: #434B5C;\n",
       "      box-shadow: 0px 1px 3px 1px rgba(0, 0, 0, 0.15);\n",
       "      filter: drop-shadow(0px 1px 2px rgba(0, 0, 0, 0.3));\n",
       "      fill: #FFFFFF;\n",
       "    }\n",
       "  </style>\n",
       "\n",
       "      <script>\n",
       "        const buttonEl =\n",
       "          document.querySelector('#df-158bb88b-8cd7-4fad-98a2-61aa39d7a612 button.colab-df-convert');\n",
       "        buttonEl.style.display =\n",
       "          google.colab.kernel.accessAllowed ? 'block' : 'none';\n",
       "\n",
       "        async function convertToInteractive(key) {\n",
       "          const element = document.querySelector('#df-158bb88b-8cd7-4fad-98a2-61aa39d7a612');\n",
       "          const dataTable =\n",
       "            await google.colab.kernel.invokeFunction('convertToInteractive',\n",
       "                                                     [key], {});\n",
       "          if (!dataTable) return;\n",
       "\n",
       "          const docLinkHtml = 'Like what you see? Visit the ' +\n",
       "            '<a target=\"_blank\" href=https://colab.research.google.com/notebooks/data_table.ipynb>data table notebook</a>'\n",
       "            + ' to learn more about interactive tables.';\n",
       "          element.innerHTML = '';\n",
       "          dataTable['output_type'] = 'display_data';\n",
       "          await google.colab.output.renderOutput(dataTable, element);\n",
       "          const docLink = document.createElement('div');\n",
       "          docLink.innerHTML = docLinkHtml;\n",
       "          element.appendChild(docLink);\n",
       "        }\n",
       "      </script>\n",
       "    </div>\n",
       "  </div>\n",
       "  "
      ],
      "text/plain": [
       "       Degree_centrality  Betweenness_centrality  Closeness_centrality  \\\n",
       "count        5902.000000             5902.000000           5902.000000   \n",
       "mean           -0.100633               -0.079071             -0.015539   \n",
       "std             0.422691                0.161621              0.928959   \n",
       "min            -0.362521               -0.123694             -2.822429   \n",
       "25%            -0.315661               -0.123565             -0.603785   \n",
       "50%            -0.268802               -0.120902              0.021273   \n",
       "75%            -0.081364               -0.104219              0.596848   \n",
       "max             3.292516                3.356391              2.880166   \n",
       "\n",
       "       ego_Density  Heavy_vicinity  Dominant_edge  Unwanted_edges  \\\n",
       "count  5902.000000     5902.000000    5902.000000     5902.000000   \n",
       "mean      0.093199       -0.075171      -0.036731       -0.114748   \n",
       "std       0.839760        0.268277       0.947311        0.390789   \n",
       "min      -3.727807       -0.263829      -2.908597       -0.362295   \n",
       "25%      -0.305607       -0.201136      -0.775358       -0.315328   \n",
       "50%       0.274315       -0.159095      -0.121421       -0.268361   \n",
       "75%       0.663993       -0.076765       0.685312       -0.103977   \n",
       "max       1.476565        3.017551       1.943822        3.277643   \n",
       "\n",
       "       Missing_edges  Mahalanobis  \n",
       "count    5902.000000  5902.000000  \n",
       "mean       -0.142148    -0.142995  \n",
       "std         0.466484     0.519535  \n",
       "min        -0.297454    -0.606592  \n",
       "25%        -0.297454    -0.455325  \n",
       "50%        -0.297454    -0.345071  \n",
       "75%        -0.297454    -0.057557  \n",
       "max         3.374453     2.151495  "
      ]
     },
     "execution_count": 221,
     "metadata": {},
     "output_type": "execute_result"
    }
   ],
   "source": [
    "normalized_features.loc[df_predictions_mc.Predictions==False].describe()"
   ]
  },
  {
   "cell_type": "code",
   "execution_count": 222,
   "metadata": {
    "colab": {
     "base_uri": "https://localhost:8080/",
     "height": 781
    },
    "id": "8ZwRbSD9tJ8x",
    "outputId": "5c53d030-1657-4d22-fe74-c5c6d39ceec7"
   },
   "outputs": [
    {
     "data": {
      "text/plain": [
       "array([[<matplotlib.axes._subplots.AxesSubplot object at 0x7f785a9ce190>,\n",
       "        <matplotlib.axes._subplots.AxesSubplot object at 0x7f785a9fa3d0>,\n",
       "        <matplotlib.axes._subplots.AxesSubplot object at 0x7f785a9617d0>],\n",
       "       [<matplotlib.axes._subplots.AxesSubplot object at 0x7f785a911cd0>,\n",
       "        <matplotlib.axes._subplots.AxesSubplot object at 0x7f785a851210>,\n",
       "        <matplotlib.axes._subplots.AxesSubplot object at 0x7f785a803710>],\n",
       "       [<matplotlib.axes._subplots.AxesSubplot object at 0x7f785a838c10>,\n",
       "        <matplotlib.axes._subplots.AxesSubplot object at 0x7f785a6b8150>,\n",
       "        <matplotlib.axes._subplots.AxesSubplot object at 0x7f785a601610>]],\n",
       "      dtype=object)"
      ]
     },
     "execution_count": 222,
     "metadata": {},
     "output_type": "execute_result"
    },
    {
     "data": {
      "image/png": "[encoded data removed]",
      "text/plain": [
       "<Figure size 720x720 with 9 Axes>"
      ]
     },
     "metadata": {
      "needs_background": "light"
     },
     "output_type": "display_data"
    }
   ],
   "source": [
    "normalized_features.loc[df_predictions_mc.Predictions==False].hist(figsize=(10,10))"
   ]
  },
  {
   "cell_type": "markdown",
   "metadata": {
    "id": "O4pH-jU4tXbA"
   },
   "source": [
    "Next, we will perform a t-test and test for effectsizes for the different features between the different groups."
   ]
  },
  {
   "cell_type": "code",
   "execution_count": 46,
   "metadata": {
    "id": "cqA-FWjXtjui"
   },
   "outputs": [],
   "source": [
    "def t_test(feature):\n",
    "  x1 = df_non_crim[feature]\n",
    "  x2 = df_crim[feature]\n",
    "  mean_difference = np.mean(x1) - np.mean(x2)\n",
    "  pooled_variance = (((len(x1)-1)*np.var(x1)) + ((len(x2)-1)*np.var(x2)))/(len(x1)+len(x2)-2)\n",
    "  t_stat = mean_difference/(pooled_variance*np.sqrt((1/len(x1))+(1/len(x2))))\n",
    "\n",
    "  return t_stat"
   ]
  },
  {
   "cell_type": "code",
   "execution_count": 47,
   "metadata": {
    "colab": {
     "base_uri": "https://localhost:8080/",
     "height": 0
    },
    "id": "sS-Bv-E8wVQP",
    "outputId": "61396eab-3fbf-4283-eab2-1a60a019fb8b"
   },
   "outputs": [
    {
     "data": {
      "text/plain": [
       "-7.770844258227594"
      ]
     },
     "execution_count": 47,
     "metadata": {},
     "output_type": "execute_result"
    }
   ],
   "source": [
    "t_test('Degree_centrality')"
   ]
  },
  {
   "cell_type": "code",
   "execution_count": 48,
   "metadata": {
    "id": "4kyi0gQYw50S"
   },
   "outputs": [],
   "source": [
    "from scipy import stats"
   ]
  },
  {
   "cell_type": "code",
   "execution_count": 49,
   "metadata": {
    "id": "n8OBKMKZw6xS"
   },
   "outputs": [],
   "source": [
    "t_stat = []\n",
    "t_test_p_val = []\n",
    "\n",
    "# Loop\n",
    "for feature in df_non_crim.columns.tolist():\n",
    "  stat = stats.ttest_ind(df_non_crim[feature],df_crim[feature])[0]\n",
    "  t_p_val = stats.ttest_ind(df_non_crim[feature],df_crim[feature])[1]\n",
    "  t_stat.append(stat)\n",
    "  t_test_p_val.append(t_p_val)"
   ]
  },
  {
   "cell_type": "markdown",
   "metadata": {
    "id": "NMcd2r7EyAU9"
   },
   "source": [
    "Finally, we will calculate the effect sizes."
   ]
  },
  {
   "cell_type": "code",
   "execution_count": 50,
   "metadata": {
    "id": "BUpcnHDWyFPV"
   },
   "outputs": [],
   "source": [
    "# function to calculate Cohen's d for independent samples\n",
    "def cohend(d1, d2):\n",
    "\t# calculate the size of samples\n",
    "\tn1, n2 = len(d1), len(d2)\n",
    "\t# calculate the variance of the samples\n",
    "\ts1, s2 = np.var(d1, ddof=1), np.var(d2, ddof=1)\n",
    "\t# calculate the pooled standard deviation\n",
    "\ts = np.sqrt(((n1 - 1) * s1 + (n2 - 1) * s2) / (n1 + n2 - 2))\n",
    "\t# calculate the means of the samples\n",
    "\tu1, u2 = np.mean(d1), np.mean(d2)\n",
    "\t# calculate the effect size\n",
    "\treturn (u1 - u2) / s"
   ]
  },
  {
   "cell_type": "code",
   "execution_count": 51,
   "metadata": {
    "id": "yzT1Avqnys8I"
   },
   "outputs": [],
   "source": [
    "Effect_sizes = []\n",
    "\n",
    "# Loop\n",
    "for feature in df_non_crim.columns.tolist():\n",
    "  d = cohend(df_non_crim[feature], df_crim[feature])\n",
    "  Effect_sizes.append(d)"
   ]
  },
  {
   "cell_type": "code",
   "execution_count": 52,
   "metadata": {
    "id": "Ns9b7I6dzjQO"
   },
   "outputs": [],
   "source": [
    "group_comparison = pd.DataFrame({'T_statistic':t_stat, 'P_value':t_test_p_val, 'Effect_size':Effect_sizes}, index=df_non_crim.columns)"
   ]
  },
  {
   "cell_type": "code",
   "execution_count": 53,
   "metadata": {
    "colab": {
     "base_uri": "https://localhost:8080/",
     "height": 332
    },
    "id": "RHgTo8Ii69Mw",
    "outputId": "733fa20f-0db9-4528-82f2-050e4f1b1b99"
   },
   "outputs": [
    {
     "data": {
      "text/html": [
       "\n",
       "  <div id=\"df-ecbf8b81-dcd3-4b7c-8eda-dcec4ae9437d\">\n",
       "    <div class=\"colab-df-container\">\n",
       "      <div>\n",
       "<style scoped>\n",
       "    .dataframe tbody tr th:only-of-type {\n",
       "        vertical-align: middle;\n",
       "    }\n",
       "\n",
       "    .dataframe tbody tr th {\n",
       "        vertical-align: top;\n",
       "    }\n",
       "\n",
       "    .dataframe thead th {\n",
       "        text-align: right;\n",
       "    }\n",
       "</style>\n",
       "<table border=\"1\" class=\"dataframe\">\n",
       "  <thead>\n",
       "    <tr style=\"text-align: right;\">\n",
       "      <th></th>\n",
       "      <th>T_statistic</th>\n",
       "      <th>P_value</th>\n",
       "      <th>Effect_size</th>\n",
       "    </tr>\n",
       "  </thead>\n",
       "  <tbody>\n",
       "    <tr>\n",
       "      <th>Degree_centrality</th>\n",
       "      <td>-7.720699</td>\n",
       "      <td>1.330392e-14</td>\n",
       "      <td>-1.389980</td>\n",
       "    </tr>\n",
       "    <tr>\n",
       "      <th>Betweenness_centrality</th>\n",
       "      <td>-6.890776</td>\n",
       "      <td>6.068274e-12</td>\n",
       "      <td>-1.240567</td>\n",
       "    </tr>\n",
       "    <tr>\n",
       "      <th>Closeness_centrality</th>\n",
       "      <td>-7.281086</td>\n",
       "      <td>3.700219e-13</td>\n",
       "      <td>-1.310835</td>\n",
       "    </tr>\n",
       "    <tr>\n",
       "      <th>ego_Density</th>\n",
       "      <td>-1.426928</td>\n",
       "      <td>1.536484e-01</td>\n",
       "      <td>-0.256894</td>\n",
       "    </tr>\n",
       "    <tr>\n",
       "      <th>Heavy_vicinity</th>\n",
       "      <td>1.123971</td>\n",
       "      <td>2.610667e-01</td>\n",
       "      <td>0.202352</td>\n",
       "    </tr>\n",
       "    <tr>\n",
       "      <th>Dominant_edge</th>\n",
       "      <td>4.643279</td>\n",
       "      <td>3.496322e-06</td>\n",
       "      <td>0.835943</td>\n",
       "    </tr>\n",
       "    <tr>\n",
       "      <th>Unwanted_edges</th>\n",
       "      <td>-5.485665</td>\n",
       "      <td>4.273678e-08</td>\n",
       "      <td>-0.987601</td>\n",
       "    </tr>\n",
       "    <tr>\n",
       "      <th>Missing_edges</th>\n",
       "      <td>-4.074325</td>\n",
       "      <td>4.669453e-05</td>\n",
       "      <td>-0.733513</td>\n",
       "    </tr>\n",
       "    <tr>\n",
       "      <th>Mahalanobis</th>\n",
       "      <td>1.441885</td>\n",
       "      <td>1.493827e-01</td>\n",
       "      <td>0.259587</td>\n",
       "    </tr>\n",
       "  </tbody>\n",
       "</table>\n",
       "</div>\n",
       "      <button class=\"colab-df-convert\" onclick=\"convertToInteractive('df-ecbf8b81-dcd3-4b7c-8eda-dcec4ae9437d')\"\n",
       "              title=\"Convert this dataframe to an interactive table.\"\n",
       "              style=\"display:none;\">\n",
       "        \n",
       "  <svg xmlns=\"http://www.w3.org/2000/svg\" height=\"24px\"viewBox=\"0 0 24 24\"\n",
       "       width=\"24px\">\n",
       "    <path d=\"M0 0h24v24H0V0z\" fill=\"none\"/>\n",
       "    <path d=\"M18.56 5.44l.94 2.06.94-2.06 2.06-.94-2.06-.94-.94-2.06-.94 2.06-2.06.94zm-11 1L8.5 8.5l.94-2.06 2.06-.94-2.06-.94L8.5 2.5l-.94 2.06-2.06.94zm10 10l.94 2.06.94-2.06 2.06-.94-2.06-.94-.94-2.06-.94 2.06-2.06.94z\"/><path d=\"M17.41 7.96l-1.37-1.37c-.4-.4-.92-.59-1.43-.59-.52 0-1.04.2-1.43.59L10.3 9.45l-7.72 7.72c-.78.78-.78 2.05 0 2.83L4 21.41c.39.39.9.59 1.41.59.51 0 1.02-.2 1.41-.59l7.78-7.78 2.81-2.81c.8-.78.8-2.07 0-2.86zM5.41 20L4 18.59l7.72-7.72 1.47 1.35L5.41 20z\"/>\n",
       "  </svg>\n",
       "      </button>\n",
       "      \n",
       "  <style>\n",
       "    .colab-df-container {\n",
       "      display:flex;\n",
       "      flex-wrap:wrap;\n",
       "      gap: 12px;\n",
       "    }\n",
       "\n",
       "    .colab-df-convert {\n",
       "      background-color: #E8F0FE;\n",
       "      border: none;\n",
       "      border-radius: 50%;\n",
       "      cursor: pointer;\n",
       "      display: none;\n",
       "      fill: #1967D2;\n",
       "      height: 32px;\n",
       "      padding: 0 0 0 0;\n",
       "      width: 32px;\n",
       "    }\n",
       "\n",
       "    .colab-df-convert:hover {\n",
       "      background-color: #E2EBFA;\n",
       "      box-shadow: 0px 1px 2px rgba(60, 64, 67, 0.3), 0px 1px 3px 1px rgba(60, 64, 67, 0.15);\n",
       "      fill: #174EA6;\n",
       "    }\n",
       "\n",
       "    [theme=dark] .colab-df-convert {\n",
       "      background-color: #3B4455;\n",
       "      fill: #D2E3FC;\n",
       "    }\n",
       "\n",
       "    [theme=dark] .colab-df-convert:hover {\n",
       "      background-color: #434B5C;\n",
       "      box-shadow: 0px 1px 3px 1px rgba(0, 0, 0, 0.15);\n",
       "      filter: drop-shadow(0px 1px 2px rgba(0, 0, 0, 0.3));\n",
       "      fill: #FFFFFF;\n",
       "    }\n",
       "  </style>\n",
       "\n",
       "      <script>\n",
       "        const buttonEl =\n",
       "          document.querySelector('#df-ecbf8b81-dcd3-4b7c-8eda-dcec4ae9437d button.colab-df-convert');\n",
       "        buttonEl.style.display =\n",
       "          google.colab.kernel.accessAllowed ? 'block' : 'none';\n",
       "\n",
       "        async function convertToInteractive(key) {\n",
       "          const element = document.querySelector('#df-ecbf8b81-dcd3-4b7c-8eda-dcec4ae9437d');\n",
       "          const dataTable =\n",
       "            await google.colab.kernel.invokeFunction('convertToInteractive',\n",
       "                                                     [key], {});\n",
       "          if (!dataTable) return;\n",
       "\n",
       "          const docLinkHtml = 'Like what you see? Visit the ' +\n",
       "            '<a target=\"_blank\" href=https://colab.research.google.com/notebooks/data_table.ipynb>data table notebook</a>'\n",
       "            + ' to learn more about interactive tables.';\n",
       "          element.innerHTML = '';\n",
       "          dataTable['output_type'] = 'display_data';\n",
       "          await google.colab.output.renderOutput(dataTable, element);\n",
       "          const docLink = document.createElement('div');\n",
       "          docLink.innerHTML = docLinkHtml;\n",
       "          element.appendChild(docLink);\n",
       "        }\n",
       "      </script>\n",
       "    </div>\n",
       "  </div>\n",
       "  "
      ],
      "text/plain": [
       "                        T_statistic       P_value  Effect_size\n",
       "Degree_centrality         -7.720699  1.330392e-14    -1.389980\n",
       "Betweenness_centrality    -6.890776  6.068274e-12    -1.240567\n",
       "Closeness_centrality      -7.281086  3.700219e-13    -1.310835\n",
       "ego_Density               -1.426928  1.536484e-01    -0.256894\n",
       "Heavy_vicinity             1.123971  2.610667e-01     0.202352\n",
       "Dominant_edge              4.643279  3.496322e-06     0.835943\n",
       "Unwanted_edges            -5.485665  4.273678e-08    -0.987601\n",
       "Missing_edges             -4.074325  4.669453e-05    -0.733513\n",
       "Mahalanobis                1.441885  1.493827e-01     0.259587"
      ]
     },
     "execution_count": 53,
     "metadata": {},
     "output_type": "execute_result"
    }
   ],
   "source": [
    "group_comparison"
   ]
  },
  {
   "cell_type": "markdown",
   "metadata": {
    "id": "a8RIyZsOQ3jY"
   },
   "source": [
    "# 7. Graph convolutional network\n",
    "\n",
    "In the final step of the process we combine our feature matrix, created in section 5 with our created graphs built in section 3 and 4. We will use a graph convolutional network to combine the strength of convulational networks with message passing in graphs to try to detect fraudulent email addresses. \n",
    "\n",
    "Convolutional networks give us the advantage to gather information from its neighbours. In the context of a graph this can be seen as message passing."
   ]
  },
  {
   "cell_type": "markdown",
   "metadata": {
    "id": "ZuCmzsJu9R9K"
   },
   "source": [
    "**Building the network**"
   ]
  },
  {
   "cell_type": "code",
   "execution_count": 40,
   "metadata": {
    "id": "eSfi1IRKtCNa"
   },
   "outputs": [],
   "source": [
    "import os\n",
    "\n",
    "import stellargraph\n",
    "from stellargraph.mapper import FullBatchNodeGenerator\n",
    "from stellargraph.layer import GCN\n",
    "from stellargraph.core.graph import StellarGraph\n",
    "\n",
    "import tensorflow\n",
    "from tensorflow import keras\n",
    "from tensorflow.keras import layers, optimizers, losses, metrics, Model\n",
    "from sklearn import preprocessing, model_selection"
   ]
  },
  {
   "cell_type": "markdown",
   "metadata": {
    "id": "ext-R_bCHD9p"
   },
   "source": [
    "In the first few lines of code we start with transforming our graph to a graph that can be read by the stellargraph package"
   ]
  },
  {
   "cell_type": "code",
   "execution_count": null,
   "metadata": {
    "id": "8gyM5HNbS0cg"
   },
   "outputs": [],
   "source": [
    "# Make a copy of the original graph\n",
    "g = G_Conn.copy()"
   ]
  },
  {
   "cell_type": "code",
   "execution_count": null,
   "metadata": {
    "id": "7I6joRzxmcrH"
   },
   "outputs": [],
   "source": [
    "# Make a copy of the original graph\n",
    "g_weight = G_int.copy()"
   ]
  },
  {
   "cell_type": "code",
   "execution_count": null,
   "metadata": {
    "id": "0JF23V7cPkIF"
   },
   "outputs": [],
   "source": [
    "# Create graph\n",
    "UnWeighted_network = StellarGraph.from_networkx(\n",
    "    g, node_features=normalized_features\n",
    ")"
   ]
  },
  {
   "cell_type": "code",
   "execution_count": null,
   "metadata": {
    "id": "7FhcljqBmh3N"
   },
   "outputs": [],
   "source": [
    "# Create graph\n",
    "Weighted_network = StellarGraph.from_networkx(\n",
    "    g_weight, node_features=normalized_features\n",
    ")"
   ]
  },
  {
   "cell_type": "code",
   "execution_count": null,
   "metadata": {
    "colab": {
     "base_uri": "https://localhost:8080/"
    },
    "id": "UQC7FmMeSoDi",
    "outputId": "02e32594-e2e0-467d-9d34-96818ee53e67"
   },
   "outputs": [
    {
     "name": "stdout",
     "output_type": "stream",
     "text": [
      "StellarGraph: Undirected multigraph\n",
      " Nodes: 6533, Edges: 53808\n",
      "\n",
      " Node types:\n",
      "  default: [6533]\n",
      "    Features: float32 vector, length 9\n",
      "    Edge types: default-default->default\n",
      "\n",
      " Edge types:\n",
      "    default-default->default: [53808]\n",
      "        Weights: all 1 (default)\n",
      "        Features: none\n"
     ]
    }
   ],
   "source": [
    "# Print out the info\n",
    "print(UnWeighted_network.info())"
   ]
  },
  {
   "cell_type": "code",
   "execution_count": null,
   "metadata": {
    "colab": {
     "base_uri": "https://localhost:8080/"
    },
    "id": "lNL8WraEmrRa",
    "outputId": "ae45b07e-0638-4ea2-81ee-23e3c9547a2f"
   },
   "outputs": [
    {
     "name": "stdout",
     "output_type": "stream",
     "text": [
      "StellarGraph: Undirected multigraph\n",
      " Nodes: 6533, Edges: 53808\n",
      "\n",
      " Node types:\n",
      "  default: [6533]\n",
      "    Features: float32 vector, length 9\n",
      "    Edge types: default-default->default\n",
      "\n",
      " Edge types:\n",
      "    default-default->default: [53808]\n",
      "        Weights: range=[2, 2413], mean=12.0481, std=34.2435\n",
      "        Features: none\n"
     ]
    }
   ],
   "source": [
    "# Print out the info\n",
    "print(Weighted_network.info())"
   ]
  },
  {
   "cell_type": "markdown",
   "metadata": {
    "id": "h2Z0Qk2gV3Rx"
   },
   "source": [
    "In the next steps we will split the data into a train, test and validation set."
   ]
  },
  {
   "cell_type": "code",
   "execution_count": null,
   "metadata": {
    "id": "L7xIQgqdV_fa"
   },
   "outputs": [],
   "source": [
    "# Compute train, validation and test dataset\n",
    "train_subjects, test_subjects = model_selection.train_test_split(\n",
    "    Target_df, train_size=2000, test_size=None, stratify=Target_df\n",
    ")\n",
    "val_subjects, test_subjects = model_selection.train_test_split(\n",
    "    test_subjects, train_size=2500, test_size=None, stratify=test_subjects\n",
    ")"
   ]
  },
  {
   "cell_type": "markdown",
   "metadata": {
    "id": "cCStAKA094fU"
   },
   "source": [
    "No that we have split the data into a train, validation and test set we will take a closer look into which individuals and how many are part of each set."
   ]
  },
  {
   "cell_type": "code",
   "execution_count": null,
   "metadata": {
    "colab": {
     "base_uri": "https://localhost:8080/"
    },
    "id": "AY5owlgUb6QU",
    "outputId": "9e8491fe-e0de-4c64-86d0-38751ff0c296"
   },
   "outputs": [
    {
     "data": {
      "text/plain": [
       "Target\n",
       "0         1991\n",
       "1            9\n",
       "dtype: int64"
      ]
     },
     "execution_count": 33,
     "metadata": {},
     "output_type": "execute_result"
    }
   ],
   "source": [
    "train_subjects.value_counts()"
   ]
  },
  {
   "cell_type": "code",
   "execution_count": null,
   "metadata": {
    "colab": {
     "base_uri": "https://localhost:8080/"
    },
    "id": "wuZuIZNR8-co",
    "outputId": "12ea339b-cc4e-4430-bcb6-4bc2502048ef"
   },
   "outputs": [
    {
     "data": {
      "text/plain": [
       "['jeff.richter@enron.com',\n",
       " 'hannon@enron.com',\n",
       " 'wes.colwell@enron.com',\n",
       " 'ken.rice@enron.com',\n",
       " 'rice@enron.com',\n",
       " 'larry.lawyer@enron.com',\n",
       " 'paula.rieker@enron.com',\n",
       " 'ben.glisan@enron.com',\n",
       " 'andrew.fastow@enron.com']"
      ]
     },
     "execution_count": 34,
     "metadata": {},
     "output_type": "execute_result"
    }
   ],
   "source": [
    "train_subjects[train_subjects.Target==1].index.tolist()"
   ]
  },
  {
   "cell_type": "code",
   "execution_count": null,
   "metadata": {
    "colab": {
     "base_uri": "https://localhost:8080/"
    },
    "id": "ZxOGv4AXW24h",
    "outputId": "77c52445-3279-453b-c0b0-a01e4b25c5fc"
   },
   "outputs": [
    {
     "data": {
      "text/plain": [
       "Target\n",
       "0         2488\n",
       "1           12\n",
       "dtype: int64"
      ]
     },
     "execution_count": 35,
     "metadata": {},
     "output_type": "execute_result"
    }
   ],
   "source": [
    "val_subjects.value_counts()"
   ]
  },
  {
   "cell_type": "code",
   "execution_count": null,
   "metadata": {
    "colab": {
     "base_uri": "https://localhost:8080/"
    },
    "id": "OqJhHv8h9qf9",
    "outputId": "b982bda0-6b35-4103-d1de-7e1f163489c7"
   },
   "outputs": [
    {
     "data": {
      "text/plain": [
       "['raymond.bowen@enron.com',\n",
       " 'dan.boyle@enron.com',\n",
       " 'david.delainey@enron.com',\n",
       " 'belden@enron.com',\n",
       " 'chairman.ken@enron.com',\n",
       " 'jskilli@enron.com',\n",
       " 'richard.causey@enron.com',\n",
       " 'f..calger@enron.com',\n",
       " 'a..howard@enron.com',\n",
       " 'rex.shelby@enron.com',\n",
       " 'mark.koenig@enron.com',\n",
       " 'kevin.hannon@enron.com']"
      ]
     },
     "execution_count": 36,
     "metadata": {},
     "output_type": "execute_result"
    }
   ],
   "source": [
    "val_subjects[val_subjects.Target==1].index.tolist()"
   ]
  },
  {
   "cell_type": "code",
   "execution_count": null,
   "metadata": {
    "colab": {
     "base_uri": "https://localhost:8080/"
    },
    "id": "kz94aHrrW64K",
    "outputId": "0122a6db-a4d5-4ba2-cbcc-442b035cb65d"
   },
   "outputs": [
    {
     "data": {
      "text/plain": [
       "Target\n",
       "0         2023\n",
       "1           10\n",
       "dtype: int64"
      ]
     },
     "execution_count": 37,
     "metadata": {},
     "output_type": "execute_result"
    }
   ],
   "source": [
    "test_subjects.value_counts()"
   ]
  },
  {
   "cell_type": "code",
   "execution_count": null,
   "metadata": {
    "colab": {
     "base_uri": "https://localhost:8080/"
    },
    "id": "Y_izuZbd9xFm",
    "outputId": "c0c1a1b3-4370-443b-ce35-c0a4d964bf4c"
   },
   "outputs": [
    {
     "data": {
      "text/plain": [
       "['w..delainey@enron.com',\n",
       " 'm..forney@enron.com',\n",
       " 'tim.belden@enron.com',\n",
       " 'christopher.calger@enron.com',\n",
       " 'kenneth.lay@enron.com',\n",
       " 'jeff.skilling@enron.com',\n",
       " 'john.forney@enron.com',\n",
       " 'tim.despain@enron.com',\n",
       " 'calger@enron.com',\n",
       " 'michael.krautz@enron.com']"
      ]
     },
     "execution_count": 38,
     "metadata": {},
     "output_type": "execute_result"
    }
   ],
   "source": [
    "test_subjects[test_subjects.Target==1].index.tolist()"
   ]
  },
  {
   "cell_type": "markdown",
   "metadata": {
    "id": "bytdOIC__uAR"
   },
   "source": [
    "GCN is a full-batch model and we’re doing node classification, which means the FullBatchNodeGenerator class (docs) is the appropriate generator for our task\n",
    "\n",
    "Specifying the method='gcn' argument to the FullBatchNodeGenerator means it will yield data appropriate for the GCN algorithm specifically, by computing the feature array and the normalized adjacency matrix. "
   ]
  },
  {
   "cell_type": "code",
   "execution_count": null,
   "metadata": {
    "colab": {
     "base_uri": "https://localhost:8080/"
    },
    "id": "uc_DQvPC_2nW",
    "outputId": "ab3647a7-feb5-470c-83b0-550b90449da9"
   },
   "outputs": [
    {
     "name": "stdout",
     "output_type": "stream",
     "text": [
      "Using GCN (local pooling) filters...\n"
     ]
    }
   ],
   "source": [
    "# Initialize generator\n",
    "generator = FullBatchNodeGenerator(UnWeighted_network, method=\"gcn\")"
   ]
  },
  {
   "cell_type": "markdown",
   "metadata": {
    "id": "c7GQOvUVXTHu"
   },
   "source": [
    "Now we created a generator necessary to produce the input variables for our gcn model we use the flow argument to apply our generator on our training data."
   ]
  },
  {
   "cell_type": "code",
   "execution_count": null,
   "metadata": {
    "id": "Tr8xXD2cVdEf"
   },
   "outputs": [],
   "source": [
    "train_gen = generator.flow(train_subjects.index, train_subjects.Target.values)"
   ]
  },
  {
   "cell_type": "markdown",
   "metadata": {
    "id": "qWj68sA9Yauj"
   },
   "source": [
    "Here we create our GCN.\n",
    "\n",
    "we have 2 layers each consisting of 16 units. We use the 'ReLu' activation for both layers and a dropout rate of 0.5 "
   ]
  },
  {
   "cell_type": "code",
   "execution_count": null,
   "metadata": {
    "id": "zc_FFvFIX2Nn"
   },
   "outputs": [],
   "source": [
    "gcn = GCN(\n",
    "    layer_sizes=[32, 32],\n",
    "    activations=[\"relu\", \"relu\"],\n",
    "    generator=generator,\n",
    "    dropout=0.5\n",
    ")"
   ]
  },
  {
   "cell_type": "markdown",
   "metadata": {
    "id": "0aqDl1wtbdUO"
   },
   "source": [
    "We use the in_out_function to create the input formats for our gcn and the output formats for node classification\n",
    "* x_inp is a list of Keras/TensorFlow input tensors for the GCN model\n",
    "* x_out is a tensor of the GCN model output"
   ]
  },
  {
   "cell_type": "code",
   "execution_count": null,
   "metadata": {
    "colab": {
     "base_uri": "https://localhost:8080/"
    },
    "id": "IFu8MwgvY3sf",
    "outputId": "1ad1362b-36d0-42b6-b408-300586c60f7e"
   },
   "outputs": [
    {
     "data": {
      "text/plain": [
       "<KerasTensor: shape=(1, None, 32) dtype=float32 (created by layer 'gather_indices')>"
      ]
     },
     "execution_count": 42,
     "metadata": {},
     "output_type": "execute_result"
    }
   ],
   "source": [
    "# Create in and output tensors\n",
    "x_inp, x_out = gcn.in_out_tensors()\n",
    "\n",
    "x_out"
   ]
  },
  {
   "cell_type": "code",
   "execution_count": null,
   "metadata": {
    "colab": {
     "base_uri": "https://localhost:8080/"
    },
    "id": "j4ItUC-G7S-Y",
    "outputId": "679449cf-ddee-40d1-d89e-52ddf4541835"
   },
   "outputs": [
    {
     "data": {
      "text/plain": [
       "[<KerasTensor: shape=(1, 6533, 9) dtype=float32 (created by layer 'input_1')>,\n",
       " <KerasTensor: shape=(1, None) dtype=int32 (created by layer 'input_2')>,\n",
       " <KerasTensor: shape=(1, None, 2) dtype=int64 (created by layer 'input_3')>,\n",
       " <KerasTensor: shape=(1, None) dtype=float32 (created by layer 'input_4')>]"
      ]
     },
     "execution_count": 43,
     "metadata": {},
     "output_type": "execute_result"
    }
   ],
   "source": [
    "x_inp"
   ]
  },
  {
   "cell_type": "markdown",
   "metadata": {
    "id": "F6HdjOxr6RHb"
   },
   "source": [
    "We create an extra dense layer necessary for our predictions. As we only have 2 classes we will use the sigmoid activation function."
   ]
  },
  {
   "cell_type": "code",
   "execution_count": null,
   "metadata": {
    "id": "yobKAZgHY_RZ"
   },
   "outputs": [],
   "source": [
    "# Create layer for predictions\n",
    "predictions = layers.Dense(units=train_subjects.shape[1], activation=\"sigmoid\")(x_out)"
   ]
  },
  {
   "cell_type": "markdown",
   "metadata": {
    "id": "0G0PjegN7DiB"
   },
   "source": [
    "To create our model we use our x_inp which consists out of our gcn layers followed by our dense layer used to make predictions."
   ]
  },
  {
   "cell_type": "code",
   "execution_count": null,
   "metadata": {
    "id": "rt1m64vqfOq5"
   },
   "outputs": [],
   "source": [
    "# Define some more metrics\n",
    "METRICS = [\n",
    "      keras.metrics.TruePositives(name='tp'),\n",
    "      keras.metrics.FalsePositives(name='fp'),\n",
    "      keras.metrics.TrueNegatives(name='tn'),\n",
    "      keras.metrics.FalseNegatives(name='fn'), \n",
    "      keras.metrics.BinaryAccuracy(name='accuracy'),\n",
    "      keras.metrics.Precision(name='precision'),\n",
    "      keras.metrics.Recall(name='recall'),\n",
    "      keras.metrics.AUC(name='auc'),\n",
    "      keras.metrics.AUC(name='prc', curve='PR'), # precision-recall curve\n",
    "]"
   ]
  },
  {
   "cell_type": "code",
   "execution_count": null,
   "metadata": {
    "id": "QjGM8U4ibpnd"
   },
   "outputs": [],
   "source": [
    "# Compile the model\n",
    "model = Model(inputs=x_inp, outputs=predictions)"
   ]
  },
  {
   "cell_type": "code",
   "execution_count": null,
   "metadata": {
    "colab": {
     "base_uri": "https://localhost:8080/"
    },
    "id": "oLQnnLoSTnt6",
    "outputId": "9675a79d-795a-41cc-d460-05c43d87fa04"
   },
   "outputs": [
    {
     "name": "stderr",
     "output_type": "stream",
     "text": [
      "/usr/local/lib/python3.7/dist-packages/keras/optimizer_v2/adam.py:105: UserWarning: The `lr` argument is deprecated, use `learning_rate` instead.\n",
      "  super(Adam, self).__init__(name, **kwargs)\n"
     ]
    }
   ],
   "source": [
    "model.compile(\n",
    "    optimizer=optimizers.Adam(lr=0.005),\n",
    "    loss=losses.binary_crossentropy,\n",
    "    metrics=METRICS,\n",
    ")"
   ]
  },
  {
   "cell_type": "code",
   "execution_count": null,
   "metadata": {
    "colab": {
     "base_uri": "https://localhost:8080/"
    },
    "id": "fT6bAX67fr9i",
    "outputId": "0a54ddcc-0158-4e6b-a2e5-4d446e0068a3"
   },
   "outputs": [
    {
     "name": "stdout",
     "output_type": "stream",
     "text": [
      "Model: \"model\"\n",
      "__________________________________________________________________________________________________\n",
      " Layer (type)                   Output Shape         Param #     Connected to                     \n",
      "==================================================================================================\n",
      " input_1 (InputLayer)           [(1, 6533, 9)]       0           []                               \n",
      "                                                                                                  \n",
      " input_3 (InputLayer)           [(1, None, 2)]       0           []                               \n",
      "                                                                                                  \n",
      " input_4 (InputLayer)           [(1, None)]          0           []                               \n",
      "                                                                                                  \n",
      " dropout (Dropout)              (1, 6533, 9)         0           ['input_1[0][0]']                \n",
      "                                                                                                  \n",
      " squeezed_sparse_conversion (Sq  (6533, 6533)        0           ['input_3[0][0]',                \n",
      " ueezedSparseConversion)                                          'input_4[0][0]']                \n",
      "                                                                                                  \n",
      " graph_convolution (GraphConvol  (1, None, 32)       320         ['dropout[0][0]',                \n",
      " ution)                                                           'squeezed_sparse_conversion[0][0\n",
      "                                                                 ]']                              \n",
      "                                                                                                  \n",
      " dropout_1 (Dropout)            (1, None, 32)        0           ['graph_convolution[0][0]']      \n",
      "                                                                                                  \n",
      " graph_convolution_1 (GraphConv  (1, None, 32)       1056        ['dropout_1[0][0]',              \n",
      " olution)                                                         'squeezed_sparse_conversion[0][0\n",
      "                                                                 ]']                              \n",
      "                                                                                                  \n",
      " input_2 (InputLayer)           [(1, None)]          0           []                               \n",
      "                                                                                                  \n",
      " gather_indices (GatherIndices)  (1, None, 32)       0           ['graph_convolution_1[0][0]',    \n",
      "                                                                  'input_2[0][0]']                \n",
      "                                                                                                  \n",
      " dense (Dense)                  (1, None, 1)         33          ['gather_indices[0][0]']         \n",
      "                                                                                                  \n",
      "==================================================================================================\n",
      "Total params: 1,409\n",
      "Trainable params: 1,409\n",
      "Non-trainable params: 0\n",
      "__________________________________________________________________________________________________\n"
     ]
    }
   ],
   "source": [
    "model.summary()"
   ]
  },
  {
   "cell_type": "markdown",
   "metadata": {
    "id": "qiQPdTr46miY"
   },
   "source": [
    "Next we apply the generator on our validation data."
   ]
  },
  {
   "cell_type": "code",
   "execution_count": null,
   "metadata": {
    "id": "wTHjrXa5btcJ"
   },
   "outputs": [],
   "source": [
    "val_gen = generator.flow(val_subjects.index, val_subjects.Target.values)"
   ]
  },
  {
   "cell_type": "markdown",
   "metadata": {
    "id": "rnENiKyN6t5h"
   },
   "source": [
    "Here we initiate an early stopping mechanism."
   ]
  },
  {
   "cell_type": "code",
   "execution_count": null,
   "metadata": {
    "id": "x84ikcrPcQXz"
   },
   "outputs": [],
   "source": [
    "from tensorflow.keras.callbacks import EarlyStopping\n",
    "\n",
    "es_callback = EarlyStopping(monitor=\"val_acc\", patience=50, restore_best_weights=True)"
   ]
  },
  {
   "cell_type": "code",
   "execution_count": null,
   "metadata": {
    "colab": {
     "base_uri": "https://localhost:8080/"
    },
    "id": "3UnAFCO5cRW7",
    "outputId": "653ffc54-11b3-4b3b-eefb-bc3f0a5c0eac"
   },
   "outputs": [
    {
     "name": "stdout",
     "output_type": "stream",
     "text": [
      "Epoch 1/200\n",
      "1/1 - 10s - loss: 0.5940 - tp: 1.0000 - fp: 38.0000 - tn: 1953.0000 - fn: 8.0000 - accuracy: 0.9770 - precision: 0.0256 - recall: 0.1111 - auc: 0.2526 - prc: 0.1136 - val_loss: 0.5527 - val_tp: 0.0000e+00 - val_fp: 0.0000e+00 - val_tn: 2488.0000 - val_fn: 12.0000 - val_accuracy: 0.9952 - val_precision: 0.0000e+00 - val_recall: 0.0000e+00 - val_auc: 0.1459 - val_prc: 0.0026 - 10s/epoch - 10s/step\n",
      "Epoch 2/200\n",
      "1/1 - 0s - loss: 0.5368 - tp: 0.0000e+00 - fp: 2.0000 - tn: 1989.0000 - fn: 9.0000 - accuracy: 0.9945 - precision: 0.0000e+00 - recall: 0.0000e+00 - auc: 0.2157 - prc: 0.0026 - val_loss: 0.5043 - val_tp: 0.0000e+00 - val_fp: 0.0000e+00 - val_tn: 2488.0000 - val_fn: 12.0000 - val_accuracy: 0.9952 - val_precision: 0.0000e+00 - val_recall: 0.0000e+00 - val_auc: 0.1438 - val_prc: 0.0026 - 244ms/epoch - 244ms/step\n",
      "Epoch 3/200\n",
      "1/1 - 0s - loss: 0.4929 - tp: 0.0000e+00 - fp: 0.0000e+00 - tn: 1991.0000 - fn: 9.0000 - accuracy: 0.9955 - precision: 0.0000e+00 - recall: 0.0000e+00 - auc: 0.1543 - prc: 0.0025 - val_loss: 0.4585 - val_tp: 0.0000e+00 - val_fp: 0.0000e+00 - val_tn: 2488.0000 - val_fn: 12.0000 - val_accuracy: 0.9952 - val_precision: 0.0000e+00 - val_recall: 0.0000e+00 - val_auc: 0.1376 - val_prc: 0.0026 - 202ms/epoch - 202ms/step\n",
      "Epoch 4/200\n",
      "1/1 - 0s - loss: 0.4339 - tp: 0.0000e+00 - fp: 0.0000e+00 - tn: 1991.0000 - fn: 9.0000 - accuracy: 0.9955 - precision: 0.0000e+00 - recall: 0.0000e+00 - auc: 0.1499 - prc: 0.0025 - val_loss: 0.4151 - val_tp: 0.0000e+00 - val_fp: 0.0000e+00 - val_tn: 2488.0000 - val_fn: 12.0000 - val_accuracy: 0.9952 - val_precision: 0.0000e+00 - val_recall: 0.0000e+00 - val_auc: 0.1369 - val_prc: 0.0026 - 176ms/epoch - 176ms/step\n",
      "Epoch 5/200\n",
      "1/1 - 0s - loss: 0.3945 - tp: 0.0000e+00 - fp: 0.0000e+00 - tn: 1991.0000 - fn: 9.0000 - accuracy: 0.9955 - precision: 0.0000e+00 - recall: 0.0000e+00 - auc: 0.1940 - prc: 0.0026 - val_loss: 0.3739 - val_tp: 0.0000e+00 - val_fp: 0.0000e+00 - val_tn: 2488.0000 - val_fn: 12.0000 - val_accuracy: 0.9952 - val_precision: 0.0000e+00 - val_recall: 0.0000e+00 - val_auc: 0.1377 - val_prc: 0.0026 - 245ms/epoch - 245ms/step\n",
      "Epoch 6/200\n",
      "1/1 - 0s - loss: 0.3547 - tp: 0.0000e+00 - fp: 0.0000e+00 - tn: 1991.0000 - fn: 9.0000 - accuracy: 0.9955 - precision: 0.0000e+00 - recall: 0.0000e+00 - auc: 0.2591 - prc: 0.0040 - val_loss: 0.3349 - val_tp: 0.0000e+00 - val_fp: 0.0000e+00 - val_tn: 2488.0000 - val_fn: 12.0000 - val_accuracy: 0.9952 - val_precision: 0.0000e+00 - val_recall: 0.0000e+00 - val_auc: 0.1373 - val_prc: 0.0026 - 196ms/epoch - 196ms/step\n",
      "Epoch 7/200\n",
      "1/1 - 0s - loss: 0.3131 - tp: 0.0000e+00 - fp: 0.0000e+00 - tn: 1991.0000 - fn: 9.0000 - accuracy: 0.9955 - precision: 0.0000e+00 - recall: 0.0000e+00 - auc: 0.1825 - prc: 0.0026 - val_loss: 0.2982 - val_tp: 0.0000e+00 - val_fp: 0.0000e+00 - val_tn: 2488.0000 - val_fn: 12.0000 - val_accuracy: 0.9952 - val_precision: 0.0000e+00 - val_recall: 0.0000e+00 - val_auc: 0.1349 - val_prc: 0.0026 - 266ms/epoch - 266ms/step\n",
      "Epoch 8/200\n",
      "1/1 - 0s - loss: 0.2773 - tp: 0.0000e+00 - fp: 0.0000e+00 - tn: 1991.0000 - fn: 9.0000 - accuracy: 0.9955 - precision: 0.0000e+00 - recall: 0.0000e+00 - auc: 0.2242 - prc: 0.0026 - val_loss: 0.2640 - val_tp: 0.0000e+00 - val_fp: 0.0000e+00 - val_tn: 2488.0000 - val_fn: 12.0000 - val_accuracy: 0.9952 - val_precision: 0.0000e+00 - val_recall: 0.0000e+00 - val_auc: 0.1366 - val_prc: 0.0026 - 199ms/epoch - 199ms/step\n",
      "Epoch 9/200\n",
      "1/1 - 0s - loss: 0.2504 - tp: 0.0000e+00 - fp: 0.0000e+00 - tn: 1991.0000 - fn: 9.0000 - accuracy: 0.9955 - precision: 0.0000e+00 - recall: 0.0000e+00 - auc: 0.2285 - prc: 0.0041 - val_loss: 0.2325 - val_tp: 0.0000e+00 - val_fp: 0.0000e+00 - val_tn: 2488.0000 - val_fn: 12.0000 - val_accuracy: 0.9952 - val_precision: 0.0000e+00 - val_recall: 0.0000e+00 - val_auc: 0.1357 - val_prc: 0.0026 - 94ms/epoch - 94ms/step\n",
      "Epoch 10/200\n",
      "1/1 - 0s - loss: 0.2201 - tp: 0.0000e+00 - fp: 0.0000e+00 - tn: 1991.0000 - fn: 9.0000 - accuracy: 0.9955 - precision: 0.0000e+00 - recall: 0.0000e+00 - auc: 0.1244 - prc: 0.0024 - val_loss: 0.2042 - val_tp: 0.0000e+00 - val_fp: 0.0000e+00 - val_tn: 2488.0000 - val_fn: 12.0000 - val_accuracy: 0.9952 - val_precision: 0.0000e+00 - val_recall: 0.0000e+00 - val_auc: 0.1355 - val_prc: 0.0026 - 90ms/epoch - 90ms/step\n",
      "Epoch 11/200\n",
      "1/1 - 0s - loss: 0.1941 - tp: 0.0000e+00 - fp: 0.0000e+00 - tn: 1991.0000 - fn: 9.0000 - accuracy: 0.9955 - precision: 0.0000e+00 - recall: 0.0000e+00 - auc: 0.1493 - prc: 0.0025 - val_loss: 0.1793 - val_tp: 0.0000e+00 - val_fp: 0.0000e+00 - val_tn: 2488.0000 - val_fn: 12.0000 - val_accuracy: 0.9952 - val_precision: 0.0000e+00 - val_recall: 0.0000e+00 - val_auc: 0.1356 - val_prc: 0.0026 - 88ms/epoch - 88ms/step\n",
      "Epoch 12/200\n",
      "1/1 - 0s - loss: 0.1548 - tp: 0.0000e+00 - fp: 0.0000e+00 - tn: 1991.0000 - fn: 9.0000 - accuracy: 0.9955 - precision: 0.0000e+00 - recall: 0.0000e+00 - auc: 0.1467 - prc: 0.0025 - val_loss: 0.1578 - val_tp: 0.0000e+00 - val_fp: 0.0000e+00 - val_tn: 2488.0000 - val_fn: 12.0000 - val_accuracy: 0.9952 - val_precision: 0.0000e+00 - val_recall: 0.0000e+00 - val_auc: 0.1356 - val_prc: 0.0026 - 103ms/epoch - 103ms/step\n",
      "Epoch 13/200\n",
      "1/1 - 0s - loss: 0.1464 - tp: 0.0000e+00 - fp: 0.0000e+00 - tn: 1991.0000 - fn: 9.0000 - accuracy: 0.9955 - precision: 0.0000e+00 - recall: 0.0000e+00 - auc: 0.1166 - prc: 0.0024 - val_loss: 0.1392 - val_tp: 0.0000e+00 - val_fp: 0.0000e+00 - val_tn: 2488.0000 - val_fn: 12.0000 - val_accuracy: 0.9952 - val_precision: 0.0000e+00 - val_recall: 0.0000e+00 - val_auc: 0.1395 - val_prc: 0.0026 - 96ms/epoch - 96ms/step\n",
      "Epoch 14/200\n",
      "1/1 - 0s - loss: 0.1334 - tp: 0.0000e+00 - fp: 0.0000e+00 - tn: 1991.0000 - fn: 9.0000 - accuracy: 0.9955 - precision: 0.0000e+00 - recall: 0.0000e+00 - auc: 0.2021 - prc: 0.0026 - val_loss: 0.1236 - val_tp: 0.0000e+00 - val_fp: 0.0000e+00 - val_tn: 2488.0000 - val_fn: 12.0000 - val_accuracy: 0.9952 - val_precision: 0.0000e+00 - val_recall: 0.0000e+00 - val_auc: 0.1409 - val_prc: 0.0026 - 108ms/epoch - 108ms/step\n",
      "Epoch 15/200\n",
      "1/1 - 0s - loss: 0.1102 - tp: 0.0000e+00 - fp: 0.0000e+00 - tn: 1991.0000 - fn: 9.0000 - accuracy: 0.9955 - precision: 0.0000e+00 - recall: 0.0000e+00 - auc: 0.1360 - prc: 0.0025 - val_loss: 0.1109 - val_tp: 0.0000e+00 - val_fp: 0.0000e+00 - val_tn: 2488.0000 - val_fn: 12.0000 - val_accuracy: 0.9952 - val_precision: 0.0000e+00 - val_recall: 0.0000e+00 - val_auc: 0.1409 - val_prc: 0.0026 - 84ms/epoch - 84ms/step\n",
      "Epoch 16/200\n",
      "1/1 - 0s - loss: 0.1008 - tp: 0.0000e+00 - fp: 0.0000e+00 - tn: 1991.0000 - fn: 9.0000 - accuracy: 0.9955 - precision: 0.0000e+00 - recall: 0.0000e+00 - auc: 0.1767 - prc: 0.0025 - val_loss: 0.1006 - val_tp: 0.0000e+00 - val_fp: 0.0000e+00 - val_tn: 2488.0000 - val_fn: 12.0000 - val_accuracy: 0.9952 - val_precision: 0.0000e+00 - val_recall: 0.0000e+00 - val_auc: 0.1373 - val_prc: 0.0026 - 88ms/epoch - 88ms/step\n",
      "Epoch 17/200\n",
      "1/1 - 0s - loss: 0.0857 - tp: 0.0000e+00 - fp: 0.0000e+00 - tn: 1991.0000 - fn: 9.0000 - accuracy: 0.9955 - precision: 0.0000e+00 - recall: 0.0000e+00 - auc: 0.2628 - prc: 0.0075 - val_loss: 0.0925 - val_tp: 0.0000e+00 - val_fp: 0.0000e+00 - val_tn: 2488.0000 - val_fn: 12.0000 - val_accuracy: 0.9952 - val_precision: 0.0000e+00 - val_recall: 0.0000e+00 - val_auc: 0.1446 - val_prc: 0.0027 - 87ms/epoch - 87ms/step\n",
      "Epoch 18/200\n",
      "1/1 - 0s - loss: 0.0799 - tp: 0.0000e+00 - fp: 0.0000e+00 - tn: 1991.0000 - fn: 9.0000 - accuracy: 0.9955 - precision: 0.0000e+00 - recall: 0.0000e+00 - auc: 0.1935 - prc: 0.0026 - val_loss: 0.0861 - val_tp: 0.0000e+00 - val_fp: 0.0000e+00 - val_tn: 2488.0000 - val_fn: 12.0000 - val_accuracy: 0.9952 - val_precision: 0.0000e+00 - val_recall: 0.0000e+00 - val_auc: 0.1383 - val_prc: 0.0026 - 93ms/epoch - 93ms/step\n",
      "Epoch 19/200\n",
      "1/1 - 0s - loss: 0.0743 - tp: 0.0000e+00 - fp: 0.0000e+00 - tn: 1991.0000 - fn: 9.0000 - accuracy: 0.9955 - precision: 0.0000e+00 - recall: 0.0000e+00 - auc: 0.1983 - prc: 0.0026 - val_loss: 0.0811 - val_tp: 0.0000e+00 - val_fp: 0.0000e+00 - val_tn: 2488.0000 - val_fn: 12.0000 - val_accuracy: 0.9952 - val_precision: 0.0000e+00 - val_recall: 0.0000e+00 - val_auc: 0.1371 - val_prc: 0.0026 - 85ms/epoch - 85ms/step\n",
      "Epoch 20/200\n",
      "1/1 - 0s - loss: 0.0747 - tp: 0.0000e+00 - fp: 0.0000e+00 - tn: 1991.0000 - fn: 9.0000 - accuracy: 0.9955 - precision: 0.0000e+00 - recall: 0.0000e+00 - auc: 0.2585 - prc: 0.0045 - val_loss: 0.0772 - val_tp: 0.0000e+00 - val_fp: 0.0000e+00 - val_tn: 2488.0000 - val_fn: 12.0000 - val_accuracy: 0.9952 - val_precision: 0.0000e+00 - val_recall: 0.0000e+00 - val_auc: 0.1468 - val_prc: 0.0027 - 96ms/epoch - 96ms/step\n",
      "Epoch 21/200\n",
      "1/1 - 0s - loss: 0.0719 - tp: 0.0000e+00 - fp: 0.0000e+00 - tn: 1991.0000 - fn: 9.0000 - accuracy: 0.9955 - precision: 0.0000e+00 - recall: 0.0000e+00 - auc: 0.2071 - prc: 0.0026 - val_loss: 0.0742 - val_tp: 0.0000e+00 - val_fp: 0.0000e+00 - val_tn: 2488.0000 - val_fn: 12.0000 - val_accuracy: 0.9952 - val_precision: 0.0000e+00 - val_recall: 0.0000e+00 - val_auc: 0.1545 - val_prc: 0.0027 - 87ms/epoch - 87ms/step\n",
      "Epoch 22/200\n",
      "1/1 - 0s - loss: 0.0673 - tp: 0.0000e+00 - fp: 0.0000e+00 - tn: 1991.0000 - fn: 9.0000 - accuracy: 0.9955 - precision: 0.0000e+00 - recall: 0.0000e+00 - auc: 0.2310 - prc: 0.0027 - val_loss: 0.0720 - val_tp: 0.0000e+00 - val_fp: 0.0000e+00 - val_tn: 2488.0000 - val_fn: 12.0000 - val_accuracy: 0.9952 - val_precision: 0.0000e+00 - val_recall: 0.0000e+00 - val_auc: 0.1617 - val_prc: 0.0027 - 93ms/epoch - 93ms/step\n",
      "Epoch 23/200\n",
      "1/1 - 0s - loss: 0.0679 - tp: 0.0000e+00 - fp: 0.0000e+00 - tn: 1991.0000 - fn: 9.0000 - accuracy: 0.9955 - precision: 0.0000e+00 - recall: 0.0000e+00 - auc: 0.1700 - prc: 0.0026 - val_loss: 0.0702 - val_tp: 0.0000e+00 - val_fp: 0.0000e+00 - val_tn: 2488.0000 - val_fn: 12.0000 - val_accuracy: 0.9952 - val_precision: 0.0000e+00 - val_recall: 0.0000e+00 - val_auc: 0.1809 - val_prc: 0.0028 - 98ms/epoch - 98ms/step\n",
      "Epoch 24/200\n",
      "1/1 - 0s - loss: 0.0682 - tp: 0.0000e+00 - fp: 0.0000e+00 - tn: 1991.0000 - fn: 9.0000 - accuracy: 0.9955 - precision: 0.0000e+00 - recall: 0.0000e+00 - auc: 0.1753 - prc: 0.0026 - val_loss: 0.0688 - val_tp: 0.0000e+00 - val_fp: 0.0000e+00 - val_tn: 2488.0000 - val_fn: 12.0000 - val_accuracy: 0.9952 - val_precision: 0.0000e+00 - val_recall: 0.0000e+00 - val_auc: 0.1957 - val_prc: 0.0028 - 87ms/epoch - 87ms/step\n",
      "Epoch 25/200\n",
      "1/1 - 0s - loss: 0.0639 - tp: 0.0000e+00 - fp: 0.0000e+00 - tn: 1991.0000 - fn: 9.0000 - accuracy: 0.9955 - precision: 0.0000e+00 - recall: 0.0000e+00 - auc: 0.2485 - prc: 0.0027 - val_loss: 0.0679 - val_tp: 0.0000e+00 - val_fp: 0.0000e+00 - val_tn: 2488.0000 - val_fn: 12.0000 - val_accuracy: 0.9952 - val_precision: 0.0000e+00 - val_recall: 0.0000e+00 - val_auc: 0.2149 - val_prc: 0.0028 - 87ms/epoch - 87ms/step\n",
      "Epoch 26/200\n",
      "1/1 - 0s - loss: 0.0655 - tp: 0.0000e+00 - fp: 0.0000e+00 - tn: 1991.0000 - fn: 9.0000 - accuracy: 0.9955 - precision: 0.0000e+00 - recall: 0.0000e+00 - auc: 0.2210 - prc: 0.0027 - val_loss: 0.0672 - val_tp: 0.0000e+00 - val_fp: 0.0000e+00 - val_tn: 2488.0000 - val_fn: 12.0000 - val_accuracy: 0.9952 - val_precision: 0.0000e+00 - val_recall: 0.0000e+00 - val_auc: 0.2092 - val_prc: 0.0028 - 90ms/epoch - 90ms/step\n",
      "Epoch 27/200\n",
      "1/1 - 0s - loss: 0.0663 - tp: 0.0000e+00 - fp: 0.0000e+00 - tn: 1991.0000 - fn: 9.0000 - accuracy: 0.9955 - precision: 0.0000e+00 - recall: 0.0000e+00 - auc: 0.2285 - prc: 0.0027 - val_loss: 0.0666 - val_tp: 0.0000e+00 - val_fp: 0.0000e+00 - val_tn: 2488.0000 - val_fn: 12.0000 - val_accuracy: 0.9952 - val_precision: 0.0000e+00 - val_recall: 0.0000e+00 - val_auc: 0.2249 - val_prc: 0.0029 - 89ms/epoch - 89ms/step\n",
      "Epoch 28/200\n",
      "1/1 - 0s - loss: 0.0636 - tp: 0.0000e+00 - fp: 0.0000e+00 - tn: 1991.0000 - fn: 9.0000 - accuracy: 0.9955 - precision: 0.0000e+00 - recall: 0.0000e+00 - auc: 0.2559 - prc: 0.0028 - val_loss: 0.0661 - val_tp: 0.0000e+00 - val_fp: 0.0000e+00 - val_tn: 2488.0000 - val_fn: 12.0000 - val_accuracy: 0.9952 - val_precision: 0.0000e+00 - val_recall: 0.0000e+00 - val_auc: 0.2373 - val_prc: 0.0029 - 97ms/epoch - 97ms/step\n",
      "Epoch 29/200\n",
      "1/1 - 0s - loss: 0.0613 - tp: 0.0000e+00 - fp: 0.0000e+00 - tn: 1991.0000 - fn: 9.0000 - accuracy: 0.9955 - precision: 0.0000e+00 - recall: 0.0000e+00 - auc: 0.3194 - prc: 0.0030 - val_loss: 0.0658 - val_tp: 0.0000e+00 - val_fp: 0.0000e+00 - val_tn: 2488.0000 - val_fn: 12.0000 - val_accuracy: 0.9952 - val_precision: 0.0000e+00 - val_recall: 0.0000e+00 - val_auc: 0.2514 - val_prc: 0.0030 - 93ms/epoch - 93ms/step\n",
      "Epoch 30/200\n",
      "1/1 - 0s - loss: 0.0649 - tp: 0.0000e+00 - fp: 0.0000e+00 - tn: 1991.0000 - fn: 9.0000 - accuracy: 0.9955 - precision: 0.0000e+00 - recall: 0.0000e+00 - auc: 0.2727 - prc: 0.0028 - val_loss: 0.0656 - val_tp: 0.0000e+00 - val_fp: 0.0000e+00 - val_tn: 2488.0000 - val_fn: 12.0000 - val_accuracy: 0.9952 - val_precision: 0.0000e+00 - val_recall: 0.0000e+00 - val_auc: 0.2592 - val_prc: 0.0030 - 86ms/epoch - 86ms/step\n",
      "Epoch 31/200\n",
      "1/1 - 0s - loss: 0.0618 - tp: 0.0000e+00 - fp: 0.0000e+00 - tn: 1991.0000 - fn: 9.0000 - accuracy: 0.9955 - precision: 0.0000e+00 - recall: 0.0000e+00 - auc: 0.2908 - prc: 0.0029 - val_loss: 0.0654 - val_tp: 0.0000e+00 - val_fp: 0.0000e+00 - val_tn: 2488.0000 - val_fn: 12.0000 - val_accuracy: 0.9952 - val_precision: 0.0000e+00 - val_recall: 0.0000e+00 - val_auc: 0.2717 - val_prc: 0.0030 - 94ms/epoch - 94ms/step\n",
      "Epoch 32/200\n",
      "1/1 - 0s - loss: 0.0638 - tp: 0.0000e+00 - fp: 0.0000e+00 - tn: 1991.0000 - fn: 9.0000 - accuracy: 0.9955 - precision: 0.0000e+00 - recall: 0.0000e+00 - auc: 0.2805 - prc: 0.0029 - val_loss: 0.0652 - val_tp: 0.0000e+00 - val_fp: 0.0000e+00 - val_tn: 2488.0000 - val_fn: 12.0000 - val_accuracy: 0.9952 - val_precision: 0.0000e+00 - val_recall: 0.0000e+00 - val_auc: 0.2848 - val_prc: 0.0031 - 89ms/epoch - 89ms/step\n",
      "Epoch 33/200\n",
      "1/1 - 0s - loss: 0.0598 - tp: 0.0000e+00 - fp: 0.0000e+00 - tn: 1991.0000 - fn: 9.0000 - accuracy: 0.9955 - precision: 0.0000e+00 - recall: 0.0000e+00 - auc: 0.3245 - prc: 0.0030 - val_loss: 0.0651 - val_tp: 0.0000e+00 - val_fp: 0.0000e+00 - val_tn: 2488.0000 - val_fn: 12.0000 - val_accuracy: 0.9952 - val_precision: 0.0000e+00 - val_recall: 0.0000e+00 - val_auc: 0.2940 - val_prc: 0.0031 - 94ms/epoch - 94ms/step\n",
      "Epoch 34/200\n",
      "1/1 - 0s - loss: 0.0616 - tp: 0.0000e+00 - fp: 0.0000e+00 - tn: 1991.0000 - fn: 9.0000 - accuracy: 0.9955 - precision: 0.0000e+00 - recall: 0.0000e+00 - auc: 0.3463 - prc: 0.0031 - val_loss: 0.0650 - val_tp: 0.0000e+00 - val_fp: 0.0000e+00 - val_tn: 2488.0000 - val_fn: 12.0000 - val_accuracy: 0.9952 - val_precision: 0.0000e+00 - val_recall: 0.0000e+00 - val_auc: 0.3061 - val_prc: 0.0031 - 90ms/epoch - 90ms/step\n",
      "Epoch 35/200\n",
      "1/1 - 0s - loss: 0.0629 - tp: 0.0000e+00 - fp: 0.0000e+00 - tn: 1991.0000 - fn: 9.0000 - accuracy: 0.9955 - precision: 0.0000e+00 - recall: 0.0000e+00 - auc: 0.3383 - prc: 0.0031 - val_loss: 0.0650 - val_tp: 0.0000e+00 - val_fp: 0.0000e+00 - val_tn: 2488.0000 - val_fn: 12.0000 - val_accuracy: 0.9952 - val_precision: 0.0000e+00 - val_recall: 0.0000e+00 - val_auc: 0.3129 - val_prc: 0.0032 - 89ms/epoch - 89ms/step\n",
      "Epoch 36/200\n",
      "1/1 - 0s - loss: 0.0623 - tp: 0.0000e+00 - fp: 0.0000e+00 - tn: 1991.0000 - fn: 9.0000 - accuracy: 0.9955 - precision: 0.0000e+00 - recall: 0.0000e+00 - auc: 0.3508 - prc: 0.0031 - val_loss: 0.0650 - val_tp: 0.0000e+00 - val_fp: 0.0000e+00 - val_tn: 2488.0000 - val_fn: 12.0000 - val_accuracy: 0.9952 - val_precision: 0.0000e+00 - val_recall: 0.0000e+00 - val_auc: 0.3217 - val_prc: 0.0032 - 87ms/epoch - 87ms/step\n",
      "Epoch 37/200\n",
      "1/1 - 0s - loss: 0.0613 - tp: 0.0000e+00 - fp: 0.0000e+00 - tn: 1991.0000 - fn: 9.0000 - accuracy: 0.9955 - precision: 0.0000e+00 - recall: 0.0000e+00 - auc: 0.3247 - prc: 0.0030 - val_loss: 0.0650 - val_tp: 0.0000e+00 - val_fp: 0.0000e+00 - val_tn: 2488.0000 - val_fn: 12.0000 - val_accuracy: 0.9952 - val_precision: 0.0000e+00 - val_recall: 0.0000e+00 - val_auc: 0.3280 - val_prc: 0.0032 - 88ms/epoch - 88ms/step\n",
      "Epoch 38/200\n",
      "1/1 - 0s - loss: 0.0618 - tp: 0.0000e+00 - fp: 0.0000e+00 - tn: 1991.0000 - fn: 9.0000 - accuracy: 0.9955 - precision: 0.0000e+00 - recall: 0.0000e+00 - auc: 0.3659 - prc: 0.0032 - val_loss: 0.0649 - val_tp: 0.0000e+00 - val_fp: 0.0000e+00 - val_tn: 2488.0000 - val_fn: 12.0000 - val_accuracy: 0.9952 - val_precision: 0.0000e+00 - val_recall: 0.0000e+00 - val_auc: 0.3352 - val_prc: 0.0033 - 91ms/epoch - 91ms/step\n",
      "Epoch 39/200\n",
      "1/1 - 0s - loss: 0.0668 - tp: 0.0000e+00 - fp: 0.0000e+00 - tn: 1991.0000 - fn: 9.0000 - accuracy: 0.9955 - precision: 0.0000e+00 - recall: 0.0000e+00 - auc: 0.3257 - prc: 0.0030 - val_loss: 0.0649 - val_tp: 0.0000e+00 - val_fp: 0.0000e+00 - val_tn: 2488.0000 - val_fn: 12.0000 - val_accuracy: 0.9952 - val_precision: 0.0000e+00 - val_recall: 0.0000e+00 - val_auc: 0.3420 - val_prc: 0.0033 - 95ms/epoch - 95ms/step\n",
      "Epoch 40/200\n",
      "1/1 - 0s - loss: 0.0603 - tp: 0.0000e+00 - fp: 0.0000e+00 - tn: 1991.0000 - fn: 9.0000 - accuracy: 0.9955 - precision: 0.0000e+00 - recall: 0.0000e+00 - auc: 0.3546 - prc: 0.0031 - val_loss: 0.0649 - val_tp: 0.0000e+00 - val_fp: 0.0000e+00 - val_tn: 2488.0000 - val_fn: 12.0000 - val_accuracy: 0.9952 - val_precision: 0.0000e+00 - val_recall: 0.0000e+00 - val_auc: 0.3475 - val_prc: 0.0033 - 89ms/epoch - 89ms/step\n",
      "Epoch 41/200\n",
      "1/1 - 0s - loss: 0.0589 - tp: 0.0000e+00 - fp: 0.0000e+00 - tn: 1991.0000 - fn: 9.0000 - accuracy: 0.9955 - precision: 0.0000e+00 - recall: 0.0000e+00 - auc: 0.3511 - prc: 0.0031 - val_loss: 0.0649 - val_tp: 0.0000e+00 - val_fp: 0.0000e+00 - val_tn: 2488.0000 - val_fn: 12.0000 - val_accuracy: 0.9952 - val_precision: 0.0000e+00 - val_recall: 0.0000e+00 - val_auc: 0.3525 - val_prc: 0.0033 - 91ms/epoch - 91ms/step\n",
      "Epoch 42/200\n",
      "1/1 - 0s - loss: 0.0582 - tp: 0.0000e+00 - fp: 0.0000e+00 - tn: 1991.0000 - fn: 9.0000 - accuracy: 0.9955 - precision: 0.0000e+00 - recall: 0.0000e+00 - auc: 0.4265 - prc: 0.0035 - val_loss: 0.0649 - val_tp: 0.0000e+00 - val_fp: 0.0000e+00 - val_tn: 2488.0000 - val_fn: 12.0000 - val_accuracy: 0.9952 - val_precision: 0.0000e+00 - val_recall: 0.0000e+00 - val_auc: 0.3569 - val_prc: 0.0034 - 89ms/epoch - 89ms/step\n",
      "Epoch 43/200\n",
      "1/1 - 0s - loss: 0.0648 - tp: 0.0000e+00 - fp: 0.0000e+00 - tn: 1991.0000 - fn: 9.0000 - accuracy: 0.9955 - precision: 0.0000e+00 - recall: 0.0000e+00 - auc: 0.3586 - prc: 0.0032 - val_loss: 0.0648 - val_tp: 0.0000e+00 - val_fp: 0.0000e+00 - val_tn: 2488.0000 - val_fn: 12.0000 - val_accuracy: 0.9952 - val_precision: 0.0000e+00 - val_recall: 0.0000e+00 - val_auc: 0.3601 - val_prc: 0.0034 - 87ms/epoch - 87ms/step\n",
      "Epoch 44/200\n",
      "1/1 - 0s - loss: 0.0644 - tp: 0.0000e+00 - fp: 0.0000e+00 - tn: 1991.0000 - fn: 9.0000 - accuracy: 0.9955 - precision: 0.0000e+00 - recall: 0.0000e+00 - auc: 0.3453 - prc: 0.0031 - val_loss: 0.0648 - val_tp: 0.0000e+00 - val_fp: 0.0000e+00 - val_tn: 2488.0000 - val_fn: 12.0000 - val_accuracy: 0.9952 - val_precision: 0.0000e+00 - val_recall: 0.0000e+00 - val_auc: 0.3637 - val_prc: 0.0034 - 94ms/epoch - 94ms/step\n",
      "Epoch 45/200\n",
      "1/1 - 0s - loss: 0.0588 - tp: 0.0000e+00 - fp: 0.0000e+00 - tn: 1991.0000 - fn: 9.0000 - accuracy: 0.9955 - precision: 0.0000e+00 - recall: 0.0000e+00 - auc: 0.3476 - prc: 0.0031 - val_loss: 0.0648 - val_tp: 0.0000e+00 - val_fp: 0.0000e+00 - val_tn: 2488.0000 - val_fn: 12.0000 - val_accuracy: 0.9952 - val_precision: 0.0000e+00 - val_recall: 0.0000e+00 - val_auc: 0.3668 - val_prc: 0.0034 - 89ms/epoch - 89ms/step\n",
      "Epoch 46/200\n",
      "1/1 - 0s - loss: 0.0611 - tp: 0.0000e+00 - fp: 0.0000e+00 - tn: 1991.0000 - fn: 9.0000 - accuracy: 0.9955 - precision: 0.0000e+00 - recall: 0.0000e+00 - auc: 0.3433 - prc: 0.0031 - val_loss: 0.0647 - val_tp: 0.0000e+00 - val_fp: 0.0000e+00 - val_tn: 2488.0000 - val_fn: 12.0000 - val_accuracy: 0.9952 - val_precision: 0.0000e+00 - val_recall: 0.0000e+00 - val_auc: 0.3682 - val_prc: 0.0034 - 96ms/epoch - 96ms/step\n",
      "Epoch 47/200\n",
      "1/1 - 0s - loss: 0.0599 - tp: 0.0000e+00 - fp: 0.0000e+00 - tn: 1991.0000 - fn: 9.0000 - accuracy: 0.9955 - precision: 0.0000e+00 - recall: 0.0000e+00 - auc: 0.4046 - prc: 0.0034 - val_loss: 0.0647 - val_tp: 0.0000e+00 - val_fp: 0.0000e+00 - val_tn: 2488.0000 - val_fn: 12.0000 - val_accuracy: 0.9952 - val_precision: 0.0000e+00 - val_recall: 0.0000e+00 - val_auc: 0.3694 - val_prc: 0.0034 - 92ms/epoch - 92ms/step\n",
      "Epoch 48/200\n",
      "1/1 - 0s - loss: 0.0592 - tp: 0.0000e+00 - fp: 0.0000e+00 - tn: 1991.0000 - fn: 9.0000 - accuracy: 0.9955 - precision: 0.0000e+00 - recall: 0.0000e+00 - auc: 0.3388 - prc: 0.0031 - val_loss: 0.0646 - val_tp: 0.0000e+00 - val_fp: 0.0000e+00 - val_tn: 2488.0000 - val_fn: 12.0000 - val_accuracy: 0.9952 - val_precision: 0.0000e+00 - val_recall: 0.0000e+00 - val_auc: 0.3702 - val_prc: 0.0034 - 92ms/epoch - 92ms/step\n",
      "Epoch 49/200\n",
      "1/1 - 0s - loss: 0.0603 - tp: 0.0000e+00 - fp: 0.0000e+00 - tn: 1991.0000 - fn: 9.0000 - accuracy: 0.9955 - precision: 0.0000e+00 - recall: 0.0000e+00 - auc: 0.3815 - prc: 0.0033 - val_loss: 0.0645 - val_tp: 0.0000e+00 - val_fp: 0.0000e+00 - val_tn: 2488.0000 - val_fn: 12.0000 - val_accuracy: 0.9952 - val_precision: 0.0000e+00 - val_recall: 0.0000e+00 - val_auc: 0.3712 - val_prc: 0.0034 - 89ms/epoch - 89ms/step\n",
      "Epoch 50/200\n",
      "1/1 - 0s - loss: 0.0603 - tp: 0.0000e+00 - fp: 0.0000e+00 - tn: 1991.0000 - fn: 9.0000 - accuracy: 0.9955 - precision: 0.0000e+00 - recall: 0.0000e+00 - auc: 0.3704 - prc: 0.0032 - val_loss: 0.0645 - val_tp: 0.0000e+00 - val_fp: 0.0000e+00 - val_tn: 2488.0000 - val_fn: 12.0000 - val_accuracy: 0.9952 - val_precision: 0.0000e+00 - val_recall: 0.0000e+00 - val_auc: 0.3716 - val_prc: 0.0034 - 90ms/epoch - 90ms/step\n",
      "Epoch 51/200\n",
      "1/1 - 0s - loss: 0.0609 - tp: 0.0000e+00 - fp: 0.0000e+00 - tn: 1991.0000 - fn: 9.0000 - accuracy: 0.9955 - precision: 0.0000e+00 - recall: 0.0000e+00 - auc: 0.3895 - prc: 0.0033 - val_loss: 0.0644 - val_tp: 0.0000e+00 - val_fp: 0.0000e+00 - val_tn: 2488.0000 - val_fn: 12.0000 - val_accuracy: 0.9952 - val_precision: 0.0000e+00 - val_recall: 0.0000e+00 - val_auc: 0.3720 - val_prc: 0.0034 - 88ms/epoch - 88ms/step\n",
      "Epoch 52/200\n",
      "1/1 - 0s - loss: 0.0620 - tp: 0.0000e+00 - fp: 0.0000e+00 - tn: 1991.0000 - fn: 9.0000 - accuracy: 0.9955 - precision: 0.0000e+00 - recall: 0.0000e+00 - auc: 0.3928 - prc: 0.0033 - val_loss: 0.0643 - val_tp: 0.0000e+00 - val_fp: 0.0000e+00 - val_tn: 2488.0000 - val_fn: 12.0000 - val_accuracy: 0.9952 - val_precision: 0.0000e+00 - val_recall: 0.0000e+00 - val_auc: 0.3730 - val_prc: 0.0034 - 91ms/epoch - 91ms/step\n",
      "Epoch 53/200\n",
      "1/1 - 0s - loss: 0.0603 - tp: 0.0000e+00 - fp: 0.0000e+00 - tn: 1991.0000 - fn: 9.0000 - accuracy: 0.9955 - precision: 0.0000e+00 - recall: 0.0000e+00 - auc: 0.3857 - prc: 0.0033 - val_loss: 0.0643 - val_tp: 0.0000e+00 - val_fp: 0.0000e+00 - val_tn: 2488.0000 - val_fn: 12.0000 - val_accuracy: 0.9952 - val_precision: 0.0000e+00 - val_recall: 0.0000e+00 - val_auc: 0.3722 - val_prc: 0.0034 - 85ms/epoch - 85ms/step\n",
      "Epoch 54/200\n",
      "1/1 - 0s - loss: 0.0576 - tp: 0.0000e+00 - fp: 0.0000e+00 - tn: 1991.0000 - fn: 9.0000 - accuracy: 0.9955 - precision: 0.0000e+00 - recall: 0.0000e+00 - auc: 0.4123 - prc: 0.0034 - val_loss: 0.0642 - val_tp: 0.0000e+00 - val_fp: 0.0000e+00 - val_tn: 2488.0000 - val_fn: 12.0000 - val_accuracy: 0.9952 - val_precision: 0.0000e+00 - val_recall: 0.0000e+00 - val_auc: 0.3718 - val_prc: 0.0034 - 90ms/epoch - 90ms/step\n",
      "Epoch 55/200\n",
      "1/1 - 0s - loss: 0.0614 - tp: 0.0000e+00 - fp: 0.0000e+00 - tn: 1991.0000 - fn: 9.0000 - accuracy: 0.9955 - precision: 0.0000e+00 - recall: 0.0000e+00 - auc: 0.3767 - prc: 0.0032 - val_loss: 0.0641 - val_tp: 0.0000e+00 - val_fp: 0.0000e+00 - val_tn: 2488.0000 - val_fn: 12.0000 - val_accuracy: 0.9952 - val_precision: 0.0000e+00 - val_recall: 0.0000e+00 - val_auc: 0.3716 - val_prc: 0.0034 - 87ms/epoch - 87ms/step\n",
      "Epoch 56/200\n",
      "1/1 - 0s - loss: 0.0601 - tp: 0.0000e+00 - fp: 0.0000e+00 - tn: 1991.0000 - fn: 9.0000 - accuracy: 0.9955 - precision: 0.0000e+00 - recall: 0.0000e+00 - auc: 0.4036 - prc: 0.0034 - val_loss: 0.0640 - val_tp: 0.0000e+00 - val_fp: 0.0000e+00 - val_tn: 2488.0000 - val_fn: 12.0000 - val_accuracy: 0.9952 - val_precision: 0.0000e+00 - val_recall: 0.0000e+00 - val_auc: 0.3702 - val_prc: 0.0034 - 86ms/epoch - 86ms/step\n",
      "Epoch 57/200\n",
      "1/1 - 0s - loss: 0.0595 - tp: 0.0000e+00 - fp: 0.0000e+00 - tn: 1991.0000 - fn: 9.0000 - accuracy: 0.9955 - precision: 0.0000e+00 - recall: 0.0000e+00 - auc: 0.3895 - prc: 0.0033 - val_loss: 0.0640 - val_tp: 0.0000e+00 - val_fp: 0.0000e+00 - val_tn: 2488.0000 - val_fn: 12.0000 - val_accuracy: 0.9952 - val_precision: 0.0000e+00 - val_recall: 0.0000e+00 - val_auc: 0.3684 - val_prc: 0.0034 - 91ms/epoch - 91ms/step\n",
      "Epoch 58/200\n",
      "1/1 - 0s - loss: 0.0597 - tp: 0.0000e+00 - fp: 0.0000e+00 - tn: 1991.0000 - fn: 9.0000 - accuracy: 0.9955 - precision: 0.0000e+00 - recall: 0.0000e+00 - auc: 0.3661 - prc: 0.0032 - val_loss: 0.0639 - val_tp: 0.0000e+00 - val_fp: 0.0000e+00 - val_tn: 2488.0000 - val_fn: 12.0000 - val_accuracy: 0.9952 - val_precision: 0.0000e+00 - val_recall: 0.0000e+00 - val_auc: 0.3666 - val_prc: 0.0034 - 88ms/epoch - 88ms/step\n",
      "Epoch 59/200\n",
      "1/1 - 0s - loss: 0.0601 - tp: 0.0000e+00 - fp: 0.0000e+00 - tn: 1991.0000 - fn: 9.0000 - accuracy: 0.9955 - precision: 0.0000e+00 - recall: 0.0000e+00 - auc: 0.4008 - prc: 0.0034 - val_loss: 0.0638 - val_tp: 0.0000e+00 - val_fp: 0.0000e+00 - val_tn: 2488.0000 - val_fn: 12.0000 - val_accuracy: 0.9952 - val_precision: 0.0000e+00 - val_recall: 0.0000e+00 - val_auc: 0.3639 - val_prc: 0.0034 - 85ms/epoch - 85ms/step\n",
      "Epoch 60/200\n",
      "1/1 - 0s - loss: 0.0601 - tp: 0.0000e+00 - fp: 0.0000e+00 - tn: 1991.0000 - fn: 9.0000 - accuracy: 0.9955 - precision: 0.0000e+00 - recall: 0.0000e+00 - auc: 0.3604 - prc: 0.0032 - val_loss: 0.0637 - val_tp: 0.0000e+00 - val_fp: 0.0000e+00 - val_tn: 2488.0000 - val_fn: 12.0000 - val_accuracy: 0.9952 - val_precision: 0.0000e+00 - val_recall: 0.0000e+00 - val_auc: 0.3607 - val_prc: 0.0034 - 85ms/epoch - 85ms/step\n",
      "Epoch 61/200\n",
      "1/1 - 0s - loss: 0.0616 - tp: 0.0000e+00 - fp: 0.0000e+00 - tn: 1991.0000 - fn: 9.0000 - accuracy: 0.9955 - precision: 0.0000e+00 - recall: 0.0000e+00 - auc: 0.3780 - prc: 0.0032 - val_loss: 0.0635 - val_tp: 0.0000e+00 - val_fp: 0.0000e+00 - val_tn: 2488.0000 - val_fn: 12.0000 - val_accuracy: 0.9952 - val_precision: 0.0000e+00 - val_recall: 0.0000e+00 - val_auc: 0.3569 - val_prc: 0.0034 - 88ms/epoch - 88ms/step\n",
      "Epoch 62/200\n",
      "1/1 - 0s - loss: 0.0579 - tp: 0.0000e+00 - fp: 0.0000e+00 - tn: 1991.0000 - fn: 9.0000 - accuracy: 0.9955 - precision: 0.0000e+00 - recall: 0.0000e+00 - auc: 0.3772 - prc: 0.0032 - val_loss: 0.0634 - val_tp: 0.0000e+00 - val_fp: 0.0000e+00 - val_tn: 2488.0000 - val_fn: 12.0000 - val_accuracy: 0.9952 - val_precision: 0.0000e+00 - val_recall: 0.0000e+00 - val_auc: 0.3527 - val_prc: 0.0033 - 89ms/epoch - 89ms/step\n",
      "Epoch 63/200\n",
      "1/1 - 0s - loss: 0.0639 - tp: 0.0000e+00 - fp: 0.0000e+00 - tn: 1991.0000 - fn: 9.0000 - accuracy: 0.9955 - precision: 0.0000e+00 - recall: 0.0000e+00 - auc: 0.3764 - prc: 0.0032 - val_loss: 0.0632 - val_tp: 0.0000e+00 - val_fp: 0.0000e+00 - val_tn: 2488.0000 - val_fn: 12.0000 - val_accuracy: 0.9952 - val_precision: 0.0000e+00 - val_recall: 0.0000e+00 - val_auc: 0.3475 - val_prc: 0.0033 - 93ms/epoch - 93ms/step\n",
      "Epoch 64/200\n",
      "1/1 - 0s - loss: 0.0608 - tp: 0.0000e+00 - fp: 0.0000e+00 - tn: 1991.0000 - fn: 9.0000 - accuracy: 0.9955 - precision: 0.0000e+00 - recall: 0.0000e+00 - auc: 0.3654 - prc: 0.0032 - val_loss: 0.0631 - val_tp: 0.0000e+00 - val_fp: 0.0000e+00 - val_tn: 2488.0000 - val_fn: 12.0000 - val_accuracy: 0.9952 - val_precision: 0.0000e+00 - val_recall: 0.0000e+00 - val_auc: 0.3428 - val_prc: 0.0033 - 92ms/epoch - 92ms/step\n",
      "Epoch 65/200\n",
      "1/1 - 0s - loss: 0.0534 - tp: 0.0000e+00 - fp: 0.0000e+00 - tn: 1991.0000 - fn: 9.0000 - accuracy: 0.9955 - precision: 0.0000e+00 - recall: 0.0000e+00 - auc: 0.4128 - prc: 0.0035 - val_loss: 0.0629 - val_tp: 0.0000e+00 - val_fp: 0.0000e+00 - val_tn: 2488.0000 - val_fn: 12.0000 - val_accuracy: 0.9952 - val_precision: 0.0000e+00 - val_recall: 0.0000e+00 - val_auc: 0.3378 - val_prc: 0.0033 - 87ms/epoch - 87ms/step\n",
      "Epoch 66/200\n",
      "1/1 - 0s - loss: 0.0568 - tp: 0.0000e+00 - fp: 0.0000e+00 - tn: 1991.0000 - fn: 9.0000 - accuracy: 0.9955 - precision: 0.0000e+00 - recall: 0.0000e+00 - auc: 0.3451 - prc: 0.0031 - val_loss: 0.0627 - val_tp: 0.0000e+00 - val_fp: 0.0000e+00 - val_tn: 2488.0000 - val_fn: 12.0000 - val_accuracy: 0.9952 - val_precision: 0.0000e+00 - val_recall: 0.0000e+00 - val_auc: 0.3340 - val_prc: 0.0033 - 97ms/epoch - 97ms/step\n",
      "Epoch 67/200\n",
      "1/1 - 0s - loss: 0.0585 - tp: 0.0000e+00 - fp: 0.0000e+00 - tn: 1991.0000 - fn: 9.0000 - accuracy: 0.9955 - precision: 0.0000e+00 - recall: 0.0000e+00 - auc: 0.3564 - prc: 0.0031 - val_loss: 0.0625 - val_tp: 0.0000e+00 - val_fp: 0.0000e+00 - val_tn: 2488.0000 - val_fn: 12.0000 - val_accuracy: 0.9952 - val_precision: 0.0000e+00 - val_recall: 0.0000e+00 - val_auc: 0.3262 - val_prc: 0.0032 - 93ms/epoch - 93ms/step\n",
      "Epoch 68/200\n",
      "1/1 - 0s - loss: 0.0587 - tp: 0.0000e+00 - fp: 0.0000e+00 - tn: 1991.0000 - fn: 9.0000 - accuracy: 0.9955 - precision: 0.0000e+00 - recall: 0.0000e+00 - auc: 0.3521 - prc: 0.0031 - val_loss: 0.0623 - val_tp: 0.0000e+00 - val_fp: 0.0000e+00 - val_tn: 2488.0000 - val_fn: 12.0000 - val_accuracy: 0.9952 - val_precision: 0.0000e+00 - val_recall: 0.0000e+00 - val_auc: 0.3230 - val_prc: 0.0032 - 91ms/epoch - 91ms/step\n",
      "Epoch 69/200\n",
      "1/1 - 0s - loss: 0.0563 - tp: 0.0000e+00 - fp: 0.0000e+00 - tn: 1991.0000 - fn: 9.0000 - accuracy: 0.9955 - precision: 0.0000e+00 - recall: 0.0000e+00 - auc: 0.4213 - prc: 0.0035 - val_loss: 0.0621 - val_tp: 0.0000e+00 - val_fp: 0.0000e+00 - val_tn: 2488.0000 - val_fn: 12.0000 - val_accuracy: 0.9952 - val_precision: 0.0000e+00 - val_recall: 0.0000e+00 - val_auc: 0.3181 - val_prc: 0.0032 - 98ms/epoch - 98ms/step\n",
      "Epoch 70/200\n",
      "1/1 - 0s - loss: 0.0574 - tp: 0.0000e+00 - fp: 0.0000e+00 - tn: 1991.0000 - fn: 9.0000 - accuracy: 0.9955 - precision: 0.0000e+00 - recall: 0.0000e+00 - auc: 0.3325 - prc: 0.0030 - val_loss: 0.0619 - val_tp: 0.0000e+00 - val_fp: 0.0000e+00 - val_tn: 2488.0000 - val_fn: 12.0000 - val_accuracy: 0.9952 - val_precision: 0.0000e+00 - val_recall: 0.0000e+00 - val_auc: 0.3115 - val_prc: 0.0032 - 95ms/epoch - 95ms/step\n",
      "Epoch 71/200\n",
      "1/1 - 0s - loss: 0.0575 - tp: 0.0000e+00 - fp: 0.0000e+00 - tn: 1991.0000 - fn: 9.0000 - accuracy: 0.9955 - precision: 0.0000e+00 - recall: 0.0000e+00 - auc: 0.3410 - prc: 0.0031 - val_loss: 0.0617 - val_tp: 0.0000e+00 - val_fp: 0.0000e+00 - val_tn: 2488.0000 - val_fn: 12.0000 - val_accuracy: 0.9952 - val_precision: 0.0000e+00 - val_recall: 0.0000e+00 - val_auc: 0.3065 - val_prc: 0.0031 - 91ms/epoch - 91ms/step\n",
      "Epoch 72/200\n",
      "1/1 - 0s - loss: 0.0546 - tp: 0.0000e+00 - fp: 0.0000e+00 - tn: 1991.0000 - fn: 9.0000 - accuracy: 0.9955 - precision: 0.0000e+00 - recall: 0.0000e+00 - auc: 0.3826 - prc: 0.0033 - val_loss: 0.0614 - val_tp: 0.0000e+00 - val_fp: 0.0000e+00 - val_tn: 2488.0000 - val_fn: 12.0000 - val_accuracy: 0.9952 - val_precision: 0.0000e+00 - val_recall: 0.0000e+00 - val_auc: 0.3012 - val_prc: 0.0031 - 98ms/epoch - 98ms/step\n",
      "Epoch 73/200\n",
      "1/1 - 0s - loss: 0.0581 - tp: 0.0000e+00 - fp: 0.0000e+00 - tn: 1991.0000 - fn: 9.0000 - accuracy: 0.9955 - precision: 0.0000e+00 - recall: 0.0000e+00 - auc: 0.3466 - prc: 0.0031 - val_loss: 0.0612 - val_tp: 0.0000e+00 - val_fp: 0.0000e+00 - val_tn: 2488.0000 - val_fn: 12.0000 - val_accuracy: 0.9952 - val_precision: 0.0000e+00 - val_recall: 0.0000e+00 - val_auc: 0.2972 - val_prc: 0.0031 - 94ms/epoch - 94ms/step\n",
      "Epoch 74/200\n",
      "1/1 - 0s - loss: 0.0559 - tp: 0.0000e+00 - fp: 0.0000e+00 - tn: 1991.0000 - fn: 9.0000 - accuracy: 0.9955 - precision: 0.0000e+00 - recall: 0.0000e+00 - auc: 0.3345 - prc: 0.0030 - val_loss: 0.0610 - val_tp: 0.0000e+00 - val_fp: 0.0000e+00 - val_tn: 2488.0000 - val_fn: 12.0000 - val_accuracy: 0.9952 - val_precision: 0.0000e+00 - val_recall: 0.0000e+00 - val_auc: 0.2874 - val_prc: 0.0031 - 98ms/epoch - 98ms/step\n",
      "Epoch 75/200\n",
      "1/1 - 0s - loss: 0.0532 - tp: 0.0000e+00 - fp: 0.0000e+00 - tn: 1991.0000 - fn: 9.0000 - accuracy: 0.9955 - precision: 0.0000e+00 - recall: 0.0000e+00 - auc: 0.3114 - prc: 0.0030 - val_loss: 0.0607 - val_tp: 0.0000e+00 - val_fp: 0.0000e+00 - val_tn: 2488.0000 - val_fn: 12.0000 - val_accuracy: 0.9952 - val_precision: 0.0000e+00 - val_recall: 0.0000e+00 - val_auc: 0.2818 - val_prc: 0.0031 - 91ms/epoch - 91ms/step\n",
      "Epoch 76/200\n",
      "1/1 - 0s - loss: 0.0511 - tp: 0.0000e+00 - fp: 0.0000e+00 - tn: 1991.0000 - fn: 9.0000 - accuracy: 0.9955 - precision: 0.0000e+00 - recall: 0.0000e+00 - auc: 0.3951 - prc: 0.0033 - val_loss: 0.0605 - val_tp: 0.0000e+00 - val_fp: 0.0000e+00 - val_tn: 2488.0000 - val_fn: 12.0000 - val_accuracy: 0.9952 - val_precision: 0.0000e+00 - val_recall: 0.0000e+00 - val_auc: 0.2775 - val_prc: 0.0030 - 92ms/epoch - 92ms/step\n",
      "Epoch 77/200\n",
      "1/1 - 0s - loss: 0.0558 - tp: 0.0000e+00 - fp: 0.0000e+00 - tn: 1991.0000 - fn: 9.0000 - accuracy: 0.9955 - precision: 0.0000e+00 - recall: 0.0000e+00 - auc: 0.3217 - prc: 0.0030 - val_loss: 0.0603 - val_tp: 0.0000e+00 - val_fp: 0.0000e+00 - val_tn: 2488.0000 - val_fn: 12.0000 - val_accuracy: 0.9952 - val_precision: 0.0000e+00 - val_recall: 0.0000e+00 - val_auc: 0.2729 - val_prc: 0.0030 - 96ms/epoch - 96ms/step\n",
      "Epoch 78/200\n",
      "1/1 - 0s - loss: 0.0552 - tp: 0.0000e+00 - fp: 0.0000e+00 - tn: 1991.0000 - fn: 9.0000 - accuracy: 0.9955 - precision: 0.0000e+00 - recall: 0.0000e+00 - auc: 0.2923 - prc: 0.0029 - val_loss: 0.0601 - val_tp: 0.0000e+00 - val_fp: 0.0000e+00 - val_tn: 2488.0000 - val_fn: 12.0000 - val_accuracy: 0.9952 - val_precision: 0.0000e+00 - val_recall: 0.0000e+00 - val_auc: 0.2683 - val_prc: 0.0030 - 90ms/epoch - 90ms/step\n",
      "Epoch 79/200\n",
      "1/1 - 0s - loss: 0.0554 - tp: 0.0000e+00 - fp: 0.0000e+00 - tn: 1991.0000 - fn: 9.0000 - accuracy: 0.9955 - precision: 0.0000e+00 - recall: 0.0000e+00 - auc: 0.2978 - prc: 0.0029 - val_loss: 0.0599 - val_tp: 0.0000e+00 - val_fp: 0.0000e+00 - val_tn: 2488.0000 - val_fn: 12.0000 - val_accuracy: 0.9952 - val_precision: 0.0000e+00 - val_recall: 0.0000e+00 - val_auc: 0.2643 - val_prc: 0.0030 - 89ms/epoch - 89ms/step\n",
      "Epoch 80/200\n",
      "1/1 - 0s - loss: 0.0519 - tp: 0.0000e+00 - fp: 0.0000e+00 - tn: 1991.0000 - fn: 9.0000 - accuracy: 0.9955 - precision: 0.0000e+00 - recall: 0.0000e+00 - auc: 0.2996 - prc: 0.0029 - val_loss: 0.0597 - val_tp: 0.0000e+00 - val_fp: 0.0000e+00 - val_tn: 2488.0000 - val_fn: 12.0000 - val_accuracy: 0.9952 - val_precision: 0.0000e+00 - val_recall: 0.0000e+00 - val_auc: 0.2891 - val_prc: 0.0031 - 95ms/epoch - 95ms/step\n",
      "Epoch 81/200\n",
      "1/1 - 0s - loss: 0.0561 - tp: 0.0000e+00 - fp: 0.0000e+00 - tn: 1991.0000 - fn: 9.0000 - accuracy: 0.9955 - precision: 0.0000e+00 - recall: 0.0000e+00 - auc: 0.3071 - prc: 0.0029 - val_loss: 0.0594 - val_tp: 0.0000e+00 - val_fp: 0.0000e+00 - val_tn: 2488.0000 - val_fn: 12.0000 - val_accuracy: 0.9952 - val_precision: 0.0000e+00 - val_recall: 0.0000e+00 - val_auc: 0.2845 - val_prc: 0.0030 - 88ms/epoch - 88ms/step\n",
      "Epoch 82/200\n",
      "1/1 - 0s - loss: 0.0517 - tp: 0.0000e+00 - fp: 0.0000e+00 - tn: 1991.0000 - fn: 9.0000 - accuracy: 0.9955 - precision: 0.0000e+00 - recall: 0.0000e+00 - auc: 0.2860 - prc: 0.0029 - val_loss: 0.0592 - val_tp: 0.0000e+00 - val_fp: 0.0000e+00 - val_tn: 2488.0000 - val_fn: 12.0000 - val_accuracy: 0.9952 - val_precision: 0.0000e+00 - val_recall: 0.0000e+00 - val_auc: 0.2812 - val_prc: 0.0030 - 92ms/epoch - 92ms/step\n",
      "Epoch 83/200\n",
      "1/1 - 0s - loss: 0.0535 - tp: 0.0000e+00 - fp: 0.0000e+00 - tn: 1991.0000 - fn: 9.0000 - accuracy: 0.9955 - precision: 0.0000e+00 - recall: 0.0000e+00 - auc: 0.3149 - prc: 0.0030 - val_loss: 0.0589 - val_tp: 0.0000e+00 - val_fp: 0.0000e+00 - val_tn: 2488.0000 - val_fn: 12.0000 - val_accuracy: 0.9952 - val_precision: 0.0000e+00 - val_recall: 0.0000e+00 - val_auc: 0.2766 - val_prc: 0.0030 - 91ms/epoch - 91ms/step\n",
      "Epoch 84/200\n",
      "1/1 - 0s - loss: 0.0550 - tp: 0.0000e+00 - fp: 0.0000e+00 - tn: 1991.0000 - fn: 9.0000 - accuracy: 0.9955 - precision: 0.0000e+00 - recall: 0.0000e+00 - auc: 0.2614 - prc: 0.0028 - val_loss: 0.0587 - val_tp: 0.0000e+00 - val_fp: 0.0000e+00 - val_tn: 2488.0000 - val_fn: 12.0000 - val_accuracy: 0.9952 - val_precision: 0.0000e+00 - val_recall: 0.0000e+00 - val_auc: 0.2729 - val_prc: 0.0030 - 88ms/epoch - 88ms/step\n",
      "Epoch 85/200\n",
      "1/1 - 0s - loss: 0.0495 - tp: 0.0000e+00 - fp: 0.0000e+00 - tn: 1991.0000 - fn: 9.0000 - accuracy: 0.9955 - precision: 0.0000e+00 - recall: 0.0000e+00 - auc: 0.2919 - prc: 0.0029 - val_loss: 0.0584 - val_tp: 0.0000e+00 - val_fp: 0.0000e+00 - val_tn: 2488.0000 - val_fn: 12.0000 - val_accuracy: 0.9952 - val_precision: 0.0000e+00 - val_recall: 0.0000e+00 - val_auc: 0.2685 - val_prc: 0.0030 - 92ms/epoch - 92ms/step\n",
      "Epoch 86/200\n",
      "1/1 - 0s - loss: 0.0519 - tp: 0.0000e+00 - fp: 0.0000e+00 - tn: 1991.0000 - fn: 9.0000 - accuracy: 0.9955 - precision: 0.0000e+00 - recall: 0.0000e+00 - auc: 0.2629 - prc: 0.0028 - val_loss: 0.0582 - val_tp: 0.0000e+00 - val_fp: 0.0000e+00 - val_tn: 2488.0000 - val_fn: 12.0000 - val_accuracy: 0.9952 - val_precision: 0.0000e+00 - val_recall: 0.0000e+00 - val_auc: 0.2660 - val_prc: 0.0030 - 85ms/epoch - 85ms/step\n",
      "Epoch 87/200\n",
      "1/1 - 0s - loss: 0.0484 - tp: 0.0000e+00 - fp: 0.0000e+00 - tn: 1991.0000 - fn: 9.0000 - accuracy: 0.9955 - precision: 0.0000e+00 - recall: 0.0000e+00 - auc: 0.3040 - prc: 0.0029 - val_loss: 0.0580 - val_tp: 0.0000e+00 - val_fp: 0.0000e+00 - val_tn: 2488.0000 - val_fn: 12.0000 - val_accuracy: 0.9952 - val_precision: 0.0000e+00 - val_recall: 0.0000e+00 - val_auc: 0.2626 - val_prc: 0.0030 - 88ms/epoch - 88ms/step\n",
      "Epoch 88/200\n",
      "1/1 - 0s - loss: 0.0539 - tp: 0.0000e+00 - fp: 0.0000e+00 - tn: 1991.0000 - fn: 9.0000 - accuracy: 0.9955 - precision: 0.0000e+00 - recall: 0.0000e+00 - auc: 0.2876 - prc: 0.0029 - val_loss: 0.0578 - val_tp: 0.0000e+00 - val_fp: 0.0000e+00 - val_tn: 2488.0000 - val_fn: 12.0000 - val_accuracy: 0.9952 - val_precision: 0.0000e+00 - val_recall: 0.0000e+00 - val_auc: 0.2591 - val_prc: 0.0030 - 90ms/epoch - 90ms/step\n",
      "Epoch 89/200\n",
      "1/1 - 0s - loss: 0.0523 - tp: 0.0000e+00 - fp: 0.0000e+00 - tn: 1991.0000 - fn: 9.0000 - accuracy: 0.9955 - precision: 0.0000e+00 - recall: 0.0000e+00 - auc: 0.2885 - prc: 0.0029 - val_loss: 0.0575 - val_tp: 0.0000e+00 - val_fp: 0.0000e+00 - val_tn: 2488.0000 - val_fn: 12.0000 - val_accuracy: 0.9952 - val_precision: 0.0000e+00 - val_recall: 0.0000e+00 - val_auc: 0.2549 - val_prc: 0.0030 - 86ms/epoch - 86ms/step\n",
      "Epoch 90/200\n",
      "1/1 - 0s - loss: 0.0524 - tp: 0.0000e+00 - fp: 0.0000e+00 - tn: 1991.0000 - fn: 9.0000 - accuracy: 0.9955 - precision: 0.0000e+00 - recall: 0.0000e+00 - auc: 0.2832 - prc: 0.0029 - val_loss: 0.0573 - val_tp: 0.0000e+00 - val_fp: 0.0000e+00 - val_tn: 2488.0000 - val_fn: 12.0000 - val_accuracy: 0.9952 - val_precision: 0.0000e+00 - val_recall: 0.0000e+00 - val_auc: 0.2505 - val_prc: 0.0029 - 90ms/epoch - 90ms/step\n",
      "Epoch 91/200\n",
      "1/1 - 0s - loss: 0.0511 - tp: 0.0000e+00 - fp: 0.0000e+00 - tn: 1991.0000 - fn: 9.0000 - accuracy: 0.9955 - precision: 0.0000e+00 - recall: 0.0000e+00 - auc: 0.2610 - prc: 0.0028 - val_loss: 0.0571 - val_tp: 0.0000e+00 - val_fp: 0.0000e+00 - val_tn: 2488.0000 - val_fn: 12.0000 - val_accuracy: 0.9952 - val_precision: 0.0000e+00 - val_recall: 0.0000e+00 - val_auc: 0.2722 - val_prc: 0.0030 - 106ms/epoch - 106ms/step\n",
      "Epoch 92/200\n",
      "1/1 - 0s - loss: 0.0487 - tp: 0.0000e+00 - fp: 0.0000e+00 - tn: 1991.0000 - fn: 9.0000 - accuracy: 0.9955 - precision: 0.0000e+00 - recall: 0.0000e+00 - auc: 0.3220 - prc: 0.0030 - val_loss: 0.0569 - val_tp: 0.0000e+00 - val_fp: 0.0000e+00 - val_tn: 2488.0000 - val_fn: 12.0000 - val_accuracy: 0.9952 - val_precision: 0.0000e+00 - val_recall: 0.0000e+00 - val_auc: 0.2684 - val_prc: 0.0030 - 90ms/epoch - 90ms/step\n",
      "Epoch 93/200\n",
      "1/1 - 0s - loss: 0.0484 - tp: 0.0000e+00 - fp: 0.0000e+00 - tn: 1991.0000 - fn: 9.0000 - accuracy: 0.9955 - precision: 0.0000e+00 - recall: 0.0000e+00 - auc: 0.3310 - prc: 0.0030 - val_loss: 0.0566 - val_tp: 0.0000e+00 - val_fp: 0.0000e+00 - val_tn: 2488.0000 - val_fn: 12.0000 - val_accuracy: 0.9952 - val_precision: 0.0000e+00 - val_recall: 0.0000e+00 - val_auc: 0.2756 - val_prc: 0.0030 - 84ms/epoch - 84ms/step\n",
      "Epoch 94/200\n",
      "1/1 - 0s - loss: 0.0507 - tp: 0.0000e+00 - fp: 0.0000e+00 - tn: 1991.0000 - fn: 9.0000 - accuracy: 0.9955 - precision: 0.0000e+00 - recall: 0.0000e+00 - auc: 0.2658 - prc: 0.0028 - val_loss: 0.0564 - val_tp: 0.0000e+00 - val_fp: 0.0000e+00 - val_tn: 2488.0000 - val_fn: 12.0000 - val_accuracy: 0.9952 - val_precision: 0.0000e+00 - val_recall: 0.0000e+00 - val_auc: 0.2737 - val_prc: 0.0030 - 92ms/epoch - 92ms/step\n",
      "Epoch 95/200\n",
      "1/1 - 0s - loss: 0.0500 - tp: 0.0000e+00 - fp: 0.0000e+00 - tn: 1991.0000 - fn: 9.0000 - accuracy: 0.9955 - precision: 0.0000e+00 - recall: 0.0000e+00 - auc: 0.3389 - prc: 0.0030 - val_loss: 0.0561 - val_tp: 0.0000e+00 - val_fp: 0.0000e+00 - val_tn: 2488.0000 - val_fn: 12.0000 - val_accuracy: 0.9952 - val_precision: 0.0000e+00 - val_recall: 0.0000e+00 - val_auc: 0.2705 - val_prc: 0.0030 - 85ms/epoch - 85ms/step\n",
      "Epoch 96/200\n",
      "1/1 - 0s - loss: 0.0514 - tp: 0.0000e+00 - fp: 0.0000e+00 - tn: 1991.0000 - fn: 9.0000 - accuracy: 0.9955 - precision: 0.0000e+00 - recall: 0.0000e+00 - auc: 0.2983 - prc: 0.0029 - val_loss: 0.0558 - val_tp: 0.0000e+00 - val_fp: 0.0000e+00 - val_tn: 2488.0000 - val_fn: 12.0000 - val_accuracy: 0.9952 - val_precision: 0.0000e+00 - val_recall: 0.0000e+00 - val_auc: 0.2686 - val_prc: 0.0030 - 90ms/epoch - 90ms/step\n",
      "Epoch 97/200\n",
      "1/1 - 0s - loss: 0.0462 - tp: 0.0000e+00 - fp: 0.0000e+00 - tn: 1991.0000 - fn: 9.0000 - accuracy: 0.9955 - precision: 0.0000e+00 - recall: 0.0000e+00 - auc: 0.2825 - prc: 0.0029 - val_loss: 0.0555 - val_tp: 0.0000e+00 - val_fp: 0.0000e+00 - val_tn: 2488.0000 - val_fn: 12.0000 - val_accuracy: 0.9952 - val_precision: 0.0000e+00 - val_recall: 0.0000e+00 - val_auc: 0.2664 - val_prc: 0.0030 - 87ms/epoch - 87ms/step\n",
      "Epoch 98/200\n",
      "1/1 - 0s - loss: 0.0470 - tp: 0.0000e+00 - fp: 0.0000e+00 - tn: 1991.0000 - fn: 9.0000 - accuracy: 0.9955 - precision: 0.0000e+00 - recall: 0.0000e+00 - auc: 0.3202 - prc: 0.0030 - val_loss: 0.0552 - val_tp: 0.0000e+00 - val_fp: 0.0000e+00 - val_tn: 2488.0000 - val_fn: 12.0000 - val_accuracy: 0.9952 - val_precision: 0.0000e+00 - val_recall: 0.0000e+00 - val_auc: 0.2883 - val_prc: 0.0031 - 99ms/epoch - 99ms/step\n",
      "Epoch 99/200\n",
      "1/1 - 0s - loss: 0.0458 - tp: 0.0000e+00 - fp: 0.0000e+00 - tn: 1991.0000 - fn: 9.0000 - accuracy: 0.9955 - precision: 0.0000e+00 - recall: 0.0000e+00 - auc: 0.3471 - prc: 0.0031 - val_loss: 0.0549 - val_tp: 0.0000e+00 - val_fp: 0.0000e+00 - val_tn: 2488.0000 - val_fn: 12.0000 - val_accuracy: 0.9952 - val_precision: 0.0000e+00 - val_recall: 0.0000e+00 - val_auc: 0.2869 - val_prc: 0.0031 - 92ms/epoch - 92ms/step\n",
      "Epoch 100/200\n",
      "1/1 - 0s - loss: 0.0463 - tp: 0.0000e+00 - fp: 0.0000e+00 - tn: 1991.0000 - fn: 9.0000 - accuracy: 0.9955 - precision: 0.0000e+00 - recall: 0.0000e+00 - auc: 0.3132 - prc: 0.0030 - val_loss: 0.0547 - val_tp: 0.0000e+00 - val_fp: 0.0000e+00 - val_tn: 2488.0000 - val_fn: 12.0000 - val_accuracy: 0.9952 - val_precision: 0.0000e+00 - val_recall: 0.0000e+00 - val_auc: 0.2948 - val_prc: 0.0031 - 85ms/epoch - 85ms/step\n",
      "Epoch 101/200\n",
      "1/1 - 0s - loss: 0.0482 - tp: 0.0000e+00 - fp: 0.0000e+00 - tn: 1991.0000 - fn: 9.0000 - accuracy: 0.9955 - precision: 0.0000e+00 - recall: 0.0000e+00 - auc: 0.3467 - prc: 0.0031 - val_loss: 0.0544 - val_tp: 0.0000e+00 - val_fp: 0.0000e+00 - val_tn: 2488.0000 - val_fn: 12.0000 - val_accuracy: 0.9952 - val_precision: 0.0000e+00 - val_recall: 0.0000e+00 - val_auc: 0.2939 - val_prc: 0.0031 - 87ms/epoch - 87ms/step\n",
      "Epoch 102/200\n",
      "1/1 - 0s - loss: 0.0472 - tp: 0.0000e+00 - fp: 0.0000e+00 - tn: 1991.0000 - fn: 9.0000 - accuracy: 0.9955 - precision: 0.0000e+00 - recall: 0.0000e+00 - auc: 0.3421 - prc: 0.0031 - val_loss: 0.0541 - val_tp: 0.0000e+00 - val_fp: 0.0000e+00 - val_tn: 2488.0000 - val_fn: 12.0000 - val_accuracy: 0.9952 - val_precision: 0.0000e+00 - val_recall: 0.0000e+00 - val_auc: 0.2932 - val_prc: 0.0031 - 91ms/epoch - 91ms/step\n",
      "Epoch 103/200\n",
      "1/1 - 0s - loss: 0.0448 - tp: 0.0000e+00 - fp: 0.0000e+00 - tn: 1991.0000 - fn: 9.0000 - accuracy: 0.9955 - precision: 0.0000e+00 - recall: 0.0000e+00 - auc: 0.3543 - prc: 0.0032 - val_loss: 0.0538 - val_tp: 0.0000e+00 - val_fp: 0.0000e+00 - val_tn: 2488.0000 - val_fn: 12.0000 - val_accuracy: 0.9952 - val_precision: 0.0000e+00 - val_recall: 0.0000e+00 - val_auc: 0.2932 - val_prc: 0.0031 - 87ms/epoch - 87ms/step\n",
      "Epoch 104/200\n",
      "1/1 - 0s - loss: 0.0479 - tp: 0.0000e+00 - fp: 0.0000e+00 - tn: 1991.0000 - fn: 9.0000 - accuracy: 0.9955 - precision: 0.0000e+00 - recall: 0.0000e+00 - auc: 0.3380 - prc: 0.0031 - val_loss: 0.0536 - val_tp: 0.0000e+00 - val_fp: 0.0000e+00 - val_tn: 2488.0000 - val_fn: 12.0000 - val_accuracy: 0.9952 - val_precision: 0.0000e+00 - val_recall: 0.0000e+00 - val_auc: 0.2933 - val_prc: 0.0031 - 88ms/epoch - 88ms/step\n",
      "Epoch 105/200\n",
      "1/1 - 0s - loss: 0.0451 - tp: 0.0000e+00 - fp: 0.0000e+00 - tn: 1991.0000 - fn: 9.0000 - accuracy: 0.9955 - precision: 0.0000e+00 - recall: 0.0000e+00 - auc: 0.3293 - prc: 0.0030 - val_loss: 0.0533 - val_tp: 0.0000e+00 - val_fp: 0.0000e+00 - val_tn: 2488.0000 - val_fn: 12.0000 - val_accuracy: 0.9952 - val_precision: 0.0000e+00 - val_recall: 0.0000e+00 - val_auc: 0.2939 - val_prc: 0.0031 - 89ms/epoch - 89ms/step\n",
      "Epoch 106/200\n",
      "1/1 - 0s - loss: 0.0430 - tp: 0.0000e+00 - fp: 0.0000e+00 - tn: 1991.0000 - fn: 9.0000 - accuracy: 0.9955 - precision: 0.0000e+00 - recall: 0.0000e+00 - auc: 0.4015 - prc: 0.0035 - val_loss: 0.0531 - val_tp: 0.0000e+00 - val_fp: 0.0000e+00 - val_tn: 2488.0000 - val_fn: 12.0000 - val_accuracy: 0.9952 - val_precision: 0.0000e+00 - val_recall: 0.0000e+00 - val_auc: 0.2941 - val_prc: 0.0031 - 102ms/epoch - 102ms/step\n",
      "Epoch 107/200\n",
      "1/1 - 0s - loss: 0.0466 - tp: 0.0000e+00 - fp: 0.0000e+00 - tn: 1991.0000 - fn: 9.0000 - accuracy: 0.9955 - precision: 0.0000e+00 - recall: 0.0000e+00 - auc: 0.3154 - prc: 0.0030 - val_loss: 0.0528 - val_tp: 0.0000e+00 - val_fp: 0.0000e+00 - val_tn: 2488.0000 - val_fn: 12.0000 - val_accuracy: 0.9952 - val_precision: 0.0000e+00 - val_recall: 0.0000e+00 - val_auc: 0.2947 - val_prc: 0.0031 - 92ms/epoch - 92ms/step\n",
      "Epoch 108/200\n",
      "1/1 - 0s - loss: 0.0430 - tp: 0.0000e+00 - fp: 0.0000e+00 - tn: 1991.0000 - fn: 9.0000 - accuracy: 0.9955 - precision: 0.0000e+00 - recall: 0.0000e+00 - auc: 0.3529 - prc: 0.0031 - val_loss: 0.0526 - val_tp: 0.0000e+00 - val_fp: 0.0000e+00 - val_tn: 2488.0000 - val_fn: 12.0000 - val_accuracy: 0.9952 - val_precision: 0.0000e+00 - val_recall: 0.0000e+00 - val_auc: 0.2959 - val_prc: 0.0031 - 85ms/epoch - 85ms/step\n",
      "Epoch 109/200\n",
      "1/1 - 0s - loss: 0.0453 - tp: 0.0000e+00 - fp: 0.0000e+00 - tn: 1991.0000 - fn: 9.0000 - accuracy: 0.9955 - precision: 0.0000e+00 - recall: 0.0000e+00 - auc: 0.3252 - prc: 0.0030 - val_loss: 0.0523 - val_tp: 0.0000e+00 - val_fp: 0.0000e+00 - val_tn: 2488.0000 - val_fn: 12.0000 - val_accuracy: 0.9952 - val_precision: 0.0000e+00 - val_recall: 0.0000e+00 - val_auc: 0.3054 - val_prc: 0.0031 - 97ms/epoch - 97ms/step\n",
      "Epoch 110/200\n",
      "1/1 - 0s - loss: 0.0441 - tp: 0.0000e+00 - fp: 0.0000e+00 - tn: 1991.0000 - fn: 9.0000 - accuracy: 0.9955 - precision: 0.0000e+00 - recall: 0.0000e+00 - auc: 0.3411 - prc: 0.0031 - val_loss: 0.0521 - val_tp: 0.0000e+00 - val_fp: 0.0000e+00 - val_tn: 2488.0000 - val_fn: 12.0000 - val_accuracy: 0.9952 - val_precision: 0.0000e+00 - val_recall: 0.0000e+00 - val_auc: 0.3052 - val_prc: 0.0031 - 87ms/epoch - 87ms/step\n",
      "Epoch 111/200\n",
      "1/1 - 0s - loss: 0.0417 - tp: 0.0000e+00 - fp: 0.0000e+00 - tn: 1991.0000 - fn: 9.0000 - accuracy: 0.9955 - precision: 0.0000e+00 - recall: 0.0000e+00 - auc: 0.3842 - prc: 0.0033 - val_loss: 0.0518 - val_tp: 0.0000e+00 - val_fp: 0.0000e+00 - val_tn: 2488.0000 - val_fn: 12.0000 - val_accuracy: 0.9952 - val_precision: 0.0000e+00 - val_recall: 0.0000e+00 - val_auc: 0.3057 - val_prc: 0.0031 - 93ms/epoch - 93ms/step\n",
      "Epoch 112/200\n",
      "1/1 - 0s - loss: 0.0440 - tp: 0.0000e+00 - fp: 0.0000e+00 - tn: 1991.0000 - fn: 9.0000 - accuracy: 0.9955 - precision: 0.0000e+00 - recall: 0.0000e+00 - auc: 0.3520 - prc: 0.0031 - val_loss: 0.0516 - val_tp: 0.0000e+00 - val_fp: 0.0000e+00 - val_tn: 2488.0000 - val_fn: 12.0000 - val_accuracy: 0.9952 - val_precision: 0.0000e+00 - val_recall: 0.0000e+00 - val_auc: 0.3164 - val_prc: 0.0031 - 97ms/epoch - 97ms/step\n",
      "Epoch 113/200\n",
      "1/1 - 0s - loss: 0.0443 - tp: 0.0000e+00 - fp: 0.0000e+00 - tn: 1991.0000 - fn: 9.0000 - accuracy: 0.9955 - precision: 0.0000e+00 - recall: 0.0000e+00 - auc: 0.3790 - prc: 0.0033 - val_loss: 0.0514 - val_tp: 0.0000e+00 - val_fp: 0.0000e+00 - val_tn: 2488.0000 - val_fn: 12.0000 - val_accuracy: 0.9952 - val_precision: 0.0000e+00 - val_recall: 0.0000e+00 - val_auc: 0.3176 - val_prc: 0.0032 - 93ms/epoch - 93ms/step\n",
      "Epoch 114/200\n",
      "1/1 - 0s - loss: 0.0398 - tp: 0.0000e+00 - fp: 0.0000e+00 - tn: 1991.0000 - fn: 9.0000 - accuracy: 0.9955 - precision: 0.0000e+00 - recall: 0.0000e+00 - auc: 0.4357 - prc: 0.0047 - val_loss: 0.0512 - val_tp: 0.0000e+00 - val_fp: 0.0000e+00 - val_tn: 2488.0000 - val_fn: 12.0000 - val_accuracy: 0.9952 - val_precision: 0.0000e+00 - val_recall: 0.0000e+00 - val_auc: 0.3194 - val_prc: 0.0032 - 87ms/epoch - 87ms/step\n",
      "Epoch 115/200\n",
      "1/1 - 0s - loss: 0.0435 - tp: 0.0000e+00 - fp: 0.0000e+00 - tn: 1991.0000 - fn: 9.0000 - accuracy: 0.9955 - precision: 0.0000e+00 - recall: 0.0000e+00 - auc: 0.3304 - prc: 0.0030 - val_loss: 0.0509 - val_tp: 0.0000e+00 - val_fp: 0.0000e+00 - val_tn: 2488.0000 - val_fn: 12.0000 - val_accuracy: 0.9952 - val_precision: 0.0000e+00 - val_recall: 0.0000e+00 - val_auc: 0.3207 - val_prc: 0.0032 - 101ms/epoch - 101ms/step\n",
      "Epoch 116/200\n",
      "1/1 - 0s - loss: 0.0402 - tp: 0.0000e+00 - fp: 0.0000e+00 - tn: 1991.0000 - fn: 9.0000 - accuracy: 0.9955 - precision: 0.0000e+00 - recall: 0.0000e+00 - auc: 0.3940 - prc: 0.0034 - val_loss: 0.0507 - val_tp: 0.0000e+00 - val_fp: 0.0000e+00 - val_tn: 2488.0000 - val_fn: 12.0000 - val_accuracy: 0.9952 - val_precision: 0.0000e+00 - val_recall: 0.0000e+00 - val_auc: 0.3223 - val_prc: 0.0032 - 96ms/epoch - 96ms/step\n",
      "Epoch 117/200\n",
      "1/1 - 0s - loss: 0.0416 - tp: 0.0000e+00 - fp: 0.0000e+00 - tn: 1991.0000 - fn: 9.0000 - accuracy: 0.9955 - precision: 0.0000e+00 - recall: 0.0000e+00 - auc: 0.3599 - prc: 0.0032 - val_loss: 0.0505 - val_tp: 0.0000e+00 - val_fp: 0.0000e+00 - val_tn: 2488.0000 - val_fn: 12.0000 - val_accuracy: 0.9952 - val_precision: 0.0000e+00 - val_recall: 0.0000e+00 - val_auc: 0.3237 - val_prc: 0.0032 - 92ms/epoch - 92ms/step\n",
      "Epoch 118/200\n",
      "1/1 - 0s - loss: 0.0433 - tp: 0.0000e+00 - fp: 0.0000e+00 - tn: 1991.0000 - fn: 9.0000 - accuracy: 0.9955 - precision: 0.0000e+00 - recall: 0.0000e+00 - auc: 0.3458 - prc: 0.0031 - val_loss: 0.0503 - val_tp: 0.0000e+00 - val_fp: 0.0000e+00 - val_tn: 2488.0000 - val_fn: 12.0000 - val_accuracy: 0.9952 - val_precision: 0.0000e+00 - val_recall: 0.0000e+00 - val_auc: 0.3335 - val_prc: 0.0032 - 87ms/epoch - 87ms/step\n",
      "Epoch 119/200\n",
      "1/1 - 0s - loss: 0.0419 - tp: 0.0000e+00 - fp: 0.0000e+00 - tn: 1991.0000 - fn: 9.0000 - accuracy: 0.9955 - precision: 0.0000e+00 - recall: 0.0000e+00 - auc: 0.3509 - prc: 0.0031 - val_loss: 0.0501 - val_tp: 0.0000e+00 - val_fp: 0.0000e+00 - val_tn: 2488.0000 - val_fn: 12.0000 - val_accuracy: 0.9952 - val_precision: 0.0000e+00 - val_recall: 0.0000e+00 - val_auc: 0.3351 - val_prc: 0.0032 - 93ms/epoch - 93ms/step\n",
      "Epoch 120/200\n",
      "1/1 - 0s - loss: 0.0433 - tp: 0.0000e+00 - fp: 0.0000e+00 - tn: 1991.0000 - fn: 9.0000 - accuracy: 0.9955 - precision: 0.0000e+00 - recall: 0.0000e+00 - auc: 0.3770 - prc: 0.0035 - val_loss: 0.0499 - val_tp: 0.0000e+00 - val_fp: 0.0000e+00 - val_tn: 2488.0000 - val_fn: 12.0000 - val_accuracy: 0.9952 - val_precision: 0.0000e+00 - val_recall: 0.0000e+00 - val_auc: 0.3369 - val_prc: 0.0032 - 86ms/epoch - 86ms/step\n",
      "Epoch 121/200\n",
      "1/1 - 0s - loss: 0.0427 - tp: 0.0000e+00 - fp: 0.0000e+00 - tn: 1991.0000 - fn: 9.0000 - accuracy: 0.9955 - precision: 0.0000e+00 - recall: 0.0000e+00 - auc: 0.3938 - prc: 0.0034 - val_loss: 0.0496 - val_tp: 0.0000e+00 - val_fp: 0.0000e+00 - val_tn: 2488.0000 - val_fn: 12.0000 - val_accuracy: 0.9952 - val_precision: 0.0000e+00 - val_recall: 0.0000e+00 - val_auc: 0.3385 - val_prc: 0.0032 - 88ms/epoch - 88ms/step\n",
      "Epoch 122/200\n",
      "1/1 - 0s - loss: 0.0386 - tp: 0.0000e+00 - fp: 0.0000e+00 - tn: 1991.0000 - fn: 9.0000 - accuracy: 0.9955 - precision: 0.0000e+00 - recall: 0.0000e+00 - auc: 0.3839 - prc: 0.0033 - val_loss: 0.0494 - val_tp: 0.0000e+00 - val_fp: 0.0000e+00 - val_tn: 2488.0000 - val_fn: 12.0000 - val_accuracy: 0.9952 - val_precision: 0.0000e+00 - val_recall: 0.0000e+00 - val_auc: 0.3402 - val_prc: 0.0033 - 105ms/epoch - 105ms/step\n",
      "Epoch 123/200\n",
      "1/1 - 0s - loss: 0.0409 - tp: 0.0000e+00 - fp: 0.0000e+00 - tn: 1991.0000 - fn: 9.0000 - accuracy: 0.9955 - precision: 0.0000e+00 - recall: 0.0000e+00 - auc: 0.3730 - prc: 0.0033 - val_loss: 0.0492 - val_tp: 0.0000e+00 - val_fp: 0.0000e+00 - val_tn: 2488.0000 - val_fn: 12.0000 - val_accuracy: 0.9952 - val_precision: 0.0000e+00 - val_recall: 0.0000e+00 - val_auc: 0.3677 - val_prc: 0.0034 - 89ms/epoch - 89ms/step\n",
      "Epoch 124/200\n",
      "1/1 - 0s - loss: 0.0417 - tp: 0.0000e+00 - fp: 0.0000e+00 - tn: 1991.0000 - fn: 9.0000 - accuracy: 0.9955 - precision: 0.0000e+00 - recall: 0.0000e+00 - auc: 0.3690 - prc: 0.0033 - val_loss: 0.0490 - val_tp: 0.0000e+00 - val_fp: 0.0000e+00 - val_tn: 2488.0000 - val_fn: 12.0000 - val_accuracy: 0.9952 - val_precision: 0.0000e+00 - val_recall: 0.0000e+00 - val_auc: 0.3698 - val_prc: 0.0034 - 90ms/epoch - 90ms/step\n",
      "Epoch 125/200\n",
      "1/1 - 0s - loss: 0.0437 - tp: 0.0000e+00 - fp: 0.0000e+00 - tn: 1991.0000 - fn: 9.0000 - accuracy: 0.9955 - precision: 0.0000e+00 - recall: 0.0000e+00 - auc: 0.4072 - prc: 0.0040 - val_loss: 0.0488 - val_tp: 0.0000e+00 - val_fp: 0.0000e+00 - val_tn: 2488.0000 - val_fn: 12.0000 - val_accuracy: 0.9952 - val_precision: 0.0000e+00 - val_recall: 0.0000e+00 - val_auc: 0.3721 - val_prc: 0.0034 - 93ms/epoch - 93ms/step\n",
      "Epoch 126/200\n",
      "1/1 - 0s - loss: 0.0444 - tp: 0.0000e+00 - fp: 0.0000e+00 - tn: 1991.0000 - fn: 9.0000 - accuracy: 0.9955 - precision: 0.0000e+00 - recall: 0.0000e+00 - auc: 0.3430 - prc: 0.0031 - val_loss: 0.0485 - val_tp: 0.0000e+00 - val_fp: 0.0000e+00 - val_tn: 2488.0000 - val_fn: 12.0000 - val_accuracy: 0.9952 - val_precision: 0.0000e+00 - val_recall: 0.0000e+00 - val_auc: 0.3736 - val_prc: 0.0034 - 89ms/epoch - 89ms/step\n",
      "Epoch 127/200\n",
      "1/1 - 0s - loss: 0.0406 - tp: 0.0000e+00 - fp: 0.0000e+00 - tn: 1991.0000 - fn: 9.0000 - accuracy: 0.9955 - precision: 0.0000e+00 - recall: 0.0000e+00 - auc: 0.4075 - prc: 0.0037 - val_loss: 0.0483 - val_tp: 0.0000e+00 - val_fp: 0.0000e+00 - val_tn: 2488.0000 - val_fn: 12.0000 - val_accuracy: 0.9952 - val_precision: 0.0000e+00 - val_recall: 0.0000e+00 - val_auc: 0.3767 - val_prc: 0.0034 - 87ms/epoch - 87ms/step\n",
      "Epoch 128/200\n",
      "1/1 - 0s - loss: 0.0405 - tp: 0.0000e+00 - fp: 0.0000e+00 - tn: 1991.0000 - fn: 9.0000 - accuracy: 0.9955 - precision: 0.0000e+00 - recall: 0.0000e+00 - auc: 0.3748 - prc: 0.0034 - val_loss: 0.0481 - val_tp: 0.0000e+00 - val_fp: 0.0000e+00 - val_tn: 2488.0000 - val_fn: 12.0000 - val_accuracy: 0.9952 - val_precision: 0.0000e+00 - val_recall: 0.0000e+00 - val_auc: 0.3793 - val_prc: 0.0035 - 88ms/epoch - 88ms/step\n",
      "Epoch 129/200\n",
      "1/1 - 0s - loss: 0.0390 - tp: 0.0000e+00 - fp: 0.0000e+00 - tn: 1991.0000 - fn: 9.0000 - accuracy: 0.9955 - precision: 0.0000e+00 - recall: 0.0000e+00 - auc: 0.4311 - prc: 0.0036 - val_loss: 0.0479 - val_tp: 0.0000e+00 - val_fp: 0.0000e+00 - val_tn: 2488.0000 - val_fn: 12.0000 - val_accuracy: 0.9952 - val_precision: 0.0000e+00 - val_recall: 0.0000e+00 - val_auc: 0.3816 - val_prc: 0.0035 - 93ms/epoch - 93ms/step\n",
      "Epoch 130/200\n",
      "1/1 - 0s - loss: 0.0365 - tp: 0.0000e+00 - fp: 0.0000e+00 - tn: 1991.0000 - fn: 9.0000 - accuracy: 0.9955 - precision: 0.0000e+00 - recall: 0.0000e+00 - auc: 0.4666 - prc: 0.0042 - val_loss: 0.0477 - val_tp: 0.0000e+00 - val_fp: 0.0000e+00 - val_tn: 2488.0000 - val_fn: 12.0000 - val_accuracy: 0.9952 - val_precision: 0.0000e+00 - val_recall: 0.0000e+00 - val_auc: 0.3894 - val_prc: 0.0036 - 85ms/epoch - 85ms/step\n",
      "Epoch 131/200\n",
      "1/1 - 0s - loss: 0.0411 - tp: 0.0000e+00 - fp: 0.0000e+00 - tn: 1991.0000 - fn: 9.0000 - accuracy: 0.9955 - precision: 0.0000e+00 - recall: 0.0000e+00 - auc: 0.4175 - prc: 0.0038 - val_loss: 0.0475 - val_tp: 0.0000e+00 - val_fp: 0.0000e+00 - val_tn: 2488.0000 - val_fn: 12.0000 - val_accuracy: 0.9952 - val_precision: 0.0000e+00 - val_recall: 0.0000e+00 - val_auc: 0.3920 - val_prc: 0.0036 - 87ms/epoch - 87ms/step\n",
      "Epoch 132/200\n",
      "1/1 - 0s - loss: 0.0412 - tp: 0.0000e+00 - fp: 0.0000e+00 - tn: 1991.0000 - fn: 9.0000 - accuracy: 0.9955 - precision: 0.0000e+00 - recall: 0.0000e+00 - auc: 0.4108 - prc: 0.0040 - val_loss: 0.0473 - val_tp: 0.0000e+00 - val_fp: 0.0000e+00 - val_tn: 2488.0000 - val_fn: 12.0000 - val_accuracy: 0.9952 - val_precision: 0.0000e+00 - val_recall: 0.0000e+00 - val_auc: 0.4041 - val_prc: 0.0038 - 91ms/epoch - 91ms/step\n",
      "Epoch 133/200\n",
      "1/1 - 0s - loss: 0.0390 - tp: 0.0000e+00 - fp: 0.0000e+00 - tn: 1991.0000 - fn: 9.0000 - accuracy: 0.9955 - precision: 0.0000e+00 - recall: 0.0000e+00 - auc: 0.3869 - prc: 0.0036 - val_loss: 0.0471 - val_tp: 0.0000e+00 - val_fp: 0.0000e+00 - val_tn: 2488.0000 - val_fn: 12.0000 - val_accuracy: 0.9952 - val_precision: 0.0000e+00 - val_recall: 0.0000e+00 - val_auc: 0.4057 - val_prc: 0.0038 - 93ms/epoch - 93ms/step\n",
      "Epoch 134/200\n",
      "1/1 - 0s - loss: 0.0398 - tp: 0.0000e+00 - fp: 0.0000e+00 - tn: 1991.0000 - fn: 9.0000 - accuracy: 0.9955 - precision: 0.0000e+00 - recall: 0.0000e+00 - auc: 0.4184 - prc: 0.0046 - val_loss: 0.0469 - val_tp: 0.0000e+00 - val_fp: 0.0000e+00 - val_tn: 2488.0000 - val_fn: 12.0000 - val_accuracy: 0.9952 - val_precision: 0.0000e+00 - val_recall: 0.0000e+00 - val_auc: 0.4063 - val_prc: 0.0038 - 100ms/epoch - 100ms/step\n",
      "Epoch 135/200\n",
      "1/1 - 0s - loss: 0.0413 - tp: 0.0000e+00 - fp: 0.0000e+00 - tn: 1991.0000 - fn: 9.0000 - accuracy: 0.9955 - precision: 0.0000e+00 - recall: 0.0000e+00 - auc: 0.3845 - prc: 0.0033 - val_loss: 0.0468 - val_tp: 0.0000e+00 - val_fp: 0.0000e+00 - val_tn: 2488.0000 - val_fn: 12.0000 - val_accuracy: 0.9952 - val_precision: 0.0000e+00 - val_recall: 0.0000e+00 - val_auc: 0.4069 - val_prc: 0.0038 - 92ms/epoch - 92ms/step\n",
      "Epoch 136/200\n",
      "1/1 - 0s - loss: 0.0409 - tp: 0.0000e+00 - fp: 0.0000e+00 - tn: 1991.0000 - fn: 9.0000 - accuracy: 0.9955 - precision: 0.0000e+00 - recall: 0.0000e+00 - auc: 0.4780 - prc: 0.0047 - val_loss: 0.0466 - val_tp: 0.0000e+00 - val_fp: 0.0000e+00 - val_tn: 2488.0000 - val_fn: 12.0000 - val_accuracy: 0.9952 - val_precision: 0.0000e+00 - val_recall: 0.0000e+00 - val_auc: 0.4071 - val_prc: 0.0038 - 95ms/epoch - 95ms/step\n",
      "Epoch 137/200\n",
      "1/1 - 0s - loss: 0.0412 - tp: 0.0000e+00 - fp: 0.0000e+00 - tn: 1991.0000 - fn: 9.0000 - accuracy: 0.9955 - precision: 0.0000e+00 - recall: 0.0000e+00 - auc: 0.4027 - prc: 0.0044 - val_loss: 0.0464 - val_tp: 0.0000e+00 - val_fp: 0.0000e+00 - val_tn: 2488.0000 - val_fn: 12.0000 - val_accuracy: 0.9952 - val_precision: 0.0000e+00 - val_recall: 0.0000e+00 - val_auc: 0.4079 - val_prc: 0.0038 - 100ms/epoch - 100ms/step\n",
      "Epoch 138/200\n",
      "1/1 - 0s - loss: 0.0371 - tp: 0.0000e+00 - fp: 0.0000e+00 - tn: 1991.0000 - fn: 9.0000 - accuracy: 0.9955 - precision: 0.0000e+00 - recall: 0.0000e+00 - auc: 0.4095 - prc: 0.0048 - val_loss: 0.0462 - val_tp: 0.0000e+00 - val_fp: 0.0000e+00 - val_tn: 2488.0000 - val_fn: 12.0000 - val_accuracy: 0.9952 - val_precision: 0.0000e+00 - val_recall: 0.0000e+00 - val_auc: 0.4114 - val_prc: 0.0042 - 96ms/epoch - 96ms/step\n",
      "Epoch 139/200\n",
      "1/1 - 0s - loss: 0.0352 - tp: 0.0000e+00 - fp: 0.0000e+00 - tn: 1991.0000 - fn: 9.0000 - accuracy: 0.9955 - precision: 0.0000e+00 - recall: 0.0000e+00 - auc: 0.4418 - prc: 0.0040 - val_loss: 0.0461 - val_tp: 0.0000e+00 - val_fp: 0.0000e+00 - val_tn: 2488.0000 - val_fn: 12.0000 - val_accuracy: 0.9952 - val_precision: 0.0000e+00 - val_recall: 0.0000e+00 - val_auc: 0.4119 - val_prc: 0.0042 - 93ms/epoch - 93ms/step\n",
      "Epoch 140/200\n",
      "1/1 - 0s - loss: 0.0411 - tp: 0.0000e+00 - fp: 0.0000e+00 - tn: 1991.0000 - fn: 9.0000 - accuracy: 0.9955 - precision: 0.0000e+00 - recall: 0.0000e+00 - auc: 0.4221 - prc: 0.0037 - val_loss: 0.0459 - val_tp: 0.0000e+00 - val_fp: 0.0000e+00 - val_tn: 2488.0000 - val_fn: 12.0000 - val_accuracy: 0.9952 - val_precision: 0.0000e+00 - val_recall: 0.0000e+00 - val_auc: 0.4134 - val_prc: 0.0042 - 108ms/epoch - 108ms/step\n",
      "Epoch 141/200\n",
      "1/1 - 0s - loss: 0.0369 - tp: 0.0000e+00 - fp: 0.0000e+00 - tn: 1991.0000 - fn: 9.0000 - accuracy: 0.9955 - precision: 0.0000e+00 - recall: 0.0000e+00 - auc: 0.4850 - prc: 0.0063 - val_loss: 0.0457 - val_tp: 0.0000e+00 - val_fp: 0.0000e+00 - val_tn: 2488.0000 - val_fn: 12.0000 - val_accuracy: 0.9952 - val_precision: 0.0000e+00 - val_recall: 0.0000e+00 - val_auc: 0.4148 - val_prc: 0.0042 - 99ms/epoch - 99ms/step\n",
      "Epoch 142/200\n",
      "1/1 - 0s - loss: 0.0398 - tp: 0.0000e+00 - fp: 0.0000e+00 - tn: 1991.0000 - fn: 9.0000 - accuracy: 0.9955 - precision: 0.0000e+00 - recall: 0.0000e+00 - auc: 0.4617 - prc: 0.0065 - val_loss: 0.0455 - val_tp: 0.0000e+00 - val_fp: 0.0000e+00 - val_tn: 2488.0000 - val_fn: 12.0000 - val_accuracy: 0.9952 - val_precision: 0.0000e+00 - val_recall: 0.0000e+00 - val_auc: 0.4169 - val_prc: 0.0042 - 98ms/epoch - 98ms/step\n",
      "Epoch 143/200\n",
      "1/1 - 0s - loss: 0.0399 - tp: 0.0000e+00 - fp: 0.0000e+00 - tn: 1991.0000 - fn: 9.0000 - accuracy: 0.9955 - precision: 0.0000e+00 - recall: 0.0000e+00 - auc: 0.4342 - prc: 0.0039 - val_loss: 0.0454 - val_tp: 0.0000e+00 - val_fp: 0.0000e+00 - val_tn: 2488.0000 - val_fn: 12.0000 - val_accuracy: 0.9952 - val_precision: 0.0000e+00 - val_recall: 0.0000e+00 - val_auc: 0.4185 - val_prc: 0.0042 - 96ms/epoch - 96ms/step\n",
      "Epoch 144/200\n",
      "1/1 - 0s - loss: 0.0359 - tp: 0.0000e+00 - fp: 0.0000e+00 - tn: 1991.0000 - fn: 9.0000 - accuracy: 0.9955 - precision: 0.0000e+00 - recall: 0.0000e+00 - auc: 0.4348 - prc: 0.0037 - val_loss: 0.0452 - val_tp: 0.0000e+00 - val_fp: 0.0000e+00 - val_tn: 2488.0000 - val_fn: 12.0000 - val_accuracy: 0.9952 - val_precision: 0.0000e+00 - val_recall: 0.0000e+00 - val_auc: 0.4195 - val_prc: 0.0042 - 105ms/epoch - 105ms/step\n",
      "Epoch 145/200\n",
      "1/1 - 0s - loss: 0.0353 - tp: 0.0000e+00 - fp: 0.0000e+00 - tn: 1991.0000 - fn: 9.0000 - accuracy: 0.9955 - precision: 0.0000e+00 - recall: 0.0000e+00 - auc: 0.4360 - prc: 0.0039 - val_loss: 0.0450 - val_tp: 0.0000e+00 - val_fp: 0.0000e+00 - val_tn: 2488.0000 - val_fn: 12.0000 - val_accuracy: 0.9952 - val_precision: 0.0000e+00 - val_recall: 0.0000e+00 - val_auc: 0.4303 - val_prc: 0.0044 - 96ms/epoch - 96ms/step\n",
      "Epoch 146/200\n",
      "1/1 - 0s - loss: 0.0349 - tp: 0.0000e+00 - fp: 0.0000e+00 - tn: 1991.0000 - fn: 9.0000 - accuracy: 0.9955 - precision: 0.0000e+00 - recall: 0.0000e+00 - auc: 0.4924 - prc: 0.0060 - val_loss: 0.0449 - val_tp: 0.0000e+00 - val_fp: 0.0000e+00 - val_tn: 2488.0000 - val_fn: 12.0000 - val_accuracy: 0.9952 - val_precision: 0.0000e+00 - val_recall: 0.0000e+00 - val_auc: 0.4376 - val_prc: 0.0046 - 94ms/epoch - 94ms/step\n",
      "Epoch 147/200\n",
      "1/1 - 0s - loss: 0.0410 - tp: 0.0000e+00 - fp: 0.0000e+00 - tn: 1991.0000 - fn: 9.0000 - accuracy: 0.9955 - precision: 0.0000e+00 - recall: 0.0000e+00 - auc: 0.4288 - prc: 0.0036 - val_loss: 0.0447 - val_tp: 0.0000e+00 - val_fp: 0.0000e+00 - val_tn: 2488.0000 - val_fn: 12.0000 - val_accuracy: 0.9952 - val_precision: 0.0000e+00 - val_recall: 0.0000e+00 - val_auc: 0.4386 - val_prc: 0.0053 - 94ms/epoch - 94ms/step\n",
      "Epoch 148/200\n",
      "1/1 - 0s - loss: 0.0396 - tp: 0.0000e+00 - fp: 0.0000e+00 - tn: 1991.0000 - fn: 9.0000 - accuracy: 0.9955 - precision: 0.0000e+00 - recall: 0.0000e+00 - auc: 0.4088 - prc: 0.0038 - val_loss: 0.0446 - val_tp: 0.0000e+00 - val_fp: 0.0000e+00 - val_tn: 2488.0000 - val_fn: 12.0000 - val_accuracy: 0.9952 - val_precision: 0.0000e+00 - val_recall: 0.0000e+00 - val_auc: 0.4383 - val_prc: 0.0051 - 96ms/epoch - 96ms/step\n",
      "Epoch 149/200\n",
      "1/1 - 0s - loss: 0.0384 - tp: 0.0000e+00 - fp: 0.0000e+00 - tn: 1991.0000 - fn: 9.0000 - accuracy: 0.9955 - precision: 0.0000e+00 - recall: 0.0000e+00 - auc: 0.4378 - prc: 0.0040 - val_loss: 0.0444 - val_tp: 0.0000e+00 - val_fp: 0.0000e+00 - val_tn: 2488.0000 - val_fn: 12.0000 - val_accuracy: 0.9952 - val_precision: 0.0000e+00 - val_recall: 0.0000e+00 - val_auc: 0.4643 - val_prc: 0.0052 - 89ms/epoch - 89ms/step\n",
      "Epoch 150/200\n",
      "1/1 - 0s - loss: 0.0362 - tp: 0.0000e+00 - fp: 0.0000e+00 - tn: 1991.0000 - fn: 9.0000 - accuracy: 0.9955 - precision: 0.0000e+00 - recall: 0.0000e+00 - auc: 0.4935 - prc: 0.0045 - val_loss: 0.0443 - val_tp: 0.0000e+00 - val_fp: 0.0000e+00 - val_tn: 2488.0000 - val_fn: 12.0000 - val_accuracy: 0.9952 - val_precision: 0.0000e+00 - val_recall: 0.0000e+00 - val_auc: 0.4641 - val_prc: 0.0051 - 89ms/epoch - 89ms/step\n",
      "Epoch 151/200\n",
      "1/1 - 0s - loss: 0.0380 - tp: 0.0000e+00 - fp: 0.0000e+00 - tn: 1991.0000 - fn: 9.0000 - accuracy: 0.9955 - precision: 0.0000e+00 - recall: 0.0000e+00 - auc: 0.4669 - prc: 0.0048 - val_loss: 0.0441 - val_tp: 0.0000e+00 - val_fp: 0.0000e+00 - val_tn: 2488.0000 - val_fn: 12.0000 - val_accuracy: 0.9952 - val_precision: 0.0000e+00 - val_recall: 0.0000e+00 - val_auc: 0.4636 - val_prc: 0.0051 - 103ms/epoch - 103ms/step\n",
      "Epoch 152/200\n",
      "1/1 - 0s - loss: 0.0403 - tp: 0.0000e+00 - fp: 0.0000e+00 - tn: 1991.0000 - fn: 9.0000 - accuracy: 0.9955 - precision: 0.0000e+00 - recall: 0.0000e+00 - auc: 0.3996 - prc: 0.0037 - val_loss: 0.0440 - val_tp: 0.0000e+00 - val_fp: 0.0000e+00 - val_tn: 2488.0000 - val_fn: 12.0000 - val_accuracy: 0.9952 - val_precision: 0.0000e+00 - val_recall: 0.0000e+00 - val_auc: 0.4639 - val_prc: 0.0059 - 95ms/epoch - 95ms/step\n",
      "Epoch 153/200\n",
      "1/1 - 0s - loss: 0.0370 - tp: 0.0000e+00 - fp: 0.0000e+00 - tn: 1991.0000 - fn: 9.0000 - accuracy: 0.9955 - precision: 0.0000e+00 - recall: 0.0000e+00 - auc: 0.5549 - prc: 0.0073 - val_loss: 0.0439 - val_tp: 0.0000e+00 - val_fp: 0.0000e+00 - val_tn: 2488.0000 - val_fn: 12.0000 - val_accuracy: 0.9952 - val_precision: 0.0000e+00 - val_recall: 0.0000e+00 - val_auc: 0.4649 - val_prc: 0.0059 - 90ms/epoch - 90ms/step\n",
      "Epoch 154/200\n",
      "1/1 - 0s - loss: 0.0385 - tp: 0.0000e+00 - fp: 0.0000e+00 - tn: 1991.0000 - fn: 9.0000 - accuracy: 0.9955 - precision: 0.0000e+00 - recall: 0.0000e+00 - auc: 0.5072 - prc: 0.0052 - val_loss: 0.0437 - val_tp: 0.0000e+00 - val_fp: 0.0000e+00 - val_tn: 2488.0000 - val_fn: 12.0000 - val_accuracy: 0.9952 - val_precision: 0.0000e+00 - val_recall: 0.0000e+00 - val_auc: 0.4652 - val_prc: 0.0059 - 91ms/epoch - 91ms/step\n",
      "Epoch 155/200\n",
      "1/1 - 0s - loss: 0.0382 - tp: 0.0000e+00 - fp: 0.0000e+00 - tn: 1991.0000 - fn: 9.0000 - accuracy: 0.9955 - precision: 0.0000e+00 - recall: 0.0000e+00 - auc: 0.5270 - prc: 0.0060 - val_loss: 0.0436 - val_tp: 0.0000e+00 - val_fp: 0.0000e+00 - val_tn: 2488.0000 - val_fn: 12.0000 - val_accuracy: 0.9952 - val_precision: 0.0000e+00 - val_recall: 0.0000e+00 - val_auc: 0.4705 - val_prc: 0.0062 - 90ms/epoch - 90ms/step\n",
      "Epoch 156/200\n",
      "1/1 - 0s - loss: 0.0400 - tp: 0.0000e+00 - fp: 0.0000e+00 - tn: 1991.0000 - fn: 9.0000 - accuracy: 0.9955 - precision: 0.0000e+00 - recall: 0.0000e+00 - auc: 0.4079 - prc: 0.0042 - val_loss: 0.0434 - val_tp: 0.0000e+00 - val_fp: 0.0000e+00 - val_tn: 2488.0000 - val_fn: 12.0000 - val_accuracy: 0.9952 - val_precision: 0.0000e+00 - val_recall: 0.0000e+00 - val_auc: 0.4806 - val_prc: 0.0063 - 87ms/epoch - 87ms/step\n",
      "Epoch 157/200\n",
      "1/1 - 0s - loss: 0.0367 - tp: 0.0000e+00 - fp: 0.0000e+00 - tn: 1991.0000 - fn: 9.0000 - accuracy: 0.9955 - precision: 0.0000e+00 - recall: 0.0000e+00 - auc: 0.5247 - prc: 0.0060 - val_loss: 0.0433 - val_tp: 0.0000e+00 - val_fp: 0.0000e+00 - val_tn: 2488.0000 - val_fn: 12.0000 - val_accuracy: 0.9952 - val_precision: 0.0000e+00 - val_recall: 0.0000e+00 - val_auc: 0.4823 - val_prc: 0.0064 - 96ms/epoch - 96ms/step\n",
      "Epoch 158/200\n",
      "1/1 - 0s - loss: 0.0339 - tp: 0.0000e+00 - fp: 0.0000e+00 - tn: 1991.0000 - fn: 9.0000 - accuracy: 0.9955 - precision: 0.0000e+00 - recall: 0.0000e+00 - auc: 0.5105 - prc: 0.0061 - val_loss: 0.0431 - val_tp: 0.0000e+00 - val_fp: 0.0000e+00 - val_tn: 2488.0000 - val_fn: 12.0000 - val_accuracy: 0.9952 - val_precision: 0.0000e+00 - val_recall: 0.0000e+00 - val_auc: 0.4851 - val_prc: 0.0065 - 92ms/epoch - 92ms/step\n",
      "Epoch 159/200\n",
      "1/1 - 0s - loss: 0.0373 - tp: 0.0000e+00 - fp: 0.0000e+00 - tn: 1991.0000 - fn: 9.0000 - accuracy: 0.9955 - precision: 0.0000e+00 - recall: 0.0000e+00 - auc: 0.5580 - prc: 0.0100 - val_loss: 0.0429 - val_tp: 0.0000e+00 - val_fp: 0.0000e+00 - val_tn: 2488.0000 - val_fn: 12.0000 - val_accuracy: 0.9952 - val_precision: 0.0000e+00 - val_recall: 0.0000e+00 - val_auc: 0.4876 - val_prc: 0.0066 - 98ms/epoch - 98ms/step\n",
      "Epoch 160/200\n",
      "1/1 - 0s - loss: 0.0339 - tp: 0.0000e+00 - fp: 0.0000e+00 - tn: 1991.0000 - fn: 9.0000 - accuracy: 0.9955 - precision: 0.0000e+00 - recall: 0.0000e+00 - auc: 0.5458 - prc: 0.0102 - val_loss: 0.0428 - val_tp: 0.0000e+00 - val_fp: 0.0000e+00 - val_tn: 2488.0000 - val_fn: 12.0000 - val_accuracy: 0.9952 - val_precision: 0.0000e+00 - val_recall: 0.0000e+00 - val_auc: 0.4789 - val_prc: 0.0065 - 91ms/epoch - 91ms/step\n",
      "Epoch 161/200\n",
      "1/1 - 0s - loss: 0.0381 - tp: 0.0000e+00 - fp: 0.0000e+00 - tn: 1991.0000 - fn: 9.0000 - accuracy: 0.9955 - precision: 0.0000e+00 - recall: 0.0000e+00 - auc: 0.4544 - prc: 0.0049 - val_loss: 0.0426 - val_tp: 0.0000e+00 - val_fp: 0.0000e+00 - val_tn: 2488.0000 - val_fn: 12.0000 - val_accuracy: 0.9952 - val_precision: 0.0000e+00 - val_recall: 0.0000e+00 - val_auc: 0.4812 - val_prc: 0.0066 - 99ms/epoch - 99ms/step\n",
      "Epoch 162/200\n",
      "1/1 - 0s - loss: 0.0341 - tp: 0.0000e+00 - fp: 0.0000e+00 - tn: 1991.0000 - fn: 9.0000 - accuracy: 0.9955 - precision: 0.0000e+00 - recall: 0.0000e+00 - auc: 0.5481 - prc: 0.0140 - val_loss: 0.0425 - val_tp: 0.0000e+00 - val_fp: 0.0000e+00 - val_tn: 2488.0000 - val_fn: 12.0000 - val_accuracy: 0.9952 - val_precision: 0.0000e+00 - val_recall: 0.0000e+00 - val_auc: 0.4835 - val_prc: 0.0066 - 86ms/epoch - 86ms/step\n",
      "Epoch 163/200\n",
      "1/1 - 0s - loss: 0.0356 - tp: 0.0000e+00 - fp: 0.0000e+00 - tn: 1991.0000 - fn: 9.0000 - accuracy: 0.9955 - precision: 0.0000e+00 - recall: 0.0000e+00 - auc: 0.5859 - prc: 0.0100 - val_loss: 0.0423 - val_tp: 0.0000e+00 - val_fp: 0.0000e+00 - val_tn: 2488.0000 - val_fn: 12.0000 - val_accuracy: 0.9952 - val_precision: 0.0000e+00 - val_recall: 0.0000e+00 - val_auc: 0.5145 - val_prc: 0.0069 - 92ms/epoch - 92ms/step\n",
      "Epoch 164/200\n",
      "1/1 - 0s - loss: 0.0335 - tp: 0.0000e+00 - fp: 0.0000e+00 - tn: 1991.0000 - fn: 9.0000 - accuracy: 0.9955 - precision: 0.0000e+00 - recall: 0.0000e+00 - auc: 0.5880 - prc: 0.0135 - val_loss: 0.0422 - val_tp: 0.0000e+00 - val_fp: 0.0000e+00 - val_tn: 2488.0000 - val_fn: 12.0000 - val_accuracy: 0.9952 - val_precision: 0.0000e+00 - val_recall: 0.0000e+00 - val_auc: 0.5166 - val_prc: 0.0070 - 87ms/epoch - 87ms/step\n",
      "Epoch 165/200\n",
      "1/1 - 0s - loss: 0.0365 - tp: 0.0000e+00 - fp: 0.0000e+00 - tn: 1991.0000 - fn: 9.0000 - accuracy: 0.9955 - precision: 0.0000e+00 - recall: 0.0000e+00 - auc: 0.5745 - prc: 0.0086 - val_loss: 0.0421 - val_tp: 0.0000e+00 - val_fp: 0.0000e+00 - val_tn: 2488.0000 - val_fn: 12.0000 - val_accuracy: 0.9952 - val_precision: 0.0000e+00 - val_recall: 0.0000e+00 - val_auc: 0.5181 - val_prc: 0.0070 - 86ms/epoch - 86ms/step\n",
      "Epoch 166/200\n",
      "1/1 - 0s - loss: 0.0349 - tp: 0.0000e+00 - fp: 0.0000e+00 - tn: 1991.0000 - fn: 9.0000 - accuracy: 0.9955 - precision: 0.0000e+00 - recall: 0.0000e+00 - auc: 0.5740 - prc: 0.0184 - val_loss: 0.0419 - val_tp: 0.0000e+00 - val_fp: 0.0000e+00 - val_tn: 2488.0000 - val_fn: 12.0000 - val_accuracy: 0.9952 - val_precision: 0.0000e+00 - val_recall: 0.0000e+00 - val_auc: 0.5196 - val_prc: 0.0070 - 88ms/epoch - 88ms/step\n",
      "Epoch 167/200\n",
      "1/1 - 0s - loss: 0.0335 - tp: 0.0000e+00 - fp: 0.0000e+00 - tn: 1991.0000 - fn: 9.0000 - accuracy: 0.9955 - precision: 0.0000e+00 - recall: 0.0000e+00 - auc: 0.5292 - prc: 0.0079 - val_loss: 0.0418 - val_tp: 0.0000e+00 - val_fp: 0.0000e+00 - val_tn: 2488.0000 - val_fn: 12.0000 - val_accuracy: 0.9952 - val_precision: 0.0000e+00 - val_recall: 0.0000e+00 - val_auc: 0.5221 - val_prc: 0.0080 - 100ms/epoch - 100ms/step\n",
      "Epoch 168/200\n",
      "1/1 - 0s - loss: 0.0375 - tp: 0.0000e+00 - fp: 0.0000e+00 - tn: 1991.0000 - fn: 9.0000 - accuracy: 0.9955 - precision: 0.0000e+00 - recall: 0.0000e+00 - auc: 0.5021 - prc: 0.0053 - val_loss: 0.0417 - val_tp: 0.0000e+00 - val_fp: 0.0000e+00 - val_tn: 2488.0000 - val_fn: 12.0000 - val_accuracy: 0.9952 - val_precision: 0.0000e+00 - val_recall: 0.0000e+00 - val_auc: 0.5356 - val_prc: 0.0081 - 95ms/epoch - 95ms/step\n",
      "Epoch 169/200\n",
      "1/1 - 0s - loss: 0.0340 - tp: 0.0000e+00 - fp: 0.0000e+00 - tn: 1991.0000 - fn: 9.0000 - accuracy: 0.9955 - precision: 0.0000e+00 - recall: 0.0000e+00 - auc: 0.5915 - prc: 0.0114 - val_loss: 0.0416 - val_tp: 0.0000e+00 - val_fp: 0.0000e+00 - val_tn: 2488.0000 - val_fn: 12.0000 - val_accuracy: 0.9952 - val_precision: 0.0000e+00 - val_recall: 0.0000e+00 - val_auc: 0.5370 - val_prc: 0.0081 - 95ms/epoch - 95ms/step\n",
      "Epoch 170/200\n",
      "1/1 - 0s - loss: 0.0370 - tp: 0.0000e+00 - fp: 0.0000e+00 - tn: 1991.0000 - fn: 9.0000 - accuracy: 0.9955 - precision: 0.0000e+00 - recall: 0.0000e+00 - auc: 0.5256 - prc: 0.0068 - val_loss: 0.0415 - val_tp: 0.0000e+00 - val_fp: 0.0000e+00 - val_tn: 2488.0000 - val_fn: 12.0000 - val_accuracy: 0.9952 - val_precision: 0.0000e+00 - val_recall: 0.0000e+00 - val_auc: 0.5429 - val_prc: 0.0084 - 94ms/epoch - 94ms/step\n",
      "Epoch 171/200\n",
      "1/1 - 0s - loss: 0.0354 - tp: 0.0000e+00 - fp: 0.0000e+00 - tn: 1991.0000 - fn: 9.0000 - accuracy: 0.9955 - precision: 0.0000e+00 - recall: 0.0000e+00 - auc: 0.5556 - prc: 0.0076 - val_loss: 0.0413 - val_tp: 0.0000e+00 - val_fp: 0.0000e+00 - val_tn: 2488.0000 - val_fn: 12.0000 - val_accuracy: 0.9952 - val_precision: 0.0000e+00 - val_recall: 0.0000e+00 - val_auc: 0.5447 - val_prc: 0.0094 - 94ms/epoch - 94ms/step\n",
      "Epoch 172/200\n",
      "1/1 - 0s - loss: 0.0352 - tp: 0.0000e+00 - fp: 0.0000e+00 - tn: 1991.0000 - fn: 9.0000 - accuracy: 0.9955 - precision: 0.0000e+00 - recall: 0.0000e+00 - auc: 0.5975 - prc: 0.0090 - val_loss: 0.0412 - val_tp: 0.0000e+00 - val_fp: 0.0000e+00 - val_tn: 2488.0000 - val_fn: 12.0000 - val_accuracy: 0.9952 - val_precision: 0.0000e+00 - val_recall: 0.0000e+00 - val_auc: 0.5448 - val_prc: 0.0092 - 89ms/epoch - 89ms/step\n",
      "Epoch 173/200\n",
      "1/1 - 0s - loss: 0.0344 - tp: 0.0000e+00 - fp: 0.0000e+00 - tn: 1991.0000 - fn: 9.0000 - accuracy: 0.9955 - precision: 0.0000e+00 - recall: 0.0000e+00 - auc: 0.5761 - prc: 0.0087 - val_loss: 0.0411 - val_tp: 0.0000e+00 - val_fp: 0.0000e+00 - val_tn: 2488.0000 - val_fn: 12.0000 - val_accuracy: 0.9952 - val_precision: 0.0000e+00 - val_recall: 0.0000e+00 - val_auc: 0.5443 - val_prc: 0.0091 - 90ms/epoch - 90ms/step\n",
      "Epoch 174/200\n",
      "1/1 - 0s - loss: 0.0327 - tp: 0.0000e+00 - fp: 0.0000e+00 - tn: 1991.0000 - fn: 9.0000 - accuracy: 0.9955 - precision: 0.0000e+00 - recall: 0.0000e+00 - auc: 0.5911 - prc: 0.0084 - val_loss: 0.0410 - val_tp: 0.0000e+00 - val_fp: 0.0000e+00 - val_tn: 2488.0000 - val_fn: 12.0000 - val_accuracy: 0.9952 - val_precision: 0.0000e+00 - val_recall: 0.0000e+00 - val_auc: 0.5450 - val_prc: 0.0090 - 88ms/epoch - 88ms/step\n",
      "Epoch 175/200\n",
      "1/1 - 0s - loss: 0.0306 - tp: 0.0000e+00 - fp: 0.0000e+00 - tn: 1991.0000 - fn: 9.0000 - accuracy: 0.9955 - precision: 0.0000e+00 - recall: 0.0000e+00 - auc: 0.5876 - prc: 0.0098 - val_loss: 0.0409 - val_tp: 0.0000e+00 - val_fp: 0.0000e+00 - val_tn: 2488.0000 - val_fn: 12.0000 - val_accuracy: 0.9952 - val_precision: 0.0000e+00 - val_recall: 0.0000e+00 - val_auc: 0.5451 - val_prc: 0.0089 - 99ms/epoch - 99ms/step\n",
      "Epoch 176/200\n",
      "1/1 - 0s - loss: 0.0298 - tp: 0.0000e+00 - fp: 0.0000e+00 - tn: 1991.0000 - fn: 9.0000 - accuracy: 0.9955 - precision: 0.0000e+00 - recall: 0.0000e+00 - auc: 0.5922 - prc: 0.0090 - val_loss: 0.0408 - val_tp: 0.0000e+00 - val_fp: 0.0000e+00 - val_tn: 2488.0000 - val_fn: 12.0000 - val_accuracy: 0.9952 - val_precision: 0.0000e+00 - val_recall: 0.0000e+00 - val_auc: 0.5452 - val_prc: 0.0099 - 92ms/epoch - 92ms/step\n",
      "Epoch 177/200\n",
      "1/1 - 0s - loss: 0.0344 - tp: 0.0000e+00 - fp: 0.0000e+00 - tn: 1991.0000 - fn: 9.0000 - accuracy: 0.9955 - precision: 0.0000e+00 - recall: 0.0000e+00 - auc: 0.5380 - prc: 0.0096 - val_loss: 0.0407 - val_tp: 0.0000e+00 - val_fp: 0.0000e+00 - val_tn: 2488.0000 - val_fn: 12.0000 - val_accuracy: 0.9952 - val_precision: 0.0000e+00 - val_recall: 0.0000e+00 - val_auc: 0.5476 - val_prc: 0.0103 - 97ms/epoch - 97ms/step\n",
      "Epoch 178/200\n",
      "1/1 - 0s - loss: 0.0348 - tp: 0.0000e+00 - fp: 0.0000e+00 - tn: 1991.0000 - fn: 9.0000 - accuracy: 0.9955 - precision: 0.0000e+00 - recall: 0.0000e+00 - auc: 0.5997 - prc: 0.0166 - val_loss: 0.0405 - val_tp: 0.0000e+00 - val_fp: 0.0000e+00 - val_tn: 2488.0000 - val_fn: 12.0000 - val_accuracy: 0.9952 - val_precision: 0.0000e+00 - val_recall: 0.0000e+00 - val_auc: 0.5485 - val_prc: 0.0101 - 91ms/epoch - 91ms/step\n",
      "Epoch 179/200\n",
      "1/1 - 0s - loss: 0.0327 - tp: 0.0000e+00 - fp: 0.0000e+00 - tn: 1991.0000 - fn: 9.0000 - accuracy: 0.9955 - precision: 0.0000e+00 - recall: 0.0000e+00 - auc: 0.6134 - prc: 0.0272 - val_loss: 0.0404 - val_tp: 0.0000e+00 - val_fp: 0.0000e+00 - val_tn: 2488.0000 - val_fn: 12.0000 - val_accuracy: 0.9952 - val_precision: 0.0000e+00 - val_recall: 0.0000e+00 - val_auc: 0.5497 - val_prc: 0.0101 - 91ms/epoch - 91ms/step\n",
      "Epoch 180/200\n",
      "1/1 - 0s - loss: 0.0313 - tp: 0.0000e+00 - fp: 0.0000e+00 - tn: 1991.0000 - fn: 9.0000 - accuracy: 0.9955 - precision: 0.0000e+00 - recall: 0.0000e+00 - auc: 0.5972 - prc: 0.0117 - val_loss: 0.0403 - val_tp: 0.0000e+00 - val_fp: 0.0000e+00 - val_tn: 2488.0000 - val_fn: 12.0000 - val_accuracy: 0.9952 - val_precision: 0.0000e+00 - val_recall: 0.0000e+00 - val_auc: 0.5603 - val_prc: 0.0117 - 86ms/epoch - 86ms/step\n",
      "Epoch 181/200\n",
      "1/1 - 0s - loss: 0.0315 - tp: 0.0000e+00 - fp: 0.0000e+00 - tn: 1991.0000 - fn: 9.0000 - accuracy: 0.9955 - precision: 0.0000e+00 - recall: 0.0000e+00 - auc: 0.6231 - prc: 0.0107 - val_loss: 0.0401 - val_tp: 0.0000e+00 - val_fp: 0.0000e+00 - val_tn: 2488.0000 - val_fn: 12.0000 - val_accuracy: 0.9952 - val_precision: 0.0000e+00 - val_recall: 0.0000e+00 - val_auc: 0.5609 - val_prc: 0.0117 - 137ms/epoch - 137ms/step\n",
      "Epoch 182/200\n",
      "1/1 - 0s - loss: 0.0326 - tp: 0.0000e+00 - fp: 0.0000e+00 - tn: 1991.0000 - fn: 9.0000 - accuracy: 0.9955 - precision: 0.0000e+00 - recall: 0.0000e+00 - auc: 0.6063 - prc: 0.0186 - val_loss: 0.0400 - val_tp: 0.0000e+00 - val_fp: 0.0000e+00 - val_tn: 2488.0000 - val_fn: 12.0000 - val_accuracy: 0.9952 - val_precision: 0.0000e+00 - val_recall: 0.0000e+00 - val_auc: 0.5731 - val_prc: 0.0119 - 90ms/epoch - 90ms/step\n",
      "Epoch 183/200\n",
      "1/1 - 0s - loss: 0.0344 - tp: 0.0000e+00 - fp: 0.0000e+00 - tn: 1991.0000 - fn: 9.0000 - accuracy: 0.9955 - precision: 0.0000e+00 - recall: 0.0000e+00 - auc: 0.6202 - prc: 0.0163 - val_loss: 0.0398 - val_tp: 0.0000e+00 - val_fp: 0.0000e+00 - val_tn: 2488.0000 - val_fn: 12.0000 - val_accuracy: 0.9952 - val_precision: 0.0000e+00 - val_recall: 0.0000e+00 - val_auc: 0.5739 - val_prc: 0.0120 - 92ms/epoch - 92ms/step\n",
      "Epoch 184/200\n",
      "1/1 - 0s - loss: 0.0292 - tp: 0.0000e+00 - fp: 0.0000e+00 - tn: 1991.0000 - fn: 9.0000 - accuracy: 0.9955 - precision: 0.0000e+00 - recall: 0.0000e+00 - auc: 0.6466 - prc: 0.0161 - val_loss: 0.0397 - val_tp: 0.0000e+00 - val_fp: 0.0000e+00 - val_tn: 2488.0000 - val_fn: 12.0000 - val_accuracy: 0.9952 - val_precision: 0.0000e+00 - val_recall: 0.0000e+00 - val_auc: 0.5746 - val_prc: 0.0120 - 89ms/epoch - 89ms/step\n",
      "Epoch 185/200\n",
      "1/1 - 0s - loss: 0.0317 - tp: 0.0000e+00 - fp: 0.0000e+00 - tn: 1991.0000 - fn: 9.0000 - accuracy: 0.9955 - precision: 0.0000e+00 - recall: 0.0000e+00 - auc: 0.6334 - prc: 0.0192 - val_loss: 0.0395 - val_tp: 0.0000e+00 - val_fp: 0.0000e+00 - val_tn: 2488.0000 - val_fn: 12.0000 - val_accuracy: 0.9952 - val_precision: 0.0000e+00 - val_recall: 0.0000e+00 - val_auc: 0.5751 - val_prc: 0.0131 - 89ms/epoch - 89ms/step\n",
      "Epoch 186/200\n",
      "1/1 - 0s - loss: 0.0320 - tp: 0.0000e+00 - fp: 0.0000e+00 - tn: 1991.0000 - fn: 9.0000 - accuracy: 0.9955 - precision: 0.0000e+00 - recall: 0.0000e+00 - auc: 0.6029 - prc: 0.0197 - val_loss: 0.0394 - val_tp: 0.0000e+00 - val_fp: 0.0000e+00 - val_tn: 2488.0000 - val_fn: 12.0000 - val_accuracy: 0.9952 - val_precision: 0.0000e+00 - val_recall: 0.0000e+00 - val_auc: 0.5772 - val_prc: 0.0139 - 85ms/epoch - 85ms/step\n",
      "Epoch 187/200\n",
      "1/1 - 0s - loss: 0.0322 - tp: 0.0000e+00 - fp: 0.0000e+00 - tn: 1991.0000 - fn: 9.0000 - accuracy: 0.9955 - precision: 0.0000e+00 - recall: 0.0000e+00 - auc: 0.6439 - prc: 0.0226 - val_loss: 0.0392 - val_tp: 0.0000e+00 - val_fp: 0.0000e+00 - val_tn: 2488.0000 - val_fn: 12.0000 - val_accuracy: 0.9952 - val_precision: 0.0000e+00 - val_recall: 0.0000e+00 - val_auc: 0.5780 - val_prc: 0.0140 - 88ms/epoch - 88ms/step\n",
      "Epoch 188/200\n",
      "1/1 - 0s - loss: 0.0324 - tp: 0.0000e+00 - fp: 0.0000e+00 - tn: 1991.0000 - fn: 9.0000 - accuracy: 0.9955 - precision: 0.0000e+00 - recall: 0.0000e+00 - auc: 0.6063 - prc: 0.0163 - val_loss: 0.0390 - val_tp: 0.0000e+00 - val_fp: 0.0000e+00 - val_tn: 2488.0000 - val_fn: 12.0000 - val_accuracy: 0.9952 - val_precision: 0.0000e+00 - val_recall: 0.0000e+00 - val_auc: 0.5784 - val_prc: 0.0139 - 95ms/epoch - 95ms/step\n",
      "Epoch 189/200\n",
      "1/1 - 0s - loss: 0.0298 - tp: 0.0000e+00 - fp: 0.0000e+00 - tn: 1991.0000 - fn: 9.0000 - accuracy: 0.9955 - precision: 0.0000e+00 - recall: 0.0000e+00 - auc: 0.6243 - prc: 0.0262 - val_loss: 0.0389 - val_tp: 0.0000e+00 - val_fp: 0.0000e+00 - val_tn: 2488.0000 - val_fn: 12.0000 - val_accuracy: 0.9952 - val_precision: 0.0000e+00 - val_recall: 0.0000e+00 - val_auc: 0.5798 - val_prc: 0.0140 - 90ms/epoch - 90ms/step\n",
      "Epoch 190/200\n",
      "1/1 - 0s - loss: 0.0322 - tp: 0.0000e+00 - fp: 0.0000e+00 - tn: 1991.0000 - fn: 9.0000 - accuracy: 0.9955 - precision: 0.0000e+00 - recall: 0.0000e+00 - auc: 0.6347 - prc: 0.0200 - val_loss: 0.0387 - val_tp: 0.0000e+00 - val_fp: 0.0000e+00 - val_tn: 2488.0000 - val_fn: 12.0000 - val_accuracy: 0.9952 - val_precision: 0.0000e+00 - val_recall: 0.0000e+00 - val_auc: 0.5860 - val_prc: 0.0158 - 96ms/epoch - 96ms/step\n",
      "Epoch 191/200\n",
      "1/1 - 0s - loss: 0.0305 - tp: 0.0000e+00 - fp: 0.0000e+00 - tn: 1991.0000 - fn: 9.0000 - accuracy: 0.9955 - precision: 0.0000e+00 - recall: 0.0000e+00 - auc: 0.6573 - prc: 0.0306 - val_loss: 0.0386 - val_tp: 0.0000e+00 - val_fp: 0.0000e+00 - val_tn: 2488.0000 - val_fn: 12.0000 - val_accuracy: 0.9952 - val_precision: 0.0000e+00 - val_recall: 0.0000e+00 - val_auc: 0.5862 - val_prc: 0.0158 - 91ms/epoch - 91ms/step\n",
      "Epoch 192/200\n",
      "1/1 - 0s - loss: 0.0326 - tp: 0.0000e+00 - fp: 0.0000e+00 - tn: 1991.0000 - fn: 9.0000 - accuracy: 0.9955 - precision: 0.0000e+00 - recall: 0.0000e+00 - auc: 0.6576 - prc: 0.0436 - val_loss: 0.0384 - val_tp: 0.0000e+00 - val_fp: 0.0000e+00 - val_tn: 2488.0000 - val_fn: 12.0000 - val_accuracy: 0.9952 - val_precision: 0.0000e+00 - val_recall: 0.0000e+00 - val_auc: 0.5879 - val_prc: 0.0158 - 94ms/epoch - 94ms/step\n",
      "Epoch 193/200\n",
      "1/1 - 0s - loss: 0.0282 - tp: 0.0000e+00 - fp: 0.0000e+00 - tn: 1991.0000 - fn: 9.0000 - accuracy: 0.9955 - precision: 0.0000e+00 - recall: 0.0000e+00 - auc: 0.6620 - prc: 0.0260 - val_loss: 0.0383 - val_tp: 0.0000e+00 - val_fp: 0.0000e+00 - val_tn: 2488.0000 - val_fn: 12.0000 - val_accuracy: 0.9952 - val_precision: 0.0000e+00 - val_recall: 0.0000e+00 - val_auc: 0.5890 - val_prc: 0.0159 - 86ms/epoch - 86ms/step\n",
      "Epoch 194/200\n",
      "1/1 - 0s - loss: 0.0299 - tp: 0.0000e+00 - fp: 0.0000e+00 - tn: 1991.0000 - fn: 9.0000 - accuracy: 0.9955 - precision: 0.0000e+00 - recall: 0.0000e+00 - auc: 0.6539 - prc: 0.0209 - val_loss: 0.0382 - val_tp: 0.0000e+00 - val_fp: 0.0000e+00 - val_tn: 2488.0000 - val_fn: 12.0000 - val_accuracy: 0.9952 - val_precision: 0.0000e+00 - val_recall: 0.0000e+00 - val_auc: 0.5914 - val_prc: 0.0161 - 89ms/epoch - 89ms/step\n",
      "Epoch 195/200\n",
      "1/1 - 0s - loss: 0.0343 - tp: 0.0000e+00 - fp: 0.0000e+00 - tn: 1991.0000 - fn: 9.0000 - accuracy: 0.9955 - precision: 0.0000e+00 - recall: 0.0000e+00 - auc: 0.6233 - prc: 0.0111 - val_loss: 0.0380 - val_tp: 0.0000e+00 - val_fp: 0.0000e+00 - val_tn: 2488.0000 - val_fn: 12.0000 - val_accuracy: 0.9952 - val_precision: 0.0000e+00 - val_recall: 0.0000e+00 - val_auc: 0.5933 - val_prc: 0.0161 - 94ms/epoch - 94ms/step\n",
      "Epoch 196/200\n",
      "1/1 - 0s - loss: 0.0343 - tp: 0.0000e+00 - fp: 0.0000e+00 - tn: 1991.0000 - fn: 9.0000 - accuracy: 0.9955 - precision: 0.0000e+00 - recall: 0.0000e+00 - auc: 0.6196 - prc: 0.0190 - val_loss: 0.0379 - val_tp: 0.0000e+00 - val_fp: 0.0000e+00 - val_tn: 2488.0000 - val_fn: 12.0000 - val_accuracy: 0.9952 - val_precision: 0.0000e+00 - val_recall: 0.0000e+00 - val_auc: 0.5943 - val_prc: 0.0164 - 93ms/epoch - 93ms/step\n",
      "Epoch 197/200\n",
      "1/1 - 0s - loss: 0.0304 - tp: 0.0000e+00 - fp: 0.0000e+00 - tn: 1991.0000 - fn: 9.0000 - accuracy: 0.9955 - precision: 0.0000e+00 - recall: 0.0000e+00 - auc: 0.6261 - prc: 0.0148 - val_loss: 0.0378 - val_tp: 0.0000e+00 - val_fp: 0.0000e+00 - val_tn: 2488.0000 - val_fn: 12.0000 - val_accuracy: 0.9952 - val_precision: 0.0000e+00 - val_recall: 0.0000e+00 - val_auc: 0.6027 - val_prc: 0.0170 - 103ms/epoch - 103ms/step\n",
      "Epoch 198/200\n",
      "1/1 - 0s - loss: 0.0327 - tp: 0.0000e+00 - fp: 0.0000e+00 - tn: 1991.0000 - fn: 9.0000 - accuracy: 0.9955 - precision: 0.0000e+00 - recall: 0.0000e+00 - auc: 0.6454 - prc: 0.0226 - val_loss: 0.0377 - val_tp: 0.0000e+00 - val_fp: 0.0000e+00 - val_tn: 2488.0000 - val_fn: 12.0000 - val_accuracy: 0.9952 - val_precision: 0.0000e+00 - val_recall: 0.0000e+00 - val_auc: 0.6037 - val_prc: 0.0186 - 96ms/epoch - 96ms/step\n",
      "Epoch 199/200\n",
      "1/1 - 0s - loss: 0.0324 - tp: 0.0000e+00 - fp: 0.0000e+00 - tn: 1991.0000 - fn: 9.0000 - accuracy: 0.9955 - precision: 0.0000e+00 - recall: 0.0000e+00 - auc: 0.6657 - prc: 0.0303 - val_loss: 0.0375 - val_tp: 0.0000e+00 - val_fp: 0.0000e+00 - val_tn: 2488.0000 - val_fn: 12.0000 - val_accuracy: 0.9952 - val_precision: 0.0000e+00 - val_recall: 0.0000e+00 - val_auc: 0.6046 - val_prc: 0.0203 - 88ms/epoch - 88ms/step\n",
      "Epoch 200/200\n",
      "1/1 - 0s - loss: 0.0309 - tp: 0.0000e+00 - fp: 0.0000e+00 - tn: 1991.0000 - fn: 9.0000 - accuracy: 0.9955 - precision: 0.0000e+00 - recall: 0.0000e+00 - auc: 0.5837 - prc: 0.0175 - val_loss: 0.0374 - val_tp: 0.0000e+00 - val_fp: 0.0000e+00 - val_tn: 2488.0000 - val_fn: 12.0000 - val_accuracy: 0.9952 - val_precision: 0.0000e+00 - val_recall: 0.0000e+00 - val_auc: 0.6069 - val_prc: 0.0209 - 90ms/epoch - 90ms/step\n"
     ]
    }
   ],
   "source": [
    "# Fit the model\n",
    "history = model.fit(\n",
    "    train_gen,\n",
    "    epochs=200,\n",
    "    validation_data=val_gen,\n",
    "    verbose=2,\n",
    "    shuffle=False,  # this should be False, since shuffling data means shuffling the whole graph\n",
    "    # callbacks=[es_callback],\n",
    ")"
   ]
  },
  {
   "cell_type": "code",
   "execution_count": null,
   "metadata": {
    "id": "X1m65GUhhprU"
   },
   "outputs": [],
   "source": [
    "from plot_keras_history import plot_history, show_history"
   ]
  },
  {
   "cell_type": "code",
   "execution_count": null,
   "metadata": {
    "colab": {
     "base_uri": "https://localhost:8080/",
     "height": 1000
    },
    "id": "oR58u398iZM3",
    "outputId": "15a9a851-0e3b-449e-f888-0006e2ae6ea9"
   },
   "outputs": [
    {
     "data": {
      "image/png": "[encoded data removed]",
      "text/plain": [
       "<Figure size 1440x1080 with 12 Axes>"
      ]
     },
     "metadata": {
      "needs_background": "light"
     },
     "output_type": "display_data"
    }
   ],
   "source": [
    "show_history(history)"
   ]
  },
  {
   "cell_type": "markdown",
   "metadata": {
    "id": "y0FY_qVOntfF"
   },
   "source": [
    "In the next few code segments we create additional vizualisations for the accuracy, loss and AUC."
   ]
  },
  {
   "cell_type": "code",
   "execution_count": null,
   "metadata": {
    "colab": {
     "base_uri": "https://localhost:8080/",
     "height": 661
    },
    "id": "MEa7WmMnt6PI",
    "outputId": "a0691020-0ff8-4cb2-b5a1-9d62cc6695d8"
   },
   "outputs": [
    {
     "name": "stderr",
     "output_type": "stream",
     "text": [
      "/usr/local/lib/python3.7/dist-packages/ipykernel_launcher.py:10: MatplotlibDeprecationWarning: Unrecognized location 'bottom right'. Falling back on 'best'; valid locations are\n",
      "\tbest\n",
      "\tupper right\n",
      "\tupper left\n",
      "\tlower left\n",
      "\tlower right\n",
      "\tright\n",
      "\tcenter left\n",
      "\tcenter right\n",
      "\tlower center\n",
      "\tupper center\n",
      "\tcenter\n",
      "This will raise an exception in 3.3.\n",
      "  # Remove the CWD from sys.path while we load stuff.\n"
     ]
    },
    {
     "data": {
      "image/png": "[encoded data removed]",
      "text/plain": [
       "<Figure size 1440x432 with 1 Axes>"
      ]
     },
     "metadata": {
      "needs_background": "light"
     },
     "output_type": "display_data"
    }
   ],
   "source": [
    "# set size plot\n",
    "plt.rcParams[\"figure.figsize\"] = (20,6)\n",
    "\n",
    "# summarize history for accuracy\n",
    "plt.plot(history.history['accuracy'])\n",
    "plt.plot(history.history['val_accuracy'])\n",
    "plt.title('Model Accuracy', fontsize=20)\n",
    "plt.ylabel('Accuracy', fontsize=20)\n",
    "plt.xlabel('Epochs', fontsize=20)\n",
    "plt.legend(['Train', 'Validation'], loc='bottom right', fontsize=20)\n",
    "plt.savefig('/content/drive/MyDrive/Colab Notebooks/files/Acc_model.png')\n",
    "plt.show()"
   ]
  },
  {
   "cell_type": "code",
   "execution_count": null,
   "metadata": {
    "colab": {
     "base_uri": "https://localhost:8080/",
     "height": 661
    },
    "id": "Mrf6CXslup9O",
    "outputId": "e9f30e1b-cdd9-4ecc-8f76-c33f8b24da62"
   },
   "outputs": [
    {
     "name": "stderr",
     "output_type": "stream",
     "text": [
      "/usr/local/lib/python3.7/dist-packages/ipykernel_launcher.py:10: MatplotlibDeprecationWarning: Unrecognized location 'bottom right'. Falling back on 'best'; valid locations are\n",
      "\tbest\n",
      "\tupper right\n",
      "\tupper left\n",
      "\tlower left\n",
      "\tlower right\n",
      "\tright\n",
      "\tcenter left\n",
      "\tcenter right\n",
      "\tlower center\n",
      "\tupper center\n",
      "\tcenter\n",
      "This will raise an exception in 3.3.\n",
      "  # Remove the CWD from sys.path while we load stuff.\n"
     ]
    },
    {
     "data": {
      "image/png": "[encoded data removed]",
      "text/plain": [
       "<Figure size 1440x432 with 1 Axes>"
      ]
     },
     "metadata": {
      "needs_background": "light"
     },
     "output_type": "display_data"
    }
   ],
   "source": [
    "# set size plot\n",
    "plt.rcParams[\"figure.figsize\"] = (20,6)\n",
    "\n",
    "# summarize history for Loss\n",
    "plt.plot(history.history['loss'])\n",
    "plt.plot(history.history['val_loss'])\n",
    "plt.title('Model Loss', fontsize=20)\n",
    "plt.ylabel('Loss', fontsize=20)\n",
    "plt.xlabel('Epochs', fontsize=20)\n",
    "plt.legend(['Train', 'Validation'], loc='bottom right', fontsize=20)\n",
    "plt.savefig('/content/drive/MyDrive/Colab Notebooks/files/Loss_model.png')\n",
    "plt.show()"
   ]
  },
  {
   "cell_type": "code",
   "execution_count": null,
   "metadata": {
    "colab": {
     "base_uri": "https://localhost:8080/",
     "height": 661
    },
    "id": "MaoD67TKuuSp",
    "outputId": "e4cbd95e-c885-46d0-dfb4-d0dce560c73f"
   },
   "outputs": [
    {
     "name": "stderr",
     "output_type": "stream",
     "text": [
      "/usr/local/lib/python3.7/dist-packages/ipykernel_launcher.py:10: MatplotlibDeprecationWarning: Unrecognized location 'bottom right'. Falling back on 'best'; valid locations are\n",
      "\tbest\n",
      "\tupper right\n",
      "\tupper left\n",
      "\tlower left\n",
      "\tlower right\n",
      "\tright\n",
      "\tcenter left\n",
      "\tcenter right\n",
      "\tlower center\n",
      "\tupper center\n",
      "\tcenter\n",
      "This will raise an exception in 3.3.\n",
      "  # Remove the CWD from sys.path while we load stuff.\n"
     ]
    },
    {
     "data": {
      "image/png": "[encoded data removed]",
      "text/plain": [
       "<Figure size 1440x432 with 1 Axes>"
      ]
     },
     "metadata": {
      "needs_background": "light"
     },
     "output_type": "display_data"
    }
   ],
   "source": [
    "# set size plot\n",
    "plt.rcParams[\"figure.figsize\"] = (20,6)\n",
    "\n",
    "# summarize history for AUC\n",
    "plt.plot(history.history['auc'])\n",
    "plt.plot(history.history['val_auc'])\n",
    "plt.title('Model Auc', fontsize=20)\n",
    "plt.ylabel('Auc', fontsize=20)\n",
    "plt.xlabel('Epochs', fontsize=20)\n",
    "plt.legend(['Train', 'Validation'], loc='bottom right', fontsize=20)\n",
    "plt.savefig('/content/drive/MyDrive/Colab Notebooks/files/AUC_model.png')\n",
    "plt.show()"
   ]
  },
  {
   "cell_type": "markdown",
   "metadata": {
    "id": "kypXxfEPME_y"
   },
   "source": [
    "In this section we will predict the test set. First we use our generator to convert our test subject and their features to the correct input. Here we also convert our sigmoid output to 0 and 1."
   ]
  },
  {
   "cell_type": "code",
   "execution_count": null,
   "metadata": {
    "id": "N-ww5qgSdA7v"
   },
   "outputs": [],
   "source": [
    "test_gen = generator.flow(test_subjects.index, test_subjects.Target.values)"
   ]
  },
  {
   "cell_type": "code",
   "execution_count": null,
   "metadata": {
    "id": "Kg1e17DUs_D1"
   },
   "outputs": [],
   "source": [
    "Test_predictions = model.predict(test_gen)"
   ]
  },
  {
   "cell_type": "code",
   "execution_count": null,
   "metadata": {
    "id": "gBEEX8Vmt0HP"
   },
   "outputs": [],
   "source": [
    "test_node_predictions = np.array(Test_predictions.squeeze()>=0.5).astype(int)"
   ]
  },
  {
   "cell_type": "code",
   "execution_count": null,
   "metadata": {
    "id": "F74J5i42t1Uf"
   },
   "outputs": [],
   "source": [
    "df_predictions = pd.DataFrame({'Predicted': test_node_predictions, 'True': test_subjects.Target})"
   ]
  },
  {
   "cell_type": "code",
   "execution_count": null,
   "metadata": {
    "id": "qbUD16Oqw1bM"
   },
   "outputs": [],
   "source": [
    "import sklearn"
   ]
  },
  {
   "cell_type": "code",
   "execution_count": null,
   "metadata": {
    "colab": {
     "base_uri": "https://localhost:8080/"
    },
    "id": "Ue0drvMhwhOU",
    "outputId": "5d5571fc-0652-4b5a-f572-734f503af939"
   },
   "outputs": [
    {
     "name": "stdout",
     "output_type": "stream",
     "text": [
      "              precision    recall  f1-score   support\n",
      "\n",
      "           0       1.00      1.00      1.00      2023\n",
      "           1       0.00      0.00      0.00        10\n",
      "\n",
      "    accuracy                           1.00      2033\n",
      "   macro avg       0.50      0.50      0.50      2033\n",
      "weighted avg       0.99      1.00      0.99      2033\n",
      "\n"
     ]
    },
    {
     "name": "stderr",
     "output_type": "stream",
     "text": [
      "/usr/local/lib/python3.7/dist-packages/sklearn/metrics/_classification.py:1318: UndefinedMetricWarning: Precision and F-score are ill-defined and being set to 0.0 in labels with no predicted samples. Use `zero_division` parameter to control this behavior.\n",
      "  _warn_prf(average, modifier, msg_start, len(result))\n",
      "/usr/local/lib/python3.7/dist-packages/sklearn/metrics/_classification.py:1318: UndefinedMetricWarning: Precision and F-score are ill-defined and being set to 0.0 in labels with no predicted samples. Use `zero_division` parameter to control this behavior.\n",
      "  _warn_prf(average, modifier, msg_start, len(result))\n",
      "/usr/local/lib/python3.7/dist-packages/sklearn/metrics/_classification.py:1318: UndefinedMetricWarning: Precision and F-score are ill-defined and being set to 0.0 in labels with no predicted samples. Use `zero_division` parameter to control this behavior.\n",
      "  _warn_prf(average, modifier, msg_start, len(result))\n"
     ]
    }
   ],
   "source": [
    "classification = sklearn.metrics.classification_report(df_predictions['True'], df_predictions['Predicted'])\n",
    "print(classification)"
   ]
  },
  {
   "cell_type": "code",
   "execution_count": null,
   "metadata": {
    "colab": {
     "base_uri": "https://localhost:8080/",
     "height": 350
    },
    "id": "HlflFHR6zY7c",
    "outputId": "bd76e32d-ddea-4793-aaa1-608fa1083bde"
   },
   "outputs": [
    {
     "data": {
      "image/png": "[encoded data removed]",
      "text/plain": [
       "<Figure size 360x360 with 2 Axes>"
      ]
     },
     "metadata": {
      "needs_background": "light"
     },
     "output_type": "display_data"
    }
   ],
   "source": [
    "  cm = confusion_matrix(df_predictions['True'], df_predictions['Predicted'])\n",
    "  plt.figure(figsize=(5,5))\n",
    "  sns.heatmap(cm, annot=True, fmt=\"d\", cmap=\"Blues\")\n",
    "  plt.title('GCN model')\n",
    "  plt.ylabel('Actual label')\n",
    "  plt.xlabel('Predicted label')\n",
    "  plt.savefig('/content/drive/MyDrive/Colab Notebooks/files/Confusion_mat_test_set.png')"
   ]
  },
  {
   "cell_type": "markdown",
   "metadata": {
    "id": "-VDgK3sjl2vo"
   },
   "source": [
    "Let us have a look at the embeddings of the model before we proceed to the final dense. These embeddings show how the data is represented"
   ]
  },
  {
   "cell_type": "code",
   "execution_count": null,
   "metadata": {
    "id": "MPUP_3VzoYX-"
   },
   "outputs": [],
   "source": [
    "import umap\n",
    "import seaborn as sns"
   ]
  },
  {
   "cell_type": "code",
   "execution_count": null,
   "metadata": {
    "colab": {
     "base_uri": "https://localhost:8080/",
     "height": 664
    },
    "id": "LS70YkQAl1DX",
    "outputId": "5e622752-2a47-46ac-ce8e-59247701f9b9"
   },
   "outputs": [
    {
     "name": "stdout",
     "output_type": "stream",
     "text": [
      "(1, 6533, 32)\n"
     ]
    },
    {
     "name": "stderr",
     "output_type": "stream",
     "text": [
      "/usr/local/lib/python3.7/dist-packages/numba/np/ufunc/parallel.py:363: NumbaWarning: The TBB threading layer requires TBB version 2019.5 or later i.e., TBB_INTERFACE_VERSION >= 11005. Found TBB_INTERFACE_VERSION = 9107. The TBB threading layer is disabled.\n",
      "  warnings.warn(problem)\n"
     ]
    },
    {
     "data": {
      "image/png": "[encoded data removed]",
      "text/plain": [
       "<Figure size 1440x720 with 1 Axes>"
      ]
     },
     "metadata": {
      "needs_background": "light"
     },
     "output_type": "display_data"
    }
   ],
   "source": [
    "# Define the embedding model\n",
    "embedding_model = Model(inputs=x_inp, outputs=model.layers[-2].output)\n",
    "\n",
    "# Get indices of all nodes\n",
    "all_indices = Target_df.index\n",
    "\n",
    "# Use generator on entire dataset\n",
    "all_nodes_gen = generator.flow(Target_df.index, Target_df.Target.values)\n",
    "\n",
    "# Get embeddings\n",
    "emb = embedding_model.predict(all_nodes_gen)\n",
    "print(emb.shape)\n",
    "# Shape: (1, 37700, 32)\n",
    "\n",
    "# UMAP for visualisation\n",
    "u = umap.UMAP(random_state=42)\n",
    "umap_embs = u.fit_transform(emb[0])\n",
    "\n",
    "#Plot the embeddings\n",
    "plt.figure(figsize=(20,10))\n",
    "ax = sns.scatterplot(x = umap_embs[:, 0], y = umap_embs[:, 1], hue = Target_df.Target)\n",
    "\n",
    "# Save plot\n",
    "plt.savefig('/content/drive/MyDrive/Colab Notebooks/files/Embeddings_plot.png')"
   ]
  },
  {
   "cell_type": "markdown",
   "metadata": {
    "id": "7Wb78WCAoVbK"
   },
   "source": [
    "# 8. Feature importance\n",
    "\n",
    "To get a better understanding why the GCN model is unable to differentiate between the fraudulent and non-fraudulent addresses we be looking at different measures of feature importance. \n",
    "\n",
    "We start by performing a logistic regression to analyze the coefficients of the features."
   ]
  },
  {
   "cell_type": "markdown",
   "metadata": {
    "id": "b9h77R6nmp06"
   },
   "source": [
    "### Coefficients logistic regression\n"
   ]
  },
  {
   "cell_type": "code",
   "execution_count": 29,
   "metadata": {
    "id": "F8l6N0EZxjh9"
   },
   "outputs": [],
   "source": [
    "import statsmodels.api as sm"
   ]
  },
  {
   "cell_type": "code",
   "execution_count": 28,
   "metadata": {
    "id": "Q_a4yfjkNEv_"
   },
   "outputs": [],
   "source": [
    "from sklearn.model_selection import train_test_split"
   ]
  },
  {
   "cell_type": "code",
   "execution_count": 30,
   "metadata": {
    "id": "LL9DYH-8NEwA"
   },
   "outputs": [],
   "source": [
    "X_train, X_test, y_train, y_test = train_test_split(normalized_features, Target_df.Target)"
   ]
  },
  {
   "cell_type": "code",
   "execution_count": 44,
   "metadata": {
    "colab": {
     "base_uri": "https://localhost:8080/",
     "height": 0
    },
    "id": "kDoDOYBHxpXf",
    "outputId": "50871abc-ee8f-48c1-ee81-94f41ceac3b7"
   },
   "outputs": [
    {
     "name": "stdout",
     "output_type": "stream",
     "text": [
      "Optimization terminated successfully.\n",
      "         Current function value: 0.692605\n",
      "         Iterations 4\n"
     ]
    }
   ],
   "source": [
    "logit_model = sm.Logit(y_train, X_train).fit()"
   ]
  },
  {
   "cell_type": "code",
   "execution_count": 45,
   "metadata": {
    "colab": {
     "base_uri": "https://localhost:8080/",
     "height": 0
    },
    "id": "C6MWKMhMywAt",
    "outputId": "b694b699-7832-4cf9-89ff-3d0b7f257d16"
   },
   "outputs": [
    {
     "name": "stdout",
     "output_type": "stream",
     "text": [
      "                           Logit Regression Results                           \n",
      "==============================================================================\n",
      "Dep. Variable:                 Target   No. Observations:                 4899\n",
      "Model:                          Logit   Df Residuals:                     4890\n",
      "Method:                           MLE   Df Model:                            8\n",
      "Date:                Mon, 29 Aug 2022   Pseudo R-squ.:                  -19.93\n",
      "Time:                        15:15:27   Log-Likelihood:                -3393.1\n",
      "converged:                       True   LL-Null:                       -162.14\n",
      "Covariance Type:            nonrobust   LLR p-value:                     1.000\n",
      "==========================================================================================\n",
      "                             coef    std err          z      P>|z|      [0.025      0.975]\n",
      "------------------------------------------------------------------------------------------\n",
      "Degree_centrality          0.0148      0.060      0.247      0.805      -0.103       0.132\n",
      "Betweenness_centrality     0.0098      0.056      0.177      0.860      -0.099       0.119\n",
      "Closeness_centrality       0.0431      0.040      1.072      0.284      -0.036       0.122\n",
      "ego_Density               -0.0318      0.041     -0.783      0.434      -0.112       0.048\n",
      "Heavy_vicinity             0.0274      0.041      0.661      0.508      -0.054       0.109\n",
      "Dominant_edge             -0.0189      0.039     -0.484      0.629      -0.096       0.058\n",
      "Unwanted_edges             0.0376      0.050      0.757      0.449      -0.060       0.135\n",
      "Missing_edges             -0.0391      0.045     -0.863      0.388      -0.128       0.050\n",
      "Mahalanobis                0.0057      0.029      0.195      0.845      -0.052       0.063\n",
      "==========================================================================================\n"
     ]
    }
   ],
   "source": [
    "print(logit_model.summary())"
   ]
  },
  {
   "cell_type": "markdown",
   "metadata": {
    "id": "zPYrU71a72b5"
   },
   "source": [
    "If we look at the coefficients and the corresponding p-values of the features we see that none of the features have a significant effect on the Target variable. The logit model relies on a linear relation between the dependent and independent variable. \n",
    "\n",
    "Next, we will use a random forest classifier to account for non-linear relations."
   ]
  },
  {
   "cell_type": "markdown",
   "metadata": {
    "id": "ZMtFETNqm25q"
   },
   "source": [
    "### Feature importance Random Forest"
   ]
  },
  {
   "cell_type": "code",
   "execution_count": 25,
   "metadata": {
    "id": "yBpouyJB9IVN"
   },
   "outputs": [],
   "source": [
    "from sklearn.ensemble import RandomForestClassifier"
   ]
  },
  {
   "cell_type": "code",
   "execution_count": 26,
   "metadata": {
    "id": "Xwh0PsEM9q2u"
   },
   "outputs": [],
   "source": [
    "rf_model = RandomForestClassifier()"
   ]
  },
  {
   "cell_type": "code",
   "execution_count": 32,
   "metadata": {
    "colab": {
     "base_uri": "https://localhost:8080/",
     "height": 0
    },
    "id": "bGtHezV99wBp",
    "outputId": "55e29b06-2bdf-4ffd-a912-3f3f4dbecdd5"
   },
   "outputs": [
    {
     "data": {
      "text/plain": [
       "RandomForestClassifier()"
      ]
     },
     "execution_count": 32,
     "metadata": {},
     "output_type": "execute_result"
    }
   ],
   "source": [
    "rf_model.fit(X_train, y_train)"
   ]
  },
  {
   "cell_type": "code",
   "execution_count": 33,
   "metadata": {
    "id": "udJd-V879203"
   },
   "outputs": [],
   "source": [
    "rf_feature_importance = pd.DataFrame({'Features':normalized_features.columns, 'Importance':rf_model.feature_importances_, 'Standard_Error': np.std([tree.feature_importances_ for tree in rf_model.estimators_], axis=0)})"
   ]
  },
  {
   "cell_type": "code",
   "execution_count": 34,
   "metadata": {
    "colab": {
     "base_uri": "https://localhost:8080/",
     "height": 332
    },
    "id": "eNIhKRjZno5t",
    "outputId": "acdc7c24-26f4-4609-caf4-381472708678"
   },
   "outputs": [
    {
     "data": {
      "text/html": [
       "\n",
       "  <div id=\"df-52973ad3-15a1-4a5e-8c90-6c9c8f5d06c2\">\n",
       "    <div class=\"colab-df-container\">\n",
       "      <div>\n",
       "<style scoped>\n",
       "    .dataframe tbody tr th:only-of-type {\n",
       "        vertical-align: middle;\n",
       "    }\n",
       "\n",
       "    .dataframe tbody tr th {\n",
       "        vertical-align: top;\n",
       "    }\n",
       "\n",
       "    .dataframe thead th {\n",
       "        text-align: right;\n",
       "    }\n",
       "</style>\n",
       "<table border=\"1\" class=\"dataframe\">\n",
       "  <thead>\n",
       "    <tr style=\"text-align: right;\">\n",
       "      <th></th>\n",
       "      <th>Features</th>\n",
       "      <th>Importance</th>\n",
       "      <th>Standard_Error</th>\n",
       "    </tr>\n",
       "  </thead>\n",
       "  <tbody>\n",
       "    <tr>\n",
       "      <th>7</th>\n",
       "      <td>Missing_edges</td>\n",
       "      <td>0.036269</td>\n",
       "      <td>0.046813</td>\n",
       "    </tr>\n",
       "    <tr>\n",
       "      <th>0</th>\n",
       "      <td>Degree_centrality</td>\n",
       "      <td>0.064144</td>\n",
       "      <td>0.056907</td>\n",
       "    </tr>\n",
       "    <tr>\n",
       "      <th>6</th>\n",
       "      <td>Unwanted_edges</td>\n",
       "      <td>0.071336</td>\n",
       "      <td>0.057652</td>\n",
       "    </tr>\n",
       "    <tr>\n",
       "      <th>3</th>\n",
       "      <td>ego_Density</td>\n",
       "      <td>0.092123</td>\n",
       "      <td>0.059915</td>\n",
       "    </tr>\n",
       "    <tr>\n",
       "      <th>1</th>\n",
       "      <td>Betweenness_centrality</td>\n",
       "      <td>0.127548</td>\n",
       "      <td>0.077456</td>\n",
       "    </tr>\n",
       "    <tr>\n",
       "      <th>8</th>\n",
       "      <td>Mahalanobis</td>\n",
       "      <td>0.132307</td>\n",
       "      <td>0.074545</td>\n",
       "    </tr>\n",
       "    <tr>\n",
       "      <th>5</th>\n",
       "      <td>Dominant_edge</td>\n",
       "      <td>0.139353</td>\n",
       "      <td>0.077165</td>\n",
       "    </tr>\n",
       "    <tr>\n",
       "      <th>4</th>\n",
       "      <td>Heavy_vicinity</td>\n",
       "      <td>0.156331</td>\n",
       "      <td>0.074932</td>\n",
       "    </tr>\n",
       "    <tr>\n",
       "      <th>2</th>\n",
       "      <td>Closeness_centrality</td>\n",
       "      <td>0.180589</td>\n",
       "      <td>0.088825</td>\n",
       "    </tr>\n",
       "  </tbody>\n",
       "</table>\n",
       "</div>\n",
       "      <button class=\"colab-df-convert\" onclick=\"convertToInteractive('df-52973ad3-15a1-4a5e-8c90-6c9c8f5d06c2')\"\n",
       "              title=\"Convert this dataframe to an interactive table.\"\n",
       "              style=\"display:none;\">\n",
       "        \n",
       "  <svg xmlns=\"http://www.w3.org/2000/svg\" height=\"24px\"viewBox=\"0 0 24 24\"\n",
       "       width=\"24px\">\n",
       "    <path d=\"M0 0h24v24H0V0z\" fill=\"none\"/>\n",
       "    <path d=\"M18.56 5.44l.94 2.06.94-2.06 2.06-.94-2.06-.94-.94-2.06-.94 2.06-2.06.94zm-11 1L8.5 8.5l.94-2.06 2.06-.94-2.06-.94L8.5 2.5l-.94 2.06-2.06.94zm10 10l.94 2.06.94-2.06 2.06-.94-2.06-.94-.94-2.06-.94 2.06-2.06.94z\"/><path d=\"M17.41 7.96l-1.37-1.37c-.4-.4-.92-.59-1.43-.59-.52 0-1.04.2-1.43.59L10.3 9.45l-7.72 7.72c-.78.78-.78 2.05 0 2.83L4 21.41c.39.39.9.59 1.41.59.51 0 1.02-.2 1.41-.59l7.78-7.78 2.81-2.81c.8-.78.8-2.07 0-2.86zM5.41 20L4 18.59l7.72-7.72 1.47 1.35L5.41 20z\"/>\n",
       "  </svg>\n",
       "      </button>\n",
       "      \n",
       "  <style>\n",
       "    .colab-df-container {\n",
       "      display:flex;\n",
       "      flex-wrap:wrap;\n",
       "      gap: 12px;\n",
       "    }\n",
       "\n",
       "    .colab-df-convert {\n",
       "      background-color: #E8F0FE;\n",
       "      border: none;\n",
       "      border-radius: 50%;\n",
       "      cursor: pointer;\n",
       "      display: none;\n",
       "      fill: #1967D2;\n",
       "      height: 32px;\n",
       "      padding: 0 0 0 0;\n",
       "      width: 32px;\n",
       "    }\n",
       "\n",
       "    .colab-df-convert:hover {\n",
       "      background-color: #E2EBFA;\n",
       "      box-shadow: 0px 1px 2px rgba(60, 64, 67, 0.3), 0px 1px 3px 1px rgba(60, 64, 67, 0.15);\n",
       "      fill: #174EA6;\n",
       "    }\n",
       "\n",
       "    [theme=dark] .colab-df-convert {\n",
       "      background-color: #3B4455;\n",
       "      fill: #D2E3FC;\n",
       "    }\n",
       "\n",
       "    [theme=dark] .colab-df-convert:hover {\n",
       "      background-color: #434B5C;\n",
       "      box-shadow: 0px 1px 3px 1px rgba(0, 0, 0, 0.15);\n",
       "      filter: drop-shadow(0px 1px 2px rgba(0, 0, 0, 0.3));\n",
       "      fill: #FFFFFF;\n",
       "    }\n",
       "  </style>\n",
       "\n",
       "      <script>\n",
       "        const buttonEl =\n",
       "          document.querySelector('#df-52973ad3-15a1-4a5e-8c90-6c9c8f5d06c2 button.colab-df-convert');\n",
       "        buttonEl.style.display =\n",
       "          google.colab.kernel.accessAllowed ? 'block' : 'none';\n",
       "\n",
       "        async function convertToInteractive(key) {\n",
       "          const element = document.querySelector('#df-52973ad3-15a1-4a5e-8c90-6c9c8f5d06c2');\n",
       "          const dataTable =\n",
       "            await google.colab.kernel.invokeFunction('convertToInteractive',\n",
       "                                                     [key], {});\n",
       "          if (!dataTable) return;\n",
       "\n",
       "          const docLinkHtml = 'Like what you see? Visit the ' +\n",
       "            '<a target=\"_blank\" href=https://colab.research.google.com/notebooks/data_table.ipynb>data table notebook</a>'\n",
       "            + ' to learn more about interactive tables.';\n",
       "          element.innerHTML = '';\n",
       "          dataTable['output_type'] = 'display_data';\n",
       "          await google.colab.output.renderOutput(dataTable, element);\n",
       "          const docLink = document.createElement('div');\n",
       "          docLink.innerHTML = docLinkHtml;\n",
       "          element.appendChild(docLink);\n",
       "        }\n",
       "      </script>\n",
       "    </div>\n",
       "  </div>\n",
       "  "
      ],
      "text/plain": [
       "                 Features  Importance  Standard_Error\n",
       "7           Missing_edges    0.036269        0.046813\n",
       "0       Degree_centrality    0.064144        0.056907\n",
       "6          Unwanted_edges    0.071336        0.057652\n",
       "3             ego_Density    0.092123        0.059915\n",
       "1  Betweenness_centrality    0.127548        0.077456\n",
       "8             Mahalanobis    0.132307        0.074545\n",
       "5           Dominant_edge    0.139353        0.077165\n",
       "4          Heavy_vicinity    0.156331        0.074932\n",
       "2    Closeness_centrality    0.180589        0.088825"
      ]
     },
     "execution_count": 34,
     "metadata": {},
     "output_type": "execute_result"
    }
   ],
   "source": [
    "rf_feature_importance.sort_values(by='Importance')"
   ]
  },
  {
   "cell_type": "code",
   "execution_count": 36,
   "metadata": {
    "colab": {
     "base_uri": "https://localhost:8080/",
     "height": 411
    },
    "id": "-SNYfwWUdnwY",
    "outputId": "79bb2264-ddab-4a79-f00e-bdffe4eeb96c",
    "scrolled": true
   },
   "outputs": [
    {
     "data": {
      "image/png": "[encoded data removed]",
      "text/plain": [
       "<Figure size 504x288 with 1 Axes>"
      ]
     },
     "metadata": {
      "needs_background": "light"
     },
     "output_type": "display_data"
    },
    {
     "data": {
      "text/plain": [
       "<Figure size 432x288 with 0 Axes>"
      ]
     },
     "metadata": {},
     "output_type": "display_data"
    }
   ],
   "source": [
    "fig = plt.figure(figsize=(7,4))\n",
    "ax = fig.add_axes([0,0,1,1])\n",
    "features = ['Missing edges', 'Unprecedented edges', 'Degree centrality', 'Density of the egonet', 'Dominant edges in the egonet', 'Intensity of the egonet', 'Betweenness centrality', 'Mahalanobis distance', 'Closeness centrality']\n",
    "scores = rf_feature_importance.Importance.sort_values().tolist()\n",
    "ax.barh(features,scores, fill=False)\n",
    "\n",
    "# Set title\n",
    "ax.set_title('Feature importance scores of random forest classifier', size=15)\n",
    "\n",
    "# set labels\n",
    "ax.set_xlabel('Average impurity decrease', size=13)\n",
    "ax.set_ylabel('Features', size=13)\n",
    "\n",
    "# Hide the right and top spines\n",
    "ax.spines['right'].set_visible(False)\n",
    "ax.spines['top'].set_visible(False)\n",
    "\n",
    "plt.xticks(rotation = 45, fontsize = 12)\n",
    "plt.yticks(fontsize = 12)\n",
    "plt.show()\n",
    "plt.savefig('/content/drive/MyDrive/Colab Notebooks/files/Feature_importance_plot.png')"
   ]
  }
 ],
 "metadata": {
  "colab": {
   "collapsed_sections": [],
   "name": "GCN.ipynb",
   "provenance": []
  },
  "kernelspec": {
   "display_name": "Python 3 (ipykernel)",
   "language": "python",
   "name": "python3"
  },
  "language_info": {
   "codemirror_mode": {
    "name": "ipython",
    "version": 3
   },
   "file_extension": ".py",
   "mimetype": "text/x-python",
   "name": "python",
   "nbconvert_exporter": "python",
   "pygments_lexer": "ipython3",
   "version": "3.9.7"
  }
 },
 "nbformat": 4,
 "nbformat_minor": 1
}
