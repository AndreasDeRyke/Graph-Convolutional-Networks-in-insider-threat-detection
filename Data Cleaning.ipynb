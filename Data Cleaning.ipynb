{
 "cells": [
  {
   "cell_type": "markdown",
   "id": "ae174cdf",
   "metadata": {},
   "source": [
    "# 3. Cleaning the dataset\n",
    "\n",
    "Before we can construct our network we cleaned our dataset. There are different levels in our cleaning process\n",
    "* Remove duplicates\n",
    "* Remove spam emails\n",
    "* Remove emails from infrequent email addresses\n",
    "* Group all not @enron emails together into a specific domain, one for sending and one for receiving\n",
    "* Set a threshold for how many emails between 2 parties must have been exchanged before being taken into account"
   ]
  },
  {
   "cell_type": "code",
   "execution_count": 2,
   "id": "63655756",
   "metadata": {},
   "outputs": [],
   "source": [
    "# Import packages\n",
    "import pandas as pd\n",
    "import numpy as np"
   ]
  },
  {
   "cell_type": "markdown",
   "id": "4bd0b8de",
   "metadata": {},
   "source": [
    "## 3.1 Load in data frame"
   ]
  },
  {
   "cell_type": "code",
   "execution_count": 4,
   "id": "72b72e46",
   "metadata": {},
   "outputs": [
    {
     "name": "stdout",
     "output_type": "stream",
     "text": [
      "(900893, 5)\n"
     ]
    },
    {
     "data": {
      "text/html": [
       "<div>\n",
       "<style scoped>\n",
       "    .dataframe tbody tr th:only-of-type {\n",
       "        vertical-align: middle;\n",
       "    }\n",
       "\n",
       "    .dataframe tbody tr th {\n",
       "        vertical-align: top;\n",
       "    }\n",
       "\n",
       "    .dataframe thead th {\n",
       "        text-align: right;\n",
       "    }\n",
       "</style>\n",
       "<table border=\"1\" class=\"dataframe\">\n",
       "  <thead>\n",
       "    <tr style=\"text-align: right;\">\n",
       "      <th></th>\n",
       "      <th>From</th>\n",
       "      <th>To</th>\n",
       "      <th>Date</th>\n",
       "      <th>Subject</th>\n",
       "      <th>Message_ID</th>\n",
       "    </tr>\n",
       "  </thead>\n",
       "  <tbody>\n",
       "    <tr>\n",
       "      <th>0</th>\n",
       "      <td>pallen70@hotmail.com</td>\n",
       "      <td>pallen@enron.com</td>\n",
       "      <td>2001-12-30 10:19:42</td>\n",
       "      <td>Fwd: Bishops Corner</td>\n",
       "      <td>215433951075855374340</td>\n",
       "    </tr>\n",
       "    <tr>\n",
       "      <th>1</th>\n",
       "      <td>arsystem@mailman.enron.com</td>\n",
       "      <td>k..allen@enron.com</td>\n",
       "      <td>2001-12-27 17:16:46</td>\n",
       "      <td>Your Approval is Overdue: Access Request for m...</td>\n",
       "      <td>253634511075855374674</td>\n",
       "    </tr>\n",
       "    <tr>\n",
       "      <th>2</th>\n",
       "      <td>webmaster@earnings.com</td>\n",
       "      <td>pallen@enron.com</td>\n",
       "      <td>2001-10-18 15:21:22</td>\n",
       "      <td>NT Earnings Information</td>\n",
       "      <td>197054941075858631723</td>\n",
       "    </tr>\n",
       "    <tr>\n",
       "      <th>3</th>\n",
       "      <td>discount@open2win.oi3.net</td>\n",
       "      <td>pallen@enron.com</td>\n",
       "      <td>2001-10-18 14:57:30</td>\n",
       "      <td>50% Hotel Discount Notice #7734228 for PHILLIP</td>\n",
       "      <td>79963351075858632216</td>\n",
       "    </tr>\n",
       "    <tr>\n",
       "      <th>4</th>\n",
       "      <td>no.address@enron.com</td>\n",
       "      <td>All Enron Worldwide@ENRON</td>\n",
       "      <td>2001-10-18 15:10:12</td>\n",
       "      <td>UPDATE - Supported Internet Email Addresses</td>\n",
       "      <td>89140651075858632242</td>\n",
       "    </tr>\n",
       "  </tbody>\n",
       "</table>\n",
       "</div>"
      ],
      "text/plain": [
       "                         From                          To  \\\n",
       "0        pallen70@hotmail.com            pallen@enron.com   \n",
       "1  arsystem@mailman.enron.com          k..allen@enron.com   \n",
       "2      webmaster@earnings.com            pallen@enron.com   \n",
       "3   discount@open2win.oi3.net            pallen@enron.com   \n",
       "4        no.address@enron.com  All Enron Worldwide@ENRON    \n",
       "\n",
       "                  Date                                            Subject  \\\n",
       "0  2001-12-30 10:19:42                                Fwd: Bishops Corner   \n",
       "1  2001-12-27 17:16:46  Your Approval is Overdue: Access Request for m...   \n",
       "2  2001-10-18 15:21:22                            NT Earnings Information   \n",
       "3  2001-10-18 14:57:30     50% Hotel Discount Notice #7734228 for PHILLIP   \n",
       "4  2001-10-18 15:10:12        UPDATE - Supported Internet Email Addresses   \n",
       "\n",
       "              Message_ID  \n",
       "0  215433951075855374340  \n",
       "1  253634511075855374674  \n",
       "2  197054941075858631723  \n",
       "3   79963351075858632216  \n",
       "4   89140651075858632242  "
      ]
     },
     "execution_count": 4,
     "metadata": {},
     "output_type": "execute_result"
    }
   ],
   "source": [
    "# Direct mails\n",
    "Direct_mails = pd.read_csv('All direct mails')\n",
    "print(Direct_mails.shape)\n",
    "Direct_mails.head()"
   ]
  },
  {
   "cell_type": "code",
   "execution_count": 47,
   "id": "43958643",
   "metadata": {},
   "outputs": [
    {
     "data": {
      "text/plain": [
       "False    894024\n",
       "True       6869\n",
       "dtype: int64"
      ]
     },
     "execution_count": 47,
     "metadata": {},
     "output_type": "execute_result"
    }
   ],
   "source": [
    "# Check for duplicates\n",
    "Direct_mails.duplicated().value_counts()"
   ]
  },
  {
   "cell_type": "code",
   "execution_count": 48,
   "id": "799d2879",
   "metadata": {},
   "outputs": [],
   "source": [
    "# Remove duplicated values\n",
    "Direct_mails = Direct_mails[~Direct_mails.duplicated()]"
   ]
  },
  {
   "cell_type": "code",
   "execution_count": 49,
   "id": "ef53b6b9",
   "metadata": {},
   "outputs": [
    {
     "data": {
      "text/plain": [
       "(894024, 5)"
      ]
     },
     "execution_count": 49,
     "metadata": {},
     "output_type": "execute_result"
    }
   ],
   "source": [
    "Direct_mails.shape"
   ]
  },
  {
   "cell_type": "markdown",
   "id": "c5edc505",
   "metadata": {},
   "source": [
    "## 3.2 Remove spam\n",
    "\n",
    "For our project we are interested in looking at the emails between employees. In this section we filter out the emails which are related to spam.\n",
    "\n",
    "**1. Create spam detector**\n",
    "\n",
    "First of all we will remove the spam emails from the dataset. We start by creating a spam detector. There is a subset of the Enron email corpus which is labeled whether an email is spam or ham. We try to create a classifier which is able to classify an email into spam or ham based on the subject. We achieved an accuracy of 0.94 with tf-idf scores and a support vector machine. This is good enough for our project."
   ]
  },
  {
   "cell_type": "code",
   "execution_count": 50,
   "id": "1d0c9a64",
   "metadata": {},
   "outputs": [],
   "source": [
    "# Load in dataset\n",
    "spam_data = pd.read_csv('enron_spam_data.csv')"
   ]
  },
  {
   "cell_type": "code",
   "execution_count": 51,
   "id": "30c810c1",
   "metadata": {},
   "outputs": [
    {
     "data": {
      "text/html": [
       "<div>\n",
       "<style scoped>\n",
       "    .dataframe tbody tr th:only-of-type {\n",
       "        vertical-align: middle;\n",
       "    }\n",
       "\n",
       "    .dataframe tbody tr th {\n",
       "        vertical-align: top;\n",
       "    }\n",
       "\n",
       "    .dataframe thead th {\n",
       "        text-align: right;\n",
       "    }\n",
       "</style>\n",
       "<table border=\"1\" class=\"dataframe\">\n",
       "  <thead>\n",
       "    <tr style=\"text-align: right;\">\n",
       "      <th></th>\n",
       "      <th>Message ID</th>\n",
       "      <th>Subject</th>\n",
       "      <th>Message</th>\n",
       "      <th>Spam/Ham</th>\n",
       "      <th>Date</th>\n",
       "    </tr>\n",
       "  </thead>\n",
       "  <tbody>\n",
       "    <tr>\n",
       "      <th>0</th>\n",
       "      <td>0</td>\n",
       "      <td>christmas tree farm pictures</td>\n",
       "      <td>NaN</td>\n",
       "      <td>ham</td>\n",
       "      <td>1999-12-10</td>\n",
       "    </tr>\n",
       "    <tr>\n",
       "      <th>1</th>\n",
       "      <td>1</td>\n",
       "      <td>vastar resources , inc .</td>\n",
       "      <td>gary , production from the high island larger ...</td>\n",
       "      <td>ham</td>\n",
       "      <td>1999-12-13</td>\n",
       "    </tr>\n",
       "    <tr>\n",
       "      <th>2</th>\n",
       "      <td>2</td>\n",
       "      <td>calpine daily gas nomination</td>\n",
       "      <td>- calpine daily gas nomination 1 . doc</td>\n",
       "      <td>ham</td>\n",
       "      <td>1999-12-14</td>\n",
       "    </tr>\n",
       "    <tr>\n",
       "      <th>3</th>\n",
       "      <td>3</td>\n",
       "      <td>re : issue</td>\n",
       "      <td>fyi - see note below - already done .\\nstella\\...</td>\n",
       "      <td>ham</td>\n",
       "      <td>1999-12-14</td>\n",
       "    </tr>\n",
       "    <tr>\n",
       "      <th>4</th>\n",
       "      <td>4</td>\n",
       "      <td>meter 7268 nov allocation</td>\n",
       "      <td>fyi .\\n- - - - - - - - - - - - - - - - - - - -...</td>\n",
       "      <td>ham</td>\n",
       "      <td>1999-12-14</td>\n",
       "    </tr>\n",
       "  </tbody>\n",
       "</table>\n",
       "</div>"
      ],
      "text/plain": [
       "   Message ID                       Subject  \\\n",
       "0           0  christmas tree farm pictures   \n",
       "1           1      vastar resources , inc .   \n",
       "2           2  calpine daily gas nomination   \n",
       "3           3                    re : issue   \n",
       "4           4     meter 7268 nov allocation   \n",
       "\n",
       "                                             Message Spam/Ham        Date  \n",
       "0                                                NaN      ham  1999-12-10  \n",
       "1  gary , production from the high island larger ...      ham  1999-12-13  \n",
       "2             - calpine daily gas nomination 1 . doc      ham  1999-12-14  \n",
       "3  fyi - see note below - already done .\\nstella\\...      ham  1999-12-14  \n",
       "4  fyi .\\n- - - - - - - - - - - - - - - - - - - -...      ham  1999-12-14  "
      ]
     },
     "execution_count": 51,
     "metadata": {},
     "output_type": "execute_result"
    }
   ],
   "source": [
    "# Check output\n",
    "spam_data.head()"
   ]
  },
  {
   "cell_type": "code",
   "execution_count": 52,
   "id": "95ac7df9",
   "metadata": {},
   "outputs": [],
   "source": [
    "# Rename column\n",
    "spam_data = spam_data.rename(columns={'Spam/Ham': 'Category'})"
   ]
  },
  {
   "cell_type": "code",
   "execution_count": 53,
   "id": "fb207c78",
   "metadata": {},
   "outputs": [],
   "source": [
    "# Remove empty values in the subject column\n",
    "spam_data = spam_data[~spam_data.Subject.isnull()]"
   ]
  },
  {
   "cell_type": "code",
   "execution_count": 54,
   "id": "8843bff4",
   "metadata": {},
   "outputs": [],
   "source": [
    "# Install packages\n",
    "from sklearn.model_selection import train_test_split\n",
    "from sklearn.feature_extraction.text import TfidfVectorizer"
   ]
  },
  {
   "cell_type": "code",
   "execution_count": 55,
   "id": "0206d61b",
   "metadata": {},
   "outputs": [],
   "source": [
    "# Split the data\n",
    "train, test = train_test_split(spam_data[['Subject', 'Category']])"
   ]
  },
  {
   "cell_type": "code",
   "execution_count": 56,
   "id": "d021a3f4",
   "metadata": {},
   "outputs": [
    {
     "data": {
      "text/plain": [
       "spam    12656\n",
       "ham     12414\n",
       "Name: Category, dtype: int64"
      ]
     },
     "execution_count": 56,
     "metadata": {},
     "output_type": "execute_result"
    }
   ],
   "source": [
    "# Check distribution\n",
    "train.Category.value_counts()"
   ]
  },
  {
   "cell_type": "code",
   "execution_count": 57,
   "id": "fa7ee82a",
   "metadata": {},
   "outputs": [
    {
     "data": {
      "text/plain": [
       "spam    4226\n",
       "ham     4131\n",
       "Name: Category, dtype: int64"
      ]
     },
     "execution_count": 57,
     "metadata": {},
     "output_type": "execute_result"
    }
   ],
   "source": [
    "# Check distribution\n",
    "test.Category.value_counts()"
   ]
  },
  {
   "cell_type": "code",
   "execution_count": 58,
   "id": "57198e85",
   "metadata": {},
   "outputs": [
    {
     "name": "stdout",
     "output_type": "stream",
     "text": [
      "(25070, 15401)\n",
      "(8357, 15401)\n"
     ]
    }
   ],
   "source": [
    "# Create TFIDF vectorizer\n",
    "tf_idf = TfidfVectorizer()\n",
    "# For the train set\n",
    "X_train = tf_idf.fit_transform(train.Subject)\n",
    "print(X_train.shape)\n",
    "# For the test set\n",
    "X_test = tf_idf.transform(test.Subject)\n",
    "print(X_test.shape)"
   ]
  },
  {
   "cell_type": "code",
   "execution_count": 59,
   "id": "89c22244",
   "metadata": {},
   "outputs": [],
   "source": [
    "# Install packages\n",
    "from sklearn import svm\n",
    "from sklearn.model_selection import cross_val_score\n",
    "from sklearn.metrics import classification_report"
   ]
  },
  {
   "cell_type": "code",
   "execution_count": 60,
   "id": "2d2ff31c",
   "metadata": {},
   "outputs": [],
   "source": [
    "# Create model\n",
    "clf = svm.SVC()"
   ]
  },
  {
   "cell_type": "code",
   "execution_count": 61,
   "id": "2f856ba1",
   "metadata": {},
   "outputs": [
    {
     "data": {
      "text/plain": [
       "SVC()"
      ]
     },
     "execution_count": 61,
     "metadata": {},
     "output_type": "execute_result"
    }
   ],
   "source": [
    "# Train model\n",
    "clf.fit(X_train, train.Category)"
   ]
  },
  {
   "cell_type": "code",
   "execution_count": 62,
   "id": "5251cb3d",
   "metadata": {},
   "outputs": [
    {
     "data": {
      "text/plain": [
       "0.9878340646190666"
      ]
     },
     "execution_count": 62,
     "metadata": {},
     "output_type": "execute_result"
    }
   ],
   "source": [
    "# Check training accuracy\n",
    "clf.score(X_train, train.Category)"
   ]
  },
  {
   "cell_type": "code",
   "execution_count": 63,
   "id": "bd81906f",
   "metadata": {},
   "outputs": [
    {
     "data": {
      "text/plain": [
       "0.9445973435443341"
      ]
     },
     "execution_count": 63,
     "metadata": {},
     "output_type": "execute_result"
    }
   ],
   "source": [
    "# Test accuracy\n",
    "clf.score(X_test, test.Category)"
   ]
  },
  {
   "cell_type": "code",
   "execution_count": 64,
   "id": "3ae91c5f",
   "metadata": {},
   "outputs": [],
   "source": [
    "# Store predictions\n",
    "pred_svm = clf.predict(X_test)"
   ]
  },
  {
   "cell_type": "code",
   "execution_count": 65,
   "id": "4db39d28",
   "metadata": {},
   "outputs": [
    {
     "name": "stdout",
     "output_type": "stream",
     "text": [
      "              precision    recall  f1-score   support\n",
      "\n",
      "         ham       0.95      0.94      0.94      4131\n",
      "        spam       0.94      0.95      0.95      4226\n",
      "\n",
      "    accuracy                           0.94      8357\n",
      "   macro avg       0.94      0.94      0.94      8357\n",
      "weighted avg       0.94      0.94      0.94      8357\n",
      "\n"
     ]
    }
   ],
   "source": [
    "# Check output\n",
    "print(classification_report(test.Category, pred_svm))"
   ]
  },
  {
   "cell_type": "markdown",
   "id": "8c4ae1e0",
   "metadata": {},
   "source": [
    "**2. Preprocess the subject of all emails.**\n",
    "\n",
    "Now that we have created a classifier to detect emails related to spam we can use this classifier on the full Enron data set. We start with filtering out the the emails who did not have a subject. Next we go through some text preprocessing steps."
   ]
  },
  {
   "cell_type": "code",
   "execution_count": 66,
   "id": "74d454f6",
   "metadata": {},
   "outputs": [],
   "source": [
    "# Get all subject from direct mails\n",
    "Direct_subject = Direct_mails[~Direct_mails.Subject.isnull()].Subject"
   ]
  },
  {
   "cell_type": "code",
   "execution_count": 67,
   "id": "f7880766",
   "metadata": {},
   "outputs": [
    {
     "data": {
      "text/plain": [
       "0                                  Fwd: Bishops Corner\n",
       "1    Your Approval is Overdue: Access Request for m...\n",
       "2                              NT Earnings Information\n",
       "3       50% Hotel Discount Notice #7734228 for PHILLIP\n",
       "4          UPDATE - Supported Internet Email Addresses\n",
       "5                Conference Call Today with FERC Staff\n",
       "6                Conference Call Today with FERC Staff\n",
       "7                Conference Call Today with FERC Staff\n",
       "8                Conference Call Today with FERC Staff\n",
       "9                Conference Call Today with FERC Staff\n",
       "Name: Subject, dtype: object"
      ]
     },
     "execution_count": 67,
     "metadata": {},
     "output_type": "execute_result"
    }
   ],
   "source": [
    "Direct_subject[:10]"
   ]
  },
  {
   "cell_type": "code",
   "execution_count": 68,
   "id": "9e47718f",
   "metadata": {},
   "outputs": [],
   "source": [
    "# Set to lower case\n",
    "Preproces_subject = Direct_subject.map(lambda x: x.lower())"
   ]
  },
  {
   "cell_type": "code",
   "execution_count": 69,
   "id": "677d9938",
   "metadata": {},
   "outputs": [],
   "source": [
    "# Import package\n",
    "import re"
   ]
  },
  {
   "cell_type": "code",
   "execution_count": 70,
   "id": "a6625084",
   "metadata": {},
   "outputs": [],
   "source": [
    "# Remove punctuations\n",
    "Preproces_subject = Preproces_subject.map(lambda x: re.sub(r'[^\\w\\s]', '', x))"
   ]
  },
  {
   "cell_type": "code",
   "execution_count": 71,
   "id": "f98327a4",
   "metadata": {},
   "outputs": [],
   "source": [
    "# Get stopwords\n",
    "from nltk.corpus import stopwords"
   ]
  },
  {
   "cell_type": "code",
   "execution_count": 72,
   "id": "49cf3e15",
   "metadata": {},
   "outputs": [],
   "source": [
    "# Save english stopwords\n",
    "StopWords = stopwords.words(\"english\")\n",
    "\n",
    "# Create function to remove stopwords\n",
    "def RemoveStopwords(text):\n",
    "    text_nostopwords = ' '.join([word for word in text.split() if word not in StopWords])\n",
    "    return text_nostopwords"
   ]
  },
  {
   "cell_type": "code",
   "execution_count": 73,
   "id": "f6311b42",
   "metadata": {},
   "outputs": [],
   "source": [
    "# Remove stopwords\n",
    "Preproces_subject = Preproces_subject.map(lambda x: RemoveStopwords(x))"
   ]
  },
  {
   "cell_type": "code",
   "execution_count": 74,
   "id": "6db10da3",
   "metadata": {},
   "outputs": [
    {
     "data": {
      "text/plain": [
       "0                                   fwd bishops corner\n",
       "1    approval overdue access request mattsmithenroncom\n",
       "2                              nt earnings information\n",
       "3             50 hotel discount notice 7734228 phillip\n",
       "4            update supported internet email addresses\n",
       "5                     conference call today ferc staff\n",
       "6                     conference call today ferc staff\n",
       "7                     conference call today ferc staff\n",
       "8                     conference call today ferc staff\n",
       "9                     conference call today ferc staff\n",
       "Name: Subject, dtype: object"
      ]
     },
     "execution_count": 74,
     "metadata": {},
     "output_type": "execute_result"
    }
   ],
   "source": [
    "Preproces_subject[:10]"
   ]
  },
  {
   "cell_type": "code",
   "execution_count": 75,
   "id": "f17f91d5",
   "metadata": {},
   "outputs": [
    {
     "data": {
      "text/plain": [
       "(878276, 15401)"
      ]
     },
     "execution_count": 75,
     "metadata": {},
     "output_type": "execute_result"
    }
   ],
   "source": [
    "# Use TFIDF vectorizer\n",
    "TFIDF_Enron = tf_idf.transform(Preproces_subject)\n",
    "TFIDF_Enron.shape"
   ]
  },
  {
   "cell_type": "code",
   "execution_count": 76,
   "id": "7449b13f",
   "metadata": {},
   "outputs": [],
   "source": [
    "# Use classifier on all enron mails\n",
    "pred_enron = clf.predict(TFIDF_Enron)"
   ]
  },
  {
   "cell_type": "code",
   "execution_count": 77,
   "id": "281f5fc7",
   "metadata": {},
   "outputs": [
    {
     "data": {
      "text/plain": [
       "ham     713522\n",
       "spam    164754\n",
       "dtype: int64"
      ]
     },
     "execution_count": 77,
     "metadata": {},
     "output_type": "execute_result"
    }
   ],
   "source": [
    "# Check the distribution of spam vs ham mails\n",
    "pd.Series(pred_enron).value_counts()"
   ]
  },
  {
   "cell_type": "code",
   "execution_count": 78,
   "id": "eb2fa577",
   "metadata": {},
   "outputs": [
    {
     "data": {
      "text/plain": [
       "3        50% Hotel Discount Notice #7734228 for PHILLIP\n",
       "64                     Meet the dark side of Windows XP\n",
       "66    Apply online for a No Deposit VISA or Master C...\n",
       "73                   E-delivery Notification - Confirms\n",
       "74          Your Weekly Movie Showtimes from Amazon.com\n",
       "81                                              workout\n",
       "82                  Credit Watch List--Week of 10/22/01\n",
       "83                  Credit Watch List--Week of 10/22/01\n",
       "84                  Credit Watch List--Week of 10/22/01\n",
       "85                  Credit Watch List--Week of 10/22/01\n",
       "Name: Subject, dtype: object"
      ]
     },
     "execution_count": 78,
     "metadata": {},
     "output_type": "execute_result"
    }
   ],
   "source": [
    "# Check some examples of spam mail\n",
    "Direct_subject[pred_enron=='spam'][:10]"
   ]
  },
  {
   "cell_type": "markdown",
   "id": "2bff7c76",
   "metadata": {},
   "source": [
    "It looks like the classifier overestimated the amount of spam emails in the dataset. To resolve this issue we will filter out the email adresses who ended on \"@enron.com\" as these are definitely not related to spam."
   ]
  },
  {
   "cell_type": "code",
   "execution_count": 79,
   "id": "f30f1348",
   "metadata": {},
   "outputs": [],
   "source": [
    "# Create dataframe storing the subject and corresponding category\n",
    "Spam_mail = pd.DataFrame({'Subject':Direct_subject, 'Category':pred_enron})"
   ]
  },
  {
   "cell_type": "code",
   "execution_count": 80,
   "id": "46a215f5",
   "metadata": {},
   "outputs": [
    {
     "data": {
      "text/html": [
       "<div>\n",
       "<style scoped>\n",
       "    .dataframe tbody tr th:only-of-type {\n",
       "        vertical-align: middle;\n",
       "    }\n",
       "\n",
       "    .dataframe tbody tr th {\n",
       "        vertical-align: top;\n",
       "    }\n",
       "\n",
       "    .dataframe thead th {\n",
       "        text-align: right;\n",
       "    }\n",
       "</style>\n",
       "<table border=\"1\" class=\"dataframe\">\n",
       "  <thead>\n",
       "    <tr style=\"text-align: right;\">\n",
       "      <th></th>\n",
       "      <th>Subject</th>\n",
       "      <th>Category</th>\n",
       "    </tr>\n",
       "  </thead>\n",
       "  <tbody>\n",
       "    <tr>\n",
       "      <th>0</th>\n",
       "      <td>Fwd: Bishops Corner</td>\n",
       "      <td>ham</td>\n",
       "    </tr>\n",
       "    <tr>\n",
       "      <th>1</th>\n",
       "      <td>Your Approval is Overdue: Access Request for m...</td>\n",
       "      <td>ham</td>\n",
       "    </tr>\n",
       "    <tr>\n",
       "      <th>2</th>\n",
       "      <td>NT Earnings Information</td>\n",
       "      <td>ham</td>\n",
       "    </tr>\n",
       "    <tr>\n",
       "      <th>3</th>\n",
       "      <td>50% Hotel Discount Notice #7734228 for PHILLIP</td>\n",
       "      <td>spam</td>\n",
       "    </tr>\n",
       "    <tr>\n",
       "      <th>4</th>\n",
       "      <td>UPDATE - Supported Internet Email Addresses</td>\n",
       "      <td>ham</td>\n",
       "    </tr>\n",
       "    <tr>\n",
       "      <th>5</th>\n",
       "      <td>Conference Call Today with FERC Staff</td>\n",
       "      <td>ham</td>\n",
       "    </tr>\n",
       "    <tr>\n",
       "      <th>6</th>\n",
       "      <td>Conference Call Today with FERC Staff</td>\n",
       "      <td>ham</td>\n",
       "    </tr>\n",
       "    <tr>\n",
       "      <th>7</th>\n",
       "      <td>Conference Call Today with FERC Staff</td>\n",
       "      <td>ham</td>\n",
       "    </tr>\n",
       "    <tr>\n",
       "      <th>8</th>\n",
       "      <td>Conference Call Today with FERC Staff</td>\n",
       "      <td>ham</td>\n",
       "    </tr>\n",
       "    <tr>\n",
       "      <th>9</th>\n",
       "      <td>Conference Call Today with FERC Staff</td>\n",
       "      <td>ham</td>\n",
       "    </tr>\n",
       "  </tbody>\n",
       "</table>\n",
       "</div>"
      ],
      "text/plain": [
       "                                             Subject Category\n",
       "0                                Fwd: Bishops Corner      ham\n",
       "1  Your Approval is Overdue: Access Request for m...      ham\n",
       "2                            NT Earnings Information      ham\n",
       "3     50% Hotel Discount Notice #7734228 for PHILLIP     spam\n",
       "4        UPDATE - Supported Internet Email Addresses      ham\n",
       "5              Conference Call Today with FERC Staff      ham\n",
       "6              Conference Call Today with FERC Staff      ham\n",
       "7              Conference Call Today with FERC Staff      ham\n",
       "8              Conference Call Today with FERC Staff      ham\n",
       "9              Conference Call Today with FERC Staff      ham"
      ]
     },
     "execution_count": 80,
     "metadata": {},
     "output_type": "execute_result"
    }
   ],
   "source": [
    "Spam_mail[:10]"
   ]
  },
  {
   "cell_type": "code",
   "execution_count": 81,
   "id": "c28ba631",
   "metadata": {},
   "outputs": [],
   "source": [
    "# Concatenate the two dataframe\n",
    "Direct_mails_spam = pd.concat([Direct_mails, Spam_mail.Category], axis=1)"
   ]
  },
  {
   "cell_type": "code",
   "execution_count": 82,
   "id": "a0fcf6e5",
   "metadata": {},
   "outputs": [],
   "source": [
    "# Groupby from and category to see which email adresses were classified as spam\n",
    "grouped = Direct_mails_spam.groupby(['Category', 'From']).count()"
   ]
  },
  {
   "cell_type": "code",
   "execution_count": 83,
   "id": "d278ee25",
   "metadata": {},
   "outputs": [
    {
     "data": {
      "text/html": [
       "<div>\n",
       "<style scoped>\n",
       "    .dataframe tbody tr th:only-of-type {\n",
       "        vertical-align: middle;\n",
       "    }\n",
       "\n",
       "    .dataframe tbody tr th {\n",
       "        vertical-align: top;\n",
       "    }\n",
       "\n",
       "    .dataframe thead th {\n",
       "        text-align: right;\n",
       "    }\n",
       "</style>\n",
       "<table border=\"1\" class=\"dataframe\">\n",
       "  <thead>\n",
       "    <tr style=\"text-align: right;\">\n",
       "      <th></th>\n",
       "      <th></th>\n",
       "      <th>To</th>\n",
       "      <th>Date</th>\n",
       "      <th>Subject</th>\n",
       "      <th>Message_ID</th>\n",
       "    </tr>\n",
       "    <tr>\n",
       "      <th>Category</th>\n",
       "      <th>From</th>\n",
       "      <th></th>\n",
       "      <th></th>\n",
       "      <th></th>\n",
       "      <th></th>\n",
       "    </tr>\n",
       "  </thead>\n",
       "  <tbody>\n",
       "    <tr>\n",
       "      <th rowspan=\"5\" valign=\"top\">ham</th>\n",
       "      <th>'todd'.delahoussaye@enron.com</th>\n",
       "      <td>1</td>\n",
       "      <td>1</td>\n",
       "      <td>1</td>\n",
       "      <td>1</td>\n",
       "    </tr>\n",
       "    <tr>\n",
       "      <th>--migrated--bmishkin@ercot.com</th>\n",
       "      <td>1</td>\n",
       "      <td>1</td>\n",
       "      <td>1</td>\n",
       "      <td>1</td>\n",
       "    </tr>\n",
       "    <tr>\n",
       "      <th>--migrated--dodle@ercot.com</th>\n",
       "      <td>1</td>\n",
       "      <td>1</td>\n",
       "      <td>1</td>\n",
       "      <td>1</td>\n",
       "    </tr>\n",
       "    <tr>\n",
       "      <th>-persson@ricemail.ricefinancial.com</th>\n",
       "      <td>1</td>\n",
       "      <td>1</td>\n",
       "      <td>1</td>\n",
       "      <td>1</td>\n",
       "    </tr>\n",
       "    <tr>\n",
       "      <th>01@ftenergy.com</th>\n",
       "      <td>4</td>\n",
       "      <td>4</td>\n",
       "      <td>4</td>\n",
       "      <td>4</td>\n",
       "    </tr>\n",
       "  </tbody>\n",
       "</table>\n",
       "</div>"
      ],
      "text/plain": [
       "                                              To  Date  Subject  Message_ID\n",
       "Category From                                                              \n",
       "ham      'todd'.delahoussaye@enron.com         1     1        1           1\n",
       "         --migrated--bmishkin@ercot.com        1     1        1           1\n",
       "         --migrated--dodle@ercot.com           1     1        1           1\n",
       "         -persson@ricemail.ricefinancial.com   1     1        1           1\n",
       "         01@ftenergy.com                       4     4        4           4"
      ]
     },
     "execution_count": 83,
     "metadata": {},
     "output_type": "execute_result"
    }
   ],
   "source": [
    "grouped.head()"
   ]
  },
  {
   "cell_type": "code",
   "execution_count": 84,
   "id": "60afd281",
   "metadata": {},
   "outputs": [],
   "source": [
    "# Extract all adressess classified as spam\n",
    "possible_spam_adresses = grouped.loc['spam'].index.tolist()"
   ]
  },
  {
   "cell_type": "code",
   "execution_count": 85,
   "id": "1041f9ce",
   "metadata": {},
   "outputs": [],
   "source": [
    "# Filter out the adressses ending on enron.com\n",
    "spam_adresses = [adress for adress in possible_spam_adresses if not bool(re.search(r'.enron\\.com$', adress))]"
   ]
  },
  {
   "cell_type": "code",
   "execution_count": 86,
   "id": "12571a09",
   "metadata": {},
   "outputs": [
    {
     "data": {
      "text/plain": [
       "4466"
      ]
     },
     "execution_count": 86,
     "metadata": {},
     "output_type": "execute_result"
    }
   ],
   "source": [
    "# Check length\n",
    "len(spam_adresses)"
   ]
  },
  {
   "cell_type": "code",
   "execution_count": 87,
   "id": "00361c35",
   "metadata": {},
   "outputs": [],
   "source": [
    "# Filter from main dataset\n",
    "Direct_mails = Direct_mails[~Direct_mails.From.isin(spam_adresses)]"
   ]
  },
  {
   "cell_type": "code",
   "execution_count": 88,
   "id": "44e1fbea",
   "metadata": {},
   "outputs": [
    {
     "data": {
      "text/plain": [
       "(834471, 5)"
      ]
     },
     "execution_count": 88,
     "metadata": {},
     "output_type": "execute_result"
    }
   ],
   "source": [
    "# Check shape\n",
    "Direct_mails.shape"
   ]
  },
  {
   "cell_type": "markdown",
   "id": "53f5c97d",
   "metadata": {},
   "source": [
    "In total 59.353 emails were removed from our dataset."
   ]
  },
  {
   "cell_type": "markdown",
   "id": "21ee294d",
   "metadata": {},
   "source": [
    "## 3.3 Remove infrequent email addresses"
   ]
  },
  {
   "cell_type": "code",
   "execution_count": 89,
   "id": "31e62cd3",
   "metadata": {},
   "outputs": [],
   "source": [
    "# Store the total amount of send and received emails for each email address\n",
    "Count_From = Direct_mails.From.value_counts()\n",
    "Count_To = Direct_mails.To.value_counts()"
   ]
  },
  {
   "cell_type": "code",
   "execution_count": 90,
   "id": "f9844468",
   "metadata": {},
   "outputs": [],
   "source": [
    "# Sum them together\n",
    "Total_Send_Received = pd.concat([Count_From, Count_To], axis=1).sum(axis=1).sort_values(ascending=False)"
   ]
  },
  {
   "cell_type": "code",
   "execution_count": 91,
   "id": "288eda14",
   "metadata": {},
   "outputs": [],
   "source": [
    "# Get addresses of interest\n",
    "AdressesofInterest = Total_Send_Received[Total_Send_Received>=10].index.tolist()"
   ]
  },
  {
   "cell_type": "code",
   "execution_count": 92,
   "id": "54fe340a",
   "metadata": {},
   "outputs": [],
   "source": [
    "# filter based upon these addresses\n",
    "Direct_mails = Direct_mails[Direct_mails.From.isin(AdressesofInterest) & Direct_mails.To.isin(AdressesofInterest)]"
   ]
  },
  {
   "cell_type": "code",
   "execution_count": 93,
   "id": "540b2ae2",
   "metadata": {},
   "outputs": [
    {
     "data": {
      "text/plain": [
       "(779139, 5)"
      ]
     },
     "execution_count": 93,
     "metadata": {},
     "output_type": "execute_result"
    }
   ],
   "source": [
    "# Check shape\n",
    "Direct_mails.shape"
   ]
  },
  {
   "cell_type": "markdown",
   "id": "3f4ee1e4",
   "metadata": {},
   "source": [
    "We removed another 55.332 emails from the dataset."
   ]
  },
  {
   "cell_type": "markdown",
   "id": "d28b8c90",
   "metadata": {},
   "source": [
    "## 3.4 Group external email domains\n",
    "\n",
    "For this project we are interested in communication between employees, we will be focussing on the emails ending on @enron.com although there might still be a lot of information in the email addresses with a different domain. We grouped all email addresses with the same domain together. When the email domain was rare (<100) the email address was labeled external."
   ]
  },
  {
   "cell_type": "code",
   "execution_count": 94,
   "id": "366fd460",
   "metadata": {},
   "outputs": [],
   "source": [
    "# Count all emails per domain\n",
    "Count_domains_from = Direct_mails.From.map(lambda x: re.split(r'@', x)).map(lambda x: x[-1]).value_counts()\n",
    "Count_domains_to = Direct_mails.To.astype(str).map(lambda x: re.split(r'@', x)).map(lambda x: x[-1]).value_counts()"
   ]
  },
  {
   "cell_type": "code",
   "execution_count": 95,
   "id": "0c1449b3",
   "metadata": {},
   "outputs": [],
   "source": [
    "# Sum send and received for every email domain\n",
    "Domain_send_received = pd.concat([Count_domains_from, Count_domains_to], axis=1).sum(axis=1).sort_values(ascending=False)"
   ]
  },
  {
   "cell_type": "code",
   "execution_count": 96,
   "id": "19c214c2",
   "metadata": {},
   "outputs": [],
   "source": [
    "# Get all the domains which occur fewer than 100 times\n",
    "RareDomains = Domain_send_received[Domain_send_received<100].index.tolist()"
   ]
  },
  {
   "cell_type": "code",
   "execution_count": 97,
   "id": "f4a290f3",
   "metadata": {},
   "outputs": [],
   "source": [
    "# Replace the separate rare domain names with External both for sender and receiver\n",
    "Domains_From = Direct_mails.From.map(lambda x: re.split(r'@', x)).map(lambda x: x[-1]).replace(RareDomains, 'External')\n",
    "Domains_To = Direct_mails.To.astype(str).map(lambda x: re.split(r'@', x)).map(lambda x: x[-1]).replace(RareDomains, 'External')"
   ]
  },
  {
   "cell_type": "code",
   "execution_count": 98,
   "id": "a13df64a",
   "metadata": {},
   "outputs": [],
   "source": [
    "# Add from so we can differentiate between send and received\n",
    "Domains_From = Domains_From.map(lambda x: 'From_' + x)\n",
    "Domains_To = Domains_To.map(lambda x: 'To_' + x)"
   ]
  },
  {
   "cell_type": "code",
   "execution_count": 99,
   "id": "cd8a6269",
   "metadata": {},
   "outputs": [
    {
     "data": {
      "text/plain": [
       "0          From_hotmail.com\n",
       "1    From_mailman.enron.com\n",
       "4            From_enron.com\n",
       "5            From_enron.com\n",
       "6            From_enron.com\n",
       "Name: From, dtype: object"
      ]
     },
     "execution_count": 99,
     "metadata": {},
     "output_type": "execute_result"
    }
   ],
   "source": [
    "Domains_From.head()"
   ]
  },
  {
   "cell_type": "code",
   "execution_count": 100,
   "id": "7a35e589",
   "metadata": {},
   "outputs": [
    {
     "data": {
      "text/plain": [
       "0    To_enron.com\n",
       "1    To_enron.com\n",
       "4     To_External\n",
       "5    To_enron.com\n",
       "6    To_enron.com\n",
       "Name: To, dtype: object"
      ]
     },
     "execution_count": 100,
     "metadata": {},
     "output_type": "execute_result"
    }
   ],
   "source": [
    "Domains_To.head()"
   ]
  },
  {
   "cell_type": "code",
   "execution_count": 101,
   "id": "1d1499a8",
   "metadata": {},
   "outputs": [],
   "source": [
    "# Replace the non enron email addresses with their respective domain name\n",
    "Direct_mails.loc[Domains_From[~Domains_From.isin(['From_enron.com', 'From_enron.com>'])].index,'From'] = Domains_From[~Domains_From.isin(['From_enron.com', 'From_enron.com>'])]\n",
    "Direct_mails.loc[Domains_To[~Domains_To.isin(['To_enron.com', 'To_enron.com>'])].index,'To'] = Domains_To[~Domains_To.isin(['To_enron.com', 'To_enron.com>'])]"
   ]
  },
  {
   "cell_type": "markdown",
   "id": "2ac6d71a",
   "metadata": {},
   "source": [
    "## 3.5 Remove interactions that only happened once\n",
    "\n",
    "We won't incorporate interaction in our network that only occured 1 once. "
   ]
  },
  {
   "cell_type": "code",
   "execution_count": 104,
   "id": "6aefe07b",
   "metadata": {},
   "outputs": [
    {
     "data": {
      "text/plain": [
       "From                           To                           \n",
       "'todd'.delahoussaye@enron.com  'todd'.delahoussaye@enron.com    5\n",
       "                               anne.bike@enron.com              1\n",
       "                               bianca.ornelas@enron.com         5\n",
       "                               brant.reves@enron.com            5\n",
       "                               c..gossett@enron.com             5\n",
       "                                                               ..\n",
       "zulie.flores@enron.com         sharon.butcher@enron.com         3\n",
       "                               sheila.walton@enron.com          3\n",
       "                               terrie.james@enron.com           3\n",
       "                               terrie.wheeler@enron.com         3\n",
       "                               tim.o'rourke@enron.com           3\n",
       "Name: Message_ID, Length: 91434, dtype: int64"
      ]
     },
     "execution_count": 104,
     "metadata": {},
     "output_type": "execute_result"
    }
   ],
   "source": [
    "# Look at different interactions\n",
    "Direct_mails.groupby(['From', 'To']).Message_ID.count()"
   ]
  },
  {
   "cell_type": "markdown",
   "id": "ee9fa0b7",
   "metadata": {},
   "source": [
    "We need to create an additional variable which specifies the interaction between employees and doesn't consider who sended and who received the message. To achieve this goal we will join from and to together in a single variable and sort the names in alphabetical order."
   ]
  },
  {
   "cell_type": "code",
   "execution_count": 105,
   "id": "1ec0af6e",
   "metadata": {},
   "outputs": [],
   "source": [
    "# Create defintion which sort the names in alphabetical order\n",
    "def SortAlphabetical(string):\n",
    "    # Split the string\n",
    "    string = string.split('-')\n",
    "    # Sort the values alphabetically\n",
    "    string.sort()\n",
    "    # join back together\n",
    "    string = '-'.join(string)\n",
    "    # Return string\n",
    "    return string"
   ]
  },
  {
   "cell_type": "code",
   "execution_count": 106,
   "id": "4b02ae46",
   "metadata": {},
   "outputs": [],
   "source": [
    "# Create variable showing the interaction\n",
    "Direct_mails['Interaction'] = Direct_mails[['From', 'To']].apply('|'.join, axis=1).map(lambda x: SortAlphabetical(x))"
   ]
  },
  {
   "cell_type": "code",
   "execution_count": 108,
   "id": "469f4bf1",
   "metadata": {},
   "outputs": [
    {
     "data": {
      "text/plain": [
       "pete.davis@enron.com|pete.davis@enron.com              2413\n",
       "vince.kaminski@enron.com|To_aol.com                    2206\n",
       "kay.mann@enron.com|suzanne.adams@enron.com              870\n",
       "jeff.dasovich@enron.com|To_External                     865\n",
       "kay.mann@enron.com|To_kslaw.com                         773\n",
       "                                                       ... \n",
       "ted.murphy@enron.com|mark.frevert@enron.com               1\n",
       "bradford.larson@enron.com|mark.bonney@enron.com           1\n",
       "bradford.larson@enron.com|bjorn.hagelmann@enron.com       1\n",
       "bradford.larson@enron.com|don.rollins@enron.com           1\n",
       "paul.y'barbo@enron.com|david.shields@enron.com            1\n",
       "Name: Interaction, Length: 91434, dtype: int64"
      ]
     },
     "execution_count": 108,
     "metadata": {},
     "output_type": "execute_result"
    }
   ],
   "source": [
    "# Check how often all interactions occur\n",
    "Count_Interactions = Direct_mails.Interaction.value_counts()\n",
    "Count_Interactions"
   ]
  },
  {
   "cell_type": "code",
   "execution_count": 111,
   "id": "f9fdc62a",
   "metadata": {
    "scrolled": false
   },
   "outputs": [
    {
     "data": {
      "text/plain": [
       "True     0.628924\n",
       "False    0.371076\n",
       "Name: Interaction, dtype: float64"
      ]
     },
     "execution_count": 111,
     "metadata": {},
     "output_type": "execute_result"
    }
   ],
   "source": [
    "Direct_mails.Interaction.value_counts().map(lambda x: x>=2).value_counts(normalize=True)"
   ]
  },
  {
   "cell_type": "code",
   "execution_count": 112,
   "id": "9f538358",
   "metadata": {},
   "outputs": [],
   "source": [
    "# define a threshold and select a subset of interactions\n",
    "Interactions = Count_Interactions[Count_Interactions>1].index.tolist()"
   ]
  },
  {
   "cell_type": "code",
   "execution_count": 114,
   "id": "5925044a",
   "metadata": {},
   "outputs": [],
   "source": [
    "# Take a subset of our dataframe\n",
    "Direct_mails = Direct_mails[Direct_mails.Interaction.isin(Interactions)]"
   ]
  },
  {
   "cell_type": "code",
   "execution_count": 115,
   "id": "58307f6f",
   "metadata": {
    "scrolled": true
   },
   "outputs": [
    {
     "name": "stdout",
     "output_type": "stream",
     "text": [
      "(745210, 6)\n"
     ]
    },
    {
     "data": {
      "text/html": [
       "<div>\n",
       "<style scoped>\n",
       "    .dataframe tbody tr th:only-of-type {\n",
       "        vertical-align: middle;\n",
       "    }\n",
       "\n",
       "    .dataframe tbody tr th {\n",
       "        vertical-align: top;\n",
       "    }\n",
       "\n",
       "    .dataframe thead th {\n",
       "        text-align: right;\n",
       "    }\n",
       "</style>\n",
       "<table border=\"1\" class=\"dataframe\">\n",
       "  <thead>\n",
       "    <tr style=\"text-align: right;\">\n",
       "      <th></th>\n",
       "      <th>From</th>\n",
       "      <th>To</th>\n",
       "      <th>Date</th>\n",
       "      <th>Subject</th>\n",
       "      <th>Message_ID</th>\n",
       "      <th>Interaction</th>\n",
       "    </tr>\n",
       "  </thead>\n",
       "  <tbody>\n",
       "    <tr>\n",
       "      <th>0</th>\n",
       "      <td>From_hotmail.com</td>\n",
       "      <td>pallen@enron.com</td>\n",
       "      <td>2001-12-30 10:19:42</td>\n",
       "      <td>Fwd: Bishops Corner</td>\n",
       "      <td>215433951075855374340</td>\n",
       "      <td>From_hotmail.com|pallen@enron.com</td>\n",
       "    </tr>\n",
       "    <tr>\n",
       "      <th>1</th>\n",
       "      <td>From_mailman.enron.com</td>\n",
       "      <td>k..allen@enron.com</td>\n",
       "      <td>2001-12-27 17:16:46</td>\n",
       "      <td>Your Approval is Overdue: Access Request for m...</td>\n",
       "      <td>253634511075855374674</td>\n",
       "      <td>From_mailman.enron.com|k..allen@enron.com</td>\n",
       "    </tr>\n",
       "    <tr>\n",
       "      <th>4</th>\n",
       "      <td>no.address@enron.com</td>\n",
       "      <td>To_External</td>\n",
       "      <td>2001-10-18 15:10:12</td>\n",
       "      <td>UPDATE - Supported Internet Email Addresses</td>\n",
       "      <td>89140651075858632242</td>\n",
       "      <td>no.address@enron.com|To_External</td>\n",
       "    </tr>\n",
       "    <tr>\n",
       "      <th>5</th>\n",
       "      <td>ray.alvarez@enron.com</td>\n",
       "      <td>j..kean@enron.com</td>\n",
       "      <td>2001-10-18 14:51:19</td>\n",
       "      <td>Conference Call Today with FERC Staff</td>\n",
       "      <td>317060761075858632278</td>\n",
       "      <td>ray.alvarez@enron.com|j..kean@enron.com</td>\n",
       "    </tr>\n",
       "    <tr>\n",
       "      <th>6</th>\n",
       "      <td>ray.alvarez@enron.com</td>\n",
       "      <td>richard.shapiro@enron.com</td>\n",
       "      <td>2001-10-18 14:51:19</td>\n",
       "      <td>Conference Call Today with FERC Staff</td>\n",
       "      <td>317060761075858632278</td>\n",
       "      <td>ray.alvarez@enron.com|richard.shapiro@enron.com</td>\n",
       "    </tr>\n",
       "  </tbody>\n",
       "</table>\n",
       "</div>"
      ],
      "text/plain": [
       "                     From                         To                 Date  \\\n",
       "0        From_hotmail.com           pallen@enron.com  2001-12-30 10:19:42   \n",
       "1  From_mailman.enron.com         k..allen@enron.com  2001-12-27 17:16:46   \n",
       "4    no.address@enron.com                To_External  2001-10-18 15:10:12   \n",
       "5   ray.alvarez@enron.com          j..kean@enron.com  2001-10-18 14:51:19   \n",
       "6   ray.alvarez@enron.com  richard.shapiro@enron.com  2001-10-18 14:51:19   \n",
       "\n",
       "                                             Subject             Message_ID  \\\n",
       "0                                Fwd: Bishops Corner  215433951075855374340   \n",
       "1  Your Approval is Overdue: Access Request for m...  253634511075855374674   \n",
       "4        UPDATE - Supported Internet Email Addresses   89140651075858632242   \n",
       "5              Conference Call Today with FERC Staff  317060761075858632278   \n",
       "6              Conference Call Today with FERC Staff  317060761075858632278   \n",
       "\n",
       "                                       Interaction  \n",
       "0                From_hotmail.com|pallen@enron.com  \n",
       "1        From_mailman.enron.com|k..allen@enron.com  \n",
       "4                 no.address@enron.com|To_External  \n",
       "5          ray.alvarez@enron.com|j..kean@enron.com  \n",
       "6  ray.alvarez@enron.com|richard.shapiro@enron.com  "
      ]
     },
     "execution_count": 115,
     "metadata": {},
     "output_type": "execute_result"
    }
   ],
   "source": [
    "# Check output\n",
    "print(Direct_mails.shape)\n",
    "Direct_mails.head()"
   ]
  },
  {
   "cell_type": "markdown",
   "id": "3b460c10",
   "metadata": {},
   "source": [
    "## 3.6 Check result"
   ]
  },
  {
   "cell_type": "code",
   "execution_count": 152,
   "id": "c705ffa6",
   "metadata": {},
   "outputs": [
    {
     "data": {
      "text/html": [
       "<div>\n",
       "<style scoped>\n",
       "    .dataframe tbody tr th:only-of-type {\n",
       "        vertical-align: middle;\n",
       "    }\n",
       "\n",
       "    .dataframe tbody tr th {\n",
       "        vertical-align: top;\n",
       "    }\n",
       "\n",
       "    .dataframe thead th {\n",
       "        text-align: right;\n",
       "    }\n",
       "</style>\n",
       "<table border=\"1\" class=\"dataframe\">\n",
       "  <thead>\n",
       "    <tr style=\"text-align: right;\">\n",
       "      <th></th>\n",
       "      <th>From</th>\n",
       "      <th>To</th>\n",
       "      <th>Date</th>\n",
       "      <th>Subject</th>\n",
       "      <th>Message_ID</th>\n",
       "      <th>Interaction</th>\n",
       "    </tr>\n",
       "  </thead>\n",
       "  <tbody>\n",
       "    <tr>\n",
       "      <th>0</th>\n",
       "      <td>From_hotmail.com</td>\n",
       "      <td>pallen@enron.com</td>\n",
       "      <td>2001-12-30 10:19:42</td>\n",
       "      <td>Fwd: Bishops Corner</td>\n",
       "      <td>215433951075855374340</td>\n",
       "      <td>From_hotmail.com|pallen@enron.com</td>\n",
       "    </tr>\n",
       "    <tr>\n",
       "      <th>1</th>\n",
       "      <td>From_mailman.enron.com</td>\n",
       "      <td>k..allen@enron.com</td>\n",
       "      <td>2001-12-27 17:16:46</td>\n",
       "      <td>Your Approval is Overdue: Access Request for m...</td>\n",
       "      <td>253634511075855374674</td>\n",
       "      <td>From_mailman.enron.com|k..allen@enron.com</td>\n",
       "    </tr>\n",
       "    <tr>\n",
       "      <th>4</th>\n",
       "      <td>no.address@enron.com</td>\n",
       "      <td>To_External</td>\n",
       "      <td>2001-10-18 15:10:12</td>\n",
       "      <td>UPDATE - Supported Internet Email Addresses</td>\n",
       "      <td>89140651075858632242</td>\n",
       "      <td>no.address@enron.com|To_External</td>\n",
       "    </tr>\n",
       "    <tr>\n",
       "      <th>5</th>\n",
       "      <td>ray.alvarez@enron.com</td>\n",
       "      <td>j..kean@enron.com</td>\n",
       "      <td>2001-10-18 14:51:19</td>\n",
       "      <td>Conference Call Today with FERC Staff</td>\n",
       "      <td>317060761075858632278</td>\n",
       "      <td>ray.alvarez@enron.com|j..kean@enron.com</td>\n",
       "    </tr>\n",
       "    <tr>\n",
       "      <th>6</th>\n",
       "      <td>ray.alvarez@enron.com</td>\n",
       "      <td>richard.shapiro@enron.com</td>\n",
       "      <td>2001-10-18 14:51:19</td>\n",
       "      <td>Conference Call Today with FERC Staff</td>\n",
       "      <td>317060761075858632278</td>\n",
       "      <td>ray.alvarez@enron.com|richard.shapiro@enron.com</td>\n",
       "    </tr>\n",
       "  </tbody>\n",
       "</table>\n",
       "</div>"
      ],
      "text/plain": [
       "                     From                         To                 Date  \\\n",
       "0        From_hotmail.com           pallen@enron.com  2001-12-30 10:19:42   \n",
       "1  From_mailman.enron.com         k..allen@enron.com  2001-12-27 17:16:46   \n",
       "4    no.address@enron.com                To_External  2001-10-18 15:10:12   \n",
       "5   ray.alvarez@enron.com          j..kean@enron.com  2001-10-18 14:51:19   \n",
       "6   ray.alvarez@enron.com  richard.shapiro@enron.com  2001-10-18 14:51:19   \n",
       "\n",
       "                                             Subject             Message_ID  \\\n",
       "0                                Fwd: Bishops Corner  215433951075855374340   \n",
       "1  Your Approval is Overdue: Access Request for m...  253634511075855374674   \n",
       "4        UPDATE - Supported Internet Email Addresses   89140651075858632242   \n",
       "5              Conference Call Today with FERC Staff  317060761075858632278   \n",
       "6              Conference Call Today with FERC Staff  317060761075858632278   \n",
       "\n",
       "                                       Interaction  \n",
       "0                From_hotmail.com|pallen@enron.com  \n",
       "1        From_mailman.enron.com|k..allen@enron.com  \n",
       "4                 no.address@enron.com|To_External  \n",
       "5          ray.alvarez@enron.com|j..kean@enron.com  \n",
       "6  ray.alvarez@enron.com|richard.shapiro@enron.com  "
      ]
     },
     "execution_count": 152,
     "metadata": {},
     "output_type": "execute_result"
    }
   ],
   "source": [
    "Direct_mails.head()"
   ]
  },
  {
   "cell_type": "code",
   "execution_count": 153,
   "id": "4ec7a3cf",
   "metadata": {},
   "outputs": [
    {
     "data": {
      "text/plain": [
       "(745210, 6)"
      ]
     },
     "execution_count": 153,
     "metadata": {},
     "output_type": "execute_result"
    }
   ],
   "source": [
    "# Check shape\n",
    "Direct_mails.shape"
   ]
  },
  {
   "cell_type": "code",
   "execution_count": 154,
   "id": "d492a679",
   "metadata": {},
   "outputs": [],
   "source": [
    "# export\n",
    "Direct_mails.to_csv('files/DirectMails_clean.csv', index = False)"
   ]
  }
 ],
 "metadata": {
  "kernelspec": {
   "display_name": "Python 3 (ipykernel)",
   "language": "python",
   "name": "python3"
  },
  "language_info": {
   "codemirror_mode": {
    "name": "ipython",
    "version": 3
   },
   "file_extension": ".py",
   "mimetype": "text/x-python",
   "name": "python",
   "nbconvert_exporter": "python",
   "pygments_lexer": "ipython3",
   "version": "3.9.7"
  }
 },
 "nbformat": 4,
 "nbformat_minor": 5
}
