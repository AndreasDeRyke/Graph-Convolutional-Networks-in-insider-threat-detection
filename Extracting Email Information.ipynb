{
 "cells": [
  {
   "cell_type": "code",
   "execution_count": 1,
   "id": "7b0a1090",
   "metadata": {},
   "outputs": [],
   "source": [
    "# import packages\n",
    "import pandas as pd # Data processing\n",
    "import numpy as np # Linear Algebra\n",
    "from os import listdir, path # Get files from directory"
   ]
  },
  {
   "cell_type": "markdown",
   "id": "87f7f0d0",
   "metadata": {},
   "source": [
    "## 1. Extract email information\n",
    "\n",
    "In this notebook we will be extracting the email information from the Enron Email dataset. This dataset is publicly available and can be downloaded from *https://www.cs.cmu.edu/~./enron/*. The data is stored in separate folders. Each of the 150 employees has its own folder with subfolders including there inbox, sent emails, deleted items, discussion threads, etc. For this project we focussed on the deleted items, inbox messages and sent emails.\n",
    "\n",
    "The mails are stored in separate folders for each employee. The *head folder* is called maildir, within this folder we find a separate folder for every employee. We begin with checking how many folders there are for every employee and look at an example of a specific email.\n",
    "\n",
    "The goal was to extract the email addresses of the sender and the receiver, the subject, the message ID and, the date and time of every email.\n",
    "\n",
    "#### 1.1 Look at an example"
   ]
  },
  {
   "cell_type": "code",
   "execution_count": 2,
   "id": "1cf0eb1d",
   "metadata": {},
   "outputs": [],
   "source": [
    "# List of all employees in the directory\n",
    "Employees = listdir('Enron/maildir')"
   ]
  },
  {
   "cell_type": "code",
   "execution_count": 3,
   "id": "4610125d",
   "metadata": {
    "scrolled": true
   },
   "outputs": [
    {
     "data": {
      "text/plain": [
       "150"
      ]
     },
     "execution_count": 3,
     "metadata": {},
     "output_type": "execute_result"
    }
   ],
   "source": [
    "# Check how many employees are present in the dataset\n",
    "len(Employees)"
   ]
  },
  {
   "cell_type": "code",
   "execution_count": 4,
   "id": "a297125b",
   "metadata": {
    "scrolled": true
   },
   "outputs": [
    {
     "name": "stdout",
     "output_type": "stream",
     "text": [
      "Message-ID: <12840380.1075862163884.JavaMail.evans@thyme>\n",
      "Date: Tue, 27 Nov 2001 12:06:55 -0800 (PST)\n",
      "From: tim.heizenrader@enron.com\n",
      "To: john.lavorato@enron.com, k..allen@enron.com, john.zufferli@enron.com, \n",
      "\tmike.grigsby@enron.com\n",
      "Subject: West Power Briefing\n",
      "Cc: tim.belden@enron.com, mike.swerzbin@enron.com, cooper.richey@enron.com\n",
      "Mime-Version: 1.0\n",
      "Content-Type: text/plain; charset=us-ascii\n",
      "Content-Transfer-Encoding: 7bit\n",
      "Bcc: tim.belden@enron.com, mike.swerzbin@enron.com, cooper.richey@enron.com\n",
      "X-From: Heizenrader, Tim </O=ENRON/OU=NA/CN=RECIPIENTS/CN=THEIZEN>\n",
      "X-To: Lavorato, John </O=ENRON/OU=NA/CN=RECIPIENTS/CN=Jlavora>, Allen, Phillip K. </O=ENRON/OU=NA/CN=RECIPIENTS/CN=Pallen>, Zufferli, John </O=ENRON/OU=NA/CN=RECIPIENTS/CN=Jzuffer>, Grigsby, Mike </O=ENRON/OU=NA/CN=RECIPIENTS/CN=Mgrigsb>\n",
      "X-cc: Belden, Tim </O=ENRON/OU=NA/CN=RECIPIENTS/CN=Tbelden>, Swerzbin, Mike </O=ENRON/OU=NA/CN=RECIPIENTS/CN=Mswerzb>, Richey, Cooper </O=ENRON/OU=NA/CN=RECIPIENTS/CN=Crichey>\n",
      "X-bcc: \n",
      "X-Folder: \\PALLEN (Non-Privileged)\\Allen, Phillip K.\\Deleted Items\n",
      "X-Origin: Allen-P\n",
      "X-FileName: PALLEN (Non-Privileged).pst\n",
      "\n",
      "Charts for today's briefing are attached:\n"
     ]
    }
   ],
   "source": [
    "# An example of an email\n",
    "file = open('Enron/maildir/allen-p/deleted_items/448', 'r')\n",
    "file = file.read()\n",
    "print(file)"
   ]
  },
  {
   "cell_type": "markdown",
   "id": "5cc80fe5",
   "metadata": {},
   "source": [
    "#### 1.2 Extract information from email\n",
    "\n",
    "To create our social network we are interested in the employee who send the email and the employee who received the email. We would like to know the date-time, message ID and the subject these will be important further down the line to remove duplicate emails. We start by creating a function **ExtractInfo** which gives us all the variables of interest. All variables are stored in a dataframe."
   ]
  },
  {
   "cell_type": "code",
   "execution_count": 5,
   "id": "341ed450",
   "metadata": {},
   "outputs": [],
   "source": [
    "# Import packages\n",
    "import re\n",
    "from datetime import datetime"
   ]
  },
  {
   "cell_type": "code",
   "execution_count": 9,
   "id": "645d5dd0",
   "metadata": {},
   "outputs": [],
   "source": [
    "def ExtractInfo(path):\n",
    "    \n",
    "    \"\"\"This function extract all necessary information for our porject from the email based on the path to the text file.\n",
    "    It returns 2 dataframes for CC'ed and direct receivers. As extra information it returns the subject, the date and time \n",
    "    and the Message_ID\"\"\"\n",
    "    \n",
    "    # open directory\n",
    "    file = open(path, 'r')\n",
    "    mail = file.read()\n",
    "    \n",
    "    # Preparation of text file, \n",
    "    mail = re.sub(r'\\n\\t', '', mail)\n",
    "    # Split to list\n",
    "    mail_list = re.split(r'\\n', mail)\n",
    "    \n",
    "    # Extract message ID\n",
    "    Message_ID = [line for line in mail_list if line.startswith('Message-ID:')]\n",
    "    if len(Message_ID)>0:\n",
    "        # We are only interested in the numbers\n",
    "        Message_ID = ''.join(re.findall('\\d', Message_ID[0]))\n",
    "    \n",
    "    # Extract date from mail\n",
    "    Date = [line for line in mail_list if line.startswith('Date:')]\n",
    "    if len(Date)>0:\n",
    "        Date = re.sub(r'Date: ', '', Date[0])\n",
    "        Date = Date.split(' -')[0]\n",
    "        Date = datetime.strptime(Date, '%a, %d %b %Y %H:%M:%S')\n",
    "        \n",
    "    # Extract subject\n",
    "    Subject = [line for line in mail_list if line.startswith('Subject:')]\n",
    "    if len(Subject)>0:\n",
    "        Subject = re.sub('Subject: ', '', Subject[0])\n",
    "    \n",
    "    # Extract From\n",
    "    From = [line for line in mail_list if line.startswith('From:')]\n",
    "    # Remove From, re changes list into string\n",
    "    From = re.sub('From: ', '', From[0])\n",
    "    \n",
    "    # Extract To here can be multiple receivers, split based on ', '\n",
    "    To = [line for line in mail_list if line.startswith('To:')]\n",
    "    # There must be a value for To\n",
    "    if len(To)>0:\n",
    "        To = re.sub('To: ', '', To[0])\n",
    "        To = To.split(', ')\n",
    "        # Create dataframe containing from, to, date, message id and subject\n",
    "        From_To = pd.DataFrame({'From': [From for name in To], 'To': To})\n",
    "        From_To['Date'] = Date\n",
    "        From_To['Subject'] = Subject\n",
    "        From_To['Message_ID'] = Message_ID\n",
    "    else: From_To = None\n",
    "    \n",
    "    # Return the dataframes \n",
    "    return From_To"
   ]
  },
  {
   "cell_type": "code",
   "execution_count": 10,
   "id": "b4f9ee37",
   "metadata": {},
   "outputs": [],
   "source": [
    "# Check the function on a specific mail\n",
    "From_To= ExtractInfo('Enron/maildir/allen-p/deleted_items/448')"
   ]
  },
  {
   "cell_type": "code",
   "execution_count": 11,
   "id": "be23e68e",
   "metadata": {},
   "outputs": [
    {
     "data": {
      "text/html": [
       "<div>\n",
       "<style scoped>\n",
       "    .dataframe tbody tr th:only-of-type {\n",
       "        vertical-align: middle;\n",
       "    }\n",
       "\n",
       "    .dataframe tbody tr th {\n",
       "        vertical-align: top;\n",
       "    }\n",
       "\n",
       "    .dataframe thead th {\n",
       "        text-align: right;\n",
       "    }\n",
       "</style>\n",
       "<table border=\"1\" class=\"dataframe\">\n",
       "  <thead>\n",
       "    <tr style=\"text-align: right;\">\n",
       "      <th></th>\n",
       "      <th>From</th>\n",
       "      <th>To</th>\n",
       "      <th>Date</th>\n",
       "      <th>Subject</th>\n",
       "      <th>Message_ID</th>\n",
       "    </tr>\n",
       "  </thead>\n",
       "  <tbody>\n",
       "    <tr>\n",
       "      <th>0</th>\n",
       "      <td>tim.heizenrader@enron.com</td>\n",
       "      <td>john.lavorato@enron.com</td>\n",
       "      <td>2001-11-27 12:06:55</td>\n",
       "      <td>West Power Briefing</td>\n",
       "      <td>128403801075862163884</td>\n",
       "    </tr>\n",
       "    <tr>\n",
       "      <th>1</th>\n",
       "      <td>tim.heizenrader@enron.com</td>\n",
       "      <td>k..allen@enron.com</td>\n",
       "      <td>2001-11-27 12:06:55</td>\n",
       "      <td>West Power Briefing</td>\n",
       "      <td>128403801075862163884</td>\n",
       "    </tr>\n",
       "    <tr>\n",
       "      <th>2</th>\n",
       "      <td>tim.heizenrader@enron.com</td>\n",
       "      <td>john.zufferli@enron.com</td>\n",
       "      <td>2001-11-27 12:06:55</td>\n",
       "      <td>West Power Briefing</td>\n",
       "      <td>128403801075862163884</td>\n",
       "    </tr>\n",
       "    <tr>\n",
       "      <th>3</th>\n",
       "      <td>tim.heizenrader@enron.com</td>\n",
       "      <td>mike.grigsby@enron.com</td>\n",
       "      <td>2001-11-27 12:06:55</td>\n",
       "      <td>West Power Briefing</td>\n",
       "      <td>128403801075862163884</td>\n",
       "    </tr>\n",
       "  </tbody>\n",
       "</table>\n",
       "</div>"
      ],
      "text/plain": [
       "                        From                       To                Date  \\\n",
       "0  tim.heizenrader@enron.com  john.lavorato@enron.com 2001-11-27 12:06:55   \n",
       "1  tim.heizenrader@enron.com       k..allen@enron.com 2001-11-27 12:06:55   \n",
       "2  tim.heizenrader@enron.com  john.zufferli@enron.com 2001-11-27 12:06:55   \n",
       "3  tim.heizenrader@enron.com   mike.grigsby@enron.com 2001-11-27 12:06:55   \n",
       "\n",
       "               Subject             Message_ID  \n",
       "0  West Power Briefing  128403801075862163884  \n",
       "1  West Power Briefing  128403801075862163884  \n",
       "2  West Power Briefing  128403801075862163884  \n",
       "3  West Power Briefing  128403801075862163884  "
      ]
     },
     "execution_count": 11,
     "metadata": {},
     "output_type": "execute_result"
    }
   ],
   "source": [
    "From_To"
   ]
  },
  {
   "cell_type": "markdown",
   "id": "35dc54bb",
   "metadata": {},
   "source": [
    "#### 1.3 Loop over all folders of interest\n",
    "\n",
    "For this project we will be looking at all mails in the following folders:\n",
    "* deleted_items\n",
    "* inbox\n",
    "* _sent_mail\n",
    "* sent\n",
    "\n",
    "We create an additional function which loops over all employees, selects the correct folder and extracts the variables we are interested in. "
   ]
  },
  {
   "cell_type": "code",
   "execution_count": 14,
   "id": "b45f0211",
   "metadata": {},
   "outputs": [],
   "source": [
    "# Create definition\n",
    "def GetMailInfo(folder):\n",
    "\n",
    "    # Create empty dataframe\n",
    "    From_To_All = pd.DataFrame(columns=['From', 'To', 'Date', 'Subject', 'Message_ID'])\n",
    "\n",
    "    # Loop over employees and the directory of interest\n",
    "    for employee in Employees:\n",
    "        Employee_directory = '/'.join(['Enron/maildir', employee])\n",
    "        if folder in listdir(Employee_directory):\n",
    "            deletedFiles = listdir('/'.join([Employee_directory, folder]))\n",
    "            # Construct path of deleted file\n",
    "            Path_DeletedFiles = [Employee_directory + '/' + folder + '/' + file for file in deletedFiles]\n",
    "            # Make sure the file is not a folder\n",
    "            Path_DeletedFiles = [file_path for file_path in Path_DeletedFiles if path.isfile(file_path)]\n",
    "            for file_path in Path_DeletedFiles:\n",
    "                From_To = ExtractInfo(file_path)\n",
    "                From_To_All = pd.concat([From_To_All, From_To])\n",
    "                \n",
    "    # Return dataframes\n",
    "    return From_To_All"
   ]
  },
  {
   "cell_type": "markdown",
   "id": "fbafcd18",
   "metadata": {},
   "source": [
    "**Extract all information from deleted emails**"
   ]
  },
  {
   "cell_type": "code",
   "execution_count": 12,
   "id": "ae381633",
   "metadata": {},
   "outputs": [],
   "source": [
    "From_To_All_deleted_items = GetMailInfo('deleted_items')"
   ]
  },
  {
   "cell_type": "code",
   "execution_count": 33,
   "id": "22a4cf3a",
   "metadata": {
    "scrolled": true
   },
   "outputs": [
    {
     "name": "stdout",
     "output_type": "stream",
     "text": [
      "Total amount of mails: 343031\n",
      "Number of unique email addresses: 20272\n"
     ]
    }
   ],
   "source": [
    "print('Total amount of mails:', len(From_To_All_deleted_items))\n",
    "print('Number of unique email addresses:', len(From_To_All_deleted_items.To.unique()))"
   ]
  },
  {
   "cell_type": "markdown",
   "id": "bc15e41f",
   "metadata": {},
   "source": [
    "**Extract all information from inbox**"
   ]
  },
  {
   "cell_type": "code",
   "execution_count": 21,
   "id": "7bb5bafe",
   "metadata": {},
   "outputs": [],
   "source": [
    "From_To_All_inbox = GetMailInfo('inbox')"
   ]
  },
  {
   "cell_type": "code",
   "execution_count": 35,
   "id": "990a480a",
   "metadata": {
    "scrolled": true
   },
   "outputs": [
    {
     "name": "stdout",
     "output_type": "stream",
     "text": [
      "Total amount of mails: 392313\n",
      "Number of unique email addresses: 22570\n"
     ]
    }
   ],
   "source": [
    "print('Total amount of mails:', len(From_To_All_inbox))\n",
    "print('Number of unique email addresses:', len(From_To_All_inbox.To.unique()))"
   ]
  },
  {
   "cell_type": "markdown",
   "id": "051b5594",
   "metadata": {},
   "source": [
    "**Extract all information from _sent_mail**"
   ]
  },
  {
   "cell_type": "code",
   "execution_count": 18,
   "id": "a579f8d5",
   "metadata": {},
   "outputs": [],
   "source": [
    "From_To_All_sent_mail = GetMailInfo('_sent_mail')"
   ]
  },
  {
   "cell_type": "code",
   "execution_count": 19,
   "id": "9de64056",
   "metadata": {
    "scrolled": true
   },
   "outputs": [
    {
     "name": "stdout",
     "output_type": "stream",
     "text": [
      "Total amount of mails: 50370\n",
      "Number of unique email addresses: 7039\n"
     ]
    }
   ],
   "source": [
    "print('Total amount of mails:', len(From_To_All_sent_mail))\n",
    "print('Number of unique email addresses:', len(From_To_All_sent_mail.To.unique()))"
   ]
  },
  {
   "cell_type": "markdown",
   "id": "33b0e53e",
   "metadata": {},
   "source": [
    "**Extract all information from sent**"
   ]
  },
  {
   "cell_type": "code",
   "execution_count": 29,
   "id": "743f151d",
   "metadata": {},
   "outputs": [],
   "source": [
    "From_To_All_sent = GetMailInfo('sent')"
   ]
  },
  {
   "cell_type": "code",
   "execution_count": 39,
   "id": "9808ec48",
   "metadata": {
    "scrolled": true
   },
   "outputs": [
    {
     "name": "stdout",
     "output_type": "stream",
     "text": [
      "Total amount of mails: 115179\n",
      "Number of unique email addresses: 9719\n"
     ]
    }
   ],
   "source": [
    "print('Total amount of mails:', len(From_To_All_sent))\n",
    "print('Number of unique email addresses:', len(From_To_All_sent.To.unique()))"
   ]
  },
  {
   "cell_type": "markdown",
   "id": "40f6a572",
   "metadata": {},
   "source": [
    "#### 1.4 Concatenate data frames\n",
    "\n",
    "Now that we have extracted all the necessary information from the folders of interest we will concatenate all these data frames."
   ]
  },
  {
   "cell_type": "code",
   "execution_count": 46,
   "id": "28880c7d",
   "metadata": {},
   "outputs": [],
   "source": [
    "# Concatenate all direct mails\n",
    "Direct_Mails_all = pd.concat([From_To_All_deleted_items, From_To_All_inbox, From_To_All_sent_mail, From_To_All_sent])"
   ]
  },
  {
   "cell_type": "code",
   "execution_count": 52,
   "id": "6e268316",
   "metadata": {},
   "outputs": [],
   "source": [
    "# Export\n",
    "Direct_Mails_all.to_csv('All direct mails', index=False)"
   ]
  }
 ],
 "metadata": {
  "kernelspec": {
   "display_name": "Python 3 (ipykernel)",
   "language": "python",
   "name": "python3"
  },
  "language_info": {
   "codemirror_mode": {
    "name": "ipython",
    "version": 3
   },
   "file_extension": ".py",
   "mimetype": "text/x-python",
   "name": "python",
   "nbconvert_exporter": "python",
   "pygments_lexer": "ipython3",
   "version": "3.9.7"
  }
 },
 "nbformat": 4,
 "nbformat_minor": 5
}
