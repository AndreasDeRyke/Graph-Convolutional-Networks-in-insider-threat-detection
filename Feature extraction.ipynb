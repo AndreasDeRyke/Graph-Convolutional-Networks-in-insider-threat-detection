{
 "cells": [
  {
   "cell_type": "markdown",
   "id": "474ad5fc",
   "metadata": {},
   "source": [
    "# 5. Feature Extraction\n",
    "\n",
    "In this step we will extract features from our created graphs.\n",
    "\n",
    "## 5.1 load in graphs"
   ]
  },
  {
   "cell_type": "code",
   "execution_count": 1,
   "id": "72366762",
   "metadata": {},
   "outputs": [],
   "source": [
    "import pandas as pd\n",
    "import numpy as np\n",
    "import networkx as nx"
   ]
  },
  {
   "cell_type": "code",
   "execution_count": 2,
   "id": "0d379cb9",
   "metadata": {},
   "outputs": [],
   "source": [
    "# Get connectivity adjacency matrix\n",
    "Conn_Adj = pd.read_csv('files/Conn_Adj.csv')\n",
    "Conn_Adj = Conn_Adj.set_index('Unnamed: 0')"
   ]
  },
  {
   "cell_type": "code",
   "execution_count": 57,
   "id": "83f78f70",
   "metadata": {},
   "outputs": [],
   "source": [
    "# Get intensity adjacency matrix\n",
    "Intensity_Adj = pd.read_csv('files/Intensity_Adj.csv')\n",
    "Intensity_Adj = Intensity_Adj.set_index('Unnamed: 0')"
   ]
  },
  {
   "cell_type": "code",
   "execution_count": 3,
   "id": "d16f815a",
   "metadata": {},
   "outputs": [],
   "source": [
    "# Create graph from adjacency matrix\n",
    "G_Conn = nx.from_pandas_adjacency(Conn_Adj)"
   ]
  },
  {
   "cell_type": "code",
   "execution_count": 59,
   "id": "f05f8427",
   "metadata": {},
   "outputs": [],
   "source": [
    "# Create graph from adjacency matrix\n",
    "G_int = nx.from_pandas_adjacency(Intensity_Adj)"
   ]
  },
  {
   "cell_type": "code",
   "execution_count": 60,
   "id": "853d93ae",
   "metadata": {
    "scrolled": true
   },
   "outputs": [
    {
     "data": {
      "text/plain": [
       "6533"
      ]
     },
     "execution_count": 60,
     "metadata": {},
     "output_type": "execute_result"
    }
   ],
   "source": [
    "len(list(G_int.nodes))"
   ]
  },
  {
   "cell_type": "code",
   "execution_count": 61,
   "id": "861c8c9b",
   "metadata": {},
   "outputs": [
    {
     "data": {
      "text/plain": [
       "6533"
      ]
     },
     "execution_count": 61,
     "metadata": {},
     "output_type": "execute_result"
    }
   ],
   "source": [
    "len(list(G_Conn.nodes))"
   ]
  },
  {
   "cell_type": "markdown",
   "id": "6b2a4c4b",
   "metadata": {},
   "source": [
    "## 5.2 Extract features\n",
    "\n",
    "\n",
    "#### 5.2.1 Node features\n",
    "We will start with extracting some basic centrality features, degree, betweenness and closeness. Followed by constructing power laws. Here we will focus on combining attributes of an egonet, the 1-step neighbourhood of a node to detect anomalies, we will look at number of connected nodes, number of edges, total weight and the principal eigenvalue of a node's egonet. In a next step we will leverage the Mahalanobis distance on the SimRank similarity matrix to detect outliers.\n",
    "\n",
    "**Centrality features**"
   ]
  },
  {
   "cell_type": "code",
   "execution_count": 62,
   "id": "c1346d0d",
   "metadata": {},
   "outputs": [],
   "source": [
    "# Extract degree centrality\n",
    "df_degree = pd.DataFrame.from_dict(nx.degree_centrality(G_int), orient='index').rename(columns={0:'Degree_centrality'})"
   ]
  },
  {
   "cell_type": "code",
   "execution_count": 63,
   "id": "0b45b5c4",
   "metadata": {},
   "outputs": [
    {
     "data": {
      "text/html": [
       "<div>\n",
       "<style scoped>\n",
       "    .dataframe tbody tr th:only-of-type {\n",
       "        vertical-align: middle;\n",
       "    }\n",
       "\n",
       "    .dataframe tbody tr th {\n",
       "        vertical-align: top;\n",
       "    }\n",
       "\n",
       "    .dataframe thead th {\n",
       "        text-align: right;\n",
       "    }\n",
       "</style>\n",
       "<table border=\"1\" class=\"dataframe\">\n",
       "  <thead>\n",
       "    <tr style=\"text-align: right;\">\n",
       "      <th></th>\n",
       "      <th>Degree_centrality</th>\n",
       "    </tr>\n",
       "  </thead>\n",
       "  <tbody>\n",
       "    <tr>\n",
       "      <th>pete.davis@enron.com</th>\n",
       "      <td>0.001378</td>\n",
       "    </tr>\n",
       "    <tr>\n",
       "      <th>vince.kaminski@enron.com</th>\n",
       "      <td>0.050367</td>\n",
       "    </tr>\n",
       "    <tr>\n",
       "      <th>To_aol.com</th>\n",
       "      <td>0.005052</td>\n",
       "    </tr>\n",
       "    <tr>\n",
       "      <th>kay.mann@enron.com</th>\n",
       "      <td>0.039651</td>\n",
       "    </tr>\n",
       "    <tr>\n",
       "      <th>suzanne.adams@enron.com</th>\n",
       "      <td>0.003674</td>\n",
       "    </tr>\n",
       "  </tbody>\n",
       "</table>\n",
       "</div>"
      ],
      "text/plain": [
       "                          Degree_centrality\n",
       "pete.davis@enron.com               0.001378\n",
       "vince.kaminski@enron.com           0.050367\n",
       "To_aol.com                         0.005052\n",
       "kay.mann@enron.com                 0.039651\n",
       "suzanne.adams@enron.com            0.003674"
      ]
     },
     "execution_count": 63,
     "metadata": {},
     "output_type": "execute_result"
    }
   ],
   "source": [
    "df_degree.head()"
   ]
  },
  {
   "cell_type": "code",
   "execution_count": 87,
   "id": "98d81b67",
   "metadata": {},
   "outputs": [],
   "source": [
    "# Extract betweenness centrality\n",
    "df_betweenness = pd.DataFrame.from_dict(nx.betweenness_centrality(G_int), orient='index').rename(columns={0:'Betweenness_centrality'})"
   ]
  },
  {
   "cell_type": "code",
   "execution_count": 88,
   "id": "e69e3aa6",
   "metadata": {},
   "outputs": [
    {
     "data": {
      "text/html": [
       "<div>\n",
       "<style scoped>\n",
       "    .dataframe tbody tr th:only-of-type {\n",
       "        vertical-align: middle;\n",
       "    }\n",
       "\n",
       "    .dataframe tbody tr th {\n",
       "        vertical-align: top;\n",
       "    }\n",
       "\n",
       "    .dataframe thead th {\n",
       "        text-align: right;\n",
       "    }\n",
       "</style>\n",
       "<table border=\"1\" class=\"dataframe\">\n",
       "  <thead>\n",
       "    <tr style=\"text-align: right;\">\n",
       "      <th></th>\n",
       "      <th>Betweenness_centrality</th>\n",
       "    </tr>\n",
       "  </thead>\n",
       "  <tbody>\n",
       "    <tr>\n",
       "      <th>pete.davis@enron.com</th>\n",
       "      <td>0.000003</td>\n",
       "    </tr>\n",
       "    <tr>\n",
       "      <th>vince.kaminski@enron.com</th>\n",
       "      <td>0.025625</td>\n",
       "    </tr>\n",
       "    <tr>\n",
       "      <th>To_aol.com</th>\n",
       "      <td>0.000674</td>\n",
       "    </tr>\n",
       "    <tr>\n",
       "      <th>kay.mann@enron.com</th>\n",
       "      <td>0.013190</td>\n",
       "    </tr>\n",
       "    <tr>\n",
       "      <th>suzanne.adams@enron.com</th>\n",
       "      <td>0.000026</td>\n",
       "    </tr>\n",
       "  </tbody>\n",
       "</table>\n",
       "</div>"
      ],
      "text/plain": [
       "                          Betweenness_centrality\n",
       "pete.davis@enron.com                    0.000003\n",
       "vince.kaminski@enron.com                0.025625\n",
       "To_aol.com                              0.000674\n",
       "kay.mann@enron.com                      0.013190\n",
       "suzanne.adams@enron.com                 0.000026"
      ]
     },
     "execution_count": 88,
     "metadata": {},
     "output_type": "execute_result"
    }
   ],
   "source": [
    "df_betweenness.head()"
   ]
  },
  {
   "cell_type": "code",
   "execution_count": 89,
   "id": "39f79a74",
   "metadata": {},
   "outputs": [],
   "source": [
    "# Extract closeness centrality\n",
    "df_closeness = pd.DataFrame.from_dict(nx.closeness_centrality(G_int), orient='index').rename(columns={0:'Closeness_centrality'})"
   ]
  },
  {
   "cell_type": "code",
   "execution_count": 90,
   "id": "9c153ed7",
   "metadata": {
    "scrolled": true
   },
   "outputs": [
    {
     "data": {
      "text/html": [
       "<div>\n",
       "<style scoped>\n",
       "    .dataframe tbody tr th:only-of-type {\n",
       "        vertical-align: middle;\n",
       "    }\n",
       "\n",
       "    .dataframe tbody tr th {\n",
       "        vertical-align: top;\n",
       "    }\n",
       "\n",
       "    .dataframe thead th {\n",
       "        text-align: right;\n",
       "    }\n",
       "</style>\n",
       "<table border=\"1\" class=\"dataframe\">\n",
       "  <thead>\n",
       "    <tr style=\"text-align: right;\">\n",
       "      <th></th>\n",
       "      <th>Closeness_centrality</th>\n",
       "    </tr>\n",
       "  </thead>\n",
       "  <tbody>\n",
       "    <tr>\n",
       "      <th>pete.davis@enron.com</th>\n",
       "      <td>0.313541</td>\n",
       "    </tr>\n",
       "    <tr>\n",
       "      <th>vince.kaminski@enron.com</th>\n",
       "      <td>0.421937</td>\n",
       "    </tr>\n",
       "    <tr>\n",
       "      <th>To_aol.com</th>\n",
       "      <td>0.387472</td>\n",
       "    </tr>\n",
       "    <tr>\n",
       "      <th>kay.mann@enron.com</th>\n",
       "      <td>0.388370</td>\n",
       "    </tr>\n",
       "    <tr>\n",
       "      <th>suzanne.adams@enron.com</th>\n",
       "      <td>0.343193</td>\n",
       "    </tr>\n",
       "  </tbody>\n",
       "</table>\n",
       "</div>"
      ],
      "text/plain": [
       "                          Closeness_centrality\n",
       "pete.davis@enron.com                  0.313541\n",
       "vince.kaminski@enron.com              0.421937\n",
       "To_aol.com                            0.387472\n",
       "kay.mann@enron.com                    0.388370\n",
       "suzanne.adams@enron.com               0.343193"
      ]
     },
     "execution_count": 90,
     "metadata": {},
     "output_type": "execute_result"
    }
   ],
   "source": [
    "df_closeness.head()"
   ]
  },
  {
   "cell_type": "code",
   "execution_count": 91,
   "id": "f78a2bcf",
   "metadata": {},
   "outputs": [],
   "source": [
    "# Concatenate dataframes\n",
    "df_features = pd.concat([df_degree, df_betweenness, df_closeness], axis=1)"
   ]
  },
  {
   "cell_type": "code",
   "execution_count": 92,
   "id": "f02a2b0a",
   "metadata": {
    "scrolled": false
   },
   "outputs": [
    {
     "data": {
      "text/html": [
       "<div>\n",
       "<style scoped>\n",
       "    .dataframe tbody tr th:only-of-type {\n",
       "        vertical-align: middle;\n",
       "    }\n",
       "\n",
       "    .dataframe tbody tr th {\n",
       "        vertical-align: top;\n",
       "    }\n",
       "\n",
       "    .dataframe thead th {\n",
       "        text-align: right;\n",
       "    }\n",
       "</style>\n",
       "<table border=\"1\" class=\"dataframe\">\n",
       "  <thead>\n",
       "    <tr style=\"text-align: right;\">\n",
       "      <th></th>\n",
       "      <th>Degree_centrality</th>\n",
       "      <th>Betweenness_centrality</th>\n",
       "      <th>Closeness_centrality</th>\n",
       "    </tr>\n",
       "  </thead>\n",
       "  <tbody>\n",
       "    <tr>\n",
       "      <th>pete.davis@enron.com</th>\n",
       "      <td>0.001378</td>\n",
       "      <td>0.000003</td>\n",
       "      <td>0.313541</td>\n",
       "    </tr>\n",
       "    <tr>\n",
       "      <th>vince.kaminski@enron.com</th>\n",
       "      <td>0.050367</td>\n",
       "      <td>0.025625</td>\n",
       "      <td>0.421937</td>\n",
       "    </tr>\n",
       "    <tr>\n",
       "      <th>To_aol.com</th>\n",
       "      <td>0.005052</td>\n",
       "      <td>0.000674</td>\n",
       "      <td>0.387472</td>\n",
       "    </tr>\n",
       "    <tr>\n",
       "      <th>kay.mann@enron.com</th>\n",
       "      <td>0.039651</td>\n",
       "      <td>0.013190</td>\n",
       "      <td>0.388370</td>\n",
       "    </tr>\n",
       "    <tr>\n",
       "      <th>suzanne.adams@enron.com</th>\n",
       "      <td>0.003674</td>\n",
       "      <td>0.000026</td>\n",
       "      <td>0.343193</td>\n",
       "    </tr>\n",
       "  </tbody>\n",
       "</table>\n",
       "</div>"
      ],
      "text/plain": [
       "                          Degree_centrality  Betweenness_centrality  \\\n",
       "pete.davis@enron.com               0.001378                0.000003   \n",
       "vince.kaminski@enron.com           0.050367                0.025625   \n",
       "To_aol.com                         0.005052                0.000674   \n",
       "kay.mann@enron.com                 0.039651                0.013190   \n",
       "suzanne.adams@enron.com            0.003674                0.000026   \n",
       "\n",
       "                          Closeness_centrality  \n",
       "pete.davis@enron.com                  0.313541  \n",
       "vince.kaminski@enron.com              0.421937  \n",
       "To_aol.com                            0.387472  \n",
       "kay.mann@enron.com                    0.388370  \n",
       "suzanne.adams@enron.com               0.343193  "
      ]
     },
     "execution_count": 92,
     "metadata": {},
     "output_type": "execute_result"
    }
   ],
   "source": [
    "df_features.head()"
   ]
  },
  {
   "cell_type": "code",
   "execution_count": 93,
   "id": "87c37e36",
   "metadata": {},
   "outputs": [
    {
     "data": {
      "text/html": [
       "<div>\n",
       "<style scoped>\n",
       "    .dataframe tbody tr th:only-of-type {\n",
       "        vertical-align: middle;\n",
       "    }\n",
       "\n",
       "    .dataframe tbody tr th {\n",
       "        vertical-align: top;\n",
       "    }\n",
       "\n",
       "    .dataframe thead th {\n",
       "        text-align: right;\n",
       "    }\n",
       "</style>\n",
       "<table border=\"1\" class=\"dataframe\">\n",
       "  <thead>\n",
       "    <tr style=\"text-align: right;\">\n",
       "      <th></th>\n",
       "      <th>Degree_centrality</th>\n",
       "      <th>Betweenness_centrality</th>\n",
       "      <th>Closeness_centrality</th>\n",
       "    </tr>\n",
       "  </thead>\n",
       "  <tbody>\n",
       "    <tr>\n",
       "      <th>count</th>\n",
       "      <td>6533.000000</td>\n",
       "      <td>6.533000e+03</td>\n",
       "      <td>6533.000000</td>\n",
       "    </tr>\n",
       "    <tr>\n",
       "      <th>mean</th>\n",
       "      <td>0.002522</td>\n",
       "      <td>3.405802e-04</td>\n",
       "      <td>0.314374</td>\n",
       "    </tr>\n",
       "    <tr>\n",
       "      <th>std</th>\n",
       "      <td>0.006535</td>\n",
       "      <td>2.753625e-03</td>\n",
       "      <td>0.035859</td>\n",
       "    </tr>\n",
       "    <tr>\n",
       "      <th>min</th>\n",
       "      <td>0.000153</td>\n",
       "      <td>0.000000e+00</td>\n",
       "      <td>0.157038</td>\n",
       "    </tr>\n",
       "    <tr>\n",
       "      <th>25%</th>\n",
       "      <td>0.000459</td>\n",
       "      <td>2.084655e-07</td>\n",
       "      <td>0.292679</td>\n",
       "    </tr>\n",
       "    <tr>\n",
       "      <th>50%</th>\n",
       "      <td>0.000765</td>\n",
       "      <td>7.790127e-06</td>\n",
       "      <td>0.315084</td>\n",
       "    </tr>\n",
       "    <tr>\n",
       "      <th>75%</th>\n",
       "      <td>0.001990</td>\n",
       "      <td>6.006203e-05</td>\n",
       "      <td>0.337223</td>\n",
       "    </tr>\n",
       "    <tr>\n",
       "      <th>max</th>\n",
       "      <td>0.146816</td>\n",
       "      <td>1.083224e-01</td>\n",
       "      <td>0.467005</td>\n",
       "    </tr>\n",
       "  </tbody>\n",
       "</table>\n",
       "</div>"
      ],
      "text/plain": [
       "       Degree_centrality  Betweenness_centrality  Closeness_centrality\n",
       "count        6533.000000            6.533000e+03           6533.000000\n",
       "mean            0.002522            3.405802e-04              0.314374\n",
       "std             0.006535            2.753625e-03              0.035859\n",
       "min             0.000153            0.000000e+00              0.157038\n",
       "25%             0.000459            2.084655e-07              0.292679\n",
       "50%             0.000765            7.790127e-06              0.315084\n",
       "75%             0.001990            6.006203e-05              0.337223\n",
       "max             0.146816            1.083224e-01              0.467005"
      ]
     },
     "execution_count": 93,
     "metadata": {},
     "output_type": "execute_result"
    }
   ],
   "source": [
    "df_features.describe()"
   ]
  },
  {
   "cell_type": "code",
   "execution_count": 94,
   "id": "7cadaaaa",
   "metadata": {
    "scrolled": true
   },
   "outputs": [
    {
     "data": {
      "text/plain": [
       "Degree_centrality         0\n",
       "Betweenness_centrality    0\n",
       "Closeness_centrality      0\n",
       "dtype: int64"
      ]
     },
     "execution_count": 94,
     "metadata": {},
     "output_type": "execute_result"
    }
   ],
   "source": [
    "# Check for NaN values\n",
    "df_features.isnull().sum(axis=0)"
   ]
  },
  {
   "cell_type": "markdown",
   "id": "24fc84b6",
   "metadata": {},
   "source": [
    "**Construct power laws**\n",
    "\n",
    "As mentioned earlier we will extract different attributes of the egonet of a node to construct power laws. These power laws are a combination of the attributes which indicate an anomaly.\n",
    "\n",
    "* Number of nodes in an egonet\n",
    "* Number of edges in an egonet\n",
    "* Total weight of the egonet\n",
    "* Spectral radius of the egonet, the principal eigenvalue of the egonet\n",
    "\n",
    "We start by defining some defintions to extract the afore mentioned features"
   ]
  },
  {
   "cell_type": "code",
   "execution_count": 95,
   "id": "59bcb256",
   "metadata": {
    "scrolled": false
   },
   "outputs": [
    {
     "data": {
      "image/png": "[encoded data removed]",
      "text/plain": [
       "<Figure size 432x288 with 1 Axes>"
      ]
     },
     "metadata": {},
     "output_type": "display_data"
    }
   ],
   "source": [
    "# Draw an example of an egonet\n",
    "nx.draw_networkx(nx.ego_graph(G_int, 'michael.frazier@enron.com'))"
   ]
  },
  {
   "cell_type": "code",
   "execution_count": 96,
   "id": "1cd1bf35",
   "metadata": {},
   "outputs": [],
   "source": [
    "# Definition for Number of edges\n",
    "def nr_edges(Name):\n",
    "    nr_edges = nx.ego_graph(G_int, Name).number_of_edges()\n",
    "    return(nr_edges)"
   ]
  },
  {
   "cell_type": "code",
   "execution_count": 97,
   "id": "110de0f9",
   "metadata": {},
   "outputs": [
    {
     "data": {
      "text/plain": [
       "61"
      ]
     },
     "execution_count": 97,
     "metadata": {},
     "output_type": "execute_result"
    }
   ],
   "source": [
    "nr_edges('michael.frazier@enron.com')"
   ]
  },
  {
   "cell_type": "code",
   "execution_count": 98,
   "id": "4d14fe55",
   "metadata": {},
   "outputs": [],
   "source": [
    "# Definition for the Number of nodes\n",
    "def nr_nodes(Name):\n",
    "    nr_nodes = nx.ego_graph(G_int, Name).number_of_nodes()\n",
    "    return nr_nodes"
   ]
  },
  {
   "cell_type": "code",
   "execution_count": 99,
   "id": "82ce0581",
   "metadata": {},
   "outputs": [
    {
     "data": {
      "text/plain": [
       "24"
      ]
     },
     "execution_count": 99,
     "metadata": {},
     "output_type": "execute_result"
    }
   ],
   "source": [
    "nr_nodes('michael.frazier@enron.com')"
   ]
  },
  {
   "cell_type": "code",
   "execution_count": 100,
   "id": "b6cd279f",
   "metadata": {},
   "outputs": [],
   "source": [
    "# Definition to get sum of weights\n",
    "def total_weights(Name):\n",
    "    total_weights = nx.ego_graph(G_int, Name).size(weight=\"weight\")\n",
    "    return total_weights"
   ]
  },
  {
   "cell_type": "code",
   "execution_count": 101,
   "id": "ee3cb7a8",
   "metadata": {
    "scrolled": false
   },
   "outputs": [
    {
     "data": {
      "text/plain": [
       "3340.0"
      ]
     },
     "execution_count": 101,
     "metadata": {},
     "output_type": "execute_result"
    }
   ],
   "source": [
    "total_weights('michael.frazier@enron.com')"
   ]
  },
  {
   "cell_type": "code",
   "execution_count": 102,
   "id": "a0f281d6",
   "metadata": {},
   "outputs": [],
   "source": [
    "from numpy import linalg as LA"
   ]
  },
  {
   "cell_type": "code",
   "execution_count": 103,
   "id": "214e3e78",
   "metadata": {},
   "outputs": [],
   "source": [
    "# Definition to extract principal eigenvalue\n",
    "def princip_eigval(Name):\n",
    "    # Convert graph to array\n",
    "    array = nx.to_numpy_array(nx.ego_graph(G_int, Name))\n",
    "    princip_eigval = LA.eigvals(array).max()\n",
    "    return princip_eigval"
   ]
  },
  {
   "cell_type": "code",
   "execution_count": 104,
   "id": "ca47865b",
   "metadata": {
    "scrolled": true
   },
   "outputs": [
    {
     "data": {
      "text/plain": [
       "2413.426802893317"
      ]
     },
     "execution_count": 104,
     "metadata": {},
     "output_type": "execute_result"
    }
   ],
   "source": [
    "princip_eigval('michael.frazier@enron.com')"
   ]
  },
  {
   "cell_type": "code",
   "execution_count": null,
   "id": "d7fcece9",
   "metadata": {},
   "outputs": [],
   "source": [
    "# Loop over all nodes and extract features\n",
    "list_nr_nodes = []\n",
    "list_nr_edges = []\n",
    "list_total_weights = []\n",
    "list_eigvals = []\n",
    "for name in Intensity_Adj.index.tolist():\n",
    "    list_nr_nodes.append(nr_nodes(name))\n",
    "    list_nr_edges.append(nr_edges(name))\n",
    "    list_total_weights.append(total_weights(name))\n",
    "    list_eigvals.append(princip_eigval(name))"
   ]
  },
  {
   "cell_type": "code",
   "execution_count": 107,
   "id": "0b571d96",
   "metadata": {},
   "outputs": [],
   "source": [
    "# Add features to dataframe\n",
    "df_ego_features = pd.DataFrame(index=Intensity_Adj.index.tolist(), data={'Nr_Nodes':list_nr_nodes, 'Nr_Edges':list_nr_edges,\n",
    "                                                                   'Total_Weight':list_total_weights, 'Eigenvalue':list_eigvals})"
   ]
  },
  {
   "cell_type": "code",
   "execution_count": 108,
   "id": "f70576f7",
   "metadata": {
    "scrolled": false
   },
   "outputs": [
    {
     "data": {
      "text/html": [
       "<div>\n",
       "<style scoped>\n",
       "    .dataframe tbody tr th:only-of-type {\n",
       "        vertical-align: middle;\n",
       "    }\n",
       "\n",
       "    .dataframe tbody tr th {\n",
       "        vertical-align: top;\n",
       "    }\n",
       "\n",
       "    .dataframe thead th {\n",
       "        text-align: right;\n",
       "    }\n",
       "</style>\n",
       "<table border=\"1\" class=\"dataframe\">\n",
       "  <thead>\n",
       "    <tr style=\"text-align: right;\">\n",
       "      <th></th>\n",
       "      <th>Nr_Nodes</th>\n",
       "      <th>Nr_Edges</th>\n",
       "      <th>Total_Weight</th>\n",
       "      <th>Eigenvalue</th>\n",
       "    </tr>\n",
       "  </thead>\n",
       "  <tbody>\n",
       "    <tr>\n",
       "      <th>pete.davis@enron.com</th>\n",
       "      <td>8</td>\n",
       "      <td>27</td>\n",
       "      <td>2989.0</td>\n",
       "      <td>2414.157195+0.000000j</td>\n",
       "    </tr>\n",
       "    <tr>\n",
       "      <th>vince.kaminski@enron.com</th>\n",
       "      <td>328</td>\n",
       "      <td>1745</td>\n",
       "      <td>18600.0</td>\n",
       "      <td>2383.983616+0.000000j</td>\n",
       "    </tr>\n",
       "    <tr>\n",
       "      <th>To_aol.com</th>\n",
       "      <td>34</td>\n",
       "      <td>146</td>\n",
       "      <td>4648.0</td>\n",
       "      <td>2249.756379+0.000000j</td>\n",
       "    </tr>\n",
       "    <tr>\n",
       "      <th>kay.mann@enron.com</th>\n",
       "      <td>258</td>\n",
       "      <td>1757</td>\n",
       "      <td>26265.0</td>\n",
       "      <td>1464.451618+0.000000j</td>\n",
       "    </tr>\n",
       "    <tr>\n",
       "      <th>suzanne.adams@enron.com</th>\n",
       "      <td>25</td>\n",
       "      <td>208</td>\n",
       "      <td>2567.0</td>\n",
       "      <td>338.469365+0.000000j</td>\n",
       "    </tr>\n",
       "  </tbody>\n",
       "</table>\n",
       "</div>"
      ],
      "text/plain": [
       "                          Nr_Nodes  Nr_Edges  Total_Weight  \\\n",
       "pete.davis@enron.com             8        27        2989.0   \n",
       "vince.kaminski@enron.com       328      1745       18600.0   \n",
       "To_aol.com                      34       146        4648.0   \n",
       "kay.mann@enron.com             258      1757       26265.0   \n",
       "suzanne.adams@enron.com         25       208        2567.0   \n",
       "\n",
       "                                     Eigenvalue  \n",
       "pete.davis@enron.com      2414.157195+0.000000j  \n",
       "vince.kaminski@enron.com  2383.983616+0.000000j  \n",
       "To_aol.com                2249.756379+0.000000j  \n",
       "kay.mann@enron.com        1464.451618+0.000000j  \n",
       "suzanne.adams@enron.com    338.469365+0.000000j  "
      ]
     },
     "execution_count": 108,
     "metadata": {},
     "output_type": "execute_result"
    }
   ],
   "source": [
    "df_ego_features.head()"
   ]
  },
  {
   "cell_type": "code",
   "execution_count": 109,
   "id": "a4f994fd",
   "metadata": {},
   "outputs": [
    {
     "data": {
      "text/html": [
       "<div>\n",
       "<style scoped>\n",
       "    .dataframe tbody tr th:only-of-type {\n",
       "        vertical-align: middle;\n",
       "    }\n",
       "\n",
       "    .dataframe tbody tr th {\n",
       "        vertical-align: top;\n",
       "    }\n",
       "\n",
       "    .dataframe thead th {\n",
       "        text-align: right;\n",
       "    }\n",
       "</style>\n",
       "<table border=\"1\" class=\"dataframe\">\n",
       "  <thead>\n",
       "    <tr style=\"text-align: right;\">\n",
       "      <th></th>\n",
       "      <th>Nr_Nodes</th>\n",
       "      <th>Nr_Edges</th>\n",
       "      <th>Total_Weight</th>\n",
       "      <th>Eigenvalue</th>\n",
       "    </tr>\n",
       "  </thead>\n",
       "  <tbody>\n",
       "    <tr>\n",
       "      <th>count</th>\n",
       "      <td>6533.000000</td>\n",
       "      <td>6533.000000</td>\n",
       "      <td>6533.000000</td>\n",
       "      <td>6533.000000+0.000000j</td>\n",
       "    </tr>\n",
       "    <tr>\n",
       "      <th>mean</th>\n",
       "      <td>17.382673</td>\n",
       "      <td>105.517833</td>\n",
       "      <td>1583.314710</td>\n",
       "      <td>176.948333+0.000000j</td>\n",
       "    </tr>\n",
       "    <tr>\n",
       "      <th>std</th>\n",
       "      <td>42.489488</td>\n",
       "      <td>387.941833</td>\n",
       "      <td>6687.785492</td>\n",
       "      <td>357.377523+0.000000j</td>\n",
       "    </tr>\n",
       "    <tr>\n",
       "      <th>min</th>\n",
       "      <td>2.000000</td>\n",
       "      <td>1.000000</td>\n",
       "      <td>2.000000</td>\n",
       "      <td>2.0000000+0.0000000j</td>\n",
       "    </tr>\n",
       "    <tr>\n",
       "      <th>25%</th>\n",
       "      <td>4.000000</td>\n",
       "      <td>4.000000</td>\n",
       "      <td>46.000000</td>\n",
       "      <td>23.1300200+0.0000000j</td>\n",
       "    </tr>\n",
       "    <tr>\n",
       "      <th>50%</th>\n",
       "      <td>6.000000</td>\n",
       "      <td>12.000000</td>\n",
       "      <td>125.000000</td>\n",
       "      <td>56.4754540+0.0000000j</td>\n",
       "    </tr>\n",
       "    <tr>\n",
       "      <th>75%</th>\n",
       "      <td>14.000000</td>\n",
       "      <td>48.000000</td>\n",
       "      <td>672.000000</td>\n",
       "      <td>176.075708+0.000000j</td>\n",
       "    </tr>\n",
       "    <tr>\n",
       "      <th>max</th>\n",
       "      <td>958.000000</td>\n",
       "      <td>8775.000000</td>\n",
       "      <td>163872.000000</td>\n",
       "      <td>5315.700554+0.000000j</td>\n",
       "    </tr>\n",
       "  </tbody>\n",
       "</table>\n",
       "</div>"
      ],
      "text/plain": [
       "          Nr_Nodes     Nr_Edges   Total_Weight             Eigenvalue\n",
       "count  6533.000000  6533.000000    6533.000000  6533.000000+0.000000j\n",
       "mean     17.382673   105.517833    1583.314710   176.948333+0.000000j\n",
       "std      42.489488   387.941833    6687.785492   357.377523+0.000000j\n",
       "min       2.000000     1.000000       2.000000   2.0000000+0.0000000j\n",
       "25%       4.000000     4.000000      46.000000  23.1300200+0.0000000j\n",
       "50%       6.000000    12.000000     125.000000  56.4754540+0.0000000j\n",
       "75%      14.000000    48.000000     672.000000   176.075708+0.000000j\n",
       "max     958.000000  8775.000000  163872.000000  5315.700554+0.000000j"
      ]
     },
     "execution_count": 109,
     "metadata": {},
     "output_type": "execute_result"
    }
   ],
   "source": [
    "df_ego_features.describe()"
   ]
  },
  {
   "cell_type": "markdown",
   "id": "a05f9c4a",
   "metadata": {},
   "source": [
    "To detect possible outliers we can combine some of these features. \n",
    "\n",
    "* **Number of nodes vs number of edges**: Extremely dense neighborhoods of a node correspond to near-cliques, whereas extremely sparse neighborhoods of a node are stars.\n",
    "\n",
    "* **Total weight vs number of edges**: If edges are used unusually frequently in the neighborhood of a node, this will result in a high value of the weight feature relative to the edge feature.\n",
    "\n",
    "* **Principal eigenvalue vs total weight** This approach detects a single dominating heavy edge in the neighborhood of a node."
   ]
  },
  {
   "cell_type": "code",
   "execution_count": 110,
   "id": "5211eed2",
   "metadata": {},
   "outputs": [],
   "source": [
    "df_ego_features['ego_Density'] = np.log(df_ego_features.Nr_Edges)/np.log(df_ego_features.Nr_Nodes)"
   ]
  },
  {
   "cell_type": "code",
   "execution_count": 111,
   "id": "29af539a",
   "metadata": {
    "scrolled": true
   },
   "outputs": [],
   "source": [
    "df_ego_features['Heavy_vicinity'] = np.log(df_ego_features.Total_Weight)/np.log(df_ego_features.Nr_Edges)"
   ]
  },
  {
   "cell_type": "code",
   "execution_count": 112,
   "id": "61941e49",
   "metadata": {},
   "outputs": [],
   "source": [
    "df_ego_features['Dominant_edge'] = np.log(df_ego_features.Eigenvalue)/np.log(df_ego_features.Total_Weight)"
   ]
  },
  {
   "cell_type": "markdown",
   "id": "f93f5905",
   "metadata": {},
   "source": [
    "Because some nodes have only one edge the second power law won't hold up for nodes with only 1 edge. To circumvent this problem we will replace the inifinite value by the edge weight. As the intensity of an egonet with only 1 edge can be represented by the weight of that edge. "
   ]
  },
  {
   "cell_type": "code",
   "execution_count": 113,
   "id": "3d71e1e2",
   "metadata": {},
   "outputs": [
    {
     "name": "stderr",
     "output_type": "stream",
     "text": [
      "C:\\Users\\andre\\AppData\\Local\\Temp/ipykernel_21484/1941707962.py:1: SettingWithCopyWarning: \n",
      "A value is trying to be set on a copy of a slice from a DataFrame\n",
      "\n",
      "See the caveats in the documentation: https://pandas.pydata.org/pandas-docs/stable/user_guide/indexing.html#returning-a-view-versus-a-copy\n",
      "  df_ego_features.Heavy_vicinity[df_ego_features.Nr_Edges==1] = df_ego_features.Total_Weight[df_ego_features.Nr_Edges==1]\n"
     ]
    }
   ],
   "source": [
    "df_ego_features.Heavy_vicinity[df_ego_features.Nr_Edges==1] = df_ego_features.Total_Weight[df_ego_features.Nr_Edges==1]"
   ]
  },
  {
   "cell_type": "code",
   "execution_count": 114,
   "id": "54bc2a95",
   "metadata": {
    "scrolled": false
   },
   "outputs": [
    {
     "data": {
      "text/html": [
       "<div>\n",
       "<style scoped>\n",
       "    .dataframe tbody tr th:only-of-type {\n",
       "        vertical-align: middle;\n",
       "    }\n",
       "\n",
       "    .dataframe tbody tr th {\n",
       "        vertical-align: top;\n",
       "    }\n",
       "\n",
       "    .dataframe thead th {\n",
       "        text-align: right;\n",
       "    }\n",
       "</style>\n",
       "<table border=\"1\" class=\"dataframe\">\n",
       "  <thead>\n",
       "    <tr style=\"text-align: right;\">\n",
       "      <th></th>\n",
       "      <th>Nr_Nodes</th>\n",
       "      <th>Nr_Edges</th>\n",
       "      <th>Total_Weight</th>\n",
       "      <th>Eigenvalue</th>\n",
       "      <th>ego_Density</th>\n",
       "      <th>Heavy_vicinity</th>\n",
       "      <th>Dominant_edge</th>\n",
       "    </tr>\n",
       "  </thead>\n",
       "  <tbody>\n",
       "    <tr>\n",
       "      <th>pete.davis@enron.com</th>\n",
       "      <td>8</td>\n",
       "      <td>27</td>\n",
       "      <td>2989.0</td>\n",
       "      <td>2414.157195+0.000000j</td>\n",
       "      <td>1.584963</td>\n",
       "      <td>2.428122</td>\n",
       "      <td>0.973310+0.000000j</td>\n",
       "    </tr>\n",
       "    <tr>\n",
       "      <th>vince.kaminski@enron.com</th>\n",
       "      <td>328</td>\n",
       "      <td>1745</td>\n",
       "      <td>18600.0</td>\n",
       "      <td>2383.983616+0.000000j</td>\n",
       "      <td>1.288537</td>\n",
       "      <td>1.317021</td>\n",
       "      <td>0.791028+0.000000j</td>\n",
       "    </tr>\n",
       "    <tr>\n",
       "      <th>To_aol.com</th>\n",
       "      <td>34</td>\n",
       "      <td>146</td>\n",
       "      <td>4648.0</td>\n",
       "      <td>2249.756379+0.000000j</td>\n",
       "      <td>1.413244</td>\n",
       "      <td>1.694394</td>\n",
       "      <td>0.914069+0.000000j</td>\n",
       "    </tr>\n",
       "    <tr>\n",
       "      <th>kay.mann@enron.com</th>\n",
       "      <td>258</td>\n",
       "      <td>1757</td>\n",
       "      <td>26265.0</td>\n",
       "      <td>1464.451618+0.000000j</td>\n",
       "      <td>1.345474</td>\n",
       "      <td>1.361999</td>\n",
       "      <td>0.716317+0.000000j</td>\n",
       "    </tr>\n",
       "    <tr>\n",
       "      <th>suzanne.adams@enron.com</th>\n",
       "      <td>25</td>\n",
       "      <td>208</td>\n",
       "      <td>2567.0</td>\n",
       "      <td>338.469365+0.000000j</td>\n",
       "      <td>1.658199</td>\n",
       "      <td>1.470808</td>\n",
       "      <td>0.741919+0.000000j</td>\n",
       "    </tr>\n",
       "  </tbody>\n",
       "</table>\n",
       "</div>"
      ],
      "text/plain": [
       "                          Nr_Nodes  Nr_Edges  Total_Weight  \\\n",
       "pete.davis@enron.com             8        27        2989.0   \n",
       "vince.kaminski@enron.com       328      1745       18600.0   \n",
       "To_aol.com                      34       146        4648.0   \n",
       "kay.mann@enron.com             258      1757       26265.0   \n",
       "suzanne.adams@enron.com         25       208        2567.0   \n",
       "\n",
       "                                     Eigenvalue  ego_Density  Heavy_vicinity  \\\n",
       "pete.davis@enron.com      2414.157195+0.000000j     1.584963        2.428122   \n",
       "vince.kaminski@enron.com  2383.983616+0.000000j     1.288537        1.317021   \n",
       "To_aol.com                2249.756379+0.000000j     1.413244        1.694394   \n",
       "kay.mann@enron.com        1464.451618+0.000000j     1.345474        1.361999   \n",
       "suzanne.adams@enron.com    338.469365+0.000000j     1.658199        1.470808   \n",
       "\n",
       "                               Dominant_edge  \n",
       "pete.davis@enron.com      0.973310+0.000000j  \n",
       "vince.kaminski@enron.com  0.791028+0.000000j  \n",
       "To_aol.com                0.914069+0.000000j  \n",
       "kay.mann@enron.com        0.716317+0.000000j  \n",
       "suzanne.adams@enron.com   0.741919+0.000000j  "
      ]
     },
     "execution_count": 114,
     "metadata": {},
     "output_type": "execute_result"
    }
   ],
   "source": [
    "df_ego_features.head()"
   ]
  },
  {
   "cell_type": "code",
   "execution_count": 115,
   "id": "e0388315",
   "metadata": {},
   "outputs": [
    {
     "data": {
      "text/html": [
       "<div>\n",
       "<style scoped>\n",
       "    .dataframe tbody tr th:only-of-type {\n",
       "        vertical-align: middle;\n",
       "    }\n",
       "\n",
       "    .dataframe tbody tr th {\n",
       "        vertical-align: top;\n",
       "    }\n",
       "\n",
       "    .dataframe thead th {\n",
       "        text-align: right;\n",
       "    }\n",
       "</style>\n",
       "<table border=\"1\" class=\"dataframe\">\n",
       "  <thead>\n",
       "    <tr style=\"text-align: right;\">\n",
       "      <th></th>\n",
       "      <th>Nr_Nodes</th>\n",
       "      <th>Nr_Edges</th>\n",
       "      <th>Total_Weight</th>\n",
       "      <th>Eigenvalue</th>\n",
       "      <th>ego_Density</th>\n",
       "      <th>Heavy_vicinity</th>\n",
       "      <th>Dominant_edge</th>\n",
       "    </tr>\n",
       "  </thead>\n",
       "  <tbody>\n",
       "    <tr>\n",
       "      <th>count</th>\n",
       "      <td>6533.000000</td>\n",
       "      <td>6533.000000</td>\n",
       "      <td>6533.000000</td>\n",
       "      <td>6533.000000+0.000000j</td>\n",
       "      <td>6533.000000</td>\n",
       "      <td>6533.000000</td>\n",
       "      <td>6533.0000+0.0000j</td>\n",
       "    </tr>\n",
       "    <tr>\n",
       "      <th>mean</th>\n",
       "      <td>17.382673</td>\n",
       "      <td>105.517833</td>\n",
       "      <td>1583.314710</td>\n",
       "      <td>176.948333+0.000000j</td>\n",
       "      <td>1.264640</td>\n",
       "      <td>2.849906</td>\n",
       "      <td>0.820255+0.000000j</td>\n",
       "    </tr>\n",
       "    <tr>\n",
       "      <th>std</th>\n",
       "      <td>42.489488</td>\n",
       "      <td>387.941833</td>\n",
       "      <td>6687.785492</td>\n",
       "      <td>357.377523+0.000000j</td>\n",
       "      <td>0.339271</td>\n",
       "      <td>6.346724</td>\n",
       "      <td>0.092477+0.000000j</td>\n",
       "    </tr>\n",
       "    <tr>\n",
       "      <th>min</th>\n",
       "      <td>2.000000</td>\n",
       "      <td>1.000000</td>\n",
       "      <td>2.000000</td>\n",
       "      <td>2.0000000+0.0000000j</td>\n",
       "      <td>0.000000</td>\n",
       "      <td>1.175586</td>\n",
       "      <td>0.551296+0.000000j</td>\n",
       "    </tr>\n",
       "    <tr>\n",
       "      <th>25%</th>\n",
       "      <td>4.000000</td>\n",
       "      <td>4.000000</td>\n",
       "      <td>46.000000</td>\n",
       "      <td>23.1300200+0.0000000j</td>\n",
       "      <td>1.160558</td>\n",
       "      <td>1.566358</td>\n",
       "      <td>0.746860+0.000000j</td>\n",
       "    </tr>\n",
       "    <tr>\n",
       "      <th>50%</th>\n",
       "      <td>6.000000</td>\n",
       "      <td>12.000000</td>\n",
       "      <td>125.000000</td>\n",
       "      <td>56.4754540+0.0000000j</td>\n",
       "      <td>1.340978</td>\n",
       "      <td>1.854134</td>\n",
       "      <td>0.811117+0.000000j</td>\n",
       "    </tr>\n",
       "    <tr>\n",
       "      <th>75%</th>\n",
       "      <td>14.000000</td>\n",
       "      <td>48.000000</td>\n",
       "      <td>672.000000</td>\n",
       "      <td>176.075708+0.000000j</td>\n",
       "      <td>1.486477</td>\n",
       "      <td>2.453445</td>\n",
       "      <td>0.891847+0.000000j</td>\n",
       "    </tr>\n",
       "    <tr>\n",
       "      <th>max</th>\n",
       "      <td>958.000000</td>\n",
       "      <td>8775.000000</td>\n",
       "      <td>163872.000000</td>\n",
       "      <td>5315.700554+0.000000j</td>\n",
       "      <td>1.765557</td>\n",
       "      <td>243.000000</td>\n",
       "      <td>1.000000+0.000000j</td>\n",
       "    </tr>\n",
       "  </tbody>\n",
       "</table>\n",
       "</div>"
      ],
      "text/plain": [
       "          Nr_Nodes     Nr_Edges   Total_Weight             Eigenvalue  \\\n",
       "count  6533.000000  6533.000000    6533.000000  6533.000000+0.000000j   \n",
       "mean     17.382673   105.517833    1583.314710   176.948333+0.000000j   \n",
       "std      42.489488   387.941833    6687.785492   357.377523+0.000000j   \n",
       "min       2.000000     1.000000       2.000000   2.0000000+0.0000000j   \n",
       "25%       4.000000     4.000000      46.000000  23.1300200+0.0000000j   \n",
       "50%       6.000000    12.000000     125.000000  56.4754540+0.0000000j   \n",
       "75%      14.000000    48.000000     672.000000   176.075708+0.000000j   \n",
       "max     958.000000  8775.000000  163872.000000  5315.700554+0.000000j   \n",
       "\n",
       "       ego_Density  Heavy_vicinity       Dominant_edge  \n",
       "count  6533.000000     6533.000000   6533.0000+0.0000j  \n",
       "mean      1.264640        2.849906  0.820255+0.000000j  \n",
       "std       0.339271        6.346724  0.092477+0.000000j  \n",
       "min       0.000000        1.175586  0.551296+0.000000j  \n",
       "25%       1.160558        1.566358  0.746860+0.000000j  \n",
       "50%       1.340978        1.854134  0.811117+0.000000j  \n",
       "75%       1.486477        2.453445  0.891847+0.000000j  \n",
       "max       1.765557      243.000000  1.000000+0.000000j  "
      ]
     },
     "execution_count": 115,
     "metadata": {},
     "output_type": "execute_result"
    }
   ],
   "source": [
    "df_ego_features.describe()"
   ]
  },
  {
   "cell_type": "code",
   "execution_count": 116,
   "id": "ebd6679b",
   "metadata": {
    "scrolled": true
   },
   "outputs": [
    {
     "data": {
      "text/plain": [
       "Nr_Nodes  Nr_Edges  Total_Weight  Eigenvalue  ego_Density  Heavy_vicinity  Dominant_edge\n",
       "False     False     False         False       False        False           False            6533\n",
       "dtype: int64"
      ]
     },
     "execution_count": 116,
     "metadata": {},
     "output_type": "execute_result"
    }
   ],
   "source": [
    "# Check if there are some empty values\n",
    "df_ego_features.isnull().value_counts()"
   ]
  },
  {
   "cell_type": "code",
   "execution_count": 117,
   "id": "c67ded8a",
   "metadata": {},
   "outputs": [],
   "source": [
    "# Store variables\n",
    "df_features = pd.concat([df_features, df_ego_features], axis=1)"
   ]
  },
  {
   "cell_type": "markdown",
   "id": "47331161",
   "metadata": {},
   "source": [
    "**Levaraging the mahalonobis distance**\n",
    "\n",
    "Here we will use the mahalonobis distance on the SimRank similarity matrix of the network. We will represent all nodes on how similar they are compared to each other. The nodes which deviate the most can be classified as anomolous. To get our similarity matrix we use the SimRank algorithm."
   ]
  },
  {
   "cell_type": "code",
   "execution_count": 352,
   "id": "4a9b4bd7",
   "metadata": {},
   "outputs": [],
   "source": [
    "# Get similarity scores\n",
    "sim = nx.simrank_similarity(G_Conn)"
   ]
  },
  {
   "cell_type": "code",
   "execution_count": 353,
   "id": "f607ec04",
   "metadata": {},
   "outputs": [],
   "source": [
    "# Set to array\n",
    "Similarity_matrix = np.array([[sim[u][v] for v in G_Conn] for u in G_Conn])"
   ]
  },
  {
   "cell_type": "code",
   "execution_count": 354,
   "id": "55a68742",
   "metadata": {},
   "outputs": [],
   "source": [
    "# Import package to calculate distance\n",
    "from scipy.spatial import distance"
   ]
  },
  {
   "cell_type": "code",
   "execution_count": 355,
   "id": "ba7ce0f9",
   "metadata": {},
   "outputs": [],
   "source": [
    "# Compute mahalanobis distances\n",
    "Mahalanobis_distances = []\n",
    "for i in range(Similarity_matrix.shape[0]):\n",
    "    mahala_distance = distance.mahalanobis(Similarity_matrix[i], Similarity_matrix.mean(axis=0), np.identity(6533))\n",
    "    Mahalanobis_distances.append(mahala_distance)"
   ]
  },
  {
   "cell_type": "code",
   "execution_count": 356,
   "id": "18d37e23",
   "metadata": {},
   "outputs": [],
   "source": [
    "# Store variable\n",
    "df_features['Mahalanobis'] = Mahalanobis_distances"
   ]
  },
  {
   "cell_type": "code",
   "execution_count": 42,
   "id": "708cef35",
   "metadata": {},
   "outputs": [
    {
     "data": {
      "text/html": [
       "<div>\n",
       "<style scoped>\n",
       "    .dataframe tbody tr th:only-of-type {\n",
       "        vertical-align: middle;\n",
       "    }\n",
       "\n",
       "    .dataframe tbody tr th {\n",
       "        vertical-align: top;\n",
       "    }\n",
       "\n",
       "    .dataframe thead th {\n",
       "        text-align: right;\n",
       "    }\n",
       "</style>\n",
       "<table border=\"1\" class=\"dataframe\">\n",
       "  <thead>\n",
       "    <tr style=\"text-align: right;\">\n",
       "      <th></th>\n",
       "      <th>Degree_centrality</th>\n",
       "      <th>Betweenness_centrality</th>\n",
       "      <th>Closeness_centrality</th>\n",
       "      <th>Nr_Nodes</th>\n",
       "      <th>Nr_Edges</th>\n",
       "      <th>Total_Weight</th>\n",
       "      <th>Eigenvalue</th>\n",
       "      <th>ego_Density</th>\n",
       "      <th>Heavy_vicinity</th>\n",
       "      <th>Dominant_edge</th>\n",
       "      <th>Mahalanobis</th>\n",
       "    </tr>\n",
       "  </thead>\n",
       "  <tbody>\n",
       "    <tr>\n",
       "      <th>pete.davis@enron.com</th>\n",
       "      <td>0.001378</td>\n",
       "      <td>0.000003</td>\n",
       "      <td>0.313541</td>\n",
       "      <td>8</td>\n",
       "      <td>27</td>\n",
       "      <td>101.606970</td>\n",
       "      <td>27.865440+0.000000j</td>\n",
       "      <td>1.584963</td>\n",
       "      <td>1.402106</td>\n",
       "      <td>0.720040+0.000000j</td>\n",
       "      <td>1.667630</td>\n",
       "    </tr>\n",
       "    <tr>\n",
       "      <th>vince.kaminski@enron.com</th>\n",
       "      <td>0.050367</td>\n",
       "      <td>0.025625</td>\n",
       "      <td>0.421937</td>\n",
       "      <td>328</td>\n",
       "      <td>1745</td>\n",
       "      <td>2047.005277</td>\n",
       "      <td>47.325701+0.000000j</td>\n",
       "      <td>1.288537</td>\n",
       "      <td>1.021384</td>\n",
       "      <td>0.505901+0.000000j</td>\n",
       "      <td>1.288933</td>\n",
       "    </tr>\n",
       "    <tr>\n",
       "      <th>To_aol.com</th>\n",
       "      <td>0.005052</td>\n",
       "      <td>0.000674</td>\n",
       "      <td>0.387472</td>\n",
       "      <td>34</td>\n",
       "      <td>146</td>\n",
       "      <td>102.196724</td>\n",
       "      <td>17.703856+0.000000j</td>\n",
       "      <td>1.413244</td>\n",
       "      <td>0.928424</td>\n",
       "      <td>0.621103+0.000000j</td>\n",
       "      <td>1.281622</td>\n",
       "    </tr>\n",
       "    <tr>\n",
       "      <th>kay.mann@enron.com</th>\n",
       "      <td>0.039651</td>\n",
       "      <td>0.013190</td>\n",
       "      <td>0.388370</td>\n",
       "      <td>258</td>\n",
       "      <td>1757</td>\n",
       "      <td>1500.869686</td>\n",
       "      <td>59.618147+0.000000j</td>\n",
       "      <td>1.345474</td>\n",
       "      <td>0.978911</td>\n",
       "      <td>0.558938+0.000000j</td>\n",
       "      <td>1.301207</td>\n",
       "    </tr>\n",
       "    <tr>\n",
       "      <th>suzanne.adams@enron.com</th>\n",
       "      <td>0.003674</td>\n",
       "      <td>0.000026</td>\n",
       "      <td>0.343193</td>\n",
       "      <td>25</td>\n",
       "      <td>208</td>\n",
       "      <td>171.445753</td>\n",
       "      <td>27.393685+0.000000j</td>\n",
       "      <td>1.658199</td>\n",
       "      <td>0.963790</td>\n",
       "      <td>0.643495+0.000000j</td>\n",
       "      <td>1.391671</td>\n",
       "    </tr>\n",
       "  </tbody>\n",
       "</table>\n",
       "</div>"
      ],
      "text/plain": [
       "                          Degree_centrality  Betweenness_centrality  \\\n",
       "pete.davis@enron.com               0.001378                0.000003   \n",
       "vince.kaminski@enron.com           0.050367                0.025625   \n",
       "To_aol.com                         0.005052                0.000674   \n",
       "kay.mann@enron.com                 0.039651                0.013190   \n",
       "suzanne.adams@enron.com            0.003674                0.000026   \n",
       "\n",
       "                          Closeness_centrality  Nr_Nodes  Nr_Edges  \\\n",
       "pete.davis@enron.com                  0.313541         8        27   \n",
       "vince.kaminski@enron.com              0.421937       328      1745   \n",
       "To_aol.com                            0.387472        34       146   \n",
       "kay.mann@enron.com                    0.388370       258      1757   \n",
       "suzanne.adams@enron.com               0.343193        25       208   \n",
       "\n",
       "                          Total_Weight           Eigenvalue  ego_Density  \\\n",
       "pete.davis@enron.com        101.606970  27.865440+0.000000j     1.584963   \n",
       "vince.kaminski@enron.com   2047.005277  47.325701+0.000000j     1.288537   \n",
       "To_aol.com                  102.196724  17.703856+0.000000j     1.413244   \n",
       "kay.mann@enron.com         1500.869686  59.618147+0.000000j     1.345474   \n",
       "suzanne.adams@enron.com     171.445753  27.393685+0.000000j     1.658199   \n",
       "\n",
       "                          Heavy_vicinity       Dominant_edge  Mahalanobis  \n",
       "pete.davis@enron.com            1.402106  0.720040+0.000000j     1.667630  \n",
       "vince.kaminski@enron.com        1.021384  0.505901+0.000000j     1.288933  \n",
       "To_aol.com                      0.928424  0.621103+0.000000j     1.281622  \n",
       "kay.mann@enron.com              0.978911  0.558938+0.000000j     1.301207  \n",
       "suzanne.adams@enron.com         0.963790  0.643495+0.000000j     1.391671  "
      ]
     },
     "execution_count": 42,
     "metadata": {},
     "output_type": "execute_result"
    }
   ],
   "source": [
    "# Check output\n",
    "df_features.head()"
   ]
  },
  {
   "cell_type": "code",
   "execution_count": 43,
   "id": "04455dd8",
   "metadata": {},
   "outputs": [
    {
     "data": {
      "text/html": [
       "<div>\n",
       "<style scoped>\n",
       "    .dataframe tbody tr th:only-of-type {\n",
       "        vertical-align: middle;\n",
       "    }\n",
       "\n",
       "    .dataframe tbody tr th {\n",
       "        vertical-align: top;\n",
       "    }\n",
       "\n",
       "    .dataframe thead th {\n",
       "        text-align: right;\n",
       "    }\n",
       "</style>\n",
       "<table border=\"1\" class=\"dataframe\">\n",
       "  <thead>\n",
       "    <tr style=\"text-align: right;\">\n",
       "      <th></th>\n",
       "      <th>Degree_centrality</th>\n",
       "      <th>Betweenness_centrality</th>\n",
       "      <th>Closeness_centrality</th>\n",
       "      <th>Nr_Nodes</th>\n",
       "      <th>Nr_Edges</th>\n",
       "      <th>Total_Weight</th>\n",
       "      <th>Eigenvalue</th>\n",
       "      <th>ego_Density</th>\n",
       "      <th>Heavy_vicinity</th>\n",
       "      <th>Dominant_edge</th>\n",
       "      <th>Mahalanobis</th>\n",
       "    </tr>\n",
       "  </thead>\n",
       "  <tbody>\n",
       "    <tr>\n",
       "      <th>count</th>\n",
       "      <td>6533.000000</td>\n",
       "      <td>6.533000e+03</td>\n",
       "      <td>6533.000000</td>\n",
       "      <td>6533.000000</td>\n",
       "      <td>6533.000000</td>\n",
       "      <td>6533.000000</td>\n",
       "      <td>6533.00000+0.00000j</td>\n",
       "      <td>6533.000000</td>\n",
       "      <td>6533.000000</td>\n",
       "      <td>6533.00000+0.00000j</td>\n",
       "      <td>6533.000000</td>\n",
       "    </tr>\n",
       "    <tr>\n",
       "      <th>mean</th>\n",
       "      <td>0.002522</td>\n",
       "      <td>3.405802e-04</td>\n",
       "      <td>0.314374</td>\n",
       "      <td>17.382673</td>\n",
       "      <td>105.517833</td>\n",
       "      <td>176.497516</td>\n",
       "      <td>13.777273+0.000000j</td>\n",
       "      <td>1.264640</td>\n",
       "      <td>0.929711</td>\n",
       "      <td>0.7682530+0.0000000j</td>\n",
       "      <td>2.422634</td>\n",
       "    </tr>\n",
       "    <tr>\n",
       "      <th>std</th>\n",
       "      <td>0.006535</td>\n",
       "      <td>2.753625e-03</td>\n",
       "      <td>0.035859</td>\n",
       "      <td>42.489488</td>\n",
       "      <td>387.941833</td>\n",
       "      <td>888.113430</td>\n",
       "      <td>22.453743+0.000000j</td>\n",
       "      <td>0.339271</td>\n",
       "      <td>0.841920</td>\n",
       "      <td>5.2259810+0.0000000j</td>\n",
       "      <td>2.245384</td>\n",
       "    </tr>\n",
       "    <tr>\n",
       "      <th>min</th>\n",
       "      <td>0.000153</td>\n",
       "      <td>0.000000e+00</td>\n",
       "      <td>0.157038</td>\n",
       "      <td>2.000000</td>\n",
       "      <td>1.000000</td>\n",
       "      <td>0.008059</td>\n",
       "      <td>0.0080590+0.0000000j</td>\n",
       "      <td>0.000000</td>\n",
       "      <td>-5.139163</td>\n",
       "      <td>-118.285985+0.000000j</td>\n",
       "      <td>1.060706</td>\n",
       "    </tr>\n",
       "    <tr>\n",
       "      <th>25%</th>\n",
       "      <td>0.000459</td>\n",
       "      <td>2.084655e-07</td>\n",
       "      <td>0.292679</td>\n",
       "      <td>4.000000</td>\n",
       "      <td>4.000000</td>\n",
       "      <td>3.545747</td>\n",
       "      <td>2.4799900+0.0000000j</td>\n",
       "      <td>1.160558</td>\n",
       "      <td>0.780933</td>\n",
       "      <td>0.5919730+0.0000000j</td>\n",
       "      <td>1.385783</td>\n",
       "    </tr>\n",
       "    <tr>\n",
       "      <th>50%</th>\n",
       "      <td>0.000765</td>\n",
       "      <td>7.790127e-06</td>\n",
       "      <td>0.315084</td>\n",
       "      <td>6.000000</td>\n",
       "      <td>12.000000</td>\n",
       "      <td>13.308172</td>\n",
       "      <td>5.5386380+0.0000000j</td>\n",
       "      <td>1.340978</td>\n",
       "      <td>1.023761</td>\n",
       "      <td>0.6727400+0.0000000j</td>\n",
       "      <td>1.646605</td>\n",
       "    </tr>\n",
       "    <tr>\n",
       "      <th>75%</th>\n",
       "      <td>0.001990</td>\n",
       "      <td>6.006203e-05</td>\n",
       "      <td>0.337223</td>\n",
       "      <td>14.000000</td>\n",
       "      <td>48.000000</td>\n",
       "      <td>67.404347</td>\n",
       "      <td>14.671948+0.000000j</td>\n",
       "      <td>1.486477</td>\n",
       "      <td>1.225893</td>\n",
       "      <td>0.7901280+0.0000000j</td>\n",
       "      <td>2.407421</td>\n",
       "    </tr>\n",
       "    <tr>\n",
       "      <th>max</th>\n",
       "      <td>0.146816</td>\n",
       "      <td>1.083224e-01</td>\n",
       "      <td>0.467005</td>\n",
       "      <td>958.000000</td>\n",
       "      <td>8775.000000</td>\n",
       "      <td>25568.150058</td>\n",
       "      <td>310.535357+0.000000j</td>\n",
       "      <td>1.765557</td>\n",
       "      <td>8.000000</td>\n",
       "      <td>366.908004-0.000000j</td>\n",
       "      <td>13.129772</td>\n",
       "    </tr>\n",
       "  </tbody>\n",
       "</table>\n",
       "</div>"
      ],
      "text/plain": [
       "       Degree_centrality  Betweenness_centrality  Closeness_centrality  \\\n",
       "count        6533.000000            6.533000e+03           6533.000000   \n",
       "mean            0.002522            3.405802e-04              0.314374   \n",
       "std             0.006535            2.753625e-03              0.035859   \n",
       "min             0.000153            0.000000e+00              0.157038   \n",
       "25%             0.000459            2.084655e-07              0.292679   \n",
       "50%             0.000765            7.790127e-06              0.315084   \n",
       "75%             0.001990            6.006203e-05              0.337223   \n",
       "max             0.146816            1.083224e-01              0.467005   \n",
       "\n",
       "          Nr_Nodes     Nr_Edges  Total_Weight            Eigenvalue  \\\n",
       "count  6533.000000  6533.000000   6533.000000   6533.00000+0.00000j   \n",
       "mean     17.382673   105.517833    176.497516   13.777273+0.000000j   \n",
       "std      42.489488   387.941833    888.113430   22.453743+0.000000j   \n",
       "min       2.000000     1.000000      0.008059  0.0080590+0.0000000j   \n",
       "25%       4.000000     4.000000      3.545747  2.4799900+0.0000000j   \n",
       "50%       6.000000    12.000000     13.308172  5.5386380+0.0000000j   \n",
       "75%      14.000000    48.000000     67.404347   14.671948+0.000000j   \n",
       "max     958.000000  8775.000000  25568.150058  310.535357+0.000000j   \n",
       "\n",
       "       ego_Density  Heavy_vicinity         Dominant_edge  Mahalanobis  \n",
       "count  6533.000000     6533.000000   6533.00000+0.00000j  6533.000000  \n",
       "mean      1.264640        0.929711  0.7682530+0.0000000j     2.422634  \n",
       "std       0.339271        0.841920  5.2259810+0.0000000j     2.245384  \n",
       "min       0.000000       -5.139163 -118.285985+0.000000j     1.060706  \n",
       "25%       1.160558        0.780933  0.5919730+0.0000000j     1.385783  \n",
       "50%       1.340978        1.023761  0.6727400+0.0000000j     1.646605  \n",
       "75%       1.486477        1.225893  0.7901280+0.0000000j     2.407421  \n",
       "max       1.765557        8.000000  366.908004-0.000000j    13.129772  "
      ]
     },
     "execution_count": 43,
     "metadata": {},
     "output_type": "execute_result"
    }
   ],
   "source": [
    "df_features.describe()"
   ]
  },
  {
   "cell_type": "code",
   "execution_count": 44,
   "id": "29a9923f",
   "metadata": {},
   "outputs": [
    {
     "data": {
      "text/plain": [
       "<AxesSubplot:ylabel='Frequency'>"
      ]
     },
     "execution_count": 44,
     "metadata": {},
     "output_type": "execute_result"
    },
    {
     "data": {
      "image/png": "[encoded data removed]",
      "text/plain": [
       "<Figure size 432x288 with 1 Axes>"
      ]
     },
     "metadata": {
      "needs_background": "light"
     },
     "output_type": "display_data"
    }
   ],
   "source": [
    "# Check distribution\n",
    "df_features.Mahalanobis.plot.hist()"
   ]
  },
  {
   "cell_type": "markdown",
   "id": "572716b7",
   "metadata": {},
   "source": [
    "#### 5.2.2 Edge features\n",
    "\n",
    "In this section we will try to detect anomolous edges. We will use non negative matrix factorization. Non-negative matrix factorization tries to find patterns in the adjacency matrix. Once we substract the adjacency matrix with the found patterns we can detect unwanted and missing edges.The NMF algorithm tries to find patterns based on a set of components. To determine how many components there are in the dataset we will use missing value imputation. "
   ]
  },
  {
   "cell_type": "code",
   "execution_count": 7,
   "id": "35c6316c",
   "metadata": {},
   "outputs": [],
   "source": [
    "from sklearn.decomposition import NMF"
   ]
  },
  {
   "cell_type": "code",
   "execution_count": 13,
   "id": "19c1c7a1",
   "metadata": {},
   "outputs": [],
   "source": [
    "import matplotlib.pyplot as plt"
   ]
  },
  {
   "cell_type": "code",
   "execution_count": null,
   "id": "5f908ca8",
   "metadata": {},
   "outputs": [],
   "source": [
    "# Create adjacency matrix based on connectivity\n",
    "Adj_matrix_Conn = nx.to_numpy_matrix(G_Conn, dtype=bool)"
   ]
  },
  {
   "cell_type": "markdown",
   "id": "27a11f9f",
   "metadata": {},
   "source": [
    "**Determine optimal value of k**\n",
    "\n",
    "To get an idea of which value to use for k we will use missing value imputation. Here we randomly set values of the adjacency matrix to nan. We calculate the NMF matrices to get a prediction of the missing values. The prediction error is calculated and summed up for every different value of k. We look at the plot to determine an 'optimal value of k'"
   ]
  },
  {
   "cell_type": "code",
   "execution_count": 15,
   "id": "4a2838a7",
   "metadata": {},
   "outputs": [],
   "source": [
    "import random"
   ]
  },
  {
   "cell_type": "code",
   "execution_count": 25,
   "id": "147d39b7",
   "metadata": {},
   "outputs": [],
   "source": [
    "# Create empty dataframe\n",
    "PRESS_2 = pd.DataFrame(columns=[loop for loop in range(0,20)], index=[k for k in range(1,8)])"
   ]
  },
  {
   "cell_type": "code",
   "execution_count": 26,
   "id": "949f2d66",
   "metadata": {
    "scrolled": false
   },
   "outputs": [],
   "source": [
    "# Loop\n",
    "for iteration in range(0,20):\n",
    "    # Create random variable which will be imputed later\n",
    "    random_i = [random.randint(0,6532) for k in range(0,500)]\n",
    "    random_j = [random.randint(0,6532) for k in range(0,500)]\n",
    "    # Create adjacency matrix based on connectivity\n",
    "    Adj_matrix_Conn = nx.to_numpy_matrix(G_Conn, dtype=bool)\n",
    "    for i in range(0, len(random_i)):\n",
    "        j = i\n",
    "        # change variables NaN\n",
    "        Adj_matrix_Conn[random_i[i], random_j[j]] = np.nan\n",
    "    for k in range(1,8):\n",
    "        # Set up model\n",
    "        model = NMF(n_components=k, init='nndsvd', max_iter=400)\n",
    "        # Calculate base of the latent space\n",
    "        U = model.fit_transform(Adj_matrix_Conn)\n",
    "        # Calculate the coefficient matrix\n",
    "        V = model.components_\n",
    "        # the facotirzed matrix is a dotproduct of both matrices\n",
    "        factorized_matrix = np.matmul(U,V)\n",
    "        # create variable to store squared differences\n",
    "        Sum_diff = np.array([])\n",
    "        # Calculate differences\n",
    "        for d in range(0, len(random_i)):\n",
    "            i = random_i[d]\n",
    "            j = random_j[d]\n",
    "            diff = (Adj_matrix_Conn[i,j] - factorized_matrix[i,j])**2\n",
    "            Sum_diff = np.append(Sum_diff, diff)\n",
    "        PRESS_2.iloc[(k-1), iteration] = Sum_diff.sum()"
   ]
  },
  {
   "cell_type": "code",
   "execution_count": 28,
   "id": "6836488f",
   "metadata": {
    "scrolled": false
   },
   "outputs": [
    {
     "data": {
      "text/plain": [
       "1    9939.712941\n",
       "2    9929.813543\n",
       "3    9934.420066\n",
       "4    9928.704868\n",
       "5    9922.403257\n",
       "6    9915.095181\n",
       "7    9911.018250\n",
       "dtype: float64"
      ]
     },
     "execution_count": 28,
     "metadata": {},
     "output_type": "execute_result"
    }
   ],
   "source": [
    "# Check output\n",
    "PRESS_2.sum(axis=1)"
   ]
  },
  {
   "cell_type": "code",
   "execution_count": 27,
   "id": "da4935ce",
   "metadata": {},
   "outputs": [
    {
     "data": {
      "image/png": "[encoded data removed]",
      "text/plain": [
       "<Figure size 1152x576 with 1 Axes>"
      ]
     },
     "metadata": {
      "needs_background": "light"
     },
     "output_type": "display_data"
    }
   ],
   "source": [
    "# plot output\n",
    "K= range(1,8)\n",
    "plt.figure(figsize=(16,8))\n",
    "plt.plot(K, np.array(PRESS_2.mean(axis=1)), 'bx-')\n",
    "plt.xlabel('k')\n",
    "plt.ylabel('Sum of residuals')\n",
    "plt.title('The Elbow Method showing the optimal k')\n",
    "plt.show()"
   ]
  },
  {
   "cell_type": "markdown",
   "id": "7bfedd33",
   "metadata": {},
   "source": [
    "From this plot we see a last steep drop for k=6. We will use k=6 as the rank for our model."
   ]
  },
  {
   "cell_type": "markdown",
   "id": "3b2a99e3",
   "metadata": {},
   "source": [
    "**Set up model**"
   ]
  },
  {
   "cell_type": "code",
   "execution_count": 307,
   "id": "e509d426",
   "metadata": {},
   "outputs": [],
   "source": [
    "# Set up model\n",
    "model = NMF(n_components=6, init='nndsvd')"
   ]
  },
  {
   "cell_type": "code",
   "execution_count": 309,
   "id": "748e7b63",
   "metadata": {},
   "outputs": [],
   "source": [
    "# Calculate base of the latent space\n",
    "U = model.fit_transform(Adj_matrix_Conn)"
   ]
  },
  {
   "cell_type": "code",
   "execution_count": 310,
   "id": "02a13cf6",
   "metadata": {},
   "outputs": [
    {
     "data": {
      "text/plain": [
       "(6533, 6)"
      ]
     },
     "execution_count": 310,
     "metadata": {},
     "output_type": "execute_result"
    }
   ],
   "source": [
    "# Check shape\n",
    "U.shape"
   ]
  },
  {
   "cell_type": "code",
   "execution_count": 311,
   "id": "6514bffb",
   "metadata": {},
   "outputs": [],
   "source": [
    "# Calculate the coefficient matrix\n",
    "V = model.components_"
   ]
  },
  {
   "cell_type": "code",
   "execution_count": 312,
   "id": "e4a52590",
   "metadata": {},
   "outputs": [
    {
     "data": {
      "text/plain": [
       "(6, 6533)"
      ]
     },
     "execution_count": 312,
     "metadata": {},
     "output_type": "execute_result"
    }
   ],
   "source": [
    "# Check the shape\n",
    "V.shape"
   ]
  },
  {
   "cell_type": "code",
   "execution_count": 313,
   "id": "4ea3724c",
   "metadata": {},
   "outputs": [],
   "source": [
    "# the facotirzed matrix is a dotproduct of both matrices\n",
    "factorized_matrix = np.matmul(U,V)"
   ]
  },
  {
   "cell_type": "code",
   "execution_count": 314,
   "id": "7e247f27",
   "metadata": {},
   "outputs": [],
   "source": [
    "from sklearn import preprocessing"
   ]
  },
  {
   "cell_type": "code",
   "execution_count": 327,
   "id": "77f35410",
   "metadata": {},
   "outputs": [],
   "source": [
    "# normalize matrix\n",
    "factorized_matrix_norm = preprocessing.normalize(factorized_matrix)"
   ]
  },
  {
   "cell_type": "code",
   "execution_count": 328,
   "id": "b0ba33c0",
   "metadata": {},
   "outputs": [],
   "source": [
    "# The residual matrix\n",
    "Residual_matrix = Adj_matrix_Conn - factorized_matrix_norm"
   ]
  },
  {
   "cell_type": "code",
   "execution_count": 331,
   "id": "45916f29",
   "metadata": {},
   "outputs": [],
   "source": [
    "# Calculate lower bound\n",
    "Lower_bound = np.quantile(flatten_Residual, 0.025)"
   ]
  },
  {
   "cell_type": "code",
   "execution_count": 340,
   "id": "cfad9cf2",
   "metadata": {},
   "outputs": [
    {
     "data": {
      "text/plain": [
       "-0.026825574939998955"
      ]
     },
     "execution_count": 340,
     "metadata": {},
     "output_type": "execute_result"
    }
   ],
   "source": [
    "Lower_bound"
   ]
  },
  {
   "cell_type": "code",
   "execution_count": 348,
   "id": "5421aff2",
   "metadata": {},
   "outputs": [],
   "source": [
    "# Calculate upperbound\n",
    "Upper_bound = np.quantile(flatten_Residual, 0.975)"
   ]
  },
  {
   "cell_type": "code",
   "execution_count": 349,
   "id": "162762a5",
   "metadata": {},
   "outputs": [
    {
     "data": {
      "text/plain": [
       "0.0"
      ]
     },
     "execution_count": 349,
     "metadata": {},
     "output_type": "execute_result"
    }
   ],
   "source": [
    "Upper_bound"
   ]
  },
  {
   "cell_type": "code",
   "execution_count": 333,
   "id": "a403d7b4",
   "metadata": {},
   "outputs": [],
   "source": [
    "# Edges larger than upperbound are classified as unwanted\n",
    "Unwanted_edges = Residual_matrix>Upper_bound"
   ]
  },
  {
   "cell_type": "code",
   "execution_count": 334,
   "id": "3f89ce8d",
   "metadata": {},
   "outputs": [],
   "source": [
    "# The edges lower than the lower bound are missing edges\n",
    "Missing_edges = Residual_matrix<Lower_bound"
   ]
  },
  {
   "cell_type": "code",
   "execution_count": 335,
   "id": "4102059e",
   "metadata": {},
   "outputs": [],
   "source": [
    "# Take the sum of both variables\n",
    "All_Unwanted_edges = np.array(Unwanted_edges.sum(axis=0)).flatten()\n",
    "All_Missing_edges = np.array(Missing_edges.sum(axis=0)).flatten()"
   ]
  },
  {
   "cell_type": "code",
   "execution_count": 337,
   "id": "57066e8a",
   "metadata": {},
   "outputs": [],
   "source": [
    "# Store variables\n",
    "df_features['Unwanted_edges'] = All_Unwanted_edges\n",
    "df_features['Missing_edges'] = All_Missing_edges"
   ]
  },
  {
   "cell_type": "code",
   "execution_count": 338,
   "id": "dbf745b9",
   "metadata": {
    "scrolled": true
   },
   "outputs": [
    {
     "data": {
      "text/html": [
       "<div>\n",
       "<style scoped>\n",
       "    .dataframe tbody tr th:only-of-type {\n",
       "        vertical-align: middle;\n",
       "    }\n",
       "\n",
       "    .dataframe tbody tr th {\n",
       "        vertical-align: top;\n",
       "    }\n",
       "\n",
       "    .dataframe thead th {\n",
       "        text-align: right;\n",
       "    }\n",
       "</style>\n",
       "<table border=\"1\" class=\"dataframe\">\n",
       "  <thead>\n",
       "    <tr style=\"text-align: right;\">\n",
       "      <th></th>\n",
       "      <th>Degree_centrality</th>\n",
       "      <th>Betweenness_centrality</th>\n",
       "      <th>Closeness_centrality</th>\n",
       "      <th>Nr_Nodes</th>\n",
       "      <th>Nr_Edges</th>\n",
       "      <th>Total_Weight</th>\n",
       "      <th>Eigenvalue</th>\n",
       "      <th>ego_Density</th>\n",
       "      <th>Heavy_vicinity</th>\n",
       "      <th>Dominant_edge</th>\n",
       "      <th>Unwanted_edges</th>\n",
       "      <th>Missing_edges</th>\n",
       "    </tr>\n",
       "  </thead>\n",
       "  <tbody>\n",
       "    <tr>\n",
       "      <th>pete.davis@enron.com</th>\n",
       "      <td>0.001378</td>\n",
       "      <td>0.000003</td>\n",
       "      <td>0.313541</td>\n",
       "      <td>8</td>\n",
       "      <td>27</td>\n",
       "      <td>2989.0</td>\n",
       "      <td>2414.157195+0.000000j</td>\n",
       "      <td>1.584963</td>\n",
       "      <td>2.428122</td>\n",
       "      <td>0.973310+0.000000j</td>\n",
       "      <td>8</td>\n",
       "      <td>0</td>\n",
       "    </tr>\n",
       "    <tr>\n",
       "      <th>vince.kaminski@enron.com</th>\n",
       "      <td>0.050367</td>\n",
       "      <td>0.025625</td>\n",
       "      <td>0.421937</td>\n",
       "      <td>328</td>\n",
       "      <td>1745</td>\n",
       "      <td>18600.0</td>\n",
       "      <td>2383.983616+0.000000j</td>\n",
       "      <td>1.288537</td>\n",
       "      <td>1.317021</td>\n",
       "      <td>0.791028+0.000000j</td>\n",
       "      <td>328</td>\n",
       "      <td>2940</td>\n",
       "    </tr>\n",
       "    <tr>\n",
       "      <th>To_aol.com</th>\n",
       "      <td>0.005052</td>\n",
       "      <td>0.000674</td>\n",
       "      <td>0.387472</td>\n",
       "      <td>34</td>\n",
       "      <td>146</td>\n",
       "      <td>4648.0</td>\n",
       "      <td>2249.756379+0.000000j</td>\n",
       "      <td>1.413244</td>\n",
       "      <td>1.694394</td>\n",
       "      <td>0.914069+0.000000j</td>\n",
       "      <td>33</td>\n",
       "      <td>0</td>\n",
       "    </tr>\n",
       "    <tr>\n",
       "      <th>kay.mann@enron.com</th>\n",
       "      <td>0.039651</td>\n",
       "      <td>0.013190</td>\n",
       "      <td>0.388370</td>\n",
       "      <td>258</td>\n",
       "      <td>1757</td>\n",
       "      <td>26265.0</td>\n",
       "      <td>1464.451618+0.000000j</td>\n",
       "      <td>1.345474</td>\n",
       "      <td>1.361999</td>\n",
       "      <td>0.716317+0.000000j</td>\n",
       "      <td>258</td>\n",
       "      <td>1522</td>\n",
       "    </tr>\n",
       "    <tr>\n",
       "      <th>suzanne.adams@enron.com</th>\n",
       "      <td>0.003674</td>\n",
       "      <td>0.000026</td>\n",
       "      <td>0.343193</td>\n",
       "      <td>25</td>\n",
       "      <td>208</td>\n",
       "      <td>2567.0</td>\n",
       "      <td>338.469365+0.000000j</td>\n",
       "      <td>1.658199</td>\n",
       "      <td>1.470808</td>\n",
       "      <td>0.741919+0.000000j</td>\n",
       "      <td>24</td>\n",
       "      <td>1007</td>\n",
       "    </tr>\n",
       "  </tbody>\n",
       "</table>\n",
       "</div>"
      ],
      "text/plain": [
       "                          Degree_centrality  Betweenness_centrality  \\\n",
       "pete.davis@enron.com               0.001378                0.000003   \n",
       "vince.kaminski@enron.com           0.050367                0.025625   \n",
       "To_aol.com                         0.005052                0.000674   \n",
       "kay.mann@enron.com                 0.039651                0.013190   \n",
       "suzanne.adams@enron.com            0.003674                0.000026   \n",
       "\n",
       "                          Closeness_centrality  Nr_Nodes  Nr_Edges  \\\n",
       "pete.davis@enron.com                  0.313541         8        27   \n",
       "vince.kaminski@enron.com              0.421937       328      1745   \n",
       "To_aol.com                            0.387472        34       146   \n",
       "kay.mann@enron.com                    0.388370       258      1757   \n",
       "suzanne.adams@enron.com               0.343193        25       208   \n",
       "\n",
       "                          Total_Weight             Eigenvalue  ego_Density  \\\n",
       "pete.davis@enron.com            2989.0  2414.157195+0.000000j     1.584963   \n",
       "vince.kaminski@enron.com       18600.0  2383.983616+0.000000j     1.288537   \n",
       "To_aol.com                      4648.0  2249.756379+0.000000j     1.413244   \n",
       "kay.mann@enron.com             26265.0  1464.451618+0.000000j     1.345474   \n",
       "suzanne.adams@enron.com         2567.0   338.469365+0.000000j     1.658199   \n",
       "\n",
       "                          Heavy_vicinity       Dominant_edge  Unwanted_edges  \\\n",
       "pete.davis@enron.com            2.428122  0.973310+0.000000j               8   \n",
       "vince.kaminski@enron.com        1.317021  0.791028+0.000000j             328   \n",
       "To_aol.com                      1.694394  0.914069+0.000000j              33   \n",
       "kay.mann@enron.com              1.361999  0.716317+0.000000j             258   \n",
       "suzanne.adams@enron.com         1.470808  0.741919+0.000000j              24   \n",
       "\n",
       "                          Missing_edges  \n",
       "pete.davis@enron.com                  0  \n",
       "vince.kaminski@enron.com           2940  \n",
       "To_aol.com                            0  \n",
       "kay.mann@enron.com                 1522  \n",
       "suzanne.adams@enron.com            1007  "
      ]
     },
     "execution_count": 338,
     "metadata": {},
     "output_type": "execute_result"
    }
   ],
   "source": [
    "df_features.head()"
   ]
  },
  {
   "cell_type": "code",
   "execution_count": 359,
   "id": "52da3cb0",
   "metadata": {
    "scrolled": true
   },
   "outputs": [
    {
     "data": {
      "text/html": [
       "<div>\n",
       "<style scoped>\n",
       "    .dataframe tbody tr th:only-of-type {\n",
       "        vertical-align: middle;\n",
       "    }\n",
       "\n",
       "    .dataframe tbody tr th {\n",
       "        vertical-align: top;\n",
       "    }\n",
       "\n",
       "    .dataframe thead th {\n",
       "        text-align: right;\n",
       "    }\n",
       "</style>\n",
       "<table border=\"1\" class=\"dataframe\">\n",
       "  <thead>\n",
       "    <tr style=\"text-align: right;\">\n",
       "      <th></th>\n",
       "      <th>Degree_centrality</th>\n",
       "      <th>Betweenness_centrality</th>\n",
       "      <th>Closeness_centrality</th>\n",
       "      <th>Nr_Nodes</th>\n",
       "      <th>Nr_Edges</th>\n",
       "      <th>Total_Weight</th>\n",
       "      <th>Eigenvalue</th>\n",
       "      <th>ego_Density</th>\n",
       "      <th>Heavy_vicinity</th>\n",
       "      <th>Dominant_edge</th>\n",
       "      <th>Unwanted_edges</th>\n",
       "      <th>Missing_edges</th>\n",
       "      <th>Mahalanobis</th>\n",
       "    </tr>\n",
       "  </thead>\n",
       "  <tbody>\n",
       "    <tr>\n",
       "      <th>count</th>\n",
       "      <td>6533.000000</td>\n",
       "      <td>6.533000e+03</td>\n",
       "      <td>6533.000000</td>\n",
       "      <td>6533.000000</td>\n",
       "      <td>6533.000000</td>\n",
       "      <td>6533.000000</td>\n",
       "      <td>6533.000000+0.000000j</td>\n",
       "      <td>6533.000000</td>\n",
       "      <td>6533.000000</td>\n",
       "      <td>6533.000000</td>\n",
       "      <td>6533.000000</td>\n",
       "      <td>6533.000000</td>\n",
       "      <td>6533.000000</td>\n",
       "    </tr>\n",
       "    <tr>\n",
       "      <th>mean</th>\n",
       "      <td>0.002522</td>\n",
       "      <td>3.405802e-04</td>\n",
       "      <td>0.314374</td>\n",
       "      <td>17.382673</td>\n",
       "      <td>105.517833</td>\n",
       "      <td>1583.314710</td>\n",
       "      <td>176.948333+0.000000j</td>\n",
       "      <td>1.264640</td>\n",
       "      <td>2.849906</td>\n",
       "      <td>0.820255</td>\n",
       "      <td>16.427675</td>\n",
       "      <td>163.312414</td>\n",
       "      <td>2.422634</td>\n",
       "    </tr>\n",
       "    <tr>\n",
       "      <th>std</th>\n",
       "      <td>0.006535</td>\n",
       "      <td>2.753625e-03</td>\n",
       "      <td>0.035859</td>\n",
       "      <td>42.489488</td>\n",
       "      <td>387.941833</td>\n",
       "      <td>6687.785492</td>\n",
       "      <td>357.377523+0.000000j</td>\n",
       "      <td>0.339271</td>\n",
       "      <td>6.346724</td>\n",
       "      <td>0.092477</td>\n",
       "      <td>42.586401</td>\n",
       "      <td>549.075543</td>\n",
       "      <td>2.245384</td>\n",
       "    </tr>\n",
       "    <tr>\n",
       "      <th>min</th>\n",
       "      <td>0.000153</td>\n",
       "      <td>0.000000e+00</td>\n",
       "      <td>0.157038</td>\n",
       "      <td>2.000000</td>\n",
       "      <td>1.000000</td>\n",
       "      <td>2.000000</td>\n",
       "      <td>2.0000000+0.0000000j</td>\n",
       "      <td>0.000000</td>\n",
       "      <td>1.175586</td>\n",
       "      <td>0.551296</td>\n",
       "      <td>1.000000</td>\n",
       "      <td>0.000000</td>\n",
       "      <td>1.060706</td>\n",
       "    </tr>\n",
       "    <tr>\n",
       "      <th>25%</th>\n",
       "      <td>0.000459</td>\n",
       "      <td>2.084655e-07</td>\n",
       "      <td>0.292679</td>\n",
       "      <td>4.000000</td>\n",
       "      <td>4.000000</td>\n",
       "      <td>46.000000</td>\n",
       "      <td>23.1300200+0.0000000j</td>\n",
       "      <td>1.160558</td>\n",
       "      <td>1.566358</td>\n",
       "      <td>0.746860</td>\n",
       "      <td>3.000000</td>\n",
       "      <td>0.000000</td>\n",
       "      <td>1.385783</td>\n",
       "    </tr>\n",
       "    <tr>\n",
       "      <th>50%</th>\n",
       "      <td>0.000765</td>\n",
       "      <td>7.790127e-06</td>\n",
       "      <td>0.315084</td>\n",
       "      <td>6.000000</td>\n",
       "      <td>12.000000</td>\n",
       "      <td>125.000000</td>\n",
       "      <td>56.4754540+0.0000000j</td>\n",
       "      <td>1.340978</td>\n",
       "      <td>1.854134</td>\n",
       "      <td>0.811117</td>\n",
       "      <td>5.000000</td>\n",
       "      <td>0.000000</td>\n",
       "      <td>1.646605</td>\n",
       "    </tr>\n",
       "    <tr>\n",
       "      <th>75%</th>\n",
       "      <td>0.001990</td>\n",
       "      <td>6.006203e-05</td>\n",
       "      <td>0.337223</td>\n",
       "      <td>14.000000</td>\n",
       "      <td>48.000000</td>\n",
       "      <td>672.000000</td>\n",
       "      <td>176.075708+0.000000j</td>\n",
       "      <td>1.486477</td>\n",
       "      <td>2.453445</td>\n",
       "      <td>0.891847</td>\n",
       "      <td>13.000000</td>\n",
       "      <td>0.000000</td>\n",
       "      <td>2.407421</td>\n",
       "    </tr>\n",
       "    <tr>\n",
       "      <th>max</th>\n",
       "      <td>0.146816</td>\n",
       "      <td>1.083224e-01</td>\n",
       "      <td>0.467005</td>\n",
       "      <td>958.000000</td>\n",
       "      <td>8775.000000</td>\n",
       "      <td>163872.000000</td>\n",
       "      <td>5315.700554+0.000000j</td>\n",
       "      <td>1.765557</td>\n",
       "      <td>243.000000</td>\n",
       "      <td>1.000000</td>\n",
       "      <td>958.000000</td>\n",
       "      <td>6011.000000</td>\n",
       "      <td>13.129772</td>\n",
       "    </tr>\n",
       "  </tbody>\n",
       "</table>\n",
       "</div>"
      ],
      "text/plain": [
       "       Degree_centrality  Betweenness_centrality  Closeness_centrality  \\\n",
       "count        6533.000000            6.533000e+03           6533.000000   \n",
       "mean            0.002522            3.405802e-04              0.314374   \n",
       "std             0.006535            2.753625e-03              0.035859   \n",
       "min             0.000153            0.000000e+00              0.157038   \n",
       "25%             0.000459            2.084655e-07              0.292679   \n",
       "50%             0.000765            7.790127e-06              0.315084   \n",
       "75%             0.001990            6.006203e-05              0.337223   \n",
       "max             0.146816            1.083224e-01              0.467005   \n",
       "\n",
       "          Nr_Nodes     Nr_Edges   Total_Weight             Eigenvalue  \\\n",
       "count  6533.000000  6533.000000    6533.000000  6533.000000+0.000000j   \n",
       "mean     17.382673   105.517833    1583.314710   176.948333+0.000000j   \n",
       "std      42.489488   387.941833    6687.785492   357.377523+0.000000j   \n",
       "min       2.000000     1.000000       2.000000   2.0000000+0.0000000j   \n",
       "25%       4.000000     4.000000      46.000000  23.1300200+0.0000000j   \n",
       "50%       6.000000    12.000000     125.000000  56.4754540+0.0000000j   \n",
       "75%      14.000000    48.000000     672.000000   176.075708+0.000000j   \n",
       "max     958.000000  8775.000000  163872.000000  5315.700554+0.000000j   \n",
       "\n",
       "       ego_Density  Heavy_vicinity  Dominant_edge  Unwanted_edges  \\\n",
       "count  6533.000000     6533.000000    6533.000000     6533.000000   \n",
       "mean      1.264640        2.849906       0.820255       16.427675   \n",
       "std       0.339271        6.346724       0.092477       42.586401   \n",
       "min       0.000000        1.175586       0.551296        1.000000   \n",
       "25%       1.160558        1.566358       0.746860        3.000000   \n",
       "50%       1.340978        1.854134       0.811117        5.000000   \n",
       "75%       1.486477        2.453445       0.891847       13.000000   \n",
       "max       1.765557      243.000000       1.000000      958.000000   \n",
       "\n",
       "       Missing_edges  Mahalanobis  \n",
       "count    6533.000000  6533.000000  \n",
       "mean      163.312414     2.422634  \n",
       "std       549.075543     2.245384  \n",
       "min         0.000000     1.060706  \n",
       "25%         0.000000     1.385783  \n",
       "50%         0.000000     1.646605  \n",
       "75%         0.000000     2.407421  \n",
       "max      6011.000000    13.129772  "
      ]
     },
     "execution_count": 359,
     "metadata": {},
     "output_type": "execute_result"
    }
   ],
   "source": [
    "df_features.describe()"
   ]
  },
  {
   "cell_type": "markdown",
   "id": "e80eda1f",
   "metadata": {},
   "source": [
    "## 5.3 Export feature matrix"
   ]
  },
  {
   "cell_type": "code",
   "execution_count": 357,
   "id": "7ec4b1d3",
   "metadata": {},
   "outputs": [],
   "source": [
    "df_features.Dominant_edge = df_features.Dominant_edge.astype(float)"
   ]
  },
  {
   "cell_type": "code",
   "execution_count": 358,
   "id": "e6e3f876",
   "metadata": {},
   "outputs": [],
   "source": [
    "df_features.drop(['Nr_Nodes', 'Nr_Edges', 'Total_Weight', 'Eigenvalue'], axis=1).to_csv('files/Feature_matrix_v2.csv')"
   ]
  }
 ],
 "metadata": {
  "kernelspec": {
   "display_name": "Python 3 (ipykernel)",
   "language": "python",
   "name": "python3"
  },
  "language_info": {
   "codemirror_mode": {
    "name": "ipython",
    "version": 3
   },
   "file_extension": ".py",
   "mimetype": "text/x-python",
   "name": "python",
   "nbconvert_exporter": "python",
   "pygments_lexer": "ipython3",
   "version": "3.9.7"
  }
 },
 "nbformat": 4,
 "nbformat_minor": 5
}
